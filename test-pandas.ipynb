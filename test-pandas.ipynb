{
 "cells": [
  {
   "cell_type": "code",
   "execution_count": 81,
   "metadata": {},
   "outputs": [],
   "source": [
    "# import memory_profiler\n",
    "import psutil as psu"
   ]
  },
  {
   "cell_type": "code",
   "execution_count": 83,
   "metadata": {},
   "outputs": [
    {
     "data": {
      "text/plain": [
       "26.5"
      ]
     },
     "execution_count": 83,
     "metadata": {},
     "output_type": "execute_result"
    }
   ],
   "source": [
    "psutil.cpu_percent()"
   ]
  },
  {
   "cell_type": "code",
   "execution_count": null,
   "metadata": {
    "scrolled": true
   },
   "outputs": [],
   "source": [
    "# Python version check\n",
    "import sys\n",
    "!{sys.executable} --version"
   ]
  },
  {
   "cell_type": "code",
   "execution_count": 3,
   "metadata": {},
   "outputs": [],
   "source": [
    "import numpy as np\n",
    "import pandas as pd\n",
    "from pandas import DataFrame, Series\n",
    "import datetime\n",
    "import time\n",
    "import matplotlib.pyplot as plt\n",
    "%matplotlib inline"
   ]
  },
  {
   "cell_type": "markdown",
   "metadata": {},
   "source": [
    "전처리 상에서의 이슈, 처리할 사항\n",
    "- int64를 int32로 변환\n",
    "- 날짜 컬럼을 파싱하는 과정에서 object -> int32 -> string -> datetime 의 단계를 거침. 더 효율적인 방법은?\n",
    "- float을 int로 변환할 수 없다는 에러 발생시 어떻게? \"Warning: cannot convert non-finite\"\n",
    "- object 컬럼을 integer로 변환할 때 예외처리: `pd.to_numeric` 이후 `.dropna` 말고 `.fillna(999)` 등을 이용\n",
    "- lambda apply 함수는 언제 효율적인가?\n",
    "데이터 로드, 병합, 저장시 이슈 & 처리할 사항\n",
    "- `pd.read_csv()` 할 때 key 값 지정?\n",
    "- `join`할 때 key가 되는 두 컬럼의 dtype이 다르면 조인되지 않는다\n",
    "- `join`을 3개 이상 할 수 있는지?\n",
    "\n",
    "행 or 열 삭제, 변경할 때 이슈 & 처리사항\n",
    "- 이름이 없는 컬럼 삭제\n",
    "- 컬럼명 변경 or 지정\n",
    "- index가 없는 컬럼 로드시 계속 unnamed:0, unnamed: 1 컬럼 등이 자동 생성됨\n",
    "- 특정 조건에 맞는 컬럼 검색시, int is unslicable 에러\n",
    "- 특정 행 삭제는 어떻게?"
   ]
  },
  {
   "cell_type": "markdown",
   "metadata": {},
   "source": [
    "### Data Extraction "
   ]
  },
  {
   "cell_type": "code",
   "execution_count": 48,
   "metadata": {},
   "outputs": [],
   "source": [
    "# make sample\n",
    "\n",
    "num_txn = 1000000 # 1/100 of real data \n",
    "num_cus = 40000 # 1/100 of real data\n",
    "num_mct = 100"
   ]
  },
  {
   "cell_type": "code",
   "execution_count": 59,
   "metadata": {},
   "outputs": [
    {
     "data": {
      "text/plain": [
       "array([52504.])"
      ]
     },
     "execution_count": 59,
     "metadata": {},
     "output_type": "execute_result"
    }
   ],
   "source": [
    "array01old = np.random.randint(0, num_cus, size=(num_txn, 1) ) # CLNN\n",
    "\n",
    "array01a = np.random.randn(num_txn, 1)\n",
    "array01 = np.round(np.sqrt(np.square(array01a)) * 10000)\n",
    "max(array01)"
   ]
  },
  {
   "cell_type": "code",
   "execution_count": 62,
   "metadata": {},
   "outputs": [],
   "source": [
    "array02 = np.random.randint(180701, 180731, size=(num_txn, 1)) # TS_D # 승인날짜"
   ]
  },
  {
   "cell_type": "code",
   "execution_count": 63,
   "metadata": {},
   "outputs": [],
   "source": [
    "# times = pd.date_range('2018-07-01', periods=31, freq='1440min')\n",
    "# array02new = np.random.choice(times, size=num_txn, replace=True, p=None) # TS_D # 승인날짜\n",
    "# array02new"
   ]
  },
  {
   "cell_type": "code",
   "execution_count": 64,
   "metadata": {},
   "outputs": [],
   "source": [
    "array03 = np.random.randint(0, 100, size=(num_txn, 1)) # FINAL_CD # 업종코드 "
   ]
  },
  {
   "cell_type": "code",
   "execution_count": 65,
   "metadata": {},
   "outputs": [],
   "source": [
    "array04a = np.random.randn(num_txn, 1) # SAA # 승인금액\n",
    "array04 = np.round(np.sqrt(np.square(array04a)) * 20 + 3) "
   ]
  },
  {
   "cell_type": "code",
   "execution_count": 66,
   "metadata": {},
   "outputs": [],
   "source": [
    "# array05old = np.random.randint(0, 424, size=(num_txn, 1)) \n",
    "\n",
    "array05a = np.random.randn(num_txn, 1) # MCT_ADM_GDS_APB_CD # 서울 행정동 코드\n",
    "array05 = np.round(np.sqrt(np.square(array05a)) * 30)"
   ]
  },
  {
   "cell_type": "code",
   "execution_count": 8,
   "metadata": {},
   "outputs": [],
   "source": [
    "# array06a = np.random.randint(1, 2, size=(round(num_txn*5/7), 1)) # DOF_TF # 평일 or 휴일\n",
    "# array06b = np.random.randint(0, 1, size=(round(num_txn*2/7), 1)) # DOF_TF # 평일 or 휴일\n",
    "# array06 = np.append(array06a, array06b, axis=0)\n",
    "# random.shuffle(array06)"
   ]
  },
  {
   "cell_type": "code",
   "execution_count": 67,
   "metadata": {},
   "outputs": [],
   "source": [
    "# 더 간편한 방법\n",
    "array06 = np.random.choice(2, size=num_txn, p=[5/7, 2/7]) # 2 미만의 정수 중 p의 확률로 랜덤 선택"
   ]
  },
  {
   "cell_type": "code",
   "execution_count": 68,
   "metadata": {},
   "outputs": [],
   "source": [
    "array07 = np.random.randint(0, 6, size=(num_txn, 1)) # DAW_CCD # 요일코드 # array06과 맞추기 어려워서 임시로 랜덤"
   ]
  },
  {
   "cell_type": "code",
   "execution_count": 69,
   "metadata": {},
   "outputs": [],
   "source": [
    "array08 = np.random.randint(0, num_mct, size=(num_txn, 1)) # MCT_N # 가맹점 번호"
   ]
  },
  {
   "cell_type": "code",
   "execution_count": 70,
   "metadata": {},
   "outputs": [],
   "source": [
    "array09 = np.random.randint(1, 240000, size=(num_txn, 1)) # TIME # 24h 시간 # 정확히 맞는 숫자는 아님"
   ]
  },
  {
   "cell_type": "code",
   "execution_count": 71,
   "metadata": {},
   "outputs": [],
   "source": [
    "df = pd.DataFrame( np.column_stack([array01, array02, array03, array04, array05, array06, array07, array08, array09])\n",
    "                  , columns = ['CLNN', 'TS_D', 'FINAL_CD', 'SAA', 'MCT_ADM_GDS_APB_CD', 'DOF_TF', 'DAW_CCD', 'MCT_N', 'TIME'])"
   ]
  },
  {
   "cell_type": "code",
   "execution_count": 72,
   "metadata": {},
   "outputs": [],
   "source": [
    "df['CLNN'] = df['CLNN'].astype(int)\n",
    "df['TS_D'] = df['TS_D'].astype(int)\n",
    "df['TS_D'] = pd.to_datetime(df['TS_D'], format='%y%m%d') # %Y는 4글자 연도 \n",
    "df['FINAL_CD'] = df['FINAL_CD'].astype(int)\n",
    "df['SAA'] = df['SAA'].astype(int)\n",
    "df['MCT_ADM_GDS_APB_CD'] = df['MCT_ADM_GDS_APB_CD'].astype(int)\n",
    "df['DOF_TF'] = df['DOF_TF'].astype(int)\n",
    "df['DAW_CCD'] = df['DAW_CCD'].astype(int)\n",
    "df['MCT_N'] = df['MCT_N'].astype(int)\n",
    "df['TIME'] = df['TIME'].astype(int)"
   ]
  },
  {
   "cell_type": "code",
   "execution_count": 45,
   "metadata": {},
   "outputs": [
    {
     "name": "stdout",
     "output_type": "stream",
     "text": [
      "<class 'pandas.core.frame.DataFrame'>\n",
      "RangeIndex: 1000000 entries, 0 to 999999\n",
      "Data columns (total 9 columns):\n",
      "CLNN                  1000000 non-null int64\n",
      "TS_D                  1000000 non-null datetime64[ns]\n",
      "FINAL_CD              1000000 non-null int64\n",
      "SAA                   1000000 non-null int64\n",
      "MCT_ADM_GDS_APB_CD    1000000 non-null int64\n",
      "DOF_TF                1000000 non-null int64\n",
      "DAW_CCD               1000000 non-null int64\n",
      "MCT_N                 1000000 non-null int64\n",
      "TIME                  1000000 non-null int64\n",
      "dtypes: datetime64[ns](1), int64(8)\n",
      "memory usage: 68.7 MB\n"
     ]
    }
   ],
   "source": [
    "df.info()"
   ]
  },
  {
   "cell_type": "markdown",
   "metadata": {},
   "source": [
    "### File Save"
   ]
  },
  {
   "cell_type": "code",
   "execution_count": 73,
   "metadata": {},
   "outputs": [],
   "source": [
    "df.to_csv('df.csv')"
   ]
  },
  {
   "cell_type": "code",
   "execution_count": 52,
   "metadata": {},
   "outputs": [
    {
     "name": "stdout",
     "output_type": "stream",
     "text": [
      "1000000 transactions --- 0.00 seconds ---\n"
     ]
    }
   ],
   "source": [
    "start_time = time.time()\n",
    "\n",
    "print(\"%d transactions --- %.2f seconds ---\"%(len(df), time.time() - start_time))"
   ]
  },
  {
   "cell_type": "markdown",
   "metadata": {},
   "source": [
    "### Data Load"
   ]
  },
  {
   "cell_type": "code",
   "execution_count": 5,
   "metadata": {},
   "outputs": [],
   "source": [
    "df = pd.read_csv('df.csv')"
   ]
  },
  {
   "cell_type": "code",
   "execution_count": 8,
   "metadata": {},
   "outputs": [
    {
     "name": "stdout",
     "output_type": "stream",
     "text": [
      "<class 'pandas.core.frame.DataFrame'>\n",
      "RangeIndex: 1000000 entries, 0 to 999999\n",
      "Data columns (total 10 columns):\n",
      "Unnamed: 0            1000000 non-null int64\n",
      "CLNN                  1000000 non-null int64\n",
      "TS_D                  1000000 non-null object\n",
      "FINAL_CD              1000000 non-null int64\n",
      "SAA                   1000000 non-null int64\n",
      "MCT_ADM_GDS_APB_CD    1000000 non-null int64\n",
      "DOF_TF                1000000 non-null int64\n",
      "DAW_CCD               1000000 non-null int64\n",
      "MCT_N                 1000000 non-null int64\n",
      "TIME                  1000000 non-null int64\n",
      "dtypes: int64(9), object(1)\n",
      "memory usage: 76.3+ MB\n"
     ]
    }
   ],
   "source": [
    "df.info()"
   ]
  },
  {
   "cell_type": "markdown",
   "metadata": {},
   "source": [
    "### Data Merge "
   ]
  },
  {
   "cell_type": "code",
   "execution_count": 18,
   "metadata": {},
   "outputs": [],
   "source": [
    "df3 = df.append(df2, ignore_index=True)"
   ]
  },
  {
   "cell_type": "code",
   "execution_count": null,
   "metadata": {},
   "outputs": [],
   "source": [
    "trx07_08_09_df = trx07_08_df.append(trx09_df, ignore_index=True, sort=True) #sort="
   ]
  },
  {
   "cell_type": "markdown",
   "metadata": {},
   "source": [
    "### GroupBy 객체 만들기"
   ]
  },
  {
   "cell_type": "code",
   "execution_count": 74,
   "metadata": {},
   "outputs": [],
   "source": [
    "groupedByCLNN = df.groupby('CLNN')"
   ]
  },
  {
   "cell_type": "code",
   "execution_count": 27,
   "metadata": {},
   "outputs": [],
   "source": [
    "# 주의 \n",
    "groupedByCLNN.describe()['SAA'].head() # 계산시 오래걸림"
   ]
  },
  {
   "cell_type": "code",
   "execution_count": 85,
   "metadata": {
    "scrolled": true
   },
   "outputs": [
    {
     "data": {
      "text/plain": [
       "CLNN\n",
       "0     41\n",
       "1     78\n",
       "2     77\n",
       "3     86\n",
       "4     76\n",
       "5     83\n",
       "6     87\n",
       "7     70\n",
       "8     75\n",
       "9     79\n",
       "10    85\n",
       "11    60\n",
       "12    89\n",
       "13    91\n",
       "14    69\n",
       "Name: TIME, dtype: int64"
      ]
     },
     "execution_count": 85,
     "metadata": {},
     "output_type": "execute_result"
    }
   ],
   "source": [
    "cntSAAgbCLNN = groupedByCLNN.count()['TIME'].head(15) # Count 를 trxid가 아닌 다른 값 기준으로 하면 identify 안될 수도 있다...\n",
    "cntSAAgbCLNN"
   ]
  },
  {
   "cell_type": "code",
   "execution_count": 79,
   "metadata": {},
   "outputs": [
    {
     "data": {
      "text/plain": [
       "<matplotlib.axes._subplots.AxesSubplot at 0x16799f7f0>"
      ]
     },
     "execution_count": 79,
     "metadata": {},
     "output_type": "execute_result"
    },
    {
     "data": {
      "image/png": "[encoded data removed]",
      "text/plain": [
       "<Figure size 432x288 with 1 Axes>"
      ]
     },
     "metadata": {},
     "output_type": "display_data"
    }
   ],
   "source": [
    "cntSAAgbCLNN.hist()"
   ]
  },
  {
   "cell_type": "code",
   "execution_count": 83,
   "metadata": {},
   "outputs": [
    {
     "data": {
      "text/plain": [
       "CLNN\n",
       "0     684\n",
       "1    1525\n",
       "2    1505\n",
       "3    1830\n",
       "4    1514\n",
       "5    1569\n",
       "6    1909\n",
       "7    1195\n",
       "8    1410\n",
       "9    1449\n",
       "Name: SAA, dtype: int64"
      ]
     },
     "execution_count": 83,
     "metadata": {},
     "output_type": "execute_result"
    }
   ],
   "source": [
    "sumSAAgbCLNN = groupedByCLNN.sum()['SAA'].head(10)\n",
    "sumSAAgbCLNN"
   ]
  },
  {
   "cell_type": "code",
   "execution_count": 84,
   "metadata": {},
   "outputs": [
    {
     "data": {
      "text/plain": [
       "CLNN\n",
       "0    16.682927\n",
       "1    19.551282\n",
       "2    19.545455\n",
       "3    21.279070\n",
       "4    19.921053\n",
       "5    18.903614\n",
       "6    21.942529\n",
       "7    17.071429\n",
       "8    18.800000\n",
       "9    18.341772\n",
       "Name: SAA, dtype: float64"
      ]
     },
     "execution_count": 84,
     "metadata": {},
     "output_type": "execute_result"
    }
   ],
   "source": [
    "groupedByCLNN.mean()['SAA'].head(10)"
   ]
  },
  {
   "cell_type": "code",
   "execution_count": 86,
   "metadata": {},
   "outputs": [
    {
     "data": {
      "text/plain": [
       "648526"
      ]
     },
     "execution_count": 86,
     "metadata": {},
     "output_type": "execute_result"
    }
   ],
   "source": [
    "# 2개 기준으로 Group By 하기 (방법 1)\n",
    "gb = df.groupby(['CLNN', 'MCT_ADM_GDS_APB_CD']) # 고객별 & 행정동별\n",
    "gb2 = gb.sum()['SAA'] # 금액 합\n",
    "gb2.shape[0]"
   ]
  },
  {
   "cell_type": "code",
   "execution_count": 87,
   "metadata": {},
   "outputs": [
    {
     "data": {
      "text/plain": [
       "648526"
      ]
     },
     "execution_count": 87,
     "metadata": {},
     "output_type": "execute_result"
    }
   ],
   "source": [
    "# 2개 기준으로 Group By 하기 (방법 2)\n",
    "df_agg = df.groupby(['CLNN', 'MCT_ADM_GDS_APB_CD']).agg({'SAA':sum}) # 결과물은 DataFrame으로\n",
    "df_agg.shape[0]"
   ]
  },
  {
   "cell_type": "code",
   "execution_count": 98,
   "metadata": {},
   "outputs": [],
   "source": [
    "df_agg.to_csv('df_agg.csv')"
   ]
  },
  {
   "cell_type": "code",
   "execution_count": 35,
   "metadata": {},
   "outputs": [],
   "source": [
    "## GroupBy 이후의 값으로 sorting 하기"
   ]
  },
  {
   "cell_type": "code",
   "execution_count": 34,
   "metadata": {},
   "outputs": [],
   "source": [
    "# NOT WORKING\n",
    "df_agg = df.groupby(['CLNN', 'MCT_ADM_GDS_APB_CD']).agg({'SAA':sum})\n",
    "g = df_agg['SAA'].groupby(level=0, group_keys=False)\n",
    "res = g.apply(lambda x: x.order(ascending=False) ) "
   ]
  },
  {
   "cell_type": "code",
   "execution_count": 88,
   "metadata": {},
   "outputs": [
    {
     "data": {
      "text/plain": [
       "85288"
      ]
     },
     "execution_count": 88,
     "metadata": {},
     "output_type": "execute_result"
    }
   ],
   "source": [
    "# 헷갈리지 말것 # SAA 빼고 의미있는 값은 없음 # 더했기 때문에 여기서 CLNN도 더한 값\n",
    "# Don't look at other columns, only SAA (because it is summed)\n",
    "df_new = df.groupby(['CLNN']).apply(lambda x: (x.groupby('MCT_ADM_GDS_APB_CD').sum() \\\n",
    "                                               .sort_values('SAA', ascending=False)) \\\n",
    "                                    .head(3)) # top 3 sum(SAA), grouped by CLNN and MCT_ADM_GDS_APB_CD\n",
    "df_new.shape[0]"
   ]
  },
  {
   "cell_type": "code",
   "execution_count": 103,
   "metadata": {},
   "outputs": [],
   "source": [
    "df_new.to_csv('df_new.csv')\n",
    "df_new['SAA'].to_csv('df_new_SAA.csv') # 헷갈리지 말것 # SAA 빼고 의미있는 값은 없음 # 더했기 때문에 여기서 CLNN도 더한 값"
   ]
  },
  {
   "cell_type": "code",
   "execution_count": 90,
   "metadata": {},
   "outputs": [],
   "source": [
    "# # Top 3 sorted order ...\n",
    "# df.groupby(['CLNN', 'MCT_ADM_GDS_APB_CD'])['SAA'].nlargest(3) # --> sorting이 인덱스 기준 "
   ]
  },
  {
   "cell_type": "code",
   "execution_count": 104,
   "metadata": {},
   "outputs": [],
   "source": [
    "# df.groupby([\"CLNN\"]).apply(lambda x: x.sort_values([\"SAA\"], ascending = False)).reset_index(drop=True) \n",
    "# # trx 단위이고 행정동 별로 groupby 되지 않았다는 문제"
   ]
  },
  {
   "cell_type": "code",
   "execution_count": 91,
   "metadata": {},
   "outputs": [],
   "source": [
    "# # multiple groupby # NOT Right\n",
    "# df.groupby([\"CLNN\", \"MCT_ADM_GDS_APB_CD\"]).apply(lambda x: x.sort_values([\"SAA\"], ascending = False)).reset_index(drop=True) "
   ]
  },
  {
   "cell_type": "code",
   "execution_count": 107,
   "metadata": {},
   "outputs": [
    {
     "data": {
      "text/plain": [
       "31190"
      ]
     },
     "execution_count": 107,
     "metadata": {},
     "output_type": "execute_result"
    }
   ],
   "source": [
    "# 다른 방법\n",
    "df_gb = df.groupby('CLNN', as_index=False, sort=False) \\\n",
    "           .apply(lambda x: x.nlargest(1, ['SAA'])) \\\n",
    "           .reset_index(level=1, drop=True)\n",
    "df_gb.shape[0]"
   ]
  },
  {
   "cell_type": "code",
   "execution_count": null,
   "metadata": {},
   "outputs": [],
   "source": [
    "# 다른 방법 multiple # nlargest=1\n",
    "\n",
    "df_gb_multiptle = df.groupby(['CLNN', 'MCT_ADM_GDS_APB_CD'], as_index=False, sort=False) \\\n",
    "           .apply(lambda x: x.nlargest(1, ['SAA'])) \\\n",
    "           .reset_index(level=1, drop=True)"
   ]
  },
  {
   "cell_type": "code",
   "execution_count": 112,
   "metadata": {},
   "outputs": [
    {
     "data": {
      "text/plain": [
       "648526"
      ]
     },
     "execution_count": 112,
     "metadata": {},
     "output_type": "execute_result"
    }
   ],
   "source": [
    "df_gb_multiptle.shape[0]\n"
   ]
  },
  {
   "cell_type": "code",
   "execution_count": 113,
   "metadata": {},
   "outputs": [
    {
     "data": {
      "text/html": [
       "<div>\n",
       "<style scoped>\n",
       "    .dataframe tbody tr th:only-of-type {\n",
       "        vertical-align: middle;\n",
       "    }\n",
       "\n",
       "    .dataframe tbody tr th {\n",
       "        vertical-align: top;\n",
       "    }\n",
       "\n",
       "    .dataframe thead th {\n",
       "        text-align: right;\n",
       "    }\n",
       "</style>\n",
       "<table border=\"1\" class=\"dataframe\">\n",
       "  <thead>\n",
       "    <tr style=\"text-align: right;\">\n",
       "      <th></th>\n",
       "      <th>CLNN</th>\n",
       "      <th>TS_D</th>\n",
       "      <th>FINAL_CD</th>\n",
       "      <th>SAA</th>\n",
       "      <th>MCT_ADM_GDS_APB_CD</th>\n",
       "      <th>DOF_TF</th>\n",
       "      <th>DAW_CCD</th>\n",
       "      <th>MCT_N</th>\n",
       "      <th>TIME</th>\n",
       "    </tr>\n",
       "  </thead>\n",
       "  <tbody>\n",
       "    <tr>\n",
       "      <th>0</th>\n",
       "      <td>14437</td>\n",
       "      <td>2018-07-19</td>\n",
       "      <td>25</td>\n",
       "      <td>11</td>\n",
       "      <td>26</td>\n",
       "      <td>0</td>\n",
       "      <td>5</td>\n",
       "      <td>36</td>\n",
       "      <td>199982</td>\n",
       "    </tr>\n",
       "    <tr>\n",
       "      <th>1</th>\n",
       "      <td>2414</td>\n",
       "      <td>2018-07-13</td>\n",
       "      <td>2</td>\n",
       "      <td>11</td>\n",
       "      <td>35</td>\n",
       "      <td>1</td>\n",
       "      <td>1</td>\n",
       "      <td>61</td>\n",
       "      <td>84354</td>\n",
       "    </tr>\n",
       "    <tr>\n",
       "      <th>2</th>\n",
       "      <td>2136</td>\n",
       "      <td>2018-07-04</td>\n",
       "      <td>20</td>\n",
       "      <td>16</td>\n",
       "      <td>2</td>\n",
       "      <td>0</td>\n",
       "      <td>1</td>\n",
       "      <td>1</td>\n",
       "      <td>21116</td>\n",
       "    </tr>\n",
       "    <tr>\n",
       "      <th>3</th>\n",
       "      <td>15588</td>\n",
       "      <td>2018-07-13</td>\n",
       "      <td>72</td>\n",
       "      <td>16</td>\n",
       "      <td>21</td>\n",
       "      <td>1</td>\n",
       "      <td>1</td>\n",
       "      <td>60</td>\n",
       "      <td>156460</td>\n",
       "    </tr>\n",
       "    <tr>\n",
       "      <th>4</th>\n",
       "      <td>6377</td>\n",
       "      <td>2018-07-28</td>\n",
       "      <td>37</td>\n",
       "      <td>14</td>\n",
       "      <td>31</td>\n",
       "      <td>0</td>\n",
       "      <td>2</td>\n",
       "      <td>58</td>\n",
       "      <td>2430</td>\n",
       "    </tr>\n",
       "  </tbody>\n",
       "</table>\n",
       "</div>"
      ],
      "text/plain": [
       "    CLNN       TS_D  FINAL_CD  SAA  MCT_ADM_GDS_APB_CD  DOF_TF  DAW_CCD  \\\n",
       "0  14437 2018-07-19        25   11                  26       0        5   \n",
       "1   2414 2018-07-13         2   11                  35       1        1   \n",
       "2   2136 2018-07-04        20   16                   2       0        1   \n",
       "3  15588 2018-07-13        72   16                  21       1        1   \n",
       "4   6377 2018-07-28        37   14                  31       0        2   \n",
       "\n",
       "   MCT_N    TIME  \n",
       "0     36  199982  \n",
       "1     61   84354  \n",
       "2      1   21116  \n",
       "3     60  156460  \n",
       "4     58    2430  "
      ]
     },
     "execution_count": 113,
     "metadata": {},
     "output_type": "execute_result"
    }
   ],
   "source": [
    "df_gb_multiptle.head(5) # index가 섞임"
   ]
  },
  {
   "cell_type": "code",
   "execution_count": 118,
   "metadata": {},
   "outputs": [],
   "source": [
    "# 또 다른 방법 - 기준 1개\n",
    "df_another = df.groupby('CLNN', group_keys=False, sort=False) \\\n",
    "            .apply(pd.DataFrame.nlargest, n=1, columns='SAA')\n",
    "df_another.shape[0]"
   ]
  },
  {
   "cell_type": "code",
   "execution_count": 115,
   "metadata": {},
   "outputs": [
    {
     "data": {
      "text/plain": [
       "648526"
      ]
     },
     "execution_count": 115,
     "metadata": {},
     "output_type": "execute_result"
    }
   ],
   "source": [
    "# 또 다른 방법 - multiple\n",
    "df_another_multi = df.groupby(['CLNN', 'MCT_ADM_GDS_APB_CD'], group_keys=False, sort=False) \\\n",
    "           .apply(pd.DataFrame.nlargest, n=1, columns='SAA')\n",
    "df_another_multi.shape[0]"
   ]
  },
  {
   "cell_type": "code",
   "execution_count": 116,
   "metadata": {},
   "outputs": [
    {
     "data": {
      "text/html": [
       "<div>\n",
       "<style scoped>\n",
       "    .dataframe tbody tr th:only-of-type {\n",
       "        vertical-align: middle;\n",
       "    }\n",
       "\n",
       "    .dataframe tbody tr th {\n",
       "        vertical-align: top;\n",
       "    }\n",
       "\n",
       "    .dataframe thead th {\n",
       "        text-align: right;\n",
       "    }\n",
       "</style>\n",
       "<table border=\"1\" class=\"dataframe\">\n",
       "  <thead>\n",
       "    <tr style=\"text-align: right;\">\n",
       "      <th></th>\n",
       "      <th>CLNN</th>\n",
       "      <th>TS_D</th>\n",
       "      <th>FINAL_CD</th>\n",
       "      <th>SAA</th>\n",
       "      <th>MCT_ADM_GDS_APB_CD</th>\n",
       "      <th>DOF_TF</th>\n",
       "      <th>DAW_CCD</th>\n",
       "      <th>MCT_N</th>\n",
       "      <th>TIME</th>\n",
       "    </tr>\n",
       "  </thead>\n",
       "  <tbody>\n",
       "    <tr>\n",
       "      <th>0</th>\n",
       "      <td>14437</td>\n",
       "      <td>2018-07-19</td>\n",
       "      <td>25</td>\n",
       "      <td>11</td>\n",
       "      <td>26</td>\n",
       "      <td>0</td>\n",
       "      <td>5</td>\n",
       "      <td>36</td>\n",
       "      <td>199982</td>\n",
       "    </tr>\n",
       "    <tr>\n",
       "      <th>412373</th>\n",
       "      <td>2414</td>\n",
       "      <td>2018-07-13</td>\n",
       "      <td>2</td>\n",
       "      <td>11</td>\n",
       "      <td>35</td>\n",
       "      <td>1</td>\n",
       "      <td>1</td>\n",
       "      <td>61</td>\n",
       "      <td>84354</td>\n",
       "    </tr>\n",
       "    <tr>\n",
       "      <th>362829</th>\n",
       "      <td>2136</td>\n",
       "      <td>2018-07-04</td>\n",
       "      <td>20</td>\n",
       "      <td>16</td>\n",
       "      <td>2</td>\n",
       "      <td>0</td>\n",
       "      <td>1</td>\n",
       "      <td>1</td>\n",
       "      <td>21116</td>\n",
       "    </tr>\n",
       "    <tr>\n",
       "      <th>3</th>\n",
       "      <td>15588</td>\n",
       "      <td>2018-07-13</td>\n",
       "      <td>72</td>\n",
       "      <td>16</td>\n",
       "      <td>21</td>\n",
       "      <td>1</td>\n",
       "      <td>1</td>\n",
       "      <td>60</td>\n",
       "      <td>156460</td>\n",
       "    </tr>\n",
       "    <tr>\n",
       "      <th>4</th>\n",
       "      <td>6377</td>\n",
       "      <td>2018-07-28</td>\n",
       "      <td>37</td>\n",
       "      <td>14</td>\n",
       "      <td>31</td>\n",
       "      <td>0</td>\n",
       "      <td>2</td>\n",
       "      <td>58</td>\n",
       "      <td>2430</td>\n",
       "    </tr>\n",
       "  </tbody>\n",
       "</table>\n",
       "</div>"
      ],
      "text/plain": [
       "         CLNN       TS_D  FINAL_CD  SAA  MCT_ADM_GDS_APB_CD  DOF_TF  DAW_CCD  \\\n",
       "0       14437 2018-07-19        25   11                  26       0        5   \n",
       "412373   2414 2018-07-13         2   11                  35       1        1   \n",
       "362829   2136 2018-07-04        20   16                   2       0        1   \n",
       "3       15588 2018-07-13        72   16                  21       1        1   \n",
       "4        6377 2018-07-28        37   14                  31       0        2   \n",
       "\n",
       "        MCT_N    TIME  \n",
       "0          36  199982  \n",
       "412373     61   84354  \n",
       "362829      1   21116  \n",
       "3          60  156460  \n",
       "4          58    2430  "
      ]
     },
     "execution_count": 116,
     "metadata": {},
     "output_type": "execute_result"
    }
   ],
   "source": [
    "df_another_multi.head(5) # index가 preserve 됨 "
   ]
  },
  {
   "cell_type": "code",
   "execution_count": 40,
   "metadata": {},
   "outputs": [
    {
     "data": {
      "text/plain": [
       "CLNN   MCT_ADM_GDS_APB_CD\n",
       "0      0                     25\n",
       "       1                     57\n",
       "       3                     46\n",
       "       4                     20\n",
       "       5                     64\n",
       "       6                     27\n",
       "       7                     52\n",
       "       9                     53\n",
       "       11                    51\n",
       "       13                    17\n",
       "       15                     9\n",
       "       16                    17\n",
       "       18                    17\n",
       "       19                    40\n",
       "       21                    78\n",
       "       23                    13\n",
       "       26                    29\n",
       "       28                    47\n",
       "       30                    19\n",
       "       32                    47\n",
       "       40                    18\n",
       "       46                    22\n",
       "       47                     6\n",
       "       50                    36\n",
       "       51                     6\n",
       "       67                    20\n",
       "       101                    5\n",
       "1      1                     27\n",
       "       2                     84\n",
       "       3                     66\n",
       "                             ..\n",
       "42480  56                    20\n",
       "42514  31                    28\n",
       "42533  28                    18\n",
       "42574  15                     6\n",
       "42614  11                    20\n",
       "42621  9                     13\n",
       "42842  6                     25\n",
       "42863  13                    30\n",
       "42909  15                    21\n",
       "42959  11                     8\n",
       "43033  13                    31\n",
       "43136  29                     9\n",
       "43403  6                     18\n",
       "43421  18                     9\n",
       "43476  41                     9\n",
       "43576  23                    25\n",
       "43691  1                     42\n",
       "44074  21                     4\n",
       "44541  26                    28\n",
       "45205  10                     6\n",
       "45412  18                    17\n",
       "45550  66                    22\n",
       "45885  37                    12\n",
       "45976  50                    39\n",
       "46016  2                     24\n",
       "46286  21                    14\n",
       "46601  55                    51\n",
       "46701  24                     6\n",
       "47680  25                    18\n",
       "48031  3                     20\n",
       "Name: SAA, Length: 647863, dtype: int64"
      ]
     },
     "execution_count": 40,
     "metadata": {},
     "output_type": "execute_result"
    }
   ],
   "source": [
    "# 2개 기준으로 Group By 하기 (방법 3)\n",
    "gb3 = df.groupby(['CLNN', 'MCT_ADM_GDS_APB_CD']).sum()['SAA'] # 고객별 & 행정동별 합 chaining\n",
    "gb3"
   ]
  },
  {
   "cell_type": "code",
   "execution_count": 60,
   "metadata": {},
   "outputs": [
    {
     "data": {
      "text/plain": [
       "CLNN   MCT_ADM_GDS_APB_CD\n",
       "0      2                     34\n",
       "       3                     33\n",
       "       4                     24\n",
       "       5                     15\n",
       "       8                     16\n",
       "       12                    32\n",
       "       15                    14\n",
       "       17                     9\n",
       "       18                     9\n",
       "       21                    32\n",
       "       25                    40\n",
       "       26                    29\n",
       "       28                     5\n",
       "       32                    35\n",
       "       33                     4\n",
       "       40                     5\n",
       "       43                    31\n",
       "       45                     3\n",
       "       47                    30\n",
       "       48                    26\n",
       "       49                     6\n",
       "       57                     7\n",
       "1      0                     46\n",
       "       1                     59\n",
       "       3                     40\n",
       "       4                     31\n",
       "       5                     33\n",
       "       7                     17\n",
       "       8                     16\n",
       "       9                     26\n",
       "                             ..\n",
       "41681  28                    10\n",
       "41742  49                    14\n",
       "41812  10                    10\n",
       "41829  17                     4\n",
       "41839  30                    37\n",
       "41840  19                    33\n",
       "41921  17                    14\n",
       "41946  6                      7\n",
       "42081  25                    40\n",
       "42178  44                    10\n",
       "42182  40                    15\n",
       "42298  14                    15\n",
       "42485  27                    28\n",
       "42504  11                     8\n",
       "42581  30                     7\n",
       "42649  10                     8\n",
       "42846  39                    32\n",
       "42871  31                     8\n",
       "43175  55                    11\n",
       "43261  19                    15\n",
       "43421  44                    19\n",
       "43457  26                    37\n",
       "43908  37                    11\n",
       "44141  1                     36\n",
       "44609  38                     9\n",
       "45422  7                     18\n",
       "45554  6                     14\n",
       "45649  21                    10\n",
       "46505  39                    33\n",
       "46986  13                    28\n",
       "Name: SAA, Length: 648620, dtype: int32"
      ]
     },
     "execution_count": 60,
     "metadata": {},
     "output_type": "execute_result"
    }
   ],
   "source": [
    "gb3_max = df.groupby(['CLNN', 'MCT_ADM_GDS_APB_CD']).max()['SAA'] \n",
    "gb3_max"
   ]
  },
  {
   "cell_type": "code",
   "execution_count": 68,
   "metadata": {},
   "outputs": [],
   "source": [
    "gb3_df = pd.DataFrame(gb3)"
   ]
  },
  {
   "cell_type": "code",
   "execution_count": 77,
   "metadata": {},
   "outputs": [
    {
     "data": {
      "text/html": [
       "<div>\n",
       "<style scoped>\n",
       "    .dataframe tbody tr th:only-of-type {\n",
       "        vertical-align: middle;\n",
       "    }\n",
       "\n",
       "    .dataframe tbody tr th {\n",
       "        vertical-align: top;\n",
       "    }\n",
       "\n",
       "    .dataframe thead th {\n",
       "        text-align: right;\n",
       "    }\n",
       "</style>\n",
       "<table border=\"1\" class=\"dataframe\">\n",
       "  <thead>\n",
       "    <tr style=\"text-align: right;\">\n",
       "      <th></th>\n",
       "      <th></th>\n",
       "      <th>SAA</th>\n",
       "    </tr>\n",
       "    <tr>\n",
       "      <th>CLNN</th>\n",
       "      <th>MCT_ADM_GDS_APB_CD</th>\n",
       "      <th></th>\n",
       "    </tr>\n",
       "  </thead>\n",
       "  <tbody>\n",
       "    <tr>\n",
       "      <th>1083</th>\n",
       "      <th>8</th>\n",
       "      <td>296</td>\n",
       "    </tr>\n",
       "    <tr>\n",
       "      <th>1639</th>\n",
       "      <th>2</th>\n",
       "      <td>292</td>\n",
       "    </tr>\n",
       "    <tr>\n",
       "      <th>10376</th>\n",
       "      <th>4</th>\n",
       "      <td>265</td>\n",
       "    </tr>\n",
       "    <tr>\n",
       "      <th>1790</th>\n",
       "      <th>12</th>\n",
       "      <td>249</td>\n",
       "    </tr>\n",
       "    <tr>\n",
       "      <th>977</th>\n",
       "      <th>16</th>\n",
       "      <td>244</td>\n",
       "    </tr>\n",
       "    <tr>\n",
       "      <th>2388</th>\n",
       "      <th>13</th>\n",
       "      <td>236</td>\n",
       "    </tr>\n",
       "    <tr>\n",
       "      <th>6161</th>\n",
       "      <th>19</th>\n",
       "      <td>231</td>\n",
       "    </tr>\n",
       "    <tr>\n",
       "      <th>2534</th>\n",
       "      <th>21</th>\n",
       "      <td>227</td>\n",
       "    </tr>\n",
       "    <tr>\n",
       "      <th>1573</th>\n",
       "      <th>3</th>\n",
       "      <td>227</td>\n",
       "    </tr>\n",
       "    <tr>\n",
       "      <th>3129</th>\n",
       "      <th>16</th>\n",
       "      <td>227</td>\n",
       "    </tr>\n",
       "    <tr>\n",
       "      <th>4352</th>\n",
       "      <th>6</th>\n",
       "      <td>226</td>\n",
       "    </tr>\n",
       "    <tr>\n",
       "      <th>3973</th>\n",
       "      <th>3</th>\n",
       "      <td>225</td>\n",
       "    </tr>\n",
       "    <tr>\n",
       "      <th>912</th>\n",
       "      <th>2</th>\n",
       "      <td>221</td>\n",
       "    </tr>\n",
       "    <tr>\n",
       "      <th>568</th>\n",
       "      <th>2</th>\n",
       "      <td>219</td>\n",
       "    </tr>\n",
       "    <tr>\n",
       "      <th>898</th>\n",
       "      <th>9</th>\n",
       "      <td>219</td>\n",
       "    </tr>\n",
       "    <tr>\n",
       "      <th>1371</th>\n",
       "      <th>1</th>\n",
       "      <td>217</td>\n",
       "    </tr>\n",
       "    <tr>\n",
       "      <th>4555</th>\n",
       "      <th>12</th>\n",
       "      <td>217</td>\n",
       "    </tr>\n",
       "    <tr>\n",
       "      <th>341</th>\n",
       "      <th>19</th>\n",
       "      <td>216</td>\n",
       "    </tr>\n",
       "    <tr>\n",
       "      <th>4055</th>\n",
       "      <th>1</th>\n",
       "      <td>215</td>\n",
       "    </tr>\n",
       "    <tr>\n",
       "      <th>2357</th>\n",
       "      <th>5</th>\n",
       "      <td>215</td>\n",
       "    </tr>\n",
       "    <tr>\n",
       "      <th>7170</th>\n",
       "      <th>6</th>\n",
       "      <td>211</td>\n",
       "    </tr>\n",
       "    <tr>\n",
       "      <th>4740</th>\n",
       "      <th>12</th>\n",
       "      <td>209</td>\n",
       "    </tr>\n",
       "    <tr>\n",
       "      <th>1904</th>\n",
       "      <th>9</th>\n",
       "      <td>209</td>\n",
       "    </tr>\n",
       "    <tr>\n",
       "      <th>7039</th>\n",
       "      <th>4</th>\n",
       "      <td>209</td>\n",
       "    </tr>\n",
       "    <tr>\n",
       "      <th>280</th>\n",
       "      <th>8</th>\n",
       "      <td>208</td>\n",
       "    </tr>\n",
       "    <tr>\n",
       "      <th>4584</th>\n",
       "      <th>8</th>\n",
       "      <td>207</td>\n",
       "    </tr>\n",
       "    <tr>\n",
       "      <th>3754</th>\n",
       "      <th>13</th>\n",
       "      <td>207</td>\n",
       "    </tr>\n",
       "    <tr>\n",
       "      <th>2885</th>\n",
       "      <th>15</th>\n",
       "      <td>206</td>\n",
       "    </tr>\n",
       "    <tr>\n",
       "      <th>6467</th>\n",
       "      <th>15</th>\n",
       "      <td>206</td>\n",
       "    </tr>\n",
       "    <tr>\n",
       "      <th>1876</th>\n",
       "      <th>14</th>\n",
       "      <td>206</td>\n",
       "    </tr>\n",
       "    <tr>\n",
       "      <th>...</th>\n",
       "      <th>...</th>\n",
       "      <td>...</td>\n",
       "    </tr>\n",
       "    <tr>\n",
       "      <th>13725</th>\n",
       "      <th>19</th>\n",
       "      <td>3</td>\n",
       "    </tr>\n",
       "    <tr>\n",
       "      <th>4839</th>\n",
       "      <th>49</th>\n",
       "      <td>3</td>\n",
       "    </tr>\n",
       "    <tr>\n",
       "      <th>14569</th>\n",
       "      <th>26</th>\n",
       "      <td>3</td>\n",
       "    </tr>\n",
       "    <tr>\n",
       "      <th>5467</th>\n",
       "      <th>67</th>\n",
       "      <td>3</td>\n",
       "    </tr>\n",
       "    <tr>\n",
       "      <th>18579</th>\n",
       "      <th>47</th>\n",
       "      <td>3</td>\n",
       "    </tr>\n",
       "    <tr>\n",
       "      <th>12925</th>\n",
       "      <th>4</th>\n",
       "      <td>3</td>\n",
       "    </tr>\n",
       "    <tr>\n",
       "      <th>23101</th>\n",
       "      <th>22</th>\n",
       "      <td>3</td>\n",
       "    </tr>\n",
       "    <tr>\n",
       "      <th rowspan=\"2\" valign=\"top\">317</th>\n",
       "      <th>31</th>\n",
       "      <td>3</td>\n",
       "    </tr>\n",
       "    <tr>\n",
       "      <th>30</th>\n",
       "      <td>3</td>\n",
       "    </tr>\n",
       "    <tr>\n",
       "      <th>1244</th>\n",
       "      <th>16</th>\n",
       "      <td>3</td>\n",
       "    </tr>\n",
       "    <tr>\n",
       "      <th>7587</th>\n",
       "      <th>29</th>\n",
       "      <td>3</td>\n",
       "    </tr>\n",
       "    <tr>\n",
       "      <th>3854</th>\n",
       "      <th>54</th>\n",
       "      <td>3</td>\n",
       "    </tr>\n",
       "    <tr>\n",
       "      <th>12254</th>\n",
       "      <th>43</th>\n",
       "      <td>3</td>\n",
       "    </tr>\n",
       "    <tr>\n",
       "      <th>8839</th>\n",
       "      <th>3</th>\n",
       "      <td>3</td>\n",
       "    </tr>\n",
       "    <tr>\n",
       "      <th>7222</th>\n",
       "      <th>62</th>\n",
       "      <td>3</td>\n",
       "    </tr>\n",
       "    <tr>\n",
       "      <th>21614</th>\n",
       "      <th>72</th>\n",
       "      <td>3</td>\n",
       "    </tr>\n",
       "    <tr>\n",
       "      <th>6656</th>\n",
       "      <th>2</th>\n",
       "      <td>3</td>\n",
       "    </tr>\n",
       "    <tr>\n",
       "      <th>126</th>\n",
       "      <th>31</th>\n",
       "      <td>3</td>\n",
       "    </tr>\n",
       "    <tr>\n",
       "      <th>13102</th>\n",
       "      <th>10</th>\n",
       "      <td>3</td>\n",
       "    </tr>\n",
       "    <tr>\n",
       "      <th>19365</th>\n",
       "      <th>34</th>\n",
       "      <td>3</td>\n",
       "    </tr>\n",
       "    <tr>\n",
       "      <th>2894</th>\n",
       "      <th>22</th>\n",
       "      <td>3</td>\n",
       "    </tr>\n",
       "    <tr>\n",
       "      <th>22693</th>\n",
       "      <th>6</th>\n",
       "      <td>3</td>\n",
       "    </tr>\n",
       "    <tr>\n",
       "      <th>12254</th>\n",
       "      <th>7</th>\n",
       "      <td>3</td>\n",
       "    </tr>\n",
       "    <tr>\n",
       "      <th>10739</th>\n",
       "      <th>11</th>\n",
       "      <td>3</td>\n",
       "    </tr>\n",
       "    <tr>\n",
       "      <th>6224</th>\n",
       "      <th>47</th>\n",
       "      <td>3</td>\n",
       "    </tr>\n",
       "    <tr>\n",
       "      <th>15935</th>\n",
       "      <th>11</th>\n",
       "      <td>3</td>\n",
       "    </tr>\n",
       "    <tr>\n",
       "      <th>9281</th>\n",
       "      <th>36</th>\n",
       "      <td>3</td>\n",
       "    </tr>\n",
       "    <tr>\n",
       "      <th>3354</th>\n",
       "      <th>57</th>\n",
       "      <td>3</td>\n",
       "    </tr>\n",
       "    <tr>\n",
       "      <th>5957</th>\n",
       "      <th>28</th>\n",
       "      <td>3</td>\n",
       "    </tr>\n",
       "    <tr>\n",
       "      <th>726</th>\n",
       "      <th>25</th>\n",
       "      <td>3</td>\n",
       "    </tr>\n",
       "  </tbody>\n",
       "</table>\n",
       "<p>648620 rows × 1 columns</p>\n",
       "</div>"
      ],
      "text/plain": [
       "                          SAA\n",
       "CLNN  MCT_ADM_GDS_APB_CD     \n",
       "1083  8                   296\n",
       "1639  2                   292\n",
       "10376 4                   265\n",
       "1790  12                  249\n",
       "977   16                  244\n",
       "2388  13                  236\n",
       "6161  19                  231\n",
       "2534  21                  227\n",
       "1573  3                   227\n",
       "3129  16                  227\n",
       "4352  6                   226\n",
       "3973  3                   225\n",
       "912   2                   221\n",
       "568   2                   219\n",
       "898   9                   219\n",
       "1371  1                   217\n",
       "4555  12                  217\n",
       "341   19                  216\n",
       "4055  1                   215\n",
       "2357  5                   215\n",
       "7170  6                   211\n",
       "4740  12                  209\n",
       "1904  9                   209\n",
       "7039  4                   209\n",
       "280   8                   208\n",
       "4584  8                   207\n",
       "3754  13                  207\n",
       "2885  15                  206\n",
       "6467  15                  206\n",
       "1876  14                  206\n",
       "...                       ...\n",
       "13725 19                    3\n",
       "4839  49                    3\n",
       "14569 26                    3\n",
       "5467  67                    3\n",
       "18579 47                    3\n",
       "12925 4                     3\n",
       "23101 22                    3\n",
       "317   31                    3\n",
       "      30                    3\n",
       "1244  16                    3\n",
       "7587  29                    3\n",
       "3854  54                    3\n",
       "12254 43                    3\n",
       "8839  3                     3\n",
       "7222  62                    3\n",
       "21614 72                    3\n",
       "6656  2                     3\n",
       "126   31                    3\n",
       "13102 10                    3\n",
       "19365 34                    3\n",
       "2894  22                    3\n",
       "22693 6                     3\n",
       "12254 7                     3\n",
       "10739 11                    3\n",
       "6224  47                    3\n",
       "15935 11                    3\n",
       "9281  36                    3\n",
       "3354  57                    3\n",
       "5957  28                    3\n",
       "726   25                    3\n",
       "\n",
       "[648620 rows x 1 columns]"
      ]
     },
     "execution_count": 77,
     "metadata": {},
     "output_type": "execute_result"
    }
   ],
   "source": [
    "gb3_df.sort_values('SAA', ascending=False)"
   ]
  },
  {
   "cell_type": "code",
   "execution_count": null,
   "metadata": {},
   "outputs": [],
   "source": []
  },
  {
   "cell_type": "code",
   "execution_count": 182,
   "metadata": {},
   "outputs": [
    {
     "data": {
      "text/html": [
       "<div>\n",
       "<style scoped>\n",
       "    .dataframe tbody tr th:only-of-type {\n",
       "        vertical-align: middle;\n",
       "    }\n",
       "\n",
       "    .dataframe tbody tr th {\n",
       "        vertical-align: top;\n",
       "    }\n",
       "\n",
       "    .dataframe thead th {\n",
       "        text-align: right;\n",
       "    }\n",
       "</style>\n",
       "<table border=\"1\" class=\"dataframe\">\n",
       "  <thead>\n",
       "    <tr style=\"text-align: right;\">\n",
       "      <th></th>\n",
       "      <th>CLNN</th>\n",
       "      <th>TS_D</th>\n",
       "      <th>FINAL_CD</th>\n",
       "      <th>SAA</th>\n",
       "      <th>MCT_ADM_GDS_APB_CD</th>\n",
       "      <th>DOF_TF</th>\n",
       "      <th>DAW_CCD</th>\n",
       "      <th>MCT_N</th>\n",
       "      <th>TIME</th>\n",
       "    </tr>\n",
       "  </thead>\n",
       "  <tbody>\n",
       "    <tr>\n",
       "      <th>643724</th>\n",
       "      <td>16993.0</td>\n",
       "      <td>180726.0</td>\n",
       "      <td>41.0</td>\n",
       "      <td>27.0</td>\n",
       "      <td>355.0</td>\n",
       "      <td>0.0</td>\n",
       "      <td>0.0</td>\n",
       "      <td>97.0</td>\n",
       "      <td>135335.0</td>\n",
       "    </tr>\n",
       "    <tr>\n",
       "      <th>245942</th>\n",
       "      <td>1185.0</td>\n",
       "      <td>180730.0</td>\n",
       "      <td>96.0</td>\n",
       "      <td>26.0</td>\n",
       "      <td>354.0</td>\n",
       "      <td>1.0</td>\n",
       "      <td>1.0</td>\n",
       "      <td>85.0</td>\n",
       "      <td>132441.0</td>\n",
       "    </tr>\n",
       "    <tr>\n",
       "      <th>208852</th>\n",
       "      <td>4725.0</td>\n",
       "      <td>180715.0</td>\n",
       "      <td>84.0</td>\n",
       "      <td>28.0</td>\n",
       "      <td>345.0</td>\n",
       "      <td>0.0</td>\n",
       "      <td>1.0</td>\n",
       "      <td>66.0</td>\n",
       "      <td>5820.0</td>\n",
       "    </tr>\n",
       "    <tr>\n",
       "      <th>717839</th>\n",
       "      <td>7155.0</td>\n",
       "      <td>180702.0</td>\n",
       "      <td>64.0</td>\n",
       "      <td>12.0</td>\n",
       "      <td>345.0</td>\n",
       "      <td>1.0</td>\n",
       "      <td>5.0</td>\n",
       "      <td>15.0</td>\n",
       "      <td>189679.0</td>\n",
       "    </tr>\n",
       "    <tr>\n",
       "      <th>349446</th>\n",
       "      <td>16661.0</td>\n",
       "      <td>180727.0</td>\n",
       "      <td>58.0</td>\n",
       "      <td>6.0</td>\n",
       "      <td>334.0</td>\n",
       "      <td>0.0</td>\n",
       "      <td>2.0</td>\n",
       "      <td>21.0</td>\n",
       "      <td>208891.0</td>\n",
       "    </tr>\n",
       "    <tr>\n",
       "      <th>709605</th>\n",
       "      <td>2307.0</td>\n",
       "      <td>180702.0</td>\n",
       "      <td>61.0</td>\n",
       "      <td>35.0</td>\n",
       "      <td>330.0</td>\n",
       "      <td>0.0</td>\n",
       "      <td>2.0</td>\n",
       "      <td>26.0</td>\n",
       "      <td>67692.0</td>\n",
       "    </tr>\n",
       "    <tr>\n",
       "      <th>544604</th>\n",
       "      <td>15646.0</td>\n",
       "      <td>180725.0</td>\n",
       "      <td>79.0</td>\n",
       "      <td>5.0</td>\n",
       "      <td>316.0</td>\n",
       "      <td>0.0</td>\n",
       "      <td>3.0</td>\n",
       "      <td>44.0</td>\n",
       "      <td>104994.0</td>\n",
       "    </tr>\n",
       "    <tr>\n",
       "      <th>393677</th>\n",
       "      <td>7695.0</td>\n",
       "      <td>180708.0</td>\n",
       "      <td>3.0</td>\n",
       "      <td>14.0</td>\n",
       "      <td>313.0</td>\n",
       "      <td>0.0</td>\n",
       "      <td>4.0</td>\n",
       "      <td>10.0</td>\n",
       "      <td>27388.0</td>\n",
       "    </tr>\n",
       "    <tr>\n",
       "      <th>401154</th>\n",
       "      <td>12838.0</td>\n",
       "      <td>180703.0</td>\n",
       "      <td>55.0</td>\n",
       "      <td>18.0</td>\n",
       "      <td>310.0</td>\n",
       "      <td>0.0</td>\n",
       "      <td>3.0</td>\n",
       "      <td>44.0</td>\n",
       "      <td>111285.0</td>\n",
       "    </tr>\n",
       "    <tr>\n",
       "      <th>601656</th>\n",
       "      <td>10519.0</td>\n",
       "      <td>180708.0</td>\n",
       "      <td>58.0</td>\n",
       "      <td>21.0</td>\n",
       "      <td>307.0</td>\n",
       "      <td>0.0</td>\n",
       "      <td>4.0</td>\n",
       "      <td>42.0</td>\n",
       "      <td>228212.0</td>\n",
       "    </tr>\n",
       "    <tr>\n",
       "      <th>125077</th>\n",
       "      <td>9638.0</td>\n",
       "      <td>180703.0</td>\n",
       "      <td>47.0</td>\n",
       "      <td>7.0</td>\n",
       "      <td>307.0</td>\n",
       "      <td>0.0</td>\n",
       "      <td>4.0</td>\n",
       "      <td>1.0</td>\n",
       "      <td>87233.0</td>\n",
       "    </tr>\n",
       "    <tr>\n",
       "      <th>459714</th>\n",
       "      <td>3278.0</td>\n",
       "      <td>180722.0</td>\n",
       "      <td>28.0</td>\n",
       "      <td>30.0</td>\n",
       "      <td>304.0</td>\n",
       "      <td>0.0</td>\n",
       "      <td>2.0</td>\n",
       "      <td>78.0</td>\n",
       "      <td>193090.0</td>\n",
       "    </tr>\n",
       "    <tr>\n",
       "      <th>851894</th>\n",
       "      <td>1921.0</td>\n",
       "      <td>180721.0</td>\n",
       "      <td>50.0</td>\n",
       "      <td>5.0</td>\n",
       "      <td>304.0</td>\n",
       "      <td>0.0</td>\n",
       "      <td>0.0</td>\n",
       "      <td>65.0</td>\n",
       "      <td>118130.0</td>\n",
       "    </tr>\n",
       "    <tr>\n",
       "      <th>414290</th>\n",
       "      <td>2256.0</td>\n",
       "      <td>180717.0</td>\n",
       "      <td>67.0</td>\n",
       "      <td>15.0</td>\n",
       "      <td>301.0</td>\n",
       "      <td>0.0</td>\n",
       "      <td>4.0</td>\n",
       "      <td>54.0</td>\n",
       "      <td>57041.0</td>\n",
       "    </tr>\n",
       "    <tr>\n",
       "      <th>573289</th>\n",
       "      <td>673.0</td>\n",
       "      <td>180729.0</td>\n",
       "      <td>87.0</td>\n",
       "      <td>15.0</td>\n",
       "      <td>301.0</td>\n",
       "      <td>0.0</td>\n",
       "      <td>2.0</td>\n",
       "      <td>4.0</td>\n",
       "      <td>132170.0</td>\n",
       "    </tr>\n",
       "    <tr>\n",
       "      <th>347607</th>\n",
       "      <td>5270.0</td>\n",
       "      <td>180715.0</td>\n",
       "      <td>51.0</td>\n",
       "      <td>8.0</td>\n",
       "      <td>301.0</td>\n",
       "      <td>1.0</td>\n",
       "      <td>1.0</td>\n",
       "      <td>70.0</td>\n",
       "      <td>2020.0</td>\n",
       "    </tr>\n",
       "    <tr>\n",
       "      <th>813548</th>\n",
       "      <td>5460.0</td>\n",
       "      <td>180706.0</td>\n",
       "      <td>85.0</td>\n",
       "      <td>8.0</td>\n",
       "      <td>301.0</td>\n",
       "      <td>0.0</td>\n",
       "      <td>4.0</td>\n",
       "      <td>18.0</td>\n",
       "      <td>211602.0</td>\n",
       "    </tr>\n",
       "    <tr>\n",
       "      <th>144715</th>\n",
       "      <td>3.0</td>\n",
       "      <td>180714.0</td>\n",
       "      <td>30.0</td>\n",
       "      <td>4.0</td>\n",
       "      <td>300.0</td>\n",
       "      <td>0.0</td>\n",
       "      <td>0.0</td>\n",
       "      <td>48.0</td>\n",
       "      <td>168762.0</td>\n",
       "    </tr>\n",
       "    <tr>\n",
       "      <th>945541</th>\n",
       "      <td>20796.0</td>\n",
       "      <td>180710.0</td>\n",
       "      <td>36.0</td>\n",
       "      <td>3.0</td>\n",
       "      <td>300.0</td>\n",
       "      <td>0.0</td>\n",
       "      <td>5.0</td>\n",
       "      <td>51.0</td>\n",
       "      <td>59383.0</td>\n",
       "    </tr>\n",
       "    <tr>\n",
       "      <th>847361</th>\n",
       "      <td>7383.0</td>\n",
       "      <td>180723.0</td>\n",
       "      <td>31.0</td>\n",
       "      <td>13.0</td>\n",
       "      <td>299.0</td>\n",
       "      <td>0.0</td>\n",
       "      <td>2.0</td>\n",
       "      <td>98.0</td>\n",
       "      <td>139717.0</td>\n",
       "    </tr>\n",
       "    <tr>\n",
       "      <th>906147</th>\n",
       "      <td>11632.0</td>\n",
       "      <td>180706.0</td>\n",
       "      <td>18.0</td>\n",
       "      <td>4.0</td>\n",
       "      <td>299.0</td>\n",
       "      <td>1.0</td>\n",
       "      <td>2.0</td>\n",
       "      <td>96.0</td>\n",
       "      <td>1659.0</td>\n",
       "    </tr>\n",
       "    <tr>\n",
       "      <th>799420</th>\n",
       "      <td>15525.0</td>\n",
       "      <td>180722.0</td>\n",
       "      <td>39.0</td>\n",
       "      <td>36.0</td>\n",
       "      <td>298.0</td>\n",
       "      <td>1.0</td>\n",
       "      <td>0.0</td>\n",
       "      <td>71.0</td>\n",
       "      <td>36694.0</td>\n",
       "    </tr>\n",
       "    <tr>\n",
       "      <th>760538</th>\n",
       "      <td>1876.0</td>\n",
       "      <td>180707.0</td>\n",
       "      <td>29.0</td>\n",
       "      <td>7.0</td>\n",
       "      <td>297.0</td>\n",
       "      <td>0.0</td>\n",
       "      <td>1.0</td>\n",
       "      <td>44.0</td>\n",
       "      <td>34501.0</td>\n",
       "    </tr>\n",
       "    <tr>\n",
       "      <th>573189</th>\n",
       "      <td>6299.0</td>\n",
       "      <td>180703.0</td>\n",
       "      <td>34.0</td>\n",
       "      <td>31.0</td>\n",
       "      <td>296.0</td>\n",
       "      <td>1.0</td>\n",
       "      <td>5.0</td>\n",
       "      <td>69.0</td>\n",
       "      <td>6743.0</td>\n",
       "    </tr>\n",
       "    <tr>\n",
       "      <th>405079</th>\n",
       "      <td>455.0</td>\n",
       "      <td>180721.0</td>\n",
       "      <td>54.0</td>\n",
       "      <td>27.0</td>\n",
       "      <td>296.0</td>\n",
       "      <td>0.0</td>\n",
       "      <td>4.0</td>\n",
       "      <td>23.0</td>\n",
       "      <td>141866.0</td>\n",
       "    </tr>\n",
       "    <tr>\n",
       "      <th>333841</th>\n",
       "      <td>13307.0</td>\n",
       "      <td>180714.0</td>\n",
       "      <td>15.0</td>\n",
       "      <td>19.0</td>\n",
       "      <td>295.0</td>\n",
       "      <td>0.0</td>\n",
       "      <td>4.0</td>\n",
       "      <td>43.0</td>\n",
       "      <td>72948.0</td>\n",
       "    </tr>\n",
       "    <tr>\n",
       "      <th>261838</th>\n",
       "      <td>13859.0</td>\n",
       "      <td>180712.0</td>\n",
       "      <td>39.0</td>\n",
       "      <td>4.0</td>\n",
       "      <td>295.0</td>\n",
       "      <td>1.0</td>\n",
       "      <td>3.0</td>\n",
       "      <td>9.0</td>\n",
       "      <td>62764.0</td>\n",
       "    </tr>\n",
       "    <tr>\n",
       "      <th>922715</th>\n",
       "      <td>15941.0</td>\n",
       "      <td>180729.0</td>\n",
       "      <td>68.0</td>\n",
       "      <td>16.0</td>\n",
       "      <td>294.0</td>\n",
       "      <td>1.0</td>\n",
       "      <td>2.0</td>\n",
       "      <td>88.0</td>\n",
       "      <td>6586.0</td>\n",
       "    </tr>\n",
       "    <tr>\n",
       "      <th>109039</th>\n",
       "      <td>2773.0</td>\n",
       "      <td>180716.0</td>\n",
       "      <td>68.0</td>\n",
       "      <td>11.0</td>\n",
       "      <td>294.0</td>\n",
       "      <td>0.0</td>\n",
       "      <td>3.0</td>\n",
       "      <td>7.0</td>\n",
       "      <td>172159.0</td>\n",
       "    </tr>\n",
       "    <tr>\n",
       "      <th>355631</th>\n",
       "      <td>7031.0</td>\n",
       "      <td>180707.0</td>\n",
       "      <td>10.0</td>\n",
       "      <td>26.0</td>\n",
       "      <td>293.0</td>\n",
       "      <td>1.0</td>\n",
       "      <td>2.0</td>\n",
       "      <td>35.0</td>\n",
       "      <td>40467.0</td>\n",
       "    </tr>\n",
       "    <tr>\n",
       "      <th>...</th>\n",
       "      <td>...</td>\n",
       "      <td>...</td>\n",
       "      <td>...</td>\n",
       "      <td>...</td>\n",
       "      <td>...</td>\n",
       "      <td>...</td>\n",
       "      <td>...</td>\n",
       "      <td>...</td>\n",
       "      <td>...</td>\n",
       "    </tr>\n",
       "    <tr>\n",
       "      <th>247345</th>\n",
       "      <td>25633.0</td>\n",
       "      <td>180712.0</td>\n",
       "      <td>57.0</td>\n",
       "      <td>8.0</td>\n",
       "      <td>0.0</td>\n",
       "      <td>0.0</td>\n",
       "      <td>5.0</td>\n",
       "      <td>93.0</td>\n",
       "      <td>53243.0</td>\n",
       "    </tr>\n",
       "    <tr>\n",
       "      <th>346058</th>\n",
       "      <td>24551.0</td>\n",
       "      <td>180726.0</td>\n",
       "      <td>6.0</td>\n",
       "      <td>8.0</td>\n",
       "      <td>0.0</td>\n",
       "      <td>0.0</td>\n",
       "      <td>4.0</td>\n",
       "      <td>79.0</td>\n",
       "      <td>22801.0</td>\n",
       "    </tr>\n",
       "    <tr>\n",
       "      <th>376600</th>\n",
       "      <td>26512.0</td>\n",
       "      <td>180727.0</td>\n",
       "      <td>27.0</td>\n",
       "      <td>8.0</td>\n",
       "      <td>0.0</td>\n",
       "      <td>0.0</td>\n",
       "      <td>2.0</td>\n",
       "      <td>59.0</td>\n",
       "      <td>82826.0</td>\n",
       "    </tr>\n",
       "    <tr>\n",
       "      <th>541947</th>\n",
       "      <td>20565.0</td>\n",
       "      <td>180704.0</td>\n",
       "      <td>38.0</td>\n",
       "      <td>8.0</td>\n",
       "      <td>0.0</td>\n",
       "      <td>1.0</td>\n",
       "      <td>3.0</td>\n",
       "      <td>29.0</td>\n",
       "      <td>163156.0</td>\n",
       "    </tr>\n",
       "    <tr>\n",
       "      <th>622653</th>\n",
       "      <td>29107.0</td>\n",
       "      <td>180712.0</td>\n",
       "      <td>17.0</td>\n",
       "      <td>8.0</td>\n",
       "      <td>0.0</td>\n",
       "      <td>1.0</td>\n",
       "      <td>3.0</td>\n",
       "      <td>52.0</td>\n",
       "      <td>142113.0</td>\n",
       "    </tr>\n",
       "    <tr>\n",
       "      <th>710697</th>\n",
       "      <td>26051.0</td>\n",
       "      <td>180704.0</td>\n",
       "      <td>87.0</td>\n",
       "      <td>8.0</td>\n",
       "      <td>0.0</td>\n",
       "      <td>0.0</td>\n",
       "      <td>3.0</td>\n",
       "      <td>7.0</td>\n",
       "      <td>190981.0</td>\n",
       "    </tr>\n",
       "    <tr>\n",
       "      <th>809387</th>\n",
       "      <td>23472.0</td>\n",
       "      <td>180711.0</td>\n",
       "      <td>47.0</td>\n",
       "      <td>8.0</td>\n",
       "      <td>0.0</td>\n",
       "      <td>1.0</td>\n",
       "      <td>4.0</td>\n",
       "      <td>65.0</td>\n",
       "      <td>112325.0</td>\n",
       "    </tr>\n",
       "    <tr>\n",
       "      <th>986635</th>\n",
       "      <td>23547.0</td>\n",
       "      <td>180703.0</td>\n",
       "      <td>79.0</td>\n",
       "      <td>8.0</td>\n",
       "      <td>0.0</td>\n",
       "      <td>0.0</td>\n",
       "      <td>4.0</td>\n",
       "      <td>30.0</td>\n",
       "      <td>208052.0</td>\n",
       "    </tr>\n",
       "    <tr>\n",
       "      <th>59560</th>\n",
       "      <td>28015.0</td>\n",
       "      <td>180722.0</td>\n",
       "      <td>97.0</td>\n",
       "      <td>7.0</td>\n",
       "      <td>0.0</td>\n",
       "      <td>0.0</td>\n",
       "      <td>5.0</td>\n",
       "      <td>89.0</td>\n",
       "      <td>187077.0</td>\n",
       "    </tr>\n",
       "    <tr>\n",
       "      <th>261952</th>\n",
       "      <td>22402.0</td>\n",
       "      <td>180714.0</td>\n",
       "      <td>26.0</td>\n",
       "      <td>7.0</td>\n",
       "      <td>0.0</td>\n",
       "      <td>0.0</td>\n",
       "      <td>2.0</td>\n",
       "      <td>40.0</td>\n",
       "      <td>154365.0</td>\n",
       "    </tr>\n",
       "    <tr>\n",
       "      <th>472003</th>\n",
       "      <td>25034.0</td>\n",
       "      <td>180707.0</td>\n",
       "      <td>92.0</td>\n",
       "      <td>7.0</td>\n",
       "      <td>0.0</td>\n",
       "      <td>1.0</td>\n",
       "      <td>5.0</td>\n",
       "      <td>7.0</td>\n",
       "      <td>161914.0</td>\n",
       "    </tr>\n",
       "    <tr>\n",
       "      <th>897193</th>\n",
       "      <td>21869.0</td>\n",
       "      <td>180726.0</td>\n",
       "      <td>66.0</td>\n",
       "      <td>7.0</td>\n",
       "      <td>0.0</td>\n",
       "      <td>0.0</td>\n",
       "      <td>1.0</td>\n",
       "      <td>68.0</td>\n",
       "      <td>61104.0</td>\n",
       "    </tr>\n",
       "    <tr>\n",
       "      <th>222537</th>\n",
       "      <td>32004.0</td>\n",
       "      <td>180719.0</td>\n",
       "      <td>65.0</td>\n",
       "      <td>6.0</td>\n",
       "      <td>0.0</td>\n",
       "      <td>0.0</td>\n",
       "      <td>2.0</td>\n",
       "      <td>44.0</td>\n",
       "      <td>51666.0</td>\n",
       "    </tr>\n",
       "    <tr>\n",
       "      <th>514463</th>\n",
       "      <td>26575.0</td>\n",
       "      <td>180720.0</td>\n",
       "      <td>40.0</td>\n",
       "      <td>6.0</td>\n",
       "      <td>0.0</td>\n",
       "      <td>1.0</td>\n",
       "      <td>2.0</td>\n",
       "      <td>76.0</td>\n",
       "      <td>216540.0</td>\n",
       "    </tr>\n",
       "    <tr>\n",
       "      <th>697518</th>\n",
       "      <td>29335.0</td>\n",
       "      <td>180728.0</td>\n",
       "      <td>12.0</td>\n",
       "      <td>6.0</td>\n",
       "      <td>0.0</td>\n",
       "      <td>0.0</td>\n",
       "      <td>3.0</td>\n",
       "      <td>73.0</td>\n",
       "      <td>162653.0</td>\n",
       "    </tr>\n",
       "    <tr>\n",
       "      <th>751579</th>\n",
       "      <td>26543.0</td>\n",
       "      <td>180706.0</td>\n",
       "      <td>93.0</td>\n",
       "      <td>6.0</td>\n",
       "      <td>0.0</td>\n",
       "      <td>1.0</td>\n",
       "      <td>2.0</td>\n",
       "      <td>14.0</td>\n",
       "      <td>58721.0</td>\n",
       "    </tr>\n",
       "    <tr>\n",
       "      <th>961509</th>\n",
       "      <td>25457.0</td>\n",
       "      <td>180724.0</td>\n",
       "      <td>78.0</td>\n",
       "      <td>6.0</td>\n",
       "      <td>0.0</td>\n",
       "      <td>0.0</td>\n",
       "      <td>0.0</td>\n",
       "      <td>87.0</td>\n",
       "      <td>233354.0</td>\n",
       "    </tr>\n",
       "    <tr>\n",
       "      <th>971049</th>\n",
       "      <td>27857.0</td>\n",
       "      <td>180724.0</td>\n",
       "      <td>88.0</td>\n",
       "      <td>6.0</td>\n",
       "      <td>0.0</td>\n",
       "      <td>0.0</td>\n",
       "      <td>5.0</td>\n",
       "      <td>79.0</td>\n",
       "      <td>104759.0</td>\n",
       "    </tr>\n",
       "    <tr>\n",
       "      <th>980139</th>\n",
       "      <td>22914.0</td>\n",
       "      <td>180725.0</td>\n",
       "      <td>9.0</td>\n",
       "      <td>6.0</td>\n",
       "      <td>0.0</td>\n",
       "      <td>0.0</td>\n",
       "      <td>2.0</td>\n",
       "      <td>97.0</td>\n",
       "      <td>145040.0</td>\n",
       "    </tr>\n",
       "    <tr>\n",
       "      <th>336781</th>\n",
       "      <td>30000.0</td>\n",
       "      <td>180703.0</td>\n",
       "      <td>14.0</td>\n",
       "      <td>5.0</td>\n",
       "      <td>0.0</td>\n",
       "      <td>1.0</td>\n",
       "      <td>3.0</td>\n",
       "      <td>19.0</td>\n",
       "      <td>37602.0</td>\n",
       "    </tr>\n",
       "    <tr>\n",
       "      <th>385554</th>\n",
       "      <td>23695.0</td>\n",
       "      <td>180727.0</td>\n",
       "      <td>21.0</td>\n",
       "      <td>5.0</td>\n",
       "      <td>0.0</td>\n",
       "      <td>1.0</td>\n",
       "      <td>2.0</td>\n",
       "      <td>86.0</td>\n",
       "      <td>179732.0</td>\n",
       "    </tr>\n",
       "    <tr>\n",
       "      <th>163007</th>\n",
       "      <td>23529.0</td>\n",
       "      <td>180719.0</td>\n",
       "      <td>64.0</td>\n",
       "      <td>4.0</td>\n",
       "      <td>0.0</td>\n",
       "      <td>0.0</td>\n",
       "      <td>5.0</td>\n",
       "      <td>44.0</td>\n",
       "      <td>38869.0</td>\n",
       "    </tr>\n",
       "    <tr>\n",
       "      <th>410627</th>\n",
       "      <td>20205.0</td>\n",
       "      <td>180712.0</td>\n",
       "      <td>40.0</td>\n",
       "      <td>4.0</td>\n",
       "      <td>0.0</td>\n",
       "      <td>1.0</td>\n",
       "      <td>0.0</td>\n",
       "      <td>85.0</td>\n",
       "      <td>217585.0</td>\n",
       "    </tr>\n",
       "    <tr>\n",
       "      <th>444584</th>\n",
       "      <td>36402.0</td>\n",
       "      <td>180707.0</td>\n",
       "      <td>5.0</td>\n",
       "      <td>4.0</td>\n",
       "      <td>0.0</td>\n",
       "      <td>0.0</td>\n",
       "      <td>0.0</td>\n",
       "      <td>54.0</td>\n",
       "      <td>222968.0</td>\n",
       "    </tr>\n",
       "    <tr>\n",
       "      <th>561763</th>\n",
       "      <td>27938.0</td>\n",
       "      <td>180705.0</td>\n",
       "      <td>24.0</td>\n",
       "      <td>4.0</td>\n",
       "      <td>0.0</td>\n",
       "      <td>0.0</td>\n",
       "      <td>1.0</td>\n",
       "      <td>7.0</td>\n",
       "      <td>12347.0</td>\n",
       "    </tr>\n",
       "    <tr>\n",
       "      <th>870741</th>\n",
       "      <td>25637.0</td>\n",
       "      <td>180710.0</td>\n",
       "      <td>48.0</td>\n",
       "      <td>4.0</td>\n",
       "      <td>0.0</td>\n",
       "      <td>0.0</td>\n",
       "      <td>4.0</td>\n",
       "      <td>66.0</td>\n",
       "      <td>79452.0</td>\n",
       "    </tr>\n",
       "    <tr>\n",
       "      <th>265147</th>\n",
       "      <td>24533.0</td>\n",
       "      <td>180727.0</td>\n",
       "      <td>66.0</td>\n",
       "      <td>3.0</td>\n",
       "      <td>0.0</td>\n",
       "      <td>0.0</td>\n",
       "      <td>4.0</td>\n",
       "      <td>16.0</td>\n",
       "      <td>181435.0</td>\n",
       "    </tr>\n",
       "    <tr>\n",
       "      <th>490379</th>\n",
       "      <td>24959.0</td>\n",
       "      <td>180716.0</td>\n",
       "      <td>51.0</td>\n",
       "      <td>3.0</td>\n",
       "      <td>0.0</td>\n",
       "      <td>0.0</td>\n",
       "      <td>5.0</td>\n",
       "      <td>29.0</td>\n",
       "      <td>57941.0</td>\n",
       "    </tr>\n",
       "    <tr>\n",
       "      <th>524813</th>\n",
       "      <td>27838.0</td>\n",
       "      <td>180706.0</td>\n",
       "      <td>9.0</td>\n",
       "      <td>3.0</td>\n",
       "      <td>0.0</td>\n",
       "      <td>1.0</td>\n",
       "      <td>1.0</td>\n",
       "      <td>42.0</td>\n",
       "      <td>206651.0</td>\n",
       "    </tr>\n",
       "    <tr>\n",
       "      <th>717195</th>\n",
       "      <td>27625.0</td>\n",
       "      <td>180729.0</td>\n",
       "      <td>75.0</td>\n",
       "      <td>3.0</td>\n",
       "      <td>0.0</td>\n",
       "      <td>0.0</td>\n",
       "      <td>3.0</td>\n",
       "      <td>52.0</td>\n",
       "      <td>140864.0</td>\n",
       "    </tr>\n",
       "  </tbody>\n",
       "</table>\n",
       "<p>134256 rows × 9 columns</p>\n",
       "</div>"
      ],
      "text/plain": [
       "           CLNN      TS_D  FINAL_CD   SAA  MCT_ADM_GDS_APB_CD  DOF_TF  \\\n",
       "643724  16993.0  180726.0      41.0  27.0               355.0     0.0   \n",
       "245942   1185.0  180730.0      96.0  26.0               354.0     1.0   \n",
       "208852   4725.0  180715.0      84.0  28.0               345.0     0.0   \n",
       "717839   7155.0  180702.0      64.0  12.0               345.0     1.0   \n",
       "349446  16661.0  180727.0      58.0   6.0               334.0     0.0   \n",
       "709605   2307.0  180702.0      61.0  35.0               330.0     0.0   \n",
       "544604  15646.0  180725.0      79.0   5.0               316.0     0.0   \n",
       "393677   7695.0  180708.0       3.0  14.0               313.0     0.0   \n",
       "401154  12838.0  180703.0      55.0  18.0               310.0     0.0   \n",
       "601656  10519.0  180708.0      58.0  21.0               307.0     0.0   \n",
       "125077   9638.0  180703.0      47.0   7.0               307.0     0.0   \n",
       "459714   3278.0  180722.0      28.0  30.0               304.0     0.0   \n",
       "851894   1921.0  180721.0      50.0   5.0               304.0     0.0   \n",
       "414290   2256.0  180717.0      67.0  15.0               301.0     0.0   \n",
       "573289    673.0  180729.0      87.0  15.0               301.0     0.0   \n",
       "347607   5270.0  180715.0      51.0   8.0               301.0     1.0   \n",
       "813548   5460.0  180706.0      85.0   8.0               301.0     0.0   \n",
       "144715      3.0  180714.0      30.0   4.0               300.0     0.0   \n",
       "945541  20796.0  180710.0      36.0   3.0               300.0     0.0   \n",
       "847361   7383.0  180723.0      31.0  13.0               299.0     0.0   \n",
       "906147  11632.0  180706.0      18.0   4.0               299.0     1.0   \n",
       "799420  15525.0  180722.0      39.0  36.0               298.0     1.0   \n",
       "760538   1876.0  180707.0      29.0   7.0               297.0     0.0   \n",
       "573189   6299.0  180703.0      34.0  31.0               296.0     1.0   \n",
       "405079    455.0  180721.0      54.0  27.0               296.0     0.0   \n",
       "333841  13307.0  180714.0      15.0  19.0               295.0     0.0   \n",
       "261838  13859.0  180712.0      39.0   4.0               295.0     1.0   \n",
       "922715  15941.0  180729.0      68.0  16.0               294.0     1.0   \n",
       "109039   2773.0  180716.0      68.0  11.0               294.0     0.0   \n",
       "355631   7031.0  180707.0      10.0  26.0               293.0     1.0   \n",
       "...         ...       ...       ...   ...                 ...     ...   \n",
       "247345  25633.0  180712.0      57.0   8.0                 0.0     0.0   \n",
       "346058  24551.0  180726.0       6.0   8.0                 0.0     0.0   \n",
       "376600  26512.0  180727.0      27.0   8.0                 0.0     0.0   \n",
       "541947  20565.0  180704.0      38.0   8.0                 0.0     1.0   \n",
       "622653  29107.0  180712.0      17.0   8.0                 0.0     1.0   \n",
       "710697  26051.0  180704.0      87.0   8.0                 0.0     0.0   \n",
       "809387  23472.0  180711.0      47.0   8.0                 0.0     1.0   \n",
       "986635  23547.0  180703.0      79.0   8.0                 0.0     0.0   \n",
       "59560   28015.0  180722.0      97.0   7.0                 0.0     0.0   \n",
       "261952  22402.0  180714.0      26.0   7.0                 0.0     0.0   \n",
       "472003  25034.0  180707.0      92.0   7.0                 0.0     1.0   \n",
       "897193  21869.0  180726.0      66.0   7.0                 0.0     0.0   \n",
       "222537  32004.0  180719.0      65.0   6.0                 0.0     0.0   \n",
       "514463  26575.0  180720.0      40.0   6.0                 0.0     1.0   \n",
       "697518  29335.0  180728.0      12.0   6.0                 0.0     0.0   \n",
       "751579  26543.0  180706.0      93.0   6.0                 0.0     1.0   \n",
       "961509  25457.0  180724.0      78.0   6.0                 0.0     0.0   \n",
       "971049  27857.0  180724.0      88.0   6.0                 0.0     0.0   \n",
       "980139  22914.0  180725.0       9.0   6.0                 0.0     0.0   \n",
       "336781  30000.0  180703.0      14.0   5.0                 0.0     1.0   \n",
       "385554  23695.0  180727.0      21.0   5.0                 0.0     1.0   \n",
       "163007  23529.0  180719.0      64.0   4.0                 0.0     0.0   \n",
       "410627  20205.0  180712.0      40.0   4.0                 0.0     1.0   \n",
       "444584  36402.0  180707.0       5.0   4.0                 0.0     0.0   \n",
       "561763  27938.0  180705.0      24.0   4.0                 0.0     0.0   \n",
       "870741  25637.0  180710.0      48.0   4.0                 0.0     0.0   \n",
       "265147  24533.0  180727.0      66.0   3.0                 0.0     0.0   \n",
       "490379  24959.0  180716.0      51.0   3.0                 0.0     0.0   \n",
       "524813  27838.0  180706.0       9.0   3.0                 0.0     1.0   \n",
       "717195  27625.0  180729.0      75.0   3.0                 0.0     0.0   \n",
       "\n",
       "        DAW_CCD  MCT_N      TIME  \n",
       "643724      0.0   97.0  135335.0  \n",
       "245942      1.0   85.0  132441.0  \n",
       "208852      1.0   66.0    5820.0  \n",
       "717839      5.0   15.0  189679.0  \n",
       "349446      2.0   21.0  208891.0  \n",
       "709605      2.0   26.0   67692.0  \n",
       "544604      3.0   44.0  104994.0  \n",
       "393677      4.0   10.0   27388.0  \n",
       "401154      3.0   44.0  111285.0  \n",
       "601656      4.0   42.0  228212.0  \n",
       "125077      4.0    1.0   87233.0  \n",
       "459714      2.0   78.0  193090.0  \n",
       "851894      0.0   65.0  118130.0  \n",
       "414290      4.0   54.0   57041.0  \n",
       "573289      2.0    4.0  132170.0  \n",
       "347607      1.0   70.0    2020.0  \n",
       "813548      4.0   18.0  211602.0  \n",
       "144715      0.0   48.0  168762.0  \n",
       "945541      5.0   51.0   59383.0  \n",
       "847361      2.0   98.0  139717.0  \n",
       "906147      2.0   96.0    1659.0  \n",
       "799420      0.0   71.0   36694.0  \n",
       "760538      1.0   44.0   34501.0  \n",
       "573189      5.0   69.0    6743.0  \n",
       "405079      4.0   23.0  141866.0  \n",
       "333841      4.0   43.0   72948.0  \n",
       "261838      3.0    9.0   62764.0  \n",
       "922715      2.0   88.0    6586.0  \n",
       "109039      3.0    7.0  172159.0  \n",
       "355631      2.0   35.0   40467.0  \n",
       "...         ...    ...       ...  \n",
       "247345      5.0   93.0   53243.0  \n",
       "346058      4.0   79.0   22801.0  \n",
       "376600      2.0   59.0   82826.0  \n",
       "541947      3.0   29.0  163156.0  \n",
       "622653      3.0   52.0  142113.0  \n",
       "710697      3.0    7.0  190981.0  \n",
       "809387      4.0   65.0  112325.0  \n",
       "986635      4.0   30.0  208052.0  \n",
       "59560       5.0   89.0  187077.0  \n",
       "261952      2.0   40.0  154365.0  \n",
       "472003      5.0    7.0  161914.0  \n",
       "897193      1.0   68.0   61104.0  \n",
       "222537      2.0   44.0   51666.0  \n",
       "514463      2.0   76.0  216540.0  \n",
       "697518      3.0   73.0  162653.0  \n",
       "751579      2.0   14.0   58721.0  \n",
       "961509      0.0   87.0  233354.0  \n",
       "971049      5.0   79.0  104759.0  \n",
       "980139      2.0   97.0  145040.0  \n",
       "336781      3.0   19.0   37602.0  \n",
       "385554      2.0   86.0  179732.0  \n",
       "163007      5.0   44.0   38869.0  \n",
       "410627      0.0   85.0  217585.0  \n",
       "444584      0.0   54.0  222968.0  \n",
       "561763      1.0    7.0   12347.0  \n",
       "870741      4.0   66.0   79452.0  \n",
       "265147      4.0   16.0  181435.0  \n",
       "490379      5.0   29.0   57941.0  \n",
       "524813      1.0   42.0  206651.0  \n",
       "717195      3.0   52.0  140864.0  \n",
       "\n",
       "[134256 rows x 9 columns]"
      ]
     },
     "execution_count": 182,
     "metadata": {},
     "output_type": "execute_result"
    }
   ],
   "source": [
    "df.sort_values(['MCT_ADM_GDS_APB_CD', 'SAA'], ascending=False).groupby(['CLNN']).head() \n",
    "## 예시 ## TS_D와 FINAL_CD는 aggregate 되지 않았음 "
   ]
  },
  {
   "cell_type": "code",
   "execution_count": null,
   "metadata": {
    "scrolled": true
   },
   "outputs": [],
   "source": [
    "# 고객당 평균 몇 개의 행정동에서 거래가 이루어졌는가?\n",
    "groupedByGDS = df.groupby(['CLNN'], sort=False).count()['MCT_ADM_GDS_APB_CD']\n",
    "print(groupedByGDS.head(15))\n",
    "print(np.mean(groupedByGDS[:2]) )"
   ]
  },
  {
   "cell_type": "code",
   "execution_count": null,
   "metadata": {},
   "outputs": [],
   "source": [
    "groupedByGDS.hist(bins=70) # 이 데이터에 따르면, 대부분 1-2개의 행정동에서 거래가 이루어짐?"
   ]
  },
  {
   "cell_type": "code",
   "execution_count": null,
   "metadata": {},
   "outputs": [],
   "source": []
  },
  {
   "cell_type": "code",
   "execution_count": 124,
   "metadata": {},
   "outputs": [
    {
     "data": {
      "text/html": [
       "<div>\n",
       "<style scoped>\n",
       "    .dataframe tbody tr th:only-of-type {\n",
       "        vertical-align: middle;\n",
       "    }\n",
       "\n",
       "    .dataframe tbody tr th {\n",
       "        vertical-align: top;\n",
       "    }\n",
       "\n",
       "    .dataframe thead th {\n",
       "        text-align: right;\n",
       "    }\n",
       "</style>\n",
       "<table border=\"1\" class=\"dataframe\">\n",
       "  <thead>\n",
       "    <tr style=\"text-align: right;\">\n",
       "      <th></th>\n",
       "      <th>CLNN</th>\n",
       "      <th>TS_D</th>\n",
       "      <th>FINAL_CD</th>\n",
       "      <th>SAA</th>\n",
       "      <th>MCT_ADM_GDS_APB_CD</th>\n",
       "      <th>DOF_TF</th>\n",
       "      <th>DAW_CCD</th>\n",
       "      <th>MCT_N</th>\n",
       "      <th>TIME</th>\n",
       "      <th>HOUR</th>\n",
       "    </tr>\n",
       "  </thead>\n",
       "  <tbody>\n",
       "    <tr>\n",
       "      <th>0</th>\n",
       "      <td>14437</td>\n",
       "      <td>2018-07-19</td>\n",
       "      <td>25</td>\n",
       "      <td>11</td>\n",
       "      <td>26</td>\n",
       "      <td>0</td>\n",
       "      <td>5</td>\n",
       "      <td>36</td>\n",
       "      <td>199982</td>\n",
       "      <td>19</td>\n",
       "    </tr>\n",
       "    <tr>\n",
       "      <th>1</th>\n",
       "      <td>2414</td>\n",
       "      <td>2018-07-09</td>\n",
       "      <td>10</td>\n",
       "      <td>7</td>\n",
       "      <td>35</td>\n",
       "      <td>0</td>\n",
       "      <td>0</td>\n",
       "      <td>88</td>\n",
       "      <td>57272</td>\n",
       "      <td>5</td>\n",
       "    </tr>\n",
       "    <tr>\n",
       "      <th>2</th>\n",
       "      <td>2136</td>\n",
       "      <td>2018-07-28</td>\n",
       "      <td>82</td>\n",
       "      <td>9</td>\n",
       "      <td>2</td>\n",
       "      <td>0</td>\n",
       "      <td>2</td>\n",
       "      <td>83</td>\n",
       "      <td>135636</td>\n",
       "      <td>13</td>\n",
       "    </tr>\n",
       "  </tbody>\n",
       "</table>\n",
       "</div>"
      ],
      "text/plain": [
       "    CLNN       TS_D  FINAL_CD  SAA  MCT_ADM_GDS_APB_CD  DOF_TF  DAW_CCD  \\\n",
       "0  14437 2018-07-19        25   11                  26       0        5   \n",
       "1   2414 2018-07-09        10    7                  35       0        0   \n",
       "2   2136 2018-07-28        82    9                   2       0        2   \n",
       "\n",
       "   MCT_N    TIME  HOUR  \n",
       "0     36  199982    19  \n",
       "1     88   57272     5  \n",
       "2     83  135636    13  "
      ]
     },
     "execution_count": 124,
     "metadata": {},
     "output_type": "execute_result"
    }
   ],
   "source": [
    "# 시간대를 파싱하기\n",
    "df['HOUR'] = df['TIME']/10000\n",
    "df['HOUR'] = df.HOUR.astype(int)\n",
    "df.head(3)"
   ]
  },
  {
   "cell_type": "code",
   "execution_count": 126,
   "metadata": {},
   "outputs": [],
   "source": [
    "df['HOUR'].hist()"
   ]
  },
  {
   "cell_type": "code",
   "execution_count": 129,
   "metadata": {
    "scrolled": true
   },
   "outputs": [
    {
     "data": {
      "text/plain": [
       "[<matplotlib.lines.Line2D at 0x15a21def0>]"
      ]
     },
     "execution_count": 129,
     "metadata": {},
     "output_type": "execute_result"
    },
    {
     "data": {
      "image/png": "[encoded data removed]",
      "text/plain": [
       "<Figure size 432x288 with 1 Axes>"
      ]
     },
     "metadata": {},
     "output_type": "display_data"
    }
   ],
   "source": [
    "plt.plot(df['TS_D'], df['SAA'])"
   ]
  },
  {
   "cell_type": "code",
   "execution_count": null,
   "metadata": {},
   "outputs": [],
   "source": []
  },
  {
   "cell_type": "code",
   "execution_count": null,
   "metadata": {},
   "outputs": [],
   "source": []
  },
  {
   "cell_type": "code",
   "execution_count": 81,
   "metadata": {},
   "outputs": [
    {
     "data": {
      "text/plain": [
       "<matplotlib.axes._subplots.AxesSubplot at 0x26b2c3ccac8>"
      ]
     },
     "execution_count": 81,
     "metadata": {},
     "output_type": "execute_result"
    },
    {
     "data": {
      "image/png": "[encoded data removed]",
      "text/plain": [
       "<matplotlib.figure.Figure at 0x26b2c3cc940>"
      ]
     },
     "metadata": {},
     "output_type": "display_data"
    }
   ],
   "source": [
    "gb3_df['SAA'].hist(bins=70)"
   ]
  },
  {
   "cell_type": "code",
   "execution_count": 82,
   "metadata": {},
   "outputs": [
    {
     "data": {
      "text/plain": [
       "<matplotlib.axes._subplots.AxesSubplot at 0x26b229c4b38>"
      ]
     },
     "execution_count": 82,
     "metadata": {},
     "output_type": "execute_result"
    },
    {
     "data": {
      "image/png": "[encoded data removed]",
      "text/plain": [
       "<matplotlib.figure.Figure at 0x26b2c35ceb8>"
      ]
     },
     "metadata": {},
     "output_type": "display_data"
    }
   ],
   "source": [
    "gb3.hist(bins=70)"
   ]
  },
  {
   "cell_type": "code",
   "execution_count": null,
   "metadata": {},
   "outputs": [],
   "source": []
  },
  {
   "cell_type": "markdown",
   "metadata": {},
   "source": [
    "### Box plot"
   ]
  },
  {
   "cell_type": "code",
   "execution_count": 103,
   "metadata": {},
   "outputs": [
    {
     "name": "stderr",
     "output_type": "stream",
     "text": [
      "C:\\Users\\sds\\Anaconda3\\lib\\site-packages\\numpy\\core\\fromnumeric.py:52: FutureWarning: reshape is deprecated and will raise in a subsequent release. Please use .values.reshape(...) instead\n",
      "  return getattr(obj, method)(*args, **kwds)\n"
     ]
    },
    {
     "data": {
      "image/png": "[encoded data removed]",
      "text/plain": [
       "<matplotlib.figure.Figure at 0x26b38ef8a20>"
      ]
     },
     "metadata": {},
     "output_type": "display_data"
    }
   ],
   "source": [
    "data = [df['SAA'], grouped]\n",
    "fig1, ax1 = plt.subplots()\n",
    "ax1.set_title('Aggregate Mean of SAA vs. Grouped blah [SAA]')\n",
    "ax1.boxplot(data)\n",
    "plt.show()"
   ]
  },
  {
   "cell_type": "code",
   "execution_count": 104,
   "metadata": {
    "scrolled": false
   },
   "outputs": [
    {
     "name": "stderr",
     "output_type": "stream",
     "text": [
      "C:\\Users\\sds\\Anaconda3\\lib\\site-packages\\numpy\\core\\fromnumeric.py:52: FutureWarning: reshape is deprecated and will raise in a subsequent release. Please use .values.reshape(...) instead\n",
      "  return getattr(obj, method)(*args, **kwds)\n"
     ]
    },
    {
     "data": {
      "image/png": "[encoded data removed]",
      "text/plain": [
       "<matplotlib.figure.Figure at 0x26b392a93c8>"
      ]
     },
     "metadata": {},
     "output_type": "display_data"
    }
   ],
   "source": [
    "# multiple \n",
    "data = [df['SAA'], grouped]\n",
    "plt.boxplot(data)\n",
    "plt.show()"
   ]
  },
  {
   "cell_type": "code",
   "execution_count": 90,
   "metadata": {},
   "outputs": [
    {
     "data": {
      "text/plain": [
       "{'boxes': [<matplotlib.lines.Line2D at 0x26b38af8390>],\n",
       " 'caps': [<matplotlib.lines.Line2D at 0x26b38af8da0>,\n",
       "  <matplotlib.lines.Line2D at 0x26b38b02208>],\n",
       " 'fliers': [<matplotlib.lines.Line2D at 0x26b38b02a58>],\n",
       " 'means': [],\n",
       " 'medians': [<matplotlib.lines.Line2D at 0x26b38b02630>],\n",
       " 'whiskers': [<matplotlib.lines.Line2D at 0x26b38af84e0>,\n",
       "  <matplotlib.lines.Line2D at 0x26b38af8978>]}"
      ]
     },
     "execution_count": 90,
     "metadata": {},
     "output_type": "execute_result"
    },
    {
     "data": {
      "image/png": "[encoded data removed]",
      "text/plain": [
       "<matplotlib.figure.Figure at 0x26b2d0f6630>"
      ]
     },
     "metadata": {},
     "output_type": "display_data"
    }
   ],
   "source": [
    "plt.boxplot(df['SAA']) # outlier 가 엄청 많음"
   ]
  },
  {
   "cell_type": "code",
   "execution_count": 94,
   "metadata": {},
   "outputs": [
    {
     "data": {
      "text/plain": [
       "{'boxes': [<matplotlib.lines.Line2D at 0x26b38c18080>],\n",
       " 'caps': [<matplotlib.lines.Line2D at 0x26b38c18a90>,\n",
       "  <matplotlib.lines.Line2D at 0x26b38c18eb8>],\n",
       " 'fliers': [<matplotlib.lines.Line2D at 0x26b38c20748>],\n",
       " 'means': [],\n",
       " 'medians': [<matplotlib.lines.Line2D at 0x26b38c20320>],\n",
       " 'whiskers': [<matplotlib.lines.Line2D at 0x26b38c181d0>,\n",
       "  <matplotlib.lines.Line2D at 0x26b38c18668>]}"
      ]
     },
     "execution_count": 94,
     "metadata": {},
     "output_type": "execute_result"
    },
    {
     "data": {
      "image/png": "[encoded data removed]",
      "text/plain": [
       "<matplotlib.figure.Figure at 0x26b38b8c358>"
      ]
     },
     "metadata": {},
     "output_type": "display_data"
    }
   ],
   "source": [
    "plt.boxplot(grouped)"
   ]
  },
  {
   "cell_type": "markdown",
   "metadata": {},
   "source": [
    "### df를 sort하기"
   ]
  },
  {
   "cell_type": "code",
   "execution_count": 38,
   "metadata": {
    "scrolled": true
   },
   "outputs": [
    {
     "data": {
      "text/html": [
       "<div>\n",
       "<style scoped>\n",
       "    .dataframe tbody tr th:only-of-type {\n",
       "        vertical-align: middle;\n",
       "    }\n",
       "\n",
       "    .dataframe tbody tr th {\n",
       "        vertical-align: top;\n",
       "    }\n",
       "\n",
       "    .dataframe thead th {\n",
       "        text-align: right;\n",
       "    }\n",
       "</style>\n",
       "<table border=\"1\" class=\"dataframe\">\n",
       "  <thead>\n",
       "    <tr style=\"text-align: right;\">\n",
       "      <th></th>\n",
       "      <th>CLNN</th>\n",
       "      <th>TS_D</th>\n",
       "      <th>FINAL_CD</th>\n",
       "      <th>SAA</th>\n",
       "      <th>MCT_ADM_GDS_APB_CD</th>\n",
       "      <th>DOF_TF</th>\n",
       "      <th>DAW_CCD</th>\n",
       "      <th>MCT_N</th>\n",
       "      <th>TIME</th>\n",
       "    </tr>\n",
       "  </thead>\n",
       "  <tbody>\n",
       "    <tr>\n",
       "      <th>793510</th>\n",
       "      <td>2</td>\n",
       "      <td>180724</td>\n",
       "      <td>80</td>\n",
       "      <td>8</td>\n",
       "      <td>0</td>\n",
       "      <td>0</td>\n",
       "      <td>2</td>\n",
       "      <td>53</td>\n",
       "      <td>109397</td>\n",
       "    </tr>\n",
       "    <tr>\n",
       "      <th>639754</th>\n",
       "      <td>4</td>\n",
       "      <td>180730</td>\n",
       "      <td>3</td>\n",
       "      <td>25</td>\n",
       "      <td>0</td>\n",
       "      <td>0</td>\n",
       "      <td>1</td>\n",
       "      <td>50</td>\n",
       "      <td>129285</td>\n",
       "    </tr>\n",
       "    <tr>\n",
       "      <th>160081</th>\n",
       "      <td>6</td>\n",
       "      <td>180701</td>\n",
       "      <td>80</td>\n",
       "      <td>9</td>\n",
       "      <td>0</td>\n",
       "      <td>0</td>\n",
       "      <td>5</td>\n",
       "      <td>81</td>\n",
       "      <td>27187</td>\n",
       "    </tr>\n",
       "    <tr>\n",
       "      <th>620289</th>\n",
       "      <td>6</td>\n",
       "      <td>180708</td>\n",
       "      <td>14</td>\n",
       "      <td>19</td>\n",
       "      <td>0</td>\n",
       "      <td>0</td>\n",
       "      <td>4</td>\n",
       "      <td>75</td>\n",
       "      <td>179947</td>\n",
       "    </tr>\n",
       "    <tr>\n",
       "      <th>329915</th>\n",
       "      <td>7</td>\n",
       "      <td>180728</td>\n",
       "      <td>92</td>\n",
       "      <td>16</td>\n",
       "      <td>0</td>\n",
       "      <td>0</td>\n",
       "      <td>4</td>\n",
       "      <td>70</td>\n",
       "      <td>239776</td>\n",
       "    </tr>\n",
       "  </tbody>\n",
       "</table>\n",
       "</div>"
      ],
      "text/plain": [
       "        CLNN    TS_D  FINAL_CD  SAA  MCT_ADM_GDS_APB_CD  DOF_TF  DAW_CCD  \\\n",
       "793510     2  180724        80    8                   0       0        2   \n",
       "639754     4  180730         3   25                   0       0        1   \n",
       "160081     6  180701        80    9                   0       0        5   \n",
       "620289     6  180708        14   19                   0       0        4   \n",
       "329915     7  180728        92   16                   0       0        4   \n",
       "\n",
       "        MCT_N    TIME  \n",
       "793510     53  109397  \n",
       "639754     50  129285  \n",
       "160081     81   27187  \n",
       "620289     75  179947  \n",
       "329915     70  239776  "
      ]
     },
     "execution_count": 38,
     "metadata": {},
     "output_type": "execute_result"
    }
   ],
   "source": [
    "df.sort_values(by=['MCT_ADM_GDS_APB_CD', 'CLNN'], ascending=True).head()"
   ]
  },
  {
   "cell_type": "markdown",
   "metadata": {},
   "source": [
    "### GroupBy 객체를 sorting 하기"
   ]
  },
  {
   "cell_type": "code",
   "execution_count": 188,
   "metadata": {},
   "outputs": [
    {
     "data": {
      "text/plain": [
       "CLNN\n",
       "1429.0     2395.0\n",
       "1310.0     2265.0\n",
       "2288.0     2224.0\n",
       "1181.0     2215.0\n",
       "61.0       2199.0\n",
       "633.0      2197.0\n",
       "499.0      2178.0\n",
       "3008.0     2157.0\n",
       "2191.0     2124.0\n",
       "517.0      2110.0\n",
       "1875.0     2108.0\n",
       "629.0      2093.0\n",
       "4892.0     2085.0\n",
       "2089.0     2084.0\n",
       "1496.0     2078.0\n",
       "2147.0     2076.0\n",
       "1486.0     2071.0\n",
       "892.0      2065.0\n",
       "582.0      2058.0\n",
       "765.0      2053.0\n",
       "3992.0     2053.0\n",
       "740.0      2047.0\n",
       "809.0      2046.0\n",
       "288.0      2037.0\n",
       "1013.0     2037.0\n",
       "497.0      2006.0\n",
       "2109.0     2005.0\n",
       "15.0       2002.0\n",
       "1077.0     1996.0\n",
       "1373.0     1994.0\n",
       "            ...  \n",
       "27803.0       3.0\n",
       "25893.0       3.0\n",
       "33069.0       3.0\n",
       "26775.0       3.0\n",
       "28345.0       3.0\n",
       "25193.0       3.0\n",
       "27212.0       3.0\n",
       "38607.0       3.0\n",
       "29240.0       3.0\n",
       "31011.0       3.0\n",
       "24959.0       3.0\n",
       "27235.0       3.0\n",
       "31458.0       3.0\n",
       "40288.0       3.0\n",
       "44074.0       3.0\n",
       "33343.0       3.0\n",
       "26854.0       3.0\n",
       "25104.0       3.0\n",
       "23492.0       3.0\n",
       "25860.0       3.0\n",
       "34295.0       3.0\n",
       "34917.0       3.0\n",
       "31731.0       3.0\n",
       "33882.0       3.0\n",
       "29269.0       3.0\n",
       "29574.0       3.0\n",
       "40060.0       3.0\n",
       "33828.0       3.0\n",
       "24179.0       3.0\n",
       "24227.0       3.0\n",
       "Name: SAA, Length: 31226, dtype: float64"
      ]
     },
     "execution_count": 188,
     "metadata": {},
     "output_type": "execute_result"
    }
   ],
   "source": [
    "# 고객별\n",
    "grouped = df.groupby(['CLNN'], sort=False).sum() # 여기에서 sort=False 가 중요한 것 같음\n",
    "grouped.sort_values('SAA', ascending=False)['SAA']  "
   ]
  },
  {
   "cell_type": "code",
   "execution_count": 190,
   "metadata": {},
   "outputs": [
    {
     "data": {
      "text/plain": [
       "MCT_ADM_GDS_APB_CD\n",
       "4.0      217492.0\n",
       "6.0      215742.0\n",
       "8.0      214608.0\n",
       "13.0     214252.0\n",
       "3.0      214054.0\n",
       "5.0      213921.0\n",
       "11.0     213622.0\n",
       "7.0      213365.0\n",
       "9.0      213289.0\n",
       "15.0     212370.0\n",
       "2.0      212266.0\n",
       "1.0      212210.0\n",
       "12.0     212147.0\n",
       "18.0     211983.0\n",
       "17.0     211868.0\n",
       "16.0     211253.0\n",
       "10.0     210984.0\n",
       "14.0     209861.0\n",
       "19.0     208064.0\n",
       "22.0     207602.0\n",
       "20.0     207414.0\n",
       "21.0     205396.0\n",
       "25.0     204098.0\n",
       "24.0     204054.0\n",
       "23.0     202750.0\n",
       "28.0     200711.0\n",
       "27.0     199492.0\n",
       "32.0     198925.0\n",
       "26.0     197211.0\n",
       "29.0     196708.0\n",
       "           ...   \n",
       "296.0        58.0\n",
       "287.0        54.0\n",
       "291.0        51.0\n",
       "292.0        51.0\n",
       "301.0        46.0\n",
       "345.0        40.0\n",
       "290.0        38.0\n",
       "288.0        38.0\n",
       "298.0        36.0\n",
       "304.0        35.0\n",
       "330.0        35.0\n",
       "289.0        32.0\n",
       "283.0        32.0\n",
       "271.0        31.0\n",
       "286.0        29.0\n",
       "307.0        28.0\n",
       "355.0        27.0\n",
       "294.0        27.0\n",
       "293.0        26.0\n",
       "354.0        26.0\n",
       "295.0        23.0\n",
       "310.0        18.0\n",
       "299.0        17.0\n",
       "313.0        14.0\n",
       "300.0         7.0\n",
       "282.0         7.0\n",
       "297.0         7.0\n",
       "334.0         6.0\n",
       "316.0         5.0\n",
       "276.0         4.0\n",
       "Name: SAA, Length: 312, dtype: float64"
      ]
     },
     "execution_count": 190,
     "metadata": {},
     "output_type": "execute_result"
    }
   ],
   "source": [
    "# 행정동별\n",
    "grouped = df.groupby(['MCT_ADM_GDS_APB_CD'], sort=False).sum()  \n",
    "grouped.sort_values('SAA', ascending=False)['SAA']  "
   ]
  },
  {
   "cell_type": "code",
   "execution_count": 72,
   "metadata": {},
   "outputs": [
    {
     "data": {
      "text/plain": [
       "CLNN   MCT_ADM_GDS_APB_CD\n",
       "735    12                    272\n",
       "1954   7                     246\n",
       "3021   7                     244\n",
       "4157   3                     243\n",
       "440    10                    239\n",
       "5117   5                     237\n",
       "4194   8                     234\n",
       "1314   25                    233\n",
       "3584   4                     228\n",
       "166    7                     228\n",
       "4758   2                     226\n",
       "8946   12                    225\n",
       "462    4                     222\n",
       "6644   9                     220\n",
       "1712   16                    220\n",
       "1686   9                     219\n",
       "3777   3                     218\n",
       "6035   4                     215\n",
       "952    11                    215\n",
       "2839   7                     214\n",
       "1136   4                     214\n",
       "1838   12                    213\n",
       "5392   16                    212\n",
       "436    23                    211\n",
       "1375   16                    211\n",
       "1761   19                    211\n",
       "3059   20                    209\n",
       "2709   9                     207\n",
       "11723  2                     206\n",
       "6082   14                    206\n",
       "                            ... \n",
       "10676  0                       3\n",
       "4757   16                      3\n",
       "22427  37                      3\n",
       "14540  65                      3\n",
       "4621   13                      3\n",
       "3788   60                      3\n",
       "5769   19                      3\n",
       "8359   25                      3\n",
       "9951   29                      3\n",
       "11662  54                      3\n",
       "4954   43                      3\n",
       "14509  16                      3\n",
       "18456  27                      3\n",
       "3804   71                      3\n",
       "9553   18                      3\n",
       "14999  28                      3\n",
       "8828   4                       3\n",
       "6590   19                      3\n",
       "4285   30                      3\n",
       "7114   39                      3\n",
       "9372   65                      3\n",
       "23087  37                      3\n",
       "15144  34                      3\n",
       "24896  16                      3\n",
       "21770  13                      3\n",
       "6016   44                      3\n",
       "1278   19                      3\n",
       "4220   74                      3\n",
       "15154  23                      3\n",
       "4310   81                      3\n",
       "Name: SAA, Length: 647863, dtype: int64"
      ]
     },
     "execution_count": 72,
     "metadata": {},
     "output_type": "execute_result"
    }
   ],
   "source": [
    "grouped = df.groupby(['CLNN', 'MCT_ADM_GDS_APB_CD'], sort=False).sum() # 여기에서 sort=False 가 중요 \n",
    "grouped.sort_values('SAA', ascending=False)['SAA'] # multiple 기준으로 sorting은 안되는듯 "
   ]
  },
  {
   "cell_type": "code",
   "execution_count": null,
   "metadata": {},
   "outputs": [],
   "source": []
  },
  {
   "cell_type": "code",
   "execution_count": null,
   "metadata": {},
   "outputs": [],
   "source": []
  },
  {
   "cell_type": "code",
   "execution_count": null,
   "metadata": {},
   "outputs": [],
   "source": [
    "grouped.sort_values('CLNN', ascending=True) # NOT WORKING !! 처음 group by 한 원래 기준으로 sorting도 안되는듯"
   ]
  },
  {
   "cell_type": "code",
   "execution_count": null,
   "metadata": {},
   "outputs": [],
   "source": [
    "gb2.apply(lambda _df: _df.sort_values(by=['SAA']))"
   ]
  },
  {
   "cell_type": "markdown",
   "metadata": {},
   "source": [
    "### 조건에 맞는 일부 원소만 추출하기"
   ]
  },
  {
   "cell_type": "code",
   "execution_count": null,
   "metadata": {},
   "outputs": [],
   "source": [
    "cusID = 'Pxxxxxx'\n",
    "df = df[df.CLNN = cusID]"
   ]
  },
  {
   "cell_type": "code",
   "execution_count": null,
   "metadata": {},
   "outputs": [],
   "source": []
  },
  {
   "cell_type": "markdown",
   "metadata": {},
   "source": [
    "### Cross-sectional / Aggregate 분석"
   ]
  },
  {
   "cell_type": "markdown",
   "metadata": {},
   "source": [
    "#### 히스토그램 "
   ]
  },
  {
   "cell_type": "code",
   "execution_count": 42,
   "metadata": {},
   "outputs": [
    {
     "data": {
      "text/plain": [
       "<matplotlib.axes._subplots.AxesSubplot at 0x16dd8c0b8>"
      ]
     },
     "execution_count": 42,
     "metadata": {},
     "output_type": "execute_result"
    },
    {
     "data": {
      "image/png": "[encoded data removed]",
      "text/plain": [
       "<Figure size 432x288 with 1 Axes>"
      ]
     },
     "metadata": {},
     "output_type": "display_data"
    }
   ],
   "source": [
    "df['SAA'].hist(bins=20)"
   ]
  },
  {
   "cell_type": "code",
   "execution_count": 15,
   "metadata": {},
   "outputs": [
    {
     "data": {
      "text/plain": [
       "627.0      113\n",
       "493.0      110\n",
       "674.0      107\n",
       "1769.0     107\n",
       "204.0      106\n",
       "608.0      106\n",
       "2049.0     106\n",
       "1996.0     105\n",
       "1495.0     105\n",
       "654.0      105\n",
       "3647.0     104\n",
       "3294.0     104\n",
       "2213.0     104\n",
       "1573.0     104\n",
       "1434.0     104\n",
       "863.0      104\n",
       "1229.0     103\n",
       "1723.0     103\n",
       "345.0      103\n",
       "11.0       103\n",
       "2415.0     102\n",
       "2003.0     102\n",
       "559.0      102\n",
       "669.0      102\n",
       "2217.0     102\n",
       "93.0       102\n",
       "409.0      102\n",
       "1889.0     102\n",
       "804.0      101\n",
       "1397.0     101\n",
       "          ... \n",
       "26396.0      1\n",
       "30593.0      1\n",
       "30060.0      1\n",
       "26392.0      1\n",
       "30561.0      1\n",
       "29980.0      1\n",
       "26608.0      1\n",
       "29976.0      1\n",
       "37116.0      1\n",
       "30590.0      1\n",
       "30024.0      1\n",
       "30633.0      1\n",
       "30618.0      1\n",
       "31284.0      1\n",
       "30630.0      1\n",
       "31244.0      1\n",
       "31232.0      1\n",
       "30036.0      1\n",
       "31236.0      1\n",
       "30619.0      1\n",
       "26528.0      1\n",
       "30597.0      1\n",
       "30044.0      1\n",
       "30614.0      1\n",
       "30613.0      1\n",
       "30609.0      1\n",
       "30020.0      1\n",
       "30605.0      1\n",
       "30601.0      1\n",
       "32767.0      1\n",
       "Name: CLNN, Length: 31284, dtype: int64"
      ]
     },
     "execution_count": 15,
     "metadata": {},
     "output_type": "execute_result"
    }
   ],
   "source": [
    "df['CLNN'].value_counts() "
   ]
  },
  {
   "cell_type": "markdown",
   "metadata": {},
   "source": [
    "value_counts 함수를 이용해 자동으로 그루핑되어 sum up된 결과물을 볼 수 있다."
   ]
  },
  {
   "cell_type": "code",
   "execution_count": null,
   "metadata": {},
   "outputs": [],
   "source": [
    "분포"
   ]
  },
  {
   "cell_type": "markdown",
   "metadata": {},
   "source": [
    "### 시계열 분석 "
   ]
  },
  {
   "cell_type": "markdown",
   "metadata": {},
   "source": [
    "1. 7월 1일부터 9월 30일까지의 총 매출 건수 추이 -- 원래 YoY, MoM 들어가야 하지만...\n",
    "2. 7월 1일부터 9월 30일까지의 총 매출 금액 추이\n",
    "3. 7월 1일부터 9월 30일까지의 매출 건수/인 추이\n",
    "4. 7월 1일부터 9월 30일까지의 매출 금액/인 추이\n",
    "5. 7월 1일부터 9월 30일까지의 행정동 개수/인 추이 -- mobility 의 지표, 향후 거리 개념이 도입되면 평균 이동거리를 알 수 있음 \n",
    "6. ...."
   ]
  },
  {
   "cell_type": "markdown",
   "metadata": {},
   "source": [
    "### 공간 시계열 분석"
   ]
  },
  {
   "cell_type": "markdown",
   "metadata": {},
   "source": [
    " (매출 상위 100개 행정동)"
   ]
  },
  {
   "cell_type": "markdown",
   "metadata": {},
   "source": [
    "log('SAA')\n",
    "\n",
    "20-\n",
    "15-\n",
    "10-\n",
    "05-\n",
    "00- ----------------------------\n",
    "    z0 z1 z3 z4 ....................\n",
    "    \n",
    "zone 별 매출 share가 이미 다르다 --> 상권의 비동질성\n",
    "집중도.......\n",
    "주식시장, 자산시장, "
   ]
  },
  {
   "cell_type": "markdown",
   "metadata": {},
   "source": [
    "시간대별 매출 분포 -- 이건 지역별로 너무 다를 듯\n",
    "\n",
    "log('SAA')\n",
    "\n",
    "20-\n",
    "15-\n",
    "10-\n",
    "05-\n",
    "00- ---------------------\n",
    "    00 04 08 12 16 20 24 "
   ]
  },
  {
   "cell_type": "markdown",
   "metadata": {},
   "source": [
    "https://financedata.github.io/posts/python_starbucks_map.html\n",
    "지리정보"
   ]
  },
  {
   "cell_type": "code",
   "execution_count": null,
   "metadata": {},
   "outputs": [],
   "source": [
    "인별 점찍기...."
   ]
  },
  {
   "cell_type": "markdown",
   "metadata": {},
   "source": [
    "시간\n",
    "24-\n",
    "20-\n",
    "16-\n",
    "12-\n",
    "08-\n",
    "04-\n",
    "00- ----------------------------\n",
    "    z0 z1 z3 z4 ...................."
   ]
  },
  {
   "cell_type": "code",
   "execution_count": null,
   "metadata": {},
   "outputs": [],
   "source": [
    "인별 feature -- 거래건의 최신성이나 금액에 있어 가중치는 0\n",
    "\n",
    "시간: round('TIME'/240000) -- 아침러 vs 저녁러 -- 소비시간 score ..... 0시는 삭제하거나 하루의 시작을 +6 으로 하거나\n",
    "요일: \n",
    "장소: 평균 19개 --> len(['FINAL_CD'])/19 \n",
    "업종\n",
    "\n",
    "시간 집중도\n",
    "장소 집중도\n",
    "업종 집중도"
   ]
  },
  {
   "cell_type": "code",
   "execution_count": null,
   "metadata": {},
   "outputs": [],
   "source": []
  },
  {
   "cell_type": "markdown",
   "metadata": {},
   "source": [
    "### 문자열을 숫자로 type 바꾸기"
   ]
  },
  {
   "cell_type": "code",
   "execution_count": null,
   "metadata": {},
   "outputs": [],
   "source": []
  },
  {
   "cell_type": "markdown",
   "metadata": {},
   "source": [
    "http://m.dbguide.net/about.db?cmd=view&boardConfigUid=19&boardUid=188976"
   ]
  },
  {
   "cell_type": "code",
   "execution_count": null,
   "metadata": {},
   "outputs": [],
   "source": [
    "levels = []\n",
    "for level in deck:\n",
    "    levels.append(level[0])"
   ]
  },
  {
   "cell_type": "markdown",
   "metadata": {},
   "source": [
    "첫 번째 글자만 가져와서 새로운 객체에 담아보자. \n",
    "새로운 리스트 객체 levels에 앞 글자 하나만 가져와서 담은 후에 이를 아래와 같이 DataFrame으로 만들어보자."
   ]
  },
  {
   "cell_type": "code",
   "execution_count": null,
   "metadata": {},
   "outputs": [],
   "source": [
    "cabin_df = DataFrame(levels)\n",
    "cabin_df.columns = ['Cabin']\n",
    "cabin_df.head()"
   ]
  },
  {
   "cell_type": "markdown",
   "metadata": {},
   "source": [
    "T라는 Deck는 없는데 그래프에는 T라는 데이터가 있다는 것이다. T라는 Deck만 빼고 다시 가져와야 한다."
   ]
  },
  {
   "cell_type": "code",
   "execution_count": null,
   "metadata": {},
   "outputs": [],
   "source": []
  },
  {
   "cell_type": "code",
   "execution_count": null,
   "metadata": {},
   "outputs": [],
   "source": [
    "cabin_df = cabin_df[cabin_df.Cabin != 'T']\n",
    "sns.factorplot('Cabin', kind='count', data=cabin_df, palette='summer')"
   ]
  },
  {
   "cell_type": "markdown",
   "metadata": {},
   "source": [
    "DataFrame인 titanic_df의 각 컬럼에 접근하는 것의 기준은 점(.)이다. \n",
    "Survived 컬럼에서 map이라는 함수를 이용해 특정 정보일 경우, 특정 값으로 매핑을 해준 것이다. "
   ]
  },
  {
   "cell_type": "code",
   "execution_count": null,
   "metadata": {},
   "outputs": [],
   "source": [
    "titanic_df[\"Survivor\"] = titanic_df.Survived.map({0: \"no\", 1: \"yes\"})"
   ]
  },
  {
   "cell_type": "markdown",
   "metadata": {},
   "source": [
    "DataFrame인 titanic_df의 각 컬럼에 접근하는 것의 기준은 점(.)이다. \n",
    "xSurvived 컬럼에서 map이라는 함수를 이용해 특정 정보일 경우, 특정 값으로 매핑을 해준 것이다. "
   ]
  },
  {
   "cell_type": "markdown",
   "metadata": {},
   "source": [
    "DataFrame인 titanic_df의 각 컬럼에 접근하는 것의 기준은 점(.)이다. \n",
    "Survived 컬럼에서 map이라는 함수를 이용해 특정 정보일 경우, 특정 값으로 매핑을 해준 것이다. "
   ]
  },
  {
   "cell_type": "markdown",
   "metadata": {},
   "source": [
    "### 시간정보를 파싱하기"
   ]
  },
  {
   "cell_type": "markdown",
   "metadata": {},
   "source": [
    "문자열로부터 날짜와 시간 정보를 읽어서 datetime.datetime 클래스 객체를 만들 수도 있다. 이 때는 datetime.datetime.strptime() 클래스 메서드를 사용한다. 첫 번째 인수로는 날짜와 시간 정보를 가진 문자열을, 두번째 인수로는 그 문자열을 해독할 수 있는 형식 문자열을 넣는다."
   ]
  },
  {
   "cell_type": "code",
   "execution_count": 164,
   "metadata": {},
   "outputs": [
    {
     "data": {
      "text/plain": [
       "datetime.datetime(2017, 1, 2, 14, 44)"
      ]
     },
     "execution_count": 164,
     "metadata": {},
     "output_type": "execute_result"
    }
   ],
   "source": [
    "datetime.datetime.strptime(\"2017-01-02 14:44\", \"%Y-%m-%d %H:%M\")"
   ]
  },
  {
   "cell_type": "code",
   "execution_count": 166,
   "metadata": {},
   "outputs": [
    {
     "data": {
      "text/plain": [
       "datetime.datetime(1900, 1, 1, 14, 44, 1)"
      ]
     },
     "execution_count": 166,
     "metadata": {},
     "output_type": "execute_result"
    }
   ],
   "source": [
    "datetime.datetime.strptime(\"144401\", \"%H%M%S\")"
   ]
  },
  {
   "cell_type": "markdown",
   "metadata": {},
   "source": [
    "*이슈사항 1: Resolve type problem*"
   ]
  },
  {
   "cell_type": "code",
   "execution_count": 43,
   "metadata": {},
   "outputs": [],
   "source": [
    "# float을 integer로 바꾸기 !!!! \n",
    "df['TS_D'] = df.TS_D.astype(int) "
   ]
  },
  {
   "cell_type": "code",
   "execution_count": 33,
   "metadata": {},
   "outputs": [],
   "source": [
    "# integer를 datetime으로 바꾸기\n",
    "# Working\n",
    "df['TS_D'] = pd.to_datetime(df['TS_D'], format='%y%m%d') # %Y는 4글자 연도 "
   ]
  },
  {
   "cell_type": "code",
   "execution_count": 34,
   "metadata": {},
   "outputs": [
    {
     "name": "stdout",
     "output_type": "stream",
     "text": [
      "<class 'pandas.core.frame.DataFrame'>\n",
      "RangeIndex: 1000000 entries, 0 to 999999\n",
      "Data columns (total 9 columns):\n",
      "CLNN                  1000000 non-null float64\n",
      "TS_D                  1000000 non-null datetime64[ns]\n",
      "FINAL_CD              1000000 non-null float64\n",
      "SAA                   1000000 non-null float64\n",
      "MCT_ADM_GDS_APB_CD    1000000 non-null float64\n",
      "DOF_TF                1000000 non-null float64\n",
      "DAW_CCD               1000000 non-null float64\n",
      "MCT_N                 1000000 non-null float64\n",
      "TIME                  1000000 non-null float64\n",
      "dtypes: datetime64[ns](1), float64(8)\n",
      "memory usage: 68.7 MB\n"
     ]
    }
   ],
   "source": [
    "df.info()"
   ]
  },
  {
   "cell_type": "code",
   "execution_count": 41,
   "metadata": {},
   "outputs": [],
   "source": [
    "# NOT Working \n",
    "datetime.datetime.strptime(df['TIME'], \"%H%M%S\")\n",
    "# gets Warning Message: triptime() arguement 1 must be str, not Series*."
   ]
  },
  {
   "cell_type": "code",
   "execution_count": 42,
   "metadata": {},
   "outputs": [],
   "source": [
    "# NOT Working\n",
    "df['DATE'] = df['TS_D'].apply(lambda x: datetime.datetime.strptime(x, '%Y%m%d'))"
   ]
  },
  {
   "cell_type": "code",
   "execution_count": 35,
   "metadata": {},
   "outputs": [
    {
     "name": "stdout",
     "output_type": "stream",
     "text": [
      "<class 'pandas.core.frame.DataFrame'>\n",
      "RangeIndex: 1000000 entries, 0 to 999999\n",
      "Data columns (total 9 columns):\n",
      "CLNN                  1000000 non-null float64\n",
      "TS_D                  1000000 non-null datetime64[ns]\n",
      "FINAL_CD              1000000 non-null float64\n",
      "SAA                   1000000 non-null float64\n",
      "MCT_ADM_GDS_APB_CD    1000000 non-null float64\n",
      "DOF_TF                1000000 non-null float64\n",
      "DAW_CCD               1000000 non-null float64\n",
      "MCT_N                 1000000 non-null float64\n",
      "TIME                  1000000 non-null float64\n",
      "dtypes: datetime64[ns](1), float64(8)\n",
      "memory usage: 68.7 MB\n"
     ]
    }
   ],
   "source": [
    "df.info()"
   ]
  },
  {
   "cell_type": "code",
   "execution_count": 25,
   "metadata": {},
   "outputs": [],
   "source": [
    "# 이슈사항 2: ==> resolved"
   ]
  },
  {
   "cell_type": "code",
   "execution_count": 26,
   "metadata": {},
   "outputs": [],
   "source": [
    "# 이슈사항 3: is null을 물었을 때 True의 개수 확인* ==> resolved"
   ]
  },
  {
   "cell_type": "code",
   "execution_count": 6,
   "metadata": {},
   "outputs": [],
   "source": [
    "# 숫자로 바꿀 수 없는 문자열이 있는지 확인 => resolved"
   ]
  },
  {
   "cell_type": "code",
   "execution_count": 27,
   "metadata": {},
   "outputs": [],
   "source": [
    "# 이슈사항4: df를 합칠 때 컬럼이 다른 경우 => resolved*"
   ]
  },
  {
   "cell_type": "markdown",
   "metadata": {},
   "source": [
    "*이슈사항5: 시간을 불러와서 시간별로 합치거나, 시간의 계산을 하려고 한다*"
   ]
  },
  {
   "cell_type": "markdown",
   "metadata": {},
   "source": [
    "http://enjoyiot.tistory.com/category/Python/04_Pandas%EB%A5%BC%20%ED%86%B5%ED%95%9C%20%EC%8B%9C%EA%B3%84%EC%97%B4%20%EB%8D%B0%EC%9D%B4%ED%84%B0%20%28Time%20Series%29%20%EC%B2%98%EB%A6%AC"
   ]
  },
  {
   "cell_type": "code",
   "execution_count": 27,
   "metadata": {},
   "outputs": [],
   "source": [
    "# 그 전에 인덱스를 날짜로 바꾸어 주어야 함 # 방법 (1)\n",
    "df_t = pd.read_csv('df.csv', index_col='TS_D', parse_dates=True)"
   ]
  },
  {
   "cell_type": "code",
   "execution_count": 11,
   "metadata": {},
   "outputs": [
    {
     "data": {
      "text/html": [
       "<div>\n",
       "<style scoped>\n",
       "    .dataframe tbody tr th:only-of-type {\n",
       "        vertical-align: middle;\n",
       "    }\n",
       "\n",
       "    .dataframe tbody tr th {\n",
       "        vertical-align: top;\n",
       "    }\n",
       "\n",
       "    .dataframe thead th {\n",
       "        text-align: right;\n",
       "    }\n",
       "</style>\n",
       "<table border=\"1\" class=\"dataframe\">\n",
       "  <thead>\n",
       "    <tr style=\"text-align: right;\">\n",
       "      <th></th>\n",
       "      <th>Unnamed: 0</th>\n",
       "      <th>CLNN</th>\n",
       "      <th>FINAL_CD</th>\n",
       "      <th>SAA</th>\n",
       "      <th>MCT_ADM_GDS_APB_CD</th>\n",
       "      <th>DOF_TF</th>\n",
       "      <th>DAW_CCD</th>\n",
       "      <th>MCT_N</th>\n",
       "      <th>TIME</th>\n",
       "    </tr>\n",
       "    <tr>\n",
       "      <th>TS_D</th>\n",
       "      <th></th>\n",
       "      <th></th>\n",
       "      <th></th>\n",
       "      <th></th>\n",
       "      <th></th>\n",
       "      <th></th>\n",
       "      <th></th>\n",
       "      <th></th>\n",
       "      <th></th>\n",
       "    </tr>\n",
       "  </thead>\n",
       "  <tbody>\n",
       "    <tr>\n",
       "      <th>2018-07-19</th>\n",
       "      <td>0</td>\n",
       "      <td>14437</td>\n",
       "      <td>25</td>\n",
       "      <td>11</td>\n",
       "      <td>26</td>\n",
       "      <td>0</td>\n",
       "      <td>5</td>\n",
       "      <td>36</td>\n",
       "      <td>199982</td>\n",
       "    </tr>\n",
       "    <tr>\n",
       "      <th>2018-07-09</th>\n",
       "      <td>1</td>\n",
       "      <td>2414</td>\n",
       "      <td>10</td>\n",
       "      <td>7</td>\n",
       "      <td>35</td>\n",
       "      <td>0</td>\n",
       "      <td>0</td>\n",
       "      <td>88</td>\n",
       "      <td>57272</td>\n",
       "    </tr>\n",
       "    <tr>\n",
       "      <th>2018-07-28</th>\n",
       "      <td>2</td>\n",
       "      <td>2136</td>\n",
       "      <td>82</td>\n",
       "      <td>9</td>\n",
       "      <td>2</td>\n",
       "      <td>0</td>\n",
       "      <td>2</td>\n",
       "      <td>83</td>\n",
       "      <td>135636</td>\n",
       "    </tr>\n",
       "    <tr>\n",
       "      <th>2018-07-13</th>\n",
       "      <td>3</td>\n",
       "      <td>15588</td>\n",
       "      <td>72</td>\n",
       "      <td>16</td>\n",
       "      <td>21</td>\n",
       "      <td>1</td>\n",
       "      <td>1</td>\n",
       "      <td>60</td>\n",
       "      <td>156460</td>\n",
       "    </tr>\n",
       "    <tr>\n",
       "      <th>2018-07-28</th>\n",
       "      <td>4</td>\n",
       "      <td>6377</td>\n",
       "      <td>37</td>\n",
       "      <td>14</td>\n",
       "      <td>31</td>\n",
       "      <td>0</td>\n",
       "      <td>2</td>\n",
       "      <td>58</td>\n",
       "      <td>2430</td>\n",
       "    </tr>\n",
       "  </tbody>\n",
       "</table>\n",
       "</div>"
      ],
      "text/plain": [
       "            Unnamed: 0   CLNN  FINAL_CD  SAA  MCT_ADM_GDS_APB_CD  DOF_TF  \\\n",
       "TS_D                                                                       \n",
       "2018-07-19           0  14437        25   11                  26       0   \n",
       "2018-07-09           1   2414        10    7                  35       0   \n",
       "2018-07-28           2   2136        82    9                   2       0   \n",
       "2018-07-13           3  15588        72   16                  21       1   \n",
       "2018-07-28           4   6377        37   14                  31       0   \n",
       "\n",
       "            DAW_CCD  MCT_N    TIME  \n",
       "TS_D                                \n",
       "2018-07-19        5     36  199982  \n",
       "2018-07-09        0     88   57272  \n",
       "2018-07-28        2     83  135636  \n",
       "2018-07-13        1     60  156460  \n",
       "2018-07-28        2     58    2430  "
      ]
     },
     "execution_count": 11,
     "metadata": {},
     "output_type": "execute_result"
    }
   ],
   "source": [
    "df_t.head()"
   ]
  },
  {
   "cell_type": "code",
   "execution_count": 36,
   "metadata": {},
   "outputs": [
    {
     "data": {
      "text/html": [
       "<div>\n",
       "<style scoped>\n",
       "    .dataframe tbody tr th:only-of-type {\n",
       "        vertical-align: middle;\n",
       "    }\n",
       "\n",
       "    .dataframe tbody tr th {\n",
       "        vertical-align: top;\n",
       "    }\n",
       "\n",
       "    .dataframe thead th {\n",
       "        text-align: right;\n",
       "    }\n",
       "</style>\n",
       "<table border=\"1\" class=\"dataframe\">\n",
       "  <thead>\n",
       "    <tr style=\"text-align: right;\">\n",
       "      <th></th>\n",
       "      <th>CLNN</th>\n",
       "      <th>FINAL_CD</th>\n",
       "      <th>SAA</th>\n",
       "      <th>MCT_ADM_GDS_APB_CD</th>\n",
       "      <th>DOF_TF</th>\n",
       "      <th>DAW_CCD</th>\n",
       "      <th>MCT_N</th>\n",
       "      <th>TIME</th>\n",
       "    </tr>\n",
       "    <tr>\n",
       "      <th>TS_D</th>\n",
       "      <th></th>\n",
       "      <th></th>\n",
       "      <th></th>\n",
       "      <th></th>\n",
       "      <th></th>\n",
       "      <th></th>\n",
       "      <th></th>\n",
       "      <th></th>\n",
       "    </tr>\n",
       "  </thead>\n",
       "  <tbody>\n",
       "    <tr>\n",
       "      <th>2018-07-04</th>\n",
       "      <td>2371.0</td>\n",
       "      <td>10.0</td>\n",
       "      <td>13.0</td>\n",
       "      <td>37.0</td>\n",
       "      <td>1.0</td>\n",
       "      <td>0.0</td>\n",
       "      <td>2.0</td>\n",
       "      <td>197937.0</td>\n",
       "    </tr>\n",
       "    <tr>\n",
       "      <th>2018-07-14</th>\n",
       "      <td>7983.0</td>\n",
       "      <td>39.0</td>\n",
       "      <td>16.0</td>\n",
       "      <td>50.0</td>\n",
       "      <td>0.0</td>\n",
       "      <td>3.0</td>\n",
       "      <td>85.0</td>\n",
       "      <td>48545.0</td>\n",
       "    </tr>\n",
       "    <tr>\n",
       "      <th>2018-07-12</th>\n",
       "      <td>12109.0</td>\n",
       "      <td>38.0</td>\n",
       "      <td>35.0</td>\n",
       "      <td>75.0</td>\n",
       "      <td>1.0</td>\n",
       "      <td>0.0</td>\n",
       "      <td>72.0</td>\n",
       "      <td>157611.0</td>\n",
       "    </tr>\n",
       "    <tr>\n",
       "      <th>2018-07-15</th>\n",
       "      <td>2615.0</td>\n",
       "      <td>19.0</td>\n",
       "      <td>4.0</td>\n",
       "      <td>0.0</td>\n",
       "      <td>0.0</td>\n",
       "      <td>3.0</td>\n",
       "      <td>23.0</td>\n",
       "      <td>21276.0</td>\n",
       "    </tr>\n",
       "    <tr>\n",
       "      <th>2018-07-01</th>\n",
       "      <td>7652.0</td>\n",
       "      <td>24.0</td>\n",
       "      <td>27.0</td>\n",
       "      <td>27.0</td>\n",
       "      <td>1.0</td>\n",
       "      <td>4.0</td>\n",
       "      <td>36.0</td>\n",
       "      <td>41395.0</td>\n",
       "    </tr>\n",
       "    <tr>\n",
       "      <th>2018-07-16</th>\n",
       "      <td>5637.0</td>\n",
       "      <td>49.0</td>\n",
       "      <td>8.0</td>\n",
       "      <td>68.0</td>\n",
       "      <td>0.0</td>\n",
       "      <td>0.0</td>\n",
       "      <td>56.0</td>\n",
       "      <td>154741.0</td>\n",
       "    </tr>\n",
       "    <tr>\n",
       "      <th>2018-07-18</th>\n",
       "      <td>10277.0</td>\n",
       "      <td>76.0</td>\n",
       "      <td>37.0</td>\n",
       "      <td>7.0</td>\n",
       "      <td>0.0</td>\n",
       "      <td>4.0</td>\n",
       "      <td>25.0</td>\n",
       "      <td>157305.0</td>\n",
       "    </tr>\n",
       "    <tr>\n",
       "      <th>2018-07-09</th>\n",
       "      <td>6473.0</td>\n",
       "      <td>18.0</td>\n",
       "      <td>30.0</td>\n",
       "      <td>1.0</td>\n",
       "      <td>0.0</td>\n",
       "      <td>1.0</td>\n",
       "      <td>52.0</td>\n",
       "      <td>42999.0</td>\n",
       "    </tr>\n",
       "    <tr>\n",
       "      <th>2018-07-22</th>\n",
       "      <td>9432.0</td>\n",
       "      <td>59.0</td>\n",
       "      <td>25.0</td>\n",
       "      <td>43.0</td>\n",
       "      <td>1.0</td>\n",
       "      <td>5.0</td>\n",
       "      <td>30.0</td>\n",
       "      <td>207550.0</td>\n",
       "    </tr>\n",
       "    <tr>\n",
       "      <th>2018-07-29</th>\n",
       "      <td>13634.0</td>\n",
       "      <td>53.0</td>\n",
       "      <td>12.0</td>\n",
       "      <td>55.0</td>\n",
       "      <td>0.0</td>\n",
       "      <td>2.0</td>\n",
       "      <td>34.0</td>\n",
       "      <td>141265.0</td>\n",
       "    </tr>\n",
       "    <tr>\n",
       "      <th>2018-07-21</th>\n",
       "      <td>355.0</td>\n",
       "      <td>50.0</td>\n",
       "      <td>26.0</td>\n",
       "      <td>5.0</td>\n",
       "      <td>1.0</td>\n",
       "      <td>4.0</td>\n",
       "      <td>72.0</td>\n",
       "      <td>215438.0</td>\n",
       "    </tr>\n",
       "    <tr>\n",
       "      <th>2018-07-06</th>\n",
       "      <td>137.0</td>\n",
       "      <td>30.0</td>\n",
       "      <td>6.0</td>\n",
       "      <td>0.0</td>\n",
       "      <td>1.0</td>\n",
       "      <td>3.0</td>\n",
       "      <td>50.0</td>\n",
       "      <td>134109.0</td>\n",
       "    </tr>\n",
       "    <tr>\n",
       "      <th>2018-07-17</th>\n",
       "      <td>3051.0</td>\n",
       "      <td>47.0</td>\n",
       "      <td>13.0</td>\n",
       "      <td>12.0</td>\n",
       "      <td>0.0</td>\n",
       "      <td>1.0</td>\n",
       "      <td>2.0</td>\n",
       "      <td>77846.0</td>\n",
       "    </tr>\n",
       "    <tr>\n",
       "      <th>2018-07-03</th>\n",
       "      <td>167.0</td>\n",
       "      <td>22.0</td>\n",
       "      <td>13.0</td>\n",
       "      <td>17.0</td>\n",
       "      <td>0.0</td>\n",
       "      <td>1.0</td>\n",
       "      <td>23.0</td>\n",
       "      <td>59863.0</td>\n",
       "    </tr>\n",
       "    <tr>\n",
       "      <th>2018-07-28</th>\n",
       "      <td>14814.0</td>\n",
       "      <td>28.0</td>\n",
       "      <td>7.0</td>\n",
       "      <td>46.0</td>\n",
       "      <td>0.0</td>\n",
       "      <td>0.0</td>\n",
       "      <td>92.0</td>\n",
       "      <td>206966.0</td>\n",
       "    </tr>\n",
       "    <tr>\n",
       "      <th>2018-07-15</th>\n",
       "      <td>21036.0</td>\n",
       "      <td>93.0</td>\n",
       "      <td>4.0</td>\n",
       "      <td>40.0</td>\n",
       "      <td>0.0</td>\n",
       "      <td>2.0</td>\n",
       "      <td>18.0</td>\n",
       "      <td>76853.0</td>\n",
       "    </tr>\n",
       "    <tr>\n",
       "      <th>2018-07-18</th>\n",
       "      <td>7640.0</td>\n",
       "      <td>91.0</td>\n",
       "      <td>3.0</td>\n",
       "      <td>6.0</td>\n",
       "      <td>1.0</td>\n",
       "      <td>4.0</td>\n",
       "      <td>71.0</td>\n",
       "      <td>40399.0</td>\n",
       "    </tr>\n",
       "    <tr>\n",
       "      <th>2018-07-24</th>\n",
       "      <td>4130.0</td>\n",
       "      <td>80.0</td>\n",
       "      <td>36.0</td>\n",
       "      <td>43.0</td>\n",
       "      <td>1.0</td>\n",
       "      <td>4.0</td>\n",
       "      <td>84.0</td>\n",
       "      <td>178517.0</td>\n",
       "    </tr>\n",
       "    <tr>\n",
       "      <th>2018-07-08</th>\n",
       "      <td>9853.0</td>\n",
       "      <td>55.0</td>\n",
       "      <td>33.0</td>\n",
       "      <td>24.0</td>\n",
       "      <td>0.0</td>\n",
       "      <td>2.0</td>\n",
       "      <td>6.0</td>\n",
       "      <td>98998.0</td>\n",
       "    </tr>\n",
       "    <tr>\n",
       "      <th>2018-07-07</th>\n",
       "      <td>14508.0</td>\n",
       "      <td>88.0</td>\n",
       "      <td>19.0</td>\n",
       "      <td>22.0</td>\n",
       "      <td>0.0</td>\n",
       "      <td>2.0</td>\n",
       "      <td>96.0</td>\n",
       "      <td>219373.0</td>\n",
       "    </tr>\n",
       "    <tr>\n",
       "      <th>2018-07-15</th>\n",
       "      <td>2402.0</td>\n",
       "      <td>25.0</td>\n",
       "      <td>22.0</td>\n",
       "      <td>33.0</td>\n",
       "      <td>0.0</td>\n",
       "      <td>2.0</td>\n",
       "      <td>18.0</td>\n",
       "      <td>67393.0</td>\n",
       "    </tr>\n",
       "    <tr>\n",
       "      <th>2018-07-04</th>\n",
       "      <td>13496.0</td>\n",
       "      <td>99.0</td>\n",
       "      <td>6.0</td>\n",
       "      <td>12.0</td>\n",
       "      <td>0.0</td>\n",
       "      <td>3.0</td>\n",
       "      <td>76.0</td>\n",
       "      <td>50067.0</td>\n",
       "    </tr>\n",
       "    <tr>\n",
       "      <th>2018-07-18</th>\n",
       "      <td>9422.0</td>\n",
       "      <td>20.0</td>\n",
       "      <td>9.0</td>\n",
       "      <td>27.0</td>\n",
       "      <td>0.0</td>\n",
       "      <td>2.0</td>\n",
       "      <td>34.0</td>\n",
       "      <td>30158.0</td>\n",
       "    </tr>\n",
       "    <tr>\n",
       "      <th>2018-07-21</th>\n",
       "      <td>21127.0</td>\n",
       "      <td>21.0</td>\n",
       "      <td>30.0</td>\n",
       "      <td>1.0</td>\n",
       "      <td>1.0</td>\n",
       "      <td>0.0</td>\n",
       "      <td>63.0</td>\n",
       "      <td>113038.0</td>\n",
       "    </tr>\n",
       "    <tr>\n",
       "      <th>2018-07-28</th>\n",
       "      <td>3672.0</td>\n",
       "      <td>32.0</td>\n",
       "      <td>4.0</td>\n",
       "      <td>53.0</td>\n",
       "      <td>1.0</td>\n",
       "      <td>0.0</td>\n",
       "      <td>78.0</td>\n",
       "      <td>175398.0</td>\n",
       "    </tr>\n",
       "    <tr>\n",
       "      <th>2018-07-05</th>\n",
       "      <td>27990.0</td>\n",
       "      <td>46.0</td>\n",
       "      <td>20.0</td>\n",
       "      <td>29.0</td>\n",
       "      <td>1.0</td>\n",
       "      <td>0.0</td>\n",
       "      <td>67.0</td>\n",
       "      <td>106547.0</td>\n",
       "    </tr>\n",
       "    <tr>\n",
       "      <th>2018-07-25</th>\n",
       "      <td>8552.0</td>\n",
       "      <td>84.0</td>\n",
       "      <td>3.0</td>\n",
       "      <td>41.0</td>\n",
       "      <td>0.0</td>\n",
       "      <td>5.0</td>\n",
       "      <td>25.0</td>\n",
       "      <td>193194.0</td>\n",
       "    </tr>\n",
       "    <tr>\n",
       "      <th>2018-07-28</th>\n",
       "      <td>3815.0</td>\n",
       "      <td>43.0</td>\n",
       "      <td>29.0</td>\n",
       "      <td>55.0</td>\n",
       "      <td>0.0</td>\n",
       "      <td>1.0</td>\n",
       "      <td>44.0</td>\n",
       "      <td>158571.0</td>\n",
       "    </tr>\n",
       "    <tr>\n",
       "      <th>2018-07-13</th>\n",
       "      <td>21305.0</td>\n",
       "      <td>13.0</td>\n",
       "      <td>4.0</td>\n",
       "      <td>19.0</td>\n",
       "      <td>1.0</td>\n",
       "      <td>1.0</td>\n",
       "      <td>64.0</td>\n",
       "      <td>232073.0</td>\n",
       "    </tr>\n",
       "    <tr>\n",
       "      <th>2018-07-21</th>\n",
       "      <td>11672.0</td>\n",
       "      <td>63.0</td>\n",
       "      <td>21.0</td>\n",
       "      <td>16.0</td>\n",
       "      <td>0.0</td>\n",
       "      <td>0.0</td>\n",
       "      <td>53.0</td>\n",
       "      <td>40462.0</td>\n",
       "    </tr>\n",
       "    <tr>\n",
       "      <th>...</th>\n",
       "      <td>...</td>\n",
       "      <td>...</td>\n",
       "      <td>...</td>\n",
       "      <td>...</td>\n",
       "      <td>...</td>\n",
       "      <td>...</td>\n",
       "      <td>...</td>\n",
       "      <td>...</td>\n",
       "    </tr>\n",
       "    <tr>\n",
       "      <th>2018-07-11</th>\n",
       "      <td>1931.0</td>\n",
       "      <td>45.0</td>\n",
       "      <td>4.0</td>\n",
       "      <td>6.0</td>\n",
       "      <td>0.0</td>\n",
       "      <td>0.0</td>\n",
       "      <td>82.0</td>\n",
       "      <td>33256.0</td>\n",
       "    </tr>\n",
       "    <tr>\n",
       "      <th>2018-07-01</th>\n",
       "      <td>4999.0</td>\n",
       "      <td>64.0</td>\n",
       "      <td>34.0</td>\n",
       "      <td>14.0</td>\n",
       "      <td>1.0</td>\n",
       "      <td>4.0</td>\n",
       "      <td>39.0</td>\n",
       "      <td>29509.0</td>\n",
       "    </tr>\n",
       "    <tr>\n",
       "      <th>2018-07-05</th>\n",
       "      <td>25666.0</td>\n",
       "      <td>69.0</td>\n",
       "      <td>10.0</td>\n",
       "      <td>14.0</td>\n",
       "      <td>0.0</td>\n",
       "      <td>1.0</td>\n",
       "      <td>39.0</td>\n",
       "      <td>205962.0</td>\n",
       "    </tr>\n",
       "    <tr>\n",
       "      <th>2018-07-18</th>\n",
       "      <td>2150.0</td>\n",
       "      <td>16.0</td>\n",
       "      <td>21.0</td>\n",
       "      <td>0.0</td>\n",
       "      <td>0.0</td>\n",
       "      <td>4.0</td>\n",
       "      <td>74.0</td>\n",
       "      <td>59003.0</td>\n",
       "    </tr>\n",
       "    <tr>\n",
       "      <th>2018-07-14</th>\n",
       "      <td>3414.0</td>\n",
       "      <td>57.0</td>\n",
       "      <td>16.0</td>\n",
       "      <td>35.0</td>\n",
       "      <td>0.0</td>\n",
       "      <td>5.0</td>\n",
       "      <td>51.0</td>\n",
       "      <td>46539.0</td>\n",
       "    </tr>\n",
       "    <tr>\n",
       "      <th>2018-07-24</th>\n",
       "      <td>19201.0</td>\n",
       "      <td>96.0</td>\n",
       "      <td>24.0</td>\n",
       "      <td>6.0</td>\n",
       "      <td>1.0</td>\n",
       "      <td>3.0</td>\n",
       "      <td>48.0</td>\n",
       "      <td>227557.0</td>\n",
       "    </tr>\n",
       "    <tr>\n",
       "      <th>2018-07-03</th>\n",
       "      <td>18549.0</td>\n",
       "      <td>44.0</td>\n",
       "      <td>15.0</td>\n",
       "      <td>40.0</td>\n",
       "      <td>0.0</td>\n",
       "      <td>0.0</td>\n",
       "      <td>24.0</td>\n",
       "      <td>92320.0</td>\n",
       "    </tr>\n",
       "    <tr>\n",
       "      <th>2018-07-05</th>\n",
       "      <td>5342.0</td>\n",
       "      <td>80.0</td>\n",
       "      <td>7.0</td>\n",
       "      <td>4.0</td>\n",
       "      <td>0.0</td>\n",
       "      <td>3.0</td>\n",
       "      <td>51.0</td>\n",
       "      <td>113917.0</td>\n",
       "    </tr>\n",
       "    <tr>\n",
       "      <th>2018-07-29</th>\n",
       "      <td>4025.0</td>\n",
       "      <td>12.0</td>\n",
       "      <td>29.0</td>\n",
       "      <td>21.0</td>\n",
       "      <td>0.0</td>\n",
       "      <td>1.0</td>\n",
       "      <td>51.0</td>\n",
       "      <td>35213.0</td>\n",
       "    </tr>\n",
       "    <tr>\n",
       "      <th>2018-07-18</th>\n",
       "      <td>17843.0</td>\n",
       "      <td>75.0</td>\n",
       "      <td>24.0</td>\n",
       "      <td>32.0</td>\n",
       "      <td>1.0</td>\n",
       "      <td>0.0</td>\n",
       "      <td>16.0</td>\n",
       "      <td>193488.0</td>\n",
       "    </tr>\n",
       "    <tr>\n",
       "      <th>2018-07-08</th>\n",
       "      <td>2171.0</td>\n",
       "      <td>18.0</td>\n",
       "      <td>9.0</td>\n",
       "      <td>20.0</td>\n",
       "      <td>0.0</td>\n",
       "      <td>2.0</td>\n",
       "      <td>7.0</td>\n",
       "      <td>98251.0</td>\n",
       "    </tr>\n",
       "    <tr>\n",
       "      <th>2018-07-18</th>\n",
       "      <td>3463.0</td>\n",
       "      <td>50.0</td>\n",
       "      <td>11.0</td>\n",
       "      <td>2.0</td>\n",
       "      <td>0.0</td>\n",
       "      <td>4.0</td>\n",
       "      <td>28.0</td>\n",
       "      <td>238507.0</td>\n",
       "    </tr>\n",
       "    <tr>\n",
       "      <th>2018-07-13</th>\n",
       "      <td>6371.0</td>\n",
       "      <td>73.0</td>\n",
       "      <td>26.0</td>\n",
       "      <td>8.0</td>\n",
       "      <td>1.0</td>\n",
       "      <td>4.0</td>\n",
       "      <td>63.0</td>\n",
       "      <td>187471.0</td>\n",
       "    </tr>\n",
       "    <tr>\n",
       "      <th>2018-07-06</th>\n",
       "      <td>1782.0</td>\n",
       "      <td>87.0</td>\n",
       "      <td>15.0</td>\n",
       "      <td>23.0</td>\n",
       "      <td>0.0</td>\n",
       "      <td>5.0</td>\n",
       "      <td>49.0</td>\n",
       "      <td>32383.0</td>\n",
       "    </tr>\n",
       "    <tr>\n",
       "      <th>2018-07-23</th>\n",
       "      <td>12408.0</td>\n",
       "      <td>72.0</td>\n",
       "      <td>4.0</td>\n",
       "      <td>11.0</td>\n",
       "      <td>1.0</td>\n",
       "      <td>2.0</td>\n",
       "      <td>22.0</td>\n",
       "      <td>45527.0</td>\n",
       "    </tr>\n",
       "    <tr>\n",
       "      <th>2018-07-11</th>\n",
       "      <td>65.0</td>\n",
       "      <td>26.0</td>\n",
       "      <td>33.0</td>\n",
       "      <td>22.0</td>\n",
       "      <td>0.0</td>\n",
       "      <td>1.0</td>\n",
       "      <td>48.0</td>\n",
       "      <td>91021.0</td>\n",
       "    </tr>\n",
       "    <tr>\n",
       "      <th>2018-07-13</th>\n",
       "      <td>6449.0</td>\n",
       "      <td>45.0</td>\n",
       "      <td>9.0</td>\n",
       "      <td>36.0</td>\n",
       "      <td>0.0</td>\n",
       "      <td>1.0</td>\n",
       "      <td>40.0</td>\n",
       "      <td>161194.0</td>\n",
       "    </tr>\n",
       "    <tr>\n",
       "      <th>2018-07-09</th>\n",
       "      <td>25683.0</td>\n",
       "      <td>63.0</td>\n",
       "      <td>34.0</td>\n",
       "      <td>54.0</td>\n",
       "      <td>1.0</td>\n",
       "      <td>3.0</td>\n",
       "      <td>59.0</td>\n",
       "      <td>152877.0</td>\n",
       "    </tr>\n",
       "    <tr>\n",
       "      <th>2018-07-07</th>\n",
       "      <td>3385.0</td>\n",
       "      <td>50.0</td>\n",
       "      <td>9.0</td>\n",
       "      <td>17.0</td>\n",
       "      <td>1.0</td>\n",
       "      <td>2.0</td>\n",
       "      <td>99.0</td>\n",
       "      <td>14310.0</td>\n",
       "    </tr>\n",
       "    <tr>\n",
       "      <th>2018-07-23</th>\n",
       "      <td>10091.0</td>\n",
       "      <td>53.0</td>\n",
       "      <td>5.0</td>\n",
       "      <td>18.0</td>\n",
       "      <td>0.0</td>\n",
       "      <td>4.0</td>\n",
       "      <td>94.0</td>\n",
       "      <td>129615.0</td>\n",
       "    </tr>\n",
       "    <tr>\n",
       "      <th>2018-07-21</th>\n",
       "      <td>1957.0</td>\n",
       "      <td>35.0</td>\n",
       "      <td>23.0</td>\n",
       "      <td>28.0</td>\n",
       "      <td>0.0</td>\n",
       "      <td>0.0</td>\n",
       "      <td>58.0</td>\n",
       "      <td>211007.0</td>\n",
       "    </tr>\n",
       "    <tr>\n",
       "      <th>2018-07-15</th>\n",
       "      <td>1730.0</td>\n",
       "      <td>57.0</td>\n",
       "      <td>14.0</td>\n",
       "      <td>26.0</td>\n",
       "      <td>0.0</td>\n",
       "      <td>5.0</td>\n",
       "      <td>93.0</td>\n",
       "      <td>146232.0</td>\n",
       "    </tr>\n",
       "    <tr>\n",
       "      <th>2018-07-09</th>\n",
       "      <td>2086.0</td>\n",
       "      <td>79.0</td>\n",
       "      <td>17.0</td>\n",
       "      <td>35.0</td>\n",
       "      <td>0.0</td>\n",
       "      <td>3.0</td>\n",
       "      <td>40.0</td>\n",
       "      <td>172614.0</td>\n",
       "    </tr>\n",
       "    <tr>\n",
       "      <th>2018-07-01</th>\n",
       "      <td>976.0</td>\n",
       "      <td>88.0</td>\n",
       "      <td>14.0</td>\n",
       "      <td>8.0</td>\n",
       "      <td>1.0</td>\n",
       "      <td>5.0</td>\n",
       "      <td>21.0</td>\n",
       "      <td>131400.0</td>\n",
       "    </tr>\n",
       "    <tr>\n",
       "      <th>2018-07-05</th>\n",
       "      <td>9255.0</td>\n",
       "      <td>6.0</td>\n",
       "      <td>14.0</td>\n",
       "      <td>1.0</td>\n",
       "      <td>1.0</td>\n",
       "      <td>5.0</td>\n",
       "      <td>95.0</td>\n",
       "      <td>97984.0</td>\n",
       "    </tr>\n",
       "    <tr>\n",
       "      <th>2018-07-02</th>\n",
       "      <td>2383.0</td>\n",
       "      <td>27.0</td>\n",
       "      <td>32.0</td>\n",
       "      <td>14.0</td>\n",
       "      <td>0.0</td>\n",
       "      <td>3.0</td>\n",
       "      <td>42.0</td>\n",
       "      <td>17510.0</td>\n",
       "    </tr>\n",
       "    <tr>\n",
       "      <th>2018-07-19</th>\n",
       "      <td>3296.0</td>\n",
       "      <td>74.0</td>\n",
       "      <td>15.0</td>\n",
       "      <td>1.0</td>\n",
       "      <td>1.0</td>\n",
       "      <td>0.0</td>\n",
       "      <td>94.0</td>\n",
       "      <td>218769.0</td>\n",
       "    </tr>\n",
       "    <tr>\n",
       "      <th>2018-07-04</th>\n",
       "      <td>17668.0</td>\n",
       "      <td>94.0</td>\n",
       "      <td>11.0</td>\n",
       "      <td>2.0</td>\n",
       "      <td>1.0</td>\n",
       "      <td>5.0</td>\n",
       "      <td>15.0</td>\n",
       "      <td>153179.0</td>\n",
       "    </tr>\n",
       "    <tr>\n",
       "      <th>2018-07-29</th>\n",
       "      <td>2694.0</td>\n",
       "      <td>74.0</td>\n",
       "      <td>8.0</td>\n",
       "      <td>8.0</td>\n",
       "      <td>1.0</td>\n",
       "      <td>5.0</td>\n",
       "      <td>75.0</td>\n",
       "      <td>190538.0</td>\n",
       "    </tr>\n",
       "    <tr>\n",
       "      <th>2018-07-14</th>\n",
       "      <td>12588.0</td>\n",
       "      <td>81.0</td>\n",
       "      <td>11.0</td>\n",
       "      <td>7.0</td>\n",
       "      <td>0.0</td>\n",
       "      <td>5.0</td>\n",
       "      <td>84.0</td>\n",
       "      <td>112270.0</td>\n",
       "    </tr>\n",
       "  </tbody>\n",
       "</table>\n",
       "<p>1000000 rows × 8 columns</p>\n",
       "</div>"
      ],
      "text/plain": [
       "               CLNN  FINAL_CD   SAA  MCT_ADM_GDS_APB_CD  DOF_TF  DAW_CCD  \\\n",
       "TS_D                                                                       \n",
       "2018-07-04   2371.0      10.0  13.0                37.0     1.0      0.0   \n",
       "2018-07-14   7983.0      39.0  16.0                50.0     0.0      3.0   \n",
       "2018-07-12  12109.0      38.0  35.0                75.0     1.0      0.0   \n",
       "2018-07-15   2615.0      19.0   4.0                 0.0     0.0      3.0   \n",
       "2018-07-01   7652.0      24.0  27.0                27.0     1.0      4.0   \n",
       "2018-07-16   5637.0      49.0   8.0                68.0     0.0      0.0   \n",
       "2018-07-18  10277.0      76.0  37.0                 7.0     0.0      4.0   \n",
       "2018-07-09   6473.0      18.0  30.0                 1.0     0.0      1.0   \n",
       "2018-07-22   9432.0      59.0  25.0                43.0     1.0      5.0   \n",
       "2018-07-29  13634.0      53.0  12.0                55.0     0.0      2.0   \n",
       "2018-07-21    355.0      50.0  26.0                 5.0     1.0      4.0   \n",
       "2018-07-06    137.0      30.0   6.0                 0.0     1.0      3.0   \n",
       "2018-07-17   3051.0      47.0  13.0                12.0     0.0      1.0   \n",
       "2018-07-03    167.0      22.0  13.0                17.0     0.0      1.0   \n",
       "2018-07-28  14814.0      28.0   7.0                46.0     0.0      0.0   \n",
       "2018-07-15  21036.0      93.0   4.0                40.0     0.0      2.0   \n",
       "2018-07-18   7640.0      91.0   3.0                 6.0     1.0      4.0   \n",
       "2018-07-24   4130.0      80.0  36.0                43.0     1.0      4.0   \n",
       "2018-07-08   9853.0      55.0  33.0                24.0     0.0      2.0   \n",
       "2018-07-07  14508.0      88.0  19.0                22.0     0.0      2.0   \n",
       "2018-07-15   2402.0      25.0  22.0                33.0     0.0      2.0   \n",
       "2018-07-04  13496.0      99.0   6.0                12.0     0.0      3.0   \n",
       "2018-07-18   9422.0      20.0   9.0                27.0     0.0      2.0   \n",
       "2018-07-21  21127.0      21.0  30.0                 1.0     1.0      0.0   \n",
       "2018-07-28   3672.0      32.0   4.0                53.0     1.0      0.0   \n",
       "2018-07-05  27990.0      46.0  20.0                29.0     1.0      0.0   \n",
       "2018-07-25   8552.0      84.0   3.0                41.0     0.0      5.0   \n",
       "2018-07-28   3815.0      43.0  29.0                55.0     0.0      1.0   \n",
       "2018-07-13  21305.0      13.0   4.0                19.0     1.0      1.0   \n",
       "2018-07-21  11672.0      63.0  21.0                16.0     0.0      0.0   \n",
       "...             ...       ...   ...                 ...     ...      ...   \n",
       "2018-07-11   1931.0      45.0   4.0                 6.0     0.0      0.0   \n",
       "2018-07-01   4999.0      64.0  34.0                14.0     1.0      4.0   \n",
       "2018-07-05  25666.0      69.0  10.0                14.0     0.0      1.0   \n",
       "2018-07-18   2150.0      16.0  21.0                 0.0     0.0      4.0   \n",
       "2018-07-14   3414.0      57.0  16.0                35.0     0.0      5.0   \n",
       "2018-07-24  19201.0      96.0  24.0                 6.0     1.0      3.0   \n",
       "2018-07-03  18549.0      44.0  15.0                40.0     0.0      0.0   \n",
       "2018-07-05   5342.0      80.0   7.0                 4.0     0.0      3.0   \n",
       "2018-07-29   4025.0      12.0  29.0                21.0     0.0      1.0   \n",
       "2018-07-18  17843.0      75.0  24.0                32.0     1.0      0.0   \n",
       "2018-07-08   2171.0      18.0   9.0                20.0     0.0      2.0   \n",
       "2018-07-18   3463.0      50.0  11.0                 2.0     0.0      4.0   \n",
       "2018-07-13   6371.0      73.0  26.0                 8.0     1.0      4.0   \n",
       "2018-07-06   1782.0      87.0  15.0                23.0     0.0      5.0   \n",
       "2018-07-23  12408.0      72.0   4.0                11.0     1.0      2.0   \n",
       "2018-07-11     65.0      26.0  33.0                22.0     0.0      1.0   \n",
       "2018-07-13   6449.0      45.0   9.0                36.0     0.0      1.0   \n",
       "2018-07-09  25683.0      63.0  34.0                54.0     1.0      3.0   \n",
       "2018-07-07   3385.0      50.0   9.0                17.0     1.0      2.0   \n",
       "2018-07-23  10091.0      53.0   5.0                18.0     0.0      4.0   \n",
       "2018-07-21   1957.0      35.0  23.0                28.0     0.0      0.0   \n",
       "2018-07-15   1730.0      57.0  14.0                26.0     0.0      5.0   \n",
       "2018-07-09   2086.0      79.0  17.0                35.0     0.0      3.0   \n",
       "2018-07-01    976.0      88.0  14.0                 8.0     1.0      5.0   \n",
       "2018-07-05   9255.0       6.0  14.0                 1.0     1.0      5.0   \n",
       "2018-07-02   2383.0      27.0  32.0                14.0     0.0      3.0   \n",
       "2018-07-19   3296.0      74.0  15.0                 1.0     1.0      0.0   \n",
       "2018-07-04  17668.0      94.0  11.0                 2.0     1.0      5.0   \n",
       "2018-07-29   2694.0      74.0   8.0                 8.0     1.0      5.0   \n",
       "2018-07-14  12588.0      81.0  11.0                 7.0     0.0      5.0   \n",
       "\n",
       "            MCT_N      TIME  \n",
       "TS_D                         \n",
       "2018-07-04    2.0  197937.0  \n",
       "2018-07-14   85.0   48545.0  \n",
       "2018-07-12   72.0  157611.0  \n",
       "2018-07-15   23.0   21276.0  \n",
       "2018-07-01   36.0   41395.0  \n",
       "2018-07-16   56.0  154741.0  \n",
       "2018-07-18   25.0  157305.0  \n",
       "2018-07-09   52.0   42999.0  \n",
       "2018-07-22   30.0  207550.0  \n",
       "2018-07-29   34.0  141265.0  \n",
       "2018-07-21   72.0  215438.0  \n",
       "2018-07-06   50.0  134109.0  \n",
       "2018-07-17    2.0   77846.0  \n",
       "2018-07-03   23.0   59863.0  \n",
       "2018-07-28   92.0  206966.0  \n",
       "2018-07-15   18.0   76853.0  \n",
       "2018-07-18   71.0   40399.0  \n",
       "2018-07-24   84.0  178517.0  \n",
       "2018-07-08    6.0   98998.0  \n",
       "2018-07-07   96.0  219373.0  \n",
       "2018-07-15   18.0   67393.0  \n",
       "2018-07-04   76.0   50067.0  \n",
       "2018-07-18   34.0   30158.0  \n",
       "2018-07-21   63.0  113038.0  \n",
       "2018-07-28   78.0  175398.0  \n",
       "2018-07-05   67.0  106547.0  \n",
       "2018-07-25   25.0  193194.0  \n",
       "2018-07-28   44.0  158571.0  \n",
       "2018-07-13   64.0  232073.0  \n",
       "2018-07-21   53.0   40462.0  \n",
       "...           ...       ...  \n",
       "2018-07-11   82.0   33256.0  \n",
       "2018-07-01   39.0   29509.0  \n",
       "2018-07-05   39.0  205962.0  \n",
       "2018-07-18   74.0   59003.0  \n",
       "2018-07-14   51.0   46539.0  \n",
       "2018-07-24   48.0  227557.0  \n",
       "2018-07-03   24.0   92320.0  \n",
       "2018-07-05   51.0  113917.0  \n",
       "2018-07-29   51.0   35213.0  \n",
       "2018-07-18   16.0  193488.0  \n",
       "2018-07-08    7.0   98251.0  \n",
       "2018-07-18   28.0  238507.0  \n",
       "2018-07-13   63.0  187471.0  \n",
       "2018-07-06   49.0   32383.0  \n",
       "2018-07-23   22.0   45527.0  \n",
       "2018-07-11   48.0   91021.0  \n",
       "2018-07-13   40.0  161194.0  \n",
       "2018-07-09   59.0  152877.0  \n",
       "2018-07-07   99.0   14310.0  \n",
       "2018-07-23   94.0  129615.0  \n",
       "2018-07-21   58.0  211007.0  \n",
       "2018-07-15   93.0  146232.0  \n",
       "2018-07-09   40.0  172614.0  \n",
       "2018-07-01   21.0  131400.0  \n",
       "2018-07-05   95.0   97984.0  \n",
       "2018-07-02   42.0   17510.0  \n",
       "2018-07-19   94.0  218769.0  \n",
       "2018-07-04   15.0  153179.0  \n",
       "2018-07-29   75.0  190538.0  \n",
       "2018-07-14   84.0  112270.0  \n",
       "\n",
       "[1000000 rows x 8 columns]"
      ]
     },
     "execution_count": 36,
     "metadata": {},
     "output_type": "execute_result"
    }
   ],
   "source": [
    "# 그 전에 인덱스를 날짜로 바꾸어 주어야 함 # 방법 (2)\n",
    "df.set_index('TS_D', inplace=False)"
   ]
  },
  {
   "cell_type": "code",
   "execution_count": 28,
   "metadata": {},
   "outputs": [
    {
     "data": {
      "text/plain": [
       "DatetimeIndex(['2018-07-19', '2018-07-09', '2018-07-28', '2018-07-13',\n",
       "               '2018-07-28', '2018-07-05', '2018-07-14', '2018-07-18',\n",
       "               '2018-07-14', '2018-07-11',\n",
       "               ...\n",
       "               '2018-07-16', '2018-07-12', '2018-07-09', '2018-07-24',\n",
       "               '2018-07-06', '2018-07-08', '2018-07-05', '2018-07-22',\n",
       "               '2018-07-16', '2018-07-25'],\n",
       "              dtype='datetime64[ns]', name='TS_D', length=1000000, freq=None)"
      ]
     },
     "execution_count": 28,
     "metadata": {},
     "output_type": "execute_result"
    }
   ],
   "source": [
    "df_t.index"
   ]
  },
  {
   "cell_type": "code",
   "execution_count": 110,
   "metadata": {
    "scrolled": false
   },
   "outputs": [],
   "source": [
    "gb01 = df_t.groupby(['CLNN', 'TS_D']).sum()"
   ]
  },
  {
   "cell_type": "code",
   "execution_count": 45,
   "metadata": {},
   "outputs": [
    {
     "data": {
      "text/plain": [
       "CLNN  TS_D      \n",
       "0     2018-07-01    12\n",
       "      2018-07-03    11\n",
       "      2018-07-04    23\n",
       "      2018-07-05    95\n",
       "      2018-07-06    41\n",
       "Name: SAA, dtype: int64"
      ]
     },
     "execution_count": 45,
     "metadata": {},
     "output_type": "execute_result"
    }
   ],
   "source": [
    "gb01['SAA'].head()"
   ]
  },
  {
   "cell_type": "code",
   "execution_count": 111,
   "metadata": {},
   "outputs": [
    {
     "name": "stdout",
     "output_type": "stream",
     "text": [
      "<class 'pandas.core.frame.DataFrame'>\n",
      "MultiIndex: 479463 entries, (0, 2018-07-01 00:00:00) to (52504, 2018-07-22 00:00:00)\n",
      "Data columns (total 8 columns):\n",
      "Unnamed: 0            479463 non-null int64\n",
      "FINAL_CD              479463 non-null int64\n",
      "SAA                   479463 non-null int64\n",
      "MCT_ADM_GDS_APB_CD    479463 non-null int64\n",
      "DOF_TF                479463 non-null int64\n",
      "DAW_CCD               479463 non-null int64\n",
      "MCT_N                 479463 non-null int64\n",
      "TIME                  479463 non-null int64\n",
      "dtypes: int64(8)\n",
      "memory usage: 30.9 MB\n"
     ]
    }
   ],
   "source": [
    "gb01.info()"
   ]
  },
  {
   "cell_type": "code",
   "execution_count": 102,
   "metadata": {},
   "outputs": [
    {
     "ename": "KeyError",
     "evalue": "'CLNN'",
     "output_type": "error",
     "traceback": [
      "\u001b[1;31m---------------------------------------------------------------------------\u001b[0m",
      "\u001b[1;31mKeyError\u001b[0m                                  Traceback (most recent call last)",
      "\u001b[1;32m~\\Anaconda3\\lib\\site-packages\\pandas\\core\\indexes\\base.py\u001b[0m in \u001b[0;36mget_loc\u001b[1;34m(self, key, method, tolerance)\u001b[0m\n\u001b[0;32m   2524\u001b[0m             \u001b[1;32mtry\u001b[0m\u001b[1;33m:\u001b[0m\u001b[1;33m\u001b[0m\u001b[0m\n\u001b[1;32m-> 2525\u001b[1;33m                 \u001b[1;32mreturn\u001b[0m \u001b[0mself\u001b[0m\u001b[1;33m.\u001b[0m\u001b[0m_engine\u001b[0m\u001b[1;33m.\u001b[0m\u001b[0mget_loc\u001b[0m\u001b[1;33m(\u001b[0m\u001b[0mkey\u001b[0m\u001b[1;33m)\u001b[0m\u001b[1;33m\u001b[0m\u001b[0m\n\u001b[0m\u001b[0;32m   2526\u001b[0m             \u001b[1;32mexcept\u001b[0m \u001b[0mKeyError\u001b[0m\u001b[1;33m:\u001b[0m\u001b[1;33m\u001b[0m\u001b[0m\n",
      "\u001b[1;32mpandas/_libs/index.pyx\u001b[0m in \u001b[0;36mpandas._libs.index.IndexEngine.get_loc\u001b[1;34m()\u001b[0m\n",
      "\u001b[1;32mpandas/_libs/index.pyx\u001b[0m in \u001b[0;36mpandas._libs.index.IndexEngine.get_loc\u001b[1;34m()\u001b[0m\n",
      "\u001b[1;32mpandas/_libs/hashtable_class_helper.pxi\u001b[0m in \u001b[0;36mpandas._libs.hashtable.PyObjectHashTable.get_item\u001b[1;34m()\u001b[0m\n",
      "\u001b[1;32mpandas/_libs/hashtable_class_helper.pxi\u001b[0m in \u001b[0;36mpandas._libs.hashtable.PyObjectHashTable.get_item\u001b[1;34m()\u001b[0m\n",
      "\u001b[1;31mKeyError\u001b[0m: 'CLNN'",
      "\nDuring handling of the above exception, another exception occurred:\n",
      "\u001b[1;31mKeyError\u001b[0m                                  Traceback (most recent call last)",
      "\u001b[1;32m<ipython-input-102-30f38b13fd11>\u001b[0m in \u001b[0;36m<module>\u001b[1;34m()\u001b[0m\n\u001b[1;32m----> 1\u001b[1;33m \u001b[0mgb01\u001b[0m\u001b[1;33m.\u001b[0m\u001b[0mpivot\u001b[0m\u001b[1;33m(\u001b[0m\u001b[0mindex\u001b[0m\u001b[1;33m=\u001b[0m\u001b[1;34m'CLNN'\u001b[0m\u001b[1;33m,\u001b[0m \u001b[0mcolumns\u001b[0m\u001b[1;33m=\u001b[0m\u001b[1;34m'TS_D'\u001b[0m\u001b[1;33m,\u001b[0m \u001b[0mvalues\u001b[0m\u001b[1;33m=\u001b[0m\u001b[1;34m'SAA'\u001b[0m\u001b[1;33m)\u001b[0m\u001b[1;33m\u001b[0m\u001b[0m\n\u001b[0m",
      "\u001b[1;32m~\\Anaconda3\\lib\\site-packages\\pandas\\core\\frame.py\u001b[0m in \u001b[0;36mpivot\u001b[1;34m(self, index, columns, values)\u001b[0m\n\u001b[0;32m   4380\u001b[0m         \"\"\"\n\u001b[0;32m   4381\u001b[0m         \u001b[1;32mfrom\u001b[0m \u001b[0mpandas\u001b[0m\u001b[1;33m.\u001b[0m\u001b[0mcore\u001b[0m\u001b[1;33m.\u001b[0m\u001b[0mreshape\u001b[0m\u001b[1;33m.\u001b[0m\u001b[0mreshape\u001b[0m \u001b[1;32mimport\u001b[0m \u001b[0mpivot\u001b[0m\u001b[1;33m\u001b[0m\u001b[0m\n\u001b[1;32m-> 4382\u001b[1;33m         \u001b[1;32mreturn\u001b[0m \u001b[0mpivot\u001b[0m\u001b[1;33m(\u001b[0m\u001b[0mself\u001b[0m\u001b[1;33m,\u001b[0m \u001b[0mindex\u001b[0m\u001b[1;33m=\u001b[0m\u001b[0mindex\u001b[0m\u001b[1;33m,\u001b[0m \u001b[0mcolumns\u001b[0m\u001b[1;33m=\u001b[0m\u001b[0mcolumns\u001b[0m\u001b[1;33m,\u001b[0m \u001b[0mvalues\u001b[0m\u001b[1;33m=\u001b[0m\u001b[0mvalues\u001b[0m\u001b[1;33m)\u001b[0m\u001b[1;33m\u001b[0m\u001b[0m\n\u001b[0m\u001b[0;32m   4383\u001b[0m \u001b[1;33m\u001b[0m\u001b[0m\n\u001b[0;32m   4384\u001b[0m     _shared_docs['pivot_table'] = \"\"\"\n",
      "\u001b[1;32m~\\Anaconda3\\lib\\site-packages\\pandas\\core\\reshape\\reshape.py\u001b[0m in \u001b[0;36mpivot\u001b[1;34m(self, index, columns, values)\u001b[0m\n\u001b[0;32m    384\u001b[0m             \u001b[0mindex\u001b[0m \u001b[1;33m=\u001b[0m \u001b[0mself\u001b[0m\u001b[1;33m.\u001b[0m\u001b[0mindex\u001b[0m\u001b[1;33m\u001b[0m\u001b[0m\n\u001b[0;32m    385\u001b[0m         \u001b[1;32melse\u001b[0m\u001b[1;33m:\u001b[0m\u001b[1;33m\u001b[0m\u001b[0m\n\u001b[1;32m--> 386\u001b[1;33m             \u001b[0mindex\u001b[0m \u001b[1;33m=\u001b[0m \u001b[0mself\u001b[0m\u001b[1;33m[\u001b[0m\u001b[0mindex\u001b[0m\u001b[1;33m]\u001b[0m\u001b[1;33m\u001b[0m\u001b[0m\n\u001b[0m\u001b[0;32m    387\u001b[0m         indexed = Series(self[values].values,\n\u001b[0;32m    388\u001b[0m                          index=MultiIndex.from_arrays([index, self[columns]]))\n",
      "\u001b[1;32m~\\Anaconda3\\lib\\site-packages\\pandas\\core\\frame.py\u001b[0m in \u001b[0;36m__getitem__\u001b[1;34m(self, key)\u001b[0m\n\u001b[0;32m   2137\u001b[0m             \u001b[1;32mreturn\u001b[0m \u001b[0mself\u001b[0m\u001b[1;33m.\u001b[0m\u001b[0m_getitem_multilevel\u001b[0m\u001b[1;33m(\u001b[0m\u001b[0mkey\u001b[0m\u001b[1;33m)\u001b[0m\u001b[1;33m\u001b[0m\u001b[0m\n\u001b[0;32m   2138\u001b[0m         \u001b[1;32melse\u001b[0m\u001b[1;33m:\u001b[0m\u001b[1;33m\u001b[0m\u001b[0m\n\u001b[1;32m-> 2139\u001b[1;33m             \u001b[1;32mreturn\u001b[0m \u001b[0mself\u001b[0m\u001b[1;33m.\u001b[0m\u001b[0m_getitem_column\u001b[0m\u001b[1;33m(\u001b[0m\u001b[0mkey\u001b[0m\u001b[1;33m)\u001b[0m\u001b[1;33m\u001b[0m\u001b[0m\n\u001b[0m\u001b[0;32m   2140\u001b[0m \u001b[1;33m\u001b[0m\u001b[0m\n\u001b[0;32m   2141\u001b[0m     \u001b[1;32mdef\u001b[0m \u001b[0m_getitem_column\u001b[0m\u001b[1;33m(\u001b[0m\u001b[0mself\u001b[0m\u001b[1;33m,\u001b[0m \u001b[0mkey\u001b[0m\u001b[1;33m)\u001b[0m\u001b[1;33m:\u001b[0m\u001b[1;33m\u001b[0m\u001b[0m\n",
      "\u001b[1;32m~\\Anaconda3\\lib\\site-packages\\pandas\\core\\frame.py\u001b[0m in \u001b[0;36m_getitem_column\u001b[1;34m(self, key)\u001b[0m\n\u001b[0;32m   2144\u001b[0m         \u001b[1;31m# get column\u001b[0m\u001b[1;33m\u001b[0m\u001b[1;33m\u001b[0m\u001b[0m\n\u001b[0;32m   2145\u001b[0m         \u001b[1;32mif\u001b[0m \u001b[0mself\u001b[0m\u001b[1;33m.\u001b[0m\u001b[0mcolumns\u001b[0m\u001b[1;33m.\u001b[0m\u001b[0mis_unique\u001b[0m\u001b[1;33m:\u001b[0m\u001b[1;33m\u001b[0m\u001b[0m\n\u001b[1;32m-> 2146\u001b[1;33m             \u001b[1;32mreturn\u001b[0m \u001b[0mself\u001b[0m\u001b[1;33m.\u001b[0m\u001b[0m_get_item_cache\u001b[0m\u001b[1;33m(\u001b[0m\u001b[0mkey\u001b[0m\u001b[1;33m)\u001b[0m\u001b[1;33m\u001b[0m\u001b[0m\n\u001b[0m\u001b[0;32m   2147\u001b[0m \u001b[1;33m\u001b[0m\u001b[0m\n\u001b[0;32m   2148\u001b[0m         \u001b[1;31m# duplicate columns & possible reduce dimensionality\u001b[0m\u001b[1;33m\u001b[0m\u001b[1;33m\u001b[0m\u001b[0m\n",
      "\u001b[1;32m~\\Anaconda3\\lib\\site-packages\\pandas\\core\\generic.py\u001b[0m in \u001b[0;36m_get_item_cache\u001b[1;34m(self, item)\u001b[0m\n\u001b[0;32m   1840\u001b[0m         \u001b[0mres\u001b[0m \u001b[1;33m=\u001b[0m \u001b[0mcache\u001b[0m\u001b[1;33m.\u001b[0m\u001b[0mget\u001b[0m\u001b[1;33m(\u001b[0m\u001b[0mitem\u001b[0m\u001b[1;33m)\u001b[0m\u001b[1;33m\u001b[0m\u001b[0m\n\u001b[0;32m   1841\u001b[0m         \u001b[1;32mif\u001b[0m \u001b[0mres\u001b[0m \u001b[1;32mis\u001b[0m \u001b[1;32mNone\u001b[0m\u001b[1;33m:\u001b[0m\u001b[1;33m\u001b[0m\u001b[0m\n\u001b[1;32m-> 1842\u001b[1;33m             \u001b[0mvalues\u001b[0m \u001b[1;33m=\u001b[0m \u001b[0mself\u001b[0m\u001b[1;33m.\u001b[0m\u001b[0m_data\u001b[0m\u001b[1;33m.\u001b[0m\u001b[0mget\u001b[0m\u001b[1;33m(\u001b[0m\u001b[0mitem\u001b[0m\u001b[1;33m)\u001b[0m\u001b[1;33m\u001b[0m\u001b[0m\n\u001b[0m\u001b[0;32m   1843\u001b[0m             \u001b[0mres\u001b[0m \u001b[1;33m=\u001b[0m \u001b[0mself\u001b[0m\u001b[1;33m.\u001b[0m\u001b[0m_box_item_values\u001b[0m\u001b[1;33m(\u001b[0m\u001b[0mitem\u001b[0m\u001b[1;33m,\u001b[0m \u001b[0mvalues\u001b[0m\u001b[1;33m)\u001b[0m\u001b[1;33m\u001b[0m\u001b[0m\n\u001b[0;32m   1844\u001b[0m             \u001b[0mcache\u001b[0m\u001b[1;33m[\u001b[0m\u001b[0mitem\u001b[0m\u001b[1;33m]\u001b[0m \u001b[1;33m=\u001b[0m \u001b[0mres\u001b[0m\u001b[1;33m\u001b[0m\u001b[0m\n",
      "\u001b[1;32m~\\Anaconda3\\lib\\site-packages\\pandas\\core\\internals.py\u001b[0m in \u001b[0;36mget\u001b[1;34m(self, item, fastpath)\u001b[0m\n\u001b[0;32m   3841\u001b[0m \u001b[1;33m\u001b[0m\u001b[0m\n\u001b[0;32m   3842\u001b[0m             \u001b[1;32mif\u001b[0m \u001b[1;32mnot\u001b[0m \u001b[0misna\u001b[0m\u001b[1;33m(\u001b[0m\u001b[0mitem\u001b[0m\u001b[1;33m)\u001b[0m\u001b[1;33m:\u001b[0m\u001b[1;33m\u001b[0m\u001b[0m\n\u001b[1;32m-> 3843\u001b[1;33m                 \u001b[0mloc\u001b[0m \u001b[1;33m=\u001b[0m \u001b[0mself\u001b[0m\u001b[1;33m.\u001b[0m\u001b[0mitems\u001b[0m\u001b[1;33m.\u001b[0m\u001b[0mget_loc\u001b[0m\u001b[1;33m(\u001b[0m\u001b[0mitem\u001b[0m\u001b[1;33m)\u001b[0m\u001b[1;33m\u001b[0m\u001b[0m\n\u001b[0m\u001b[0;32m   3844\u001b[0m             \u001b[1;32melse\u001b[0m\u001b[1;33m:\u001b[0m\u001b[1;33m\u001b[0m\u001b[0m\n\u001b[0;32m   3845\u001b[0m                 \u001b[0mindexer\u001b[0m \u001b[1;33m=\u001b[0m \u001b[0mnp\u001b[0m\u001b[1;33m.\u001b[0m\u001b[0marange\u001b[0m\u001b[1;33m(\u001b[0m\u001b[0mlen\u001b[0m\u001b[1;33m(\u001b[0m\u001b[0mself\u001b[0m\u001b[1;33m.\u001b[0m\u001b[0mitems\u001b[0m\u001b[1;33m)\u001b[0m\u001b[1;33m)\u001b[0m\u001b[1;33m[\u001b[0m\u001b[0misna\u001b[0m\u001b[1;33m(\u001b[0m\u001b[0mself\u001b[0m\u001b[1;33m.\u001b[0m\u001b[0mitems\u001b[0m\u001b[1;33m)\u001b[0m\u001b[1;33m]\u001b[0m\u001b[1;33m\u001b[0m\u001b[0m\n",
      "\u001b[1;32m~\\Anaconda3\\lib\\site-packages\\pandas\\core\\indexes\\base.py\u001b[0m in \u001b[0;36mget_loc\u001b[1;34m(self, key, method, tolerance)\u001b[0m\n\u001b[0;32m   2525\u001b[0m                 \u001b[1;32mreturn\u001b[0m \u001b[0mself\u001b[0m\u001b[1;33m.\u001b[0m\u001b[0m_engine\u001b[0m\u001b[1;33m.\u001b[0m\u001b[0mget_loc\u001b[0m\u001b[1;33m(\u001b[0m\u001b[0mkey\u001b[0m\u001b[1;33m)\u001b[0m\u001b[1;33m\u001b[0m\u001b[0m\n\u001b[0;32m   2526\u001b[0m             \u001b[1;32mexcept\u001b[0m \u001b[0mKeyError\u001b[0m\u001b[1;33m:\u001b[0m\u001b[1;33m\u001b[0m\u001b[0m\n\u001b[1;32m-> 2527\u001b[1;33m                 \u001b[1;32mreturn\u001b[0m \u001b[0mself\u001b[0m\u001b[1;33m.\u001b[0m\u001b[0m_engine\u001b[0m\u001b[1;33m.\u001b[0m\u001b[0mget_loc\u001b[0m\u001b[1;33m(\u001b[0m\u001b[0mself\u001b[0m\u001b[1;33m.\u001b[0m\u001b[0m_maybe_cast_indexer\u001b[0m\u001b[1;33m(\u001b[0m\u001b[0mkey\u001b[0m\u001b[1;33m)\u001b[0m\u001b[1;33m)\u001b[0m\u001b[1;33m\u001b[0m\u001b[0m\n\u001b[0m\u001b[0;32m   2528\u001b[0m \u001b[1;33m\u001b[0m\u001b[0m\n\u001b[0;32m   2529\u001b[0m         \u001b[0mindexer\u001b[0m \u001b[1;33m=\u001b[0m \u001b[0mself\u001b[0m\u001b[1;33m.\u001b[0m\u001b[0mget_indexer\u001b[0m\u001b[1;33m(\u001b[0m\u001b[1;33m[\u001b[0m\u001b[0mkey\u001b[0m\u001b[1;33m]\u001b[0m\u001b[1;33m,\u001b[0m \u001b[0mmethod\u001b[0m\u001b[1;33m=\u001b[0m\u001b[0mmethod\u001b[0m\u001b[1;33m,\u001b[0m \u001b[0mtolerance\u001b[0m\u001b[1;33m=\u001b[0m\u001b[0mtolerance\u001b[0m\u001b[1;33m)\u001b[0m\u001b[1;33m\u001b[0m\u001b[0m\n",
      "\u001b[1;32mpandas/_libs/index.pyx\u001b[0m in \u001b[0;36mpandas._libs.index.IndexEngine.get_loc\u001b[1;34m()\u001b[0m\n",
      "\u001b[1;32mpandas/_libs/index.pyx\u001b[0m in \u001b[0;36mpandas._libs.index.IndexEngine.get_loc\u001b[1;34m()\u001b[0m\n",
      "\u001b[1;32mpandas/_libs/hashtable_class_helper.pxi\u001b[0m in \u001b[0;36mpandas._libs.hashtable.PyObjectHashTable.get_item\u001b[1;34m()\u001b[0m\n",
      "\u001b[1;32mpandas/_libs/hashtable_class_helper.pxi\u001b[0m in \u001b[0;36mpandas._libs.hashtable.PyObjectHashTable.get_item\u001b[1;34m()\u001b[0m\n",
      "\u001b[1;31mKeyError\u001b[0m: 'CLNN'"
     ]
    }
   ],
   "source": [
    "gb01.pivot(index='CLNN', columns='TS_D', values='SAA')"
   ]
  },
  {
   "cell_type": "code",
   "execution_count": 105,
   "metadata": {},
   "outputs": [
    {
     "name": "stdout",
     "output_type": "stream",
     "text": [
      "<class 'pandas.core.frame.DataFrame'>\n",
      "RangeIndex: 1000000 entries, 0 to 999999\n",
      "Data columns (total 10 columns):\n",
      "Unnamed: 0            1000000 non-null int64\n",
      "CLNN                  1000000 non-null int64\n",
      "TS_D                  1000000 non-null object\n",
      "FINAL_CD              1000000 non-null int64\n",
      "SAA                   1000000 non-null int64\n",
      "MCT_ADM_GDS_APB_CD    1000000 non-null int64\n",
      "DOF_TF                1000000 non-null int64\n",
      "DAW_CCD               1000000 non-null int64\n",
      "MCT_N                 1000000 non-null int64\n",
      "TIME                  1000000 non-null int64\n",
      "dtypes: int64(9), object(1)\n",
      "memory usage: 76.3+ MB\n"
     ]
    }
   ],
   "source": [
    "df.info()"
   ]
  },
  {
   "cell_type": "code",
   "execution_count": 104,
   "metadata": {},
   "outputs": [
    {
     "ename": "TypeError",
     "evalue": "'method' object is not subscriptable",
     "output_type": "error",
     "traceback": [
      "\u001b[1;31m---------------------------------------------------------------------------\u001b[0m",
      "\u001b[1;31mTypeError\u001b[0m                                 Traceback (most recent call last)",
      "\u001b[1;32m<ipython-input-104-54eeead6aff0>\u001b[0m in \u001b[0;36m<module>\u001b[1;34m()\u001b[0m\n\u001b[1;32m----> 1\u001b[1;33m \u001b[0mgb02\u001b[0m \u001b[1;33m=\u001b[0m \u001b[0mdf\u001b[0m\u001b[1;33m.\u001b[0m\u001b[0mgroupby\u001b[0m\u001b[1;33m[\u001b[0m\u001b[1;34m'CLNN'\u001b[0m\u001b[1;33m,\u001b[0m \u001b[1;34m'MCT_ADM_GDS_APB_CD'\u001b[0m\u001b[1;33m,\u001b[0m \u001b[1;34m'FINAL_CD'\u001b[0m\u001b[1;33m]\u001b[0m\u001b[1;33m\u001b[0m\u001b[0m\n\u001b[0m",
      "\u001b[1;31mTypeError\u001b[0m: 'method' object is not subscriptable"
     ]
    }
   ],
   "source": [
    "gb02 = df.groupby['CLNN', 'MCT_ADM_GDS_APB_CD', 'FINAL_CD']"
   ]
  },
  {
   "cell_type": "code",
   "execution_count": 50,
   "metadata": {},
   "outputs": [
    {
     "data": {
      "text/html": [
       "<div>\n",
       "<style scoped>\n",
       "    .dataframe tbody tr th:only-of-type {\n",
       "        vertical-align: middle;\n",
       "    }\n",
       "\n",
       "    .dataframe tbody tr th {\n",
       "        vertical-align: top;\n",
       "    }\n",
       "\n",
       "    .dataframe thead th {\n",
       "        text-align: right;\n",
       "    }\n",
       "</style>\n",
       "<table border=\"1\" class=\"dataframe\">\n",
       "  <thead>\n",
       "    <tr style=\"text-align: right;\">\n",
       "      <th></th>\n",
       "      <th>Unnamed: 0</th>\n",
       "      <th>CLNN</th>\n",
       "      <th>FINAL_CD</th>\n",
       "      <th>SAA</th>\n",
       "      <th>MCT_ADM_GDS_APB_CD</th>\n",
       "      <th>DOF_TF</th>\n",
       "      <th>DAW_CCD</th>\n",
       "      <th>MCT_N</th>\n",
       "      <th>TIME</th>\n",
       "    </tr>\n",
       "    <tr>\n",
       "      <th>TS_D</th>\n",
       "      <th></th>\n",
       "      <th></th>\n",
       "      <th></th>\n",
       "      <th></th>\n",
       "      <th></th>\n",
       "      <th></th>\n",
       "      <th></th>\n",
       "      <th></th>\n",
       "      <th></th>\n",
       "    </tr>\n",
       "  </thead>\n",
       "  <tbody>\n",
       "    <tr>\n",
       "      <th>2018-07-01</th>\n",
       "      <td>999986</td>\n",
       "      <td>44622</td>\n",
       "      <td>99</td>\n",
       "      <td>83</td>\n",
       "      <td>113</td>\n",
       "      <td>1</td>\n",
       "      <td>5</td>\n",
       "      <td>99</td>\n",
       "      <td>239989</td>\n",
       "    </tr>\n",
       "    <tr>\n",
       "      <th>2018-07-08</th>\n",
       "      <td>999996</td>\n",
       "      <td>47645</td>\n",
       "      <td>99</td>\n",
       "      <td>103</td>\n",
       "      <td>149</td>\n",
       "      <td>1</td>\n",
       "      <td>5</td>\n",
       "      <td>99</td>\n",
       "      <td>239999</td>\n",
       "    </tr>\n",
       "    <tr>\n",
       "      <th>2018-07-15</th>\n",
       "      <td>999992</td>\n",
       "      <td>47954</td>\n",
       "      <td>99</td>\n",
       "      <td>96</td>\n",
       "      <td>143</td>\n",
       "      <td>1</td>\n",
       "      <td>5</td>\n",
       "      <td>99</td>\n",
       "      <td>239999</td>\n",
       "    </tr>\n",
       "    <tr>\n",
       "      <th>2018-07-22</th>\n",
       "      <td>999998</td>\n",
       "      <td>52504</td>\n",
       "      <td>99</td>\n",
       "      <td>99</td>\n",
       "      <td>149</td>\n",
       "      <td>1</td>\n",
       "      <td>5</td>\n",
       "      <td>99</td>\n",
       "      <td>239998</td>\n",
       "    </tr>\n",
       "    <tr>\n",
       "      <th>2018-07-29</th>\n",
       "      <td>999999</td>\n",
       "      <td>46181</td>\n",
       "      <td>99</td>\n",
       "      <td>92</td>\n",
       "      <td>134</td>\n",
       "      <td>1</td>\n",
       "      <td>5</td>\n",
       "      <td>99</td>\n",
       "      <td>239999</td>\n",
       "    </tr>\n",
       "    <tr>\n",
       "      <th>2018-08-05</th>\n",
       "      <td>999980</td>\n",
       "      <td>44182</td>\n",
       "      <td>99</td>\n",
       "      <td>87</td>\n",
       "      <td>135</td>\n",
       "      <td>1</td>\n",
       "      <td>5</td>\n",
       "      <td>99</td>\n",
       "      <td>239988</td>\n",
       "    </tr>\n",
       "  </tbody>\n",
       "</table>\n",
       "</div>"
      ],
      "text/plain": [
       "            Unnamed: 0   CLNN  FINAL_CD  SAA  MCT_ADM_GDS_APB_CD  DOF_TF  \\\n",
       "TS_D                                                                       \n",
       "2018-07-01      999986  44622        99   83                 113       1   \n",
       "2018-07-08      999996  47645        99  103                 149       1   \n",
       "2018-07-15      999992  47954        99   96                 143       1   \n",
       "2018-07-22      999998  52504        99   99                 149       1   \n",
       "2018-07-29      999999  46181        99   92                 134       1   \n",
       "2018-08-05      999980  44182        99   87                 135       1   \n",
       "\n",
       "            DAW_CCD  MCT_N    TIME  \n",
       "TS_D                                \n",
       "2018-07-01        5     99  239989  \n",
       "2018-07-08        5     99  239999  \n",
       "2018-07-15        5     99  239999  \n",
       "2018-07-22        5     99  239998  \n",
       "2018-07-29        5     99  239999  \n",
       "2018-08-05        5     99  239988  "
      ]
     },
     "execution_count": 50,
     "metadata": {},
     "output_type": "execute_result"
    }
   ],
   "source": [
    "df_t.resample(rule='W').max()  #? 무엇을 max 로 보았다는 뜻인지.... # 각 컬럼 내에서 그 시간 기준별로 max"
   ]
  },
  {
   "cell_type": "code",
   "execution_count": 40,
   "metadata": {},
   "outputs": [],
   "source": [
    "df_weekly_sum = df_t.resample(rule='W').sum()"
   ]
  },
  {
   "cell_type": "code",
   "execution_count": 38,
   "metadata": {},
   "outputs": [
    {
     "data": {
      "text/plain": [
       "TS_D\n",
       "2018-07-01     627320\n",
       "2018-07-08    4428541\n",
       "2018-07-15    4443135\n",
       "2018-07-22    4403182\n",
       "2018-07-29    4418027\n",
       "Freq: W-SUN, Name: SAA, dtype: int64"
      ]
     },
     "execution_count": 38,
     "metadata": {},
     "output_type": "execute_result"
    }
   ],
   "source": [
    "df_weekly_sum.head()['SAA']"
   ]
  },
  {
   "cell_type": "code",
   "execution_count": 42,
   "metadata": {},
   "outputs": [
    {
     "data": {
      "text/plain": [
       "[<matplotlib.lines.Line2D at 0x256237c1898>]"
      ]
     },
     "execution_count": 42,
     "metadata": {},
     "output_type": "execute_result"
    },
    {
     "data": {
      "image/png": "[encoded data removed]",
      "text/plain": [
       "<matplotlib.figure.Figure at 0x25623aeccf8>"
      ]
     },
     "metadata": {},
     "output_type": "display_data"
    }
   ],
   "source": [
    "plt.plot(df_weekly_sum['SAA'])"
   ]
  },
  {
   "cell_type": "code",
   "execution_count": 61,
   "metadata": {},
   "outputs": [],
   "source": [
    "from bokeh.plotting import *\n",
    "from bokeh.models import HoverTool\n",
    "from collections import OrderedDict"
   ]
  },
  {
   "cell_type": "code",
   "execution_count": 22,
   "metadata": {},
   "outputs": [
    {
     "name": "stdout",
     "output_type": "stream",
     "text": [
      "0\n"
     ]
    }
   ],
   "source": [
    "print(plt.rcParams['agg.path.chunksize']) # 오류 발생하여 matplotlib의 파라미터 증가시킴\n",
    "plt.rcParams['agg.path.chunksize'] = 10000"
   ]
  },
  {
   "cell_type": "code",
   "execution_count": 24,
   "metadata": {},
   "outputs": [
    {
     "data": {
      "text/plain": [
       "<matplotlib.collections.PathCollection at 0x16e41e518>"
      ]
     },
     "execution_count": 24,
     "metadata": {},
     "output_type": "execute_result"
    },
    {
     "data": {
      "image/png": "[encoded data removed]",
      "text/plain": [
       "<Figure size 720x720 with 1 Axes>"
      ]
     },
     "metadata": {},
     "output_type": "display_data"
    }
   ],
   "source": [
    "plt.figure(figsize=(10, 10))\n",
    "plt.scatter(df['TS_D'], df['SAA'])"
   ]
  },
  {
   "cell_type": "code",
   "execution_count": 29,
   "metadata": {},
   "outputs": [
    {
     "data": {
      "text/plain": [
       "<matplotlib.collections.PathCollection at 0x16e1a0940>"
      ]
     },
     "execution_count": 29,
     "metadata": {},
     "output_type": "execute_result"
    },
    {
     "data": {
      "image/png": "[encoded data removed]",
      "text/plain": [
       "<Figure size 432x288 with 1 Axes>"
      ]
     },
     "metadata": {},
     "output_type": "display_data"
    }
   ],
   "source": [
    "plt.scatter(df['DAW_CCD'], df['SAA'])"
   ]
  },
  {
   "cell_type": "code",
   "execution_count": 30,
   "metadata": {},
   "outputs": [
    {
     "data": {
      "text/plain": [
       "<matplotlib.collections.PathCollection at 0x16e0f9c18>"
      ]
     },
     "execution_count": 30,
     "metadata": {},
     "output_type": "execute_result"
    },
    {
     "data": {
      "image/png": "[encoded data removed]",
      "text/plain": [
       "<Figure size 432x288 with 1 Axes>"
      ]
     },
     "metadata": {},
     "output_type": "display_data"
    }
   ],
   "source": [
    "plt.scatter(df['DOF_TF'], df['SAA'])"
   ]
  },
  {
   "cell_type": "code",
   "execution_count": 20,
   "metadata": {
    "scrolled": true
   },
   "outputs": [
    {
     "data": {
      "text/plain": [
       "[<matplotlib.lines.Line2D at 0x199e54ec358>]"
      ]
     },
     "execution_count": 20,
     "metadata": {},
     "output_type": "execute_result"
    },
    {
     "data": {
      "image/png": "[encoded data removed]",
      "text/plain": [
       "<matplotlib.figure.Figure at 0x199de482ac8>"
      ]
     },
     "metadata": {},
     "output_type": "display_data"
    }
   ],
   "source": [
    "plt.plot(df['TS_D'], df['SAA'])"
   ]
  },
  {
   "cell_type": "code",
   "execution_count": 28,
   "metadata": {},
   "outputs": [
    {
     "data": {
      "text/plain": [
       "[<matplotlib.lines.Line2D at 0x199e1c65d68>]"
      ]
     },
     "execution_count": 28,
     "metadata": {},
     "output_type": "execute_result"
    },
    {
     "data": {
      "image/png": "[encoded data removed]",
      "text/plain": [
       "<matplotlib.figure.Figure at 0x199e1c27a58>"
      ]
     },
     "metadata": {},
     "output_type": "display_data"
    }
   ],
   "source": [
    "plt.plot(df['SAA'], '-')"
   ]
  },
  {
   "cell_type": "code",
   "execution_count": null,
   "metadata": {},
   "outputs": [],
   "source": [
    "plt.plot([10, 20, 30, 40], [1, 4, 9, 16], 'rs--')"
   ]
  },
  {
   "cell_type": "code",
   "execution_count": 27,
   "metadata": {},
   "outputs": [],
   "source": [
    "# data = df.pivot(index='TS_D', columns='DAW_CCD', values='SAA')\n",
    "\n",
    "# # Index contains duplicate entries, cannot reshape"
   ]
  },
  {
   "cell_type": "code",
   "execution_count": null,
   "metadata": {},
   "outputs": [],
   "source": []
  },
  {
   "cell_type": "code",
   "execution_count": null,
   "metadata": {},
   "outputs": [],
   "source": []
  },
  {
   "cell_type": "code",
   "execution_count": null,
   "metadata": {},
   "outputs": [],
   "source": []
  },
  {
   "cell_type": "code",
   "execution_count": null,
   "metadata": {},
   "outputs": [],
   "source": [
    "# customized function\n",
    "\n",
    "def first_day(entry):\n",
    "    return entry[0]\n",
    "\n",
    "df.resample('A').apply(first_day)"
   ]
  },
  {
   "cell_type": "code",
   "execution_count": null,
   "metadata": {},
   "outputs": [],
   "source": []
  },
  {
   "cell_type": "code",
   "execution_count": null,
   "metadata": {},
   "outputs": [],
   "source": []
  },
  {
   "cell_type": "code",
   "execution_count": null,
   "metadata": {},
   "outputs": [],
   "source": []
  },
  {
   "cell_type": "code",
   "execution_count": null,
   "metadata": {},
   "outputs": [],
   "source": []
  },
  {
   "cell_type": "code",
   "execution_count": null,
   "metadata": {},
   "outputs": [],
   "source": [
    "# 각 close에 대해 매년 평균 구하고 bar 차트를 그려라\n",
    "df['Close'].resample('A').mean().plot(kind='bar') \n",
    "df['Close'].resample('M').mean().plot(kind='bar', figsize=(16, 6))"
   ]
  },
  {
   "cell_type": "markdown",
   "metadata": {},
   "source": [
    "DateTime Index\n",
    "Time Resampling\n",
    "Time Shifts\n",
    "Rolling and Expanding"
   ]
  },
  {
   "cell_type": "markdown",
   "metadata": {},
   "source": [
    "dataframe의 행 또는 열 삭제하기"
   ]
  },
  {
   "cell_type": "code",
   "execution_count": null,
   "metadata": {},
   "outputs": [],
   "source": [
    "# 열 삭제\n",
    "df = df.drop('col_name', 1) # 여기서 1은 축 번호, 행은 0, 열은 1\n",
    "\n",
    "# 혹은 df를 재할당하지 않고 열 삭제\n",
    "df.drop('col_name', axis=1, inplace=True)\n",
    "\n",
    "# 열 레이블 대신 열 번호를 사용하여 삭제\n",
    "df.drop(df.columns[[0, 1, 3]], axis=1)"
   ]
  },
  {
   "cell_type": "code",
   "execution_count": null,
   "metadata": {},
   "outputs": [],
   "source": []
  },
  {
   "cell_type": "code",
   "execution_count": null,
   "metadata": {},
   "outputs": [],
   "source": []
  },
  {
   "cell_type": "markdown",
   "metadata": {},
   "source": [
    "### Join Data"
   ]
  },
  {
   "cell_type": "markdown",
   "metadata": {},
   "source": [
    "### 다른 df로부터 정보 추출하여 매칭하기"
   ]
  },
  {
   "cell_type": "code",
   "execution_count": null,
   "metadata": {},
   "outputs": [],
   "source": [
    "# 먼저 CLNN 과 주 소비지역(행정동)으로 aggregate 후 고객 demo정보 매칭\n",
    "# 먼저 CLNN 과 주 소비시간(시간)으로 aggregate 후 demo정보 매칭\n",
    "# 먼저 CLNN 과 주 업종? 으로 aggregate 후 demo정보 매칭"
   ]
  },
  {
   "cell_type": "code",
   "execution_count": 130,
   "metadata": {},
   "outputs": [
    {
     "data": {
      "text/html": [
       "<div>\n",
       "<style scoped>\n",
       "    .dataframe tbody tr th:only-of-type {\n",
       "        vertical-align: middle;\n",
       "    }\n",
       "\n",
       "    .dataframe tbody tr th {\n",
       "        vertical-align: top;\n",
       "    }\n",
       "\n",
       "    .dataframe thead th {\n",
       "        text-align: right;\n",
       "    }\n",
       "</style>\n",
       "<table border=\"1\" class=\"dataframe\">\n",
       "  <thead>\n",
       "    <tr style=\"text-align: right;\">\n",
       "      <th></th>\n",
       "      <th>MCT_N</th>\n",
       "      <th>FINAL_CD</th>\n",
       "      <th>FINAL_CD_NM</th>\n",
       "    </tr>\n",
       "  </thead>\n",
       "  <tbody>\n",
       "    <tr>\n",
       "      <th>0</th>\n",
       "      <td>63</td>\n",
       "      <td>24</td>\n",
       "      <td>12</td>\n",
       "    </tr>\n",
       "    <tr>\n",
       "      <th>1</th>\n",
       "      <td>57</td>\n",
       "      <td>24</td>\n",
       "      <td>12</td>\n",
       "    </tr>\n",
       "    <tr>\n",
       "      <th>2</th>\n",
       "      <td>95</td>\n",
       "      <td>66</td>\n",
       "      <td>11</td>\n",
       "    </tr>\n",
       "    <tr>\n",
       "      <th>3</th>\n",
       "      <td>58</td>\n",
       "      <td>79</td>\n",
       "      <td>4</td>\n",
       "    </tr>\n",
       "    <tr>\n",
       "      <th>4</th>\n",
       "      <td>73</td>\n",
       "      <td>70</td>\n",
       "      <td>96</td>\n",
       "    </tr>\n",
       "  </tbody>\n",
       "</table>\n",
       "</div>"
      ],
      "text/plain": [
       "   MCT_N  FINAL_CD  FINAL_CD_NM\n",
       "0     63        24           12\n",
       "1     57        24           12\n",
       "2     95        66           11\n",
       "3     58        79            4\n",
       "4     73        70           96"
      ]
     },
     "execution_count": 130,
     "metadata": {},
     "output_type": "execute_result"
    }
   ],
   "source": [
    "# upjong\n",
    "\n",
    "num_upjong = 2786049\n",
    "upjong = pd.DataFrame(np.random.randint(0, 100, size=(num_upjong, 3)))\n",
    "upjong.columns = ['MCT_N', 'FINAL_CD', 'FINAL_CD_NM']\n",
    "upjong.head()\n",
    "\n",
    "# MCT_N: 가맹점 번호(문자)\n",
    "# FINAL_CD: 업종 코드(숫자)\n",
    "# FINAL_CD_NM: 업종 코드 명(문자)"
   ]
  },
  {
   "cell_type": "code",
   "execution_count": null,
   "metadata": {},
   "outputs": [],
   "source": [
    "# demo\n",
    "\n",
    "# CLNN (문자)\n",
    "# SEX_CCD: M:남성 F:여성 (문자)\n",
    "# CLN_AGE: 숫자\n",
    "# AGE_GB (나이그룹핑) (총 5그룹) (문자) \n",
    "# - 01_25세이하\n",
    "# - 02_26-30세\n",
    "# - 03_31-40세\n",
    "# - 04_41_60세\n",
    "# - 05_61세 이상\n",
    "# HOME_HJ_CD: 고객 집주소 행정동 코드(null값 가능)\n",
    "# JOB_HJ_CD: 고객 직장주소 행정동 코드(null값 가능)\n"
   ]
  },
  {
   "cell_type": "code",
   "execution_count": 144,
   "metadata": {},
   "outputs": [],
   "source": [
    "# 행정동 코드 정보\n",
    "\n",
    "hj = pd.DataFrame(np.random.randint(0, 423, size=(4000, 2)))\n",
    "hj.columns = ['HJ_CD', 'HJ_CD_NM']\n",
    "\n",
    "import random\n",
    "import string\n",
    "hjd = random.choice(string.ascii_letters)\n",
    "\n",
    "# WID_CTY_CD: 광역도시 코드(문자)\n",
    "# GDS_CTY_CD: GDS시군구코드(문자)\n",
    "# GDS_BRG_CD: GDS구군코드(문자)\n",
    "# ADM_GDS_VLG_CD: 행정GDS읍면동 코드(문자)\n",
    "# HJ_CD: 행정동코드(광역도시코드||GDS시군구코드||DS구군코드||행정GDS읍면동 코드) (문자) * 가맹점/고객행정동 코드와 조인 가능 \n",
    "# GDS_WID_TRL_NM: 광역도시코드명(문자) * 11: 서울\n",
    "# GDS_DSR_NM: 시군구코드명 (문자)\n",
    "# GDS_OL_DM: 구군코드명(문자)\n",
    "# HJ_CD_NM: 시군구코드명||행정읍면동 코드명(문자) * HG_CD에 해당하는 코드명으로 향후 행정동명 세팅시 본 컬럼 이용 가능"
   ]
  },
  {
   "cell_type": "code",
   "execution_count": 161,
   "metadata": {},
   "outputs": [
    {
     "ename": "NameError",
     "evalue": "name 'a' is not defined",
     "output_type": "error",
     "traceback": [
      "\u001b[0;31m---------------------------------------------------------------------------\u001b[0m",
      "\u001b[0;31mNameError\u001b[0m                                 Traceback (most recent call last)",
      "\u001b[0;32m<ipython-input-161-9fca960cb3fe>\u001b[0m in \u001b[0;36m<module>\u001b[0;34m()\u001b[0m\n\u001b[1;32m      1\u001b[0m \u001b[0;32mdef\u001b[0m \u001b[0mrandchar\u001b[0m\u001b[0;34m(\u001b[0m\u001b[0ma\u001b[0m\u001b[0;34m,\u001b[0m \u001b[0mb\u001b[0m\u001b[0;34m)\u001b[0m\u001b[0;34m:\u001b[0m\u001b[0;34m\u001b[0m\u001b[0m\n\u001b[1;32m      2\u001b[0m     \u001b[0;32mreturn\u001b[0m \u001b[0mchr\u001b[0m\u001b[0;34m(\u001b[0m\u001b[0mrandom\u001b[0m\u001b[0;34m.\u001b[0m\u001b[0mrandint\u001b[0m\u001b[0;34m(\u001b[0m\u001b[0mord\u001b[0m\u001b[0;34m(\u001b[0m\u001b[0ma\u001b[0m\u001b[0;34m)\u001b[0m\u001b[0;34m,\u001b[0m \u001b[0mord\u001b[0m\u001b[0;34m(\u001b[0m\u001b[0mb\u001b[0m\u001b[0;34m)\u001b[0m\u001b[0;34m)\u001b[0m\u001b[0;34m)\u001b[0m\u001b[0;34m\u001b[0m\u001b[0m\n\u001b[0;32m----> 3\u001b[0;31m \u001b[0mrandchar\u001b[0m\u001b[0;34m(\u001b[0m\u001b[0ma\u001b[0m\u001b[0;34m,\u001b[0m \u001b[0mb\u001b[0m\u001b[0;34m)\u001b[0m\u001b[0;34m\u001b[0m\u001b[0m\n\u001b[0m",
      "\u001b[0;31mNameError\u001b[0m: name 'a' is not defined"
     ]
    }
   ],
   "source": [
    "def randchar(a, b):\n",
    "    return chr(random.randint(ord(a), ord(b)))\n",
    "randchar(a, b)"
   ]
  },
  {
   "cell_type": "code",
   "execution_count": 152,
   "metadata": {},
   "outputs": [
    {
     "data": {
      "text/plain": [
       "array('hSfTjKJcIDqAqKbyVjXtoadYRFwLJc', dtype='<U30')"
      ]
     },
     "execution_count": 152,
     "metadata": {},
     "output_type": "execute_result"
    }
   ],
   "source": [
    "np.array(random_char(30))"
   ]
  },
  {
   "cell_type": "code",
   "execution_count": 131,
   "metadata": {},
   "outputs": [],
   "source": [
    "# Join df_agg and 행정동\n",
    "\n",
    "df_agg \n"
   ]
  },
  {
   "cell_type": "code",
   "execution_count": null,
   "metadata": {},
   "outputs": [],
   "source": []
  },
  {
   "cell_type": "markdown",
   "metadata": {},
   "source": [
    "필요로 하는 집계함수가 pandas GroupBy methods에 없는 경우 사용자 정의 함수를 정의해서 집계에 사용할 수 있습니다. IQR(Inter-Quartile Range, Q3 - Q1) 를 사용자 정의 함수로 정의하고, 이를 grouped.aggregate() 혹은 grouped.agg() 의 괄호 안에 넣어서 그룹 별로 IQR를 계산해보겠습니다. "
   ]
  },
  {
   "cell_type": "code",
   "execution_count": null,
   "metadata": {},
   "outputs": [],
   "source": [
    "def iqr_func(x):\n",
    "\n",
    "    q3, q1 = np.percentile(x, [75, 25])\n",
    "\n",
    "    iqr = q3 - q1\n",
    "\n",
    "    return iqr"
   ]
  },
  {
   "cell_type": "code",
   "execution_count": null,
   "metadata": {},
   "outputs": [],
   "source": [
    "groupedByDong.agg(iqr_func) # groupedByDong.aggregate(iqr_func) 도 같은 결과"
   ]
  },
  {
   "cell_type": "code",
   "execution_count": null,
   "metadata": {},
   "outputs": [],
   "source": []
  }
 ],
 "metadata": {
  "kernelspec": {
   "display_name": "Python 3",
   "language": "python",
   "name": "python3"
  },
  "language_info": {
   "codemirror_mode": {
    "name": "ipython",
    "version": 3
   },
   "file_extension": ".py",
   "mimetype": "text/x-python",
   "name": "python",
   "nbconvert_exporter": "python",
   "pygments_lexer": "ipython3",
   "version": "3.6.4"
  }
 },
 "nbformat": 4,
 "nbformat_minor": 2
}
