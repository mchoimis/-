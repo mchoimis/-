{
 "cells": [
  {
   "cell_type": "markdown",
   "metadata": {
    "school_cell_uuid": "f07c2bbeb20045cea0f21740fac61cea"
   },
   "source": [
    "# 파이썬에서 날짜와 시간 다루기\n"
   ]
  },
  {
   "cell_type": "markdown",
   "metadata": {
    "school_cell_uuid": "77d56919e7864c53b5e1164a99975abc"
   },
   "source": [
    "날짜와 시간은 파이썬에서 기본으로 제공하는 자료형에는 포함되어 있지 않지만 데이터 분석에 있어 빠질 수 없는 중요한 자료형이다. 여기에서는 날짜와 시간을 다루기 위한 패키지를 소개한다. 날짜와 시간과 관련된 기능을 제공하는 패키지는 다음과 같은 것들이 있다. 여기에서는 ``datetime``과 ``dateutil`` 패키지에 대해서만 설명한다. "
   ]
  },
  {
   "cell_type": "markdown",
   "metadata": {
    "school_cell_uuid": "f9952c486aec44f8a90430191cf06e82"
   },
   "source": [
    "  * `datetime`: https://docs.python.org/2/library/datetime.html    \n",
    "  * `dateutil`: http://dateutil.readthedocs.org/en/latest/index.html\n",
    "  * `pytz`: http://pythonhosted.org/pytz/\n",
    "  * `time`: https://docs.python.org/2/library/time.html \n"
   ]
  },
  {
   "cell_type": "markdown",
   "metadata": {
    "school_cell_uuid": "980b64a0ccbc4ac9abf649a0432053a1"
   },
   "source": [
    "## ``datetime`` 패키지"
   ]
  },
  {
   "cell_type": "markdown",
   "metadata": {
    "school_cell_uuid": "b7df5a981b314483bbafce47f094a2fc"
   },
   "source": [
    "``datatime`` 패키지에서는 날짜와 시간을 함께 저장하는 ``datetime`` 클래스, 날짜만 저장하는 ``date`` 클래스, 시간만 저장하는 ``time`` 클래스, 시간 구간 정보를 저장하는 ``timedelta`` 클래스 등을 제공한다."
   ]
  },
  {
   "cell_type": "markdown",
   "metadata": {
    "school_cell_uuid": "0b8452a8448f4f66b852804fa0d33003"
   },
   "source": [
    "먼저 datetime 패키지를 다음과 같이 임포트한다."
   ]
  },
  {
   "cell_type": "code",
   "execution_count": 1,
   "metadata": {
    "school_cell_uuid": "adb85f3ee1b847fcb8fa46a0586d5f6d"
   },
   "outputs": [],
   "source": [
    "import datetime"
   ]
  },
  {
   "cell_type": "markdown",
   "metadata": {
    "school_cell_uuid": "5cdf21305b4a4db28836ad8b19d4356f"
   },
   "source": [
    "### ``datetime.datetime`` 클래스"
   ]
  },
  {
   "cell_type": "markdown",
   "metadata": {
    "school_cell_uuid": "aa80ff9ec0954048b267b9c8cb308f21"
   },
   "source": [
    "우선 ``datetime.datetime`` 클래스부터 알아보자. 패키지 이름과 클래스 이름이 ``datetime``으로 같기 때문에 사용할 때 주의해야 한다. 또한 다른 클래스와 달리 클래스 이름이 대문자로 시작하지 않는다. ``datetime.datetime`` 클래스에는 객체를 생성하지 않고도 바로 클래스에서 사용할 수 있는 **클래스 메서드**라는 것을 제공한다. 가장 대표적인 것이 현재 시각을 출력하는 ``now()`` 메서드이다."
   ]
  },
  {
   "cell_type": "code",
   "execution_count": 2,
   "metadata": {
    "school_cell_uuid": "80407accf98c4edfb8945457c066e828"
   },
   "outputs": [
    {
     "data": {
      "text/plain": [
       "datetime.datetime(2018, 8, 30, 1, 26, 55, 731039)"
      ]
     },
     "execution_count": 2,
     "metadata": {},
     "output_type": "execute_result"
    }
   ],
   "source": [
    "dt = datetime.datetime.now()\n",
    "dt"
   ]
  },
  {
   "cell_type": "markdown",
   "metadata": {
    "school_cell_uuid": "1c7c885bd4f143d9b1c549a26e6bdcc8"
   },
   "source": [
    "``now()`` 클래스 메서드는 컴퓨터의 현재 시각을 ``datetime.datetime`` 클래스 객체로 만들어 반환한다. ``datetime.datetime`` 클래스 객체는 다음과 같은 속성을 가진다.\n",
    "\n",
    "* `year`: 연도\n",
    "* `month`: 월\n",
    "* `day`: 일\n",
    "* `hour`: 시\n",
    "* `minute`: 분\n",
    "* `second`: 초\n",
    "* `microsecond`: 마이크로초(micro seconds, 백만분의 일초) "
   ]
  },
  {
   "cell_type": "code",
   "execution_count": 3,
   "metadata": {
    "school_cell_uuid": "673da5fee07f4f3b954e33a2bede5e84"
   },
   "outputs": [
    {
     "data": {
      "text/plain": [
       "(2018, 8, 30, 1, 26, 55, 731039)"
      ]
     },
     "execution_count": 3,
     "metadata": {},
     "output_type": "execute_result"
    }
   ],
   "source": [
    "dt.year, dt.month, dt.day, dt.hour, dt.minute, dt.second, dt.microsecond"
   ]
  },
  {
   "cell_type": "markdown",
   "metadata": {
    "school_cell_uuid": "1cab85d7be9641b098bedc192de33a7f"
   },
   "source": [
    "다음과 같은 메서드도 제공한다.\n",
    "\n",
    "\n",
    "* `weekday()`: 요일 반환 (0:월, 1:화, 2:수, 3:목, 4:금, 5:토, 6:일)\n",
    "* `strftime()`: 문자열 반환\n",
    "* `date()`: 날짜 정보만 가지는 ``datetime.date`` 클래스 객체 반환\n",
    "* `time()`: 시간 정보만 가지는 ``datetime.time`` 클래스 객체 반환"
   ]
  },
  {
   "cell_type": "code",
   "execution_count": 4,
   "metadata": {
    "school_cell_uuid": "02811e2ebe554745a87679aa6babb7d9"
   },
   "outputs": [
    {
     "data": {
      "text/plain": [
       "3"
      ]
     },
     "execution_count": 4,
     "metadata": {},
     "output_type": "execute_result"
    }
   ],
   "source": [
    "dt.weekday()  # {0:월, 1:화, 2:수, 3:목, 4:금, 5:토, 6:일}"
   ]
  },
  {
   "cell_type": "markdown",
   "metadata": {
    "school_cell_uuid": "462ee80238e249a19a0eb5c7df3f4ea2"
   },
   "source": [
    "이 중 특히 많이 사용되는 것이 날짜와 시간 정보를 문자열로 바꿔주는 ``strftime()`` 메서드이다. 이 메서드는 어떤 형식으로 문자열을 만들지 결정하는 형식 문자열을 인수로 받는다. 형식 문자열은 날짜 및 시간 지정 문자열을 포함한다. 다음은 많이 사용되는 날짜 및 시간 지정 문자열이다."
   ]
  },
  {
   "cell_type": "markdown",
   "metadata": {
    "school_cell_uuid": "75523828ac51454abd4473881d72c35a"
   },
   "source": [
    "| 날짜 및 시간 지정 문자열 | 의미 |\n",
    "|-|-|\n",
    "| ``%Y`` | 앞의 빈자리를 0으로 채우는 4자리 연도 숫자 |\n",
    "| ``%m`` | 앞의 빈자리를 0으로 채우는 2자리 월 숫자 |\n",
    "| ``%d`` | 앞의 빈자리를 0으로 채우는 2자리 일 숫자 |\n",
    "| ``%H`` | 앞의 빈자리를 0으로 채우는 24시간 형식 2자리 시간 숫자 |\n",
    "| ``%M`` | 앞의 빈자리를 0으로 채우는 2자리 분 숫자 |\n",
    "| ``%S`` | 앞의 빈자리를 0으로 채우는 2자리 초 숫자 |\n",
    "| ``%A`` | 영어로 된 요일 문자열 |\n",
    "| ``%B`` | 영어로 된 월 문자열 |"
   ]
  },
  {
   "cell_type": "markdown",
   "metadata": {
    "school_cell_uuid": "4225c6e55e0a42bfb63a8d895d2bf568",
    "sidetitle": true
   },
   "source": [
    "표 3.2.3 : 날짜 및 시간 지정 문자열"
   ]
  },
  {
   "cell_type": "markdown",
   "metadata": {
    "school_cell_uuid": "d2a22f429fe74501bc1ce8d7d68c6d5e"
   },
   "source": [
    "이밖의 다른 날짜 및 시간 지정 문자열에 대해서는 다음 링크를 참조한다.\n",
    "\n",
    "* [https://docs.python.org/2/library/datetime.html#strftime-and-strptime-behavior](https://docs.python.org/2/library/datetime.html#strftime-and-strptime-behavior)\n",
    "\n",
    "예를 들어 위에서 저장한 변수 ``dt``의 시간 정보는 다음처럼 문자열로 바꿀 수 있다."
   ]
  },
  {
   "cell_type": "code",
   "execution_count": 5,
   "metadata": {
    "school_cell_uuid": "3cc117c083904592ae4eb203a3232040"
   },
   "outputs": [
    {
     "data": {
      "text/plain": [
       "'Thursday 30. August 2018'"
      ]
     },
     "execution_count": 5,
     "metadata": {},
     "output_type": "execute_result"
    }
   ],
   "source": [
    "dt.strftime(\"%A %d. %B %Y\")"
   ]
  },
  {
   "cell_type": "code",
   "execution_count": 6,
   "metadata": {
    "school_cell_uuid": "181a8542916e49e8a7da9ff81281b983"
   },
   "outputs": [
    {
     "name": "stdout",
     "output_type": "stream",
     "text": [
      "01시 26분 55초\n"
     ]
    }
   ],
   "source": [
    "print(dt.strftime(\"%H시 %M분 %S초\"))"
   ]
  },
  {
   "cell_type": "markdown",
   "metadata": {
    "school_cell_uuid": "064c124e48664e4babaf4b88ae1fc9c7"
   },
   "source": [
    "반대로 문자열로부터 날짜와 시간 정보를 읽어서 datetime.datetime 클래스 객체를 만들 수도 있다. 이 때는 ``datetime.datetime.strptime()`` 클래스 메서드를 사용한다. 첫 번째 인수로는 날짜와 시간 정보를 가진 문자열을, 두번째 인수로는 그 문자열을 해독할 수 있는 형식 문자열을 넣는다."
   ]
  },
  {
   "cell_type": "code",
   "execution_count": 7,
   "metadata": {
    "school_cell_uuid": "de36800900d94663bd00a473a50a13f5"
   },
   "outputs": [
    {
     "data": {
      "text/plain": [
       "datetime.datetime(2017, 1, 2, 14, 44)"
      ]
     },
     "execution_count": 7,
     "metadata": {},
     "output_type": "execute_result"
    }
   ],
   "source": [
    "datetime.datetime.strptime(\"2017-01-02 14:44\", \"%Y-%m-%d %H:%M\")"
   ]
  },
  {
   "cell_type": "markdown",
   "metadata": {
    "school_cell_uuid": "2988fe8095454d22989a623741f60fe2"
   },
   "source": [
    "## ``dateutil`` 패키지"
   ]
  },
  {
   "cell_type": "markdown",
   "metadata": {
    "school_cell_uuid": "e7cd61765b134b95aff1f1320b8d1a93"
   },
   "source": [
    "``datetime.datetime.strptime()`` 클래스 메서드를 사용할 때는 문자열에 맞는 형식 문자열을 사용자가 제공해야 한다. 그러나 ``dateutil`` 패키지의 ``parse`` 명령을 쓰면 자동으로 형식 문자열을 찾아 ``datetime.datetime`` 클래스 객체를 만들어 준다."
   ]
  },
  {
   "cell_type": "code",
   "execution_count": 8,
   "metadata": {
    "school_cell_uuid": "1d757f40542045de9b2563f9271ef4d9"
   },
   "outputs": [],
   "source": [
    "from dateutil.parser import parse"
   ]
  },
  {
   "cell_type": "code",
   "execution_count": 9,
   "metadata": {
    "school_cell_uuid": "05570130b4614f9b96bb48732a5dde0f"
   },
   "outputs": [
    {
     "data": {
      "text/plain": [
       "datetime.datetime(2016, 4, 16, 0, 0)"
      ]
     },
     "execution_count": 9,
     "metadata": {},
     "output_type": "execute_result"
    }
   ],
   "source": [
    "parse('2016-04-16')"
   ]
  },
  {
   "cell_type": "code",
   "execution_count": 10,
   "metadata": {
    "school_cell_uuid": "f56d0e0ff6ea46f596e859dbc6e63c93"
   },
   "outputs": [
    {
     "data": {
      "text/plain": [
       "datetime.datetime(2016, 4, 16, 16, 5, 32)"
      ]
     },
     "execution_count": 10,
     "metadata": {},
     "output_type": "execute_result"
    }
   ],
   "source": [
    "parse(\"Apr 16, 2016 04:05:32 PM\")"
   ]
  },
  {
   "cell_type": "markdown",
   "metadata": {
    "school_cell_uuid": "366783109db34536bd92a0ec80710024"
   },
   "source": [
    "다만 월과 일이 모두 12보다 작은 숫자일 때는 먼저 나오는 숫자를 월로 나중에 나오는 숫자를 일로 판단한다."
   ]
  },
  {
   "cell_type": "code",
   "execution_count": 11,
   "metadata": {
    "school_cell_uuid": "4d1f316991214d5abe48ee8e5de4a1c9"
   },
   "outputs": [
    {
     "data": {
      "text/plain": [
       "datetime.datetime(2016, 6, 7, 0, 0)"
      ]
     },
     "execution_count": 11,
     "metadata": {},
     "output_type": "execute_result"
    }
   ],
   "source": [
    "parse('6/7/2016')"
   ]
  },
  {
   "cell_type": "markdown",
   "metadata": {
    "school_cell_uuid": "f391924e97df4f5d9a43fffd332eef46"
   },
   "source": [
    "### ``timedelta`` 클래스와 날짜/시간 연산"
   ]
  },
  {
   "cell_type": "markdown",
   "metadata": {
    "school_cell_uuid": "3498b5f0a40543b08f86d22302113b36"
   },
   "source": [
    "날짜나 시간의 간격을 구할 때는 두 개의 ``datetime.datetime`` 클래스 객체의 차이를 구한다. 이 결과는  ``datetime.timedelta`` 클래스 객체로 반환된다."
   ]
  },
  {
   "cell_type": "code",
   "execution_count": 12,
   "metadata": {
    "school_cell_uuid": "b3df625cd27e473dbd9b291b593a88db"
   },
   "outputs": [
    {
     "data": {
      "text/plain": [
       "datetime.timedelta(48, 3600)"
      ]
     },
     "execution_count": 12,
     "metadata": {},
     "output_type": "execute_result"
    }
   ],
   "source": [
    "dt1 = datetime.datetime(2016, 2, 19, 14)\n",
    "dt2 = datetime.datetime(2016, 1, 2, 13)\n",
    "td = dt1 - dt2\n",
    "td"
   ]
  },
  {
   "cell_type": "markdown",
   "metadata": {
    "school_cell_uuid": "1e2b2e1c655e4d599468902d5f0ddf2c"
   },
   "source": [
    "``datetime.timedelta`` 클래스는 다음과 같은 속성과 메서드를 가진다.\n",
    "\n",
    "* 속성\n",
    " * `days`: 일수\n",
    " * `seconds`: 초 (0 ~ 86399)\n",
    " * `microseconds`: 마이크로초 (0 and 999999)\n",
    "\n",
    "* 메서드\n",
    " * `total_seconds()`: 모든 속성을 초단위로 모아서 변환"
   ]
  },
  {
   "cell_type": "code",
   "execution_count": 13,
   "metadata": {
    "school_cell_uuid": "3c1af41f0ca64e75abba51389bcc28e9"
   },
   "outputs": [
    {
     "data": {
      "text/plain": [
       "(48, 3600, 0)"
      ]
     },
     "execution_count": 13,
     "metadata": {},
     "output_type": "execute_result"
    }
   ],
   "source": [
    "td.days, td.seconds, td.microseconds"
   ]
  },
  {
   "cell_type": "code",
   "execution_count": 14,
   "metadata": {
    "school_cell_uuid": "2e29c7937c974bbea0aeee45f480a6c2"
   },
   "outputs": [
    {
     "data": {
      "text/plain": [
       "4150800.0"
      ]
     },
     "execution_count": 14,
     "metadata": {},
     "output_type": "execute_result"
    }
   ],
   "source": [
    "td.total_seconds()"
   ]
  },
  {
   "cell_type": "markdown",
   "metadata": {
    "school_cell_uuid": "dcfd89c4f1af4d809bafbaf116ba3c6a"
   },
   "source": [
    "반대로 ``datetime.datetime`` 클래스 객체에 ``datetime.timedelta`` 클래스 객체를 더해서 새로운 시간을 구할 수도 있다."
   ]
  },
  {
   "cell_type": "code",
   "execution_count": 15,
   "metadata": {
    "school_cell_uuid": "577597143e3a413784b2e9ac74097672"
   },
   "outputs": [],
   "source": [
    "t0 = datetime.datetime(2018, 9, 1, 13)\n",
    "d = datetime.timedelta(days=90, seconds=3600)"
   ]
  },
  {
   "cell_type": "code",
   "execution_count": 16,
   "metadata": {
    "school_cell_uuid": "7ab9b94fbaa04cb29b3aacf1e3ee8adc"
   },
   "outputs": [
    {
     "data": {
      "text/plain": [
       "datetime.datetime(2018, 11, 30, 14, 0)"
      ]
     },
     "execution_count": 16,
     "metadata": {},
     "output_type": "execute_result"
    }
   ],
   "source": [
    "t0 + d"
   ]
  }
 ],
 "metadata": {
  "celltoolbar": "Edit Metadata",
  "kernelspec": {
   "display_name": "Python 3",
   "language": "python",
   "name": "python3"
  },
  "language_info": {
   "codemirror_mode": {
    "name": "ipython",
    "version": 3
   },
   "file_extension": ".py",
   "mimetype": "text/x-python",
   "name": "python",
   "nbconvert_exporter": "python",
   "pygments_lexer": "ipython3",
   "version": "3.6.4"
  }
 },
 "nbformat": 4,
 "nbformat_minor": 1
}