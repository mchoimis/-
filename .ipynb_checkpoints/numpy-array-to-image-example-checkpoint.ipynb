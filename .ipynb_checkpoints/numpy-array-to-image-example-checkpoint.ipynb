{
 "cells": [
  {
   "cell_type": "code",
   "execution_count": 1,
   "metadata": {},
   "outputs": [],
   "source": [
    "from PIL import Image\n",
    "import numpy as np\n",
    "\n",
    "w, h = 512, 512\n",
    "data = np.zeros((h, w, 3), dtype=np.uint8)\n",
    "data[256, 256] = [255, 0, 0]\n",
    "img = Image.fromarray(data, 'RGB')\n",
    "img.save('my.png')\n",
    "img.show()"
   ]
  },
  {
   "cell_type": "code",
   "execution_count": 21,
   "metadata": {},
   "outputs": [],
   "source": [
    "data = np.random.sample(49*49)\n",
    "data = data.reshape(49, 49) \n",
    "img = Image.fromarray(data, 'L')\n",
    "img.save('my.png')\n",
    "img.show() "
   ]
  },
  {
   "cell_type": "code",
   "execution_count": 17,
   "metadata": {},
   "outputs": [],
   "source": [
    "data = data * (-1)"
   ]
  },
  {
   "cell_type": "code",
   "execution_count": 18,
   "metadata": {},
   "outputs": [
    {
     "data": {
      "text/plain": [
       "array([[-0.56932293, -0.02289302, -0.92741829, ..., -0.50277028,\n",
       "        -0.05973408, -0.58661016],\n",
       "       [-0.52535515, -0.23824902, -0.34830389, ..., -0.00889662,\n",
       "        -0.96136498, -0.87253703],\n",
       "       [-0.96330949, -0.24115372, -0.54170913, ..., -0.25636445,\n",
       "        -0.10149371, -0.18971306],\n",
       "       ...,\n",
       "       [-0.18082149, -0.86315427, -0.51279916, ..., -0.0462149 ,\n",
       "        -0.05702884, -0.17299855],\n",
       "       [-0.88915794, -0.67502853, -0.82668489, ..., -0.40034714,\n",
       "        -0.9629558 , -0.69093355],\n",
       "       [-0.58674205, -0.53128423, -0.48068723, ..., -0.63422123,\n",
       "        -0.64085262, -0.80826684]])"
      ]
     },
     "execution_count": 18,
     "metadata": {},
     "output_type": "execute_result"
    }
   ],
   "source": [
    "data"
   ]
  },
  {
   "cell_type": "code",
   "execution_count": 19,
   "metadata": {},
   "outputs": [],
   "source": [
    "img = Image.fromarray(data, 'L')\n",
    "img.save('my.png')\n",
    "img.show() "
   ]
  },
  {
   "cell_type": "code",
   "execution_count": 20,
   "metadata": {},
   "outputs": [],
   "source": [
    "img = Image.fromarray(data, 'RGB')\n",
    "img.save('my.png')\n",
    "img.show() "
   ]
  },
  {
   "cell_type": "code",
   "execution_count": 12,
   "metadata": {},
   "outputs": [],
   "source": []
  },
  {
   "cell_type": "code",
   "execution_count": null,
   "metadata": {},
   "outputs": [],
   "source": []
  }
 ],
 "metadata": {
  "kernelspec": {
   "display_name": "Python 3",
   "language": "python",
   "name": "python3"
  },
  "language_info": {
   "codemirror_mode": {
    "name": "ipython",
    "version": 3
   },
   "file_extension": ".py",
   "mimetype": "text/x-python",
   "name": "python",
   "nbconvert_exporter": "python",
   "pygments_lexer": "ipython3",
   "version": "3.6.8"
  }
 },
 "nbformat": 4,
 "nbformat_minor": 2
}
