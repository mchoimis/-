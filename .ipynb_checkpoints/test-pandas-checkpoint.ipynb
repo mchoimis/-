{
 "cells": [
  {
   "cell_type": "code",
   "execution_count": null,
   "metadata": {
    "scrolled": true
   },
   "outputs": [],
   "source": [
    "# Python version check\n",
    "import sys\n",
    "!{sys.executable} --version"
   ]
  },
  {
   "cell_type": "code",
   "execution_count": 10,
   "metadata": {},
   "outputs": [],
   "source": [
    "import numpy as np\n",
    "import pandas as pd\n",
    "from pandas import DataFrame, Series\n",
    "import datetime\n",
    "import time\n",
    "import matplotlib.pyplot as plt\n",
    "%matplotlib inline"
   ]
  },
  {
   "cell_type": "markdown",
   "metadata": {},
   "source": [
    "Step 0. Glossary \n",
    "    - trx07 \n",
    "    - trx08\n",
    "    - trx09\n",
    "    - upjong\n",
    "    - cus"
   ]
  },
  {
   "cell_type": "markdown",
   "metadata": {},
   "source": [
    "Step 1. Data Extraction "
   ]
  },
  {
   "cell_type": "code",
   "execution_count": 11,
   "metadata": {},
   "outputs": [],
   "source": [
    "# make sample\n",
    "\n",
    "num_txn = 1000000 # 1/100 of real data \n",
    "num_cus = 40000 # 1/100 of real data\n",
    "num_mct = 100 "
   ]
  },
  {
   "cell_type": "code",
   "execution_count": 12,
   "metadata": {},
   "outputs": [
    {
     "data": {
      "text/plain": [
       "array([48727.])"
      ]
     },
     "execution_count": 12,
     "metadata": {},
     "output_type": "execute_result"
    }
   ],
   "source": [
    "array01old = np.random.randint(0, num_cus, size=(num_txn, 1) ) # CLNN\n",
    "\n",
    "array01a = np.random.randn(num_txn, 1)\n",
    "array01 = np.round(np.sqrt(np.square(array01a)) * 10000)\n",
    "max(array01)"
   ]
  },
  {
   "cell_type": "code",
   "execution_count": 13,
   "metadata": {},
   "outputs": [
    {
     "data": {
      "text/plain": [
       "array(['2018-07-21T00:00:00.000000000', '2018-07-11T00:00:00.000000000',\n",
       "       '2018-07-04T00:00:00.000000000', ...,\n",
       "       '2018-07-26T00:00:00.000000000', '2018-07-25T00:00:00.000000000',\n",
       "       '2018-07-01T00:00:00.000000000'], dtype='datetime64[ns]')"
      ]
     },
     "execution_count": 13,
     "metadata": {},
     "output_type": "execute_result"
    }
   ],
   "source": [
    "array02 = np.random.randint(180701, 180731, size=(num_txn, 1)) # TS_D # 승인날짜\n",
    "\n",
    "times = pd.date_range('2018-07-01', periods=31, freq='1440min')\n",
    "array02new = np.random.choice(times, size=num_txn, replace=True, p=None)\n",
    "array02new"
   ]
  },
  {
   "cell_type": "code",
   "execution_count": 14,
   "metadata": {},
   "outputs": [],
   "source": [
    "array03 = np.random.randint(0, 100, size=(num_txn, 1)) # FINAL_CD # 업종코드 "
   ]
  },
  {
   "cell_type": "code",
   "execution_count": 15,
   "metadata": {},
   "outputs": [],
   "source": [
    "array04a = np.random.randn(num_txn, 1) # SAA # 승인금액\n",
    "array04 = np.round(np.sqrt(np.square(array04a)) * 20 + 3) "
   ]
  },
  {
   "cell_type": "code",
   "execution_count": 16,
   "metadata": {},
   "outputs": [],
   "source": [
    "array05old = np.random.randint(0, 424, size=(num_txn, 1)) # MCT_ADM_GDS_APB_CD # 서울 행정동 코드\n",
    "\n",
    "array05a = np.random.randn(num_txn, 1) \n",
    "array05 = np.round(np.sqrt(np.square(array05a)) * 30)"
   ]
  },
  {
   "cell_type": "code",
   "execution_count": 141,
   "metadata": {},
   "outputs": [],
   "source": [
    "# array06a = np.random.randint(1, 2, size=(round(num_txn*5/7), 1)) # DOF_TF # 평일 or 휴일\n",
    "# array06b = np.random.randint(0, 1, size=(round(num_txn*2/7), 1)) # DOF_TF # 평일 or 휴일\n",
    "# array06 = np.append(array06a, array06b, axis=0)\n",
    "# random.shuffle(array06)"
   ]
  },
  {
   "cell_type": "code",
   "execution_count": 17,
   "metadata": {},
   "outputs": [],
   "source": [
    "# 더 간편한 방법\n",
    "array06 = np.random.choice(2, size=num_txn, p=[5/7, 2/7]) # 2 미만의 정수 중 p의 확률로 랜덤 선택"
   ]
  },
  {
   "cell_type": "code",
   "execution_count": 18,
   "metadata": {},
   "outputs": [],
   "source": [
    "array07 = np.random.randint(0, 6, size=(num_txn, 1)) # DAW_CCD # 요일코드 # array06과 맞추기 어려워서 임시로 랜덤"
   ]
  },
  {
   "cell_type": "code",
   "execution_count": 19,
   "metadata": {},
   "outputs": [],
   "source": [
    "array08 = np.random.randint(0, num_mct, size=(num_txn, 1)) # MCT_N # 가맹점 번호"
   ]
  },
  {
   "cell_type": "code",
   "execution_count": 20,
   "metadata": {},
   "outputs": [],
   "source": [
    "array09 = np.random.randint(1, 240000, size=(num_txn, 1)) # TIME # 24h 시간 # 정확히 맞는 숫자는 아님"
   ]
  },
  {
   "cell_type": "code",
   "execution_count": 21,
   "metadata": {},
   "outputs": [
    {
     "data": {
      "text/html": [
       "<div>\n",
       "<style scoped>\n",
       "    .dataframe tbody tr th:only-of-type {\n",
       "        vertical-align: middle;\n",
       "    }\n",
       "\n",
       "    .dataframe tbody tr th {\n",
       "        vertical-align: top;\n",
       "    }\n",
       "\n",
       "    .dataframe thead th {\n",
       "        text-align: right;\n",
       "    }\n",
       "</style>\n",
       "<table border=\"1\" class=\"dataframe\">\n",
       "  <thead>\n",
       "    <tr style=\"text-align: right;\">\n",
       "      <th></th>\n",
       "      <th>CLNN</th>\n",
       "      <th>TS_D</th>\n",
       "      <th>FINAL_CD</th>\n",
       "      <th>SAA</th>\n",
       "      <th>MCT_ADM_GDS_APB_CD</th>\n",
       "      <th>DOF_TF</th>\n",
       "      <th>DAW_CCD</th>\n",
       "      <th>MCT_N</th>\n",
       "      <th>TIME</th>\n",
       "    </tr>\n",
       "  </thead>\n",
       "  <tbody>\n",
       "    <tr>\n",
       "      <th>0</th>\n",
       "      <td>4290.0</td>\n",
       "      <td>180711.0</td>\n",
       "      <td>60.0</td>\n",
       "      <td>26.0</td>\n",
       "      <td>55.0</td>\n",
       "      <td>0.0</td>\n",
       "      <td>1.0</td>\n",
       "      <td>84.0</td>\n",
       "      <td>123361.0</td>\n",
       "    </tr>\n",
       "    <tr>\n",
       "      <th>1</th>\n",
       "      <td>4520.0</td>\n",
       "      <td>180729.0</td>\n",
       "      <td>40.0</td>\n",
       "      <td>4.0</td>\n",
       "      <td>25.0</td>\n",
       "      <td>1.0</td>\n",
       "      <td>4.0</td>\n",
       "      <td>55.0</td>\n",
       "      <td>95893.0</td>\n",
       "    </tr>\n",
       "    <tr>\n",
       "      <th>2</th>\n",
       "      <td>4359.0</td>\n",
       "      <td>180705.0</td>\n",
       "      <td>5.0</td>\n",
       "      <td>32.0</td>\n",
       "      <td>19.0</td>\n",
       "      <td>0.0</td>\n",
       "      <td>4.0</td>\n",
       "      <td>39.0</td>\n",
       "      <td>138349.0</td>\n",
       "    </tr>\n",
       "    <tr>\n",
       "      <th>3</th>\n",
       "      <td>3051.0</td>\n",
       "      <td>180717.0</td>\n",
       "      <td>24.0</td>\n",
       "      <td>7.0</td>\n",
       "      <td>20.0</td>\n",
       "      <td>0.0</td>\n",
       "      <td>1.0</td>\n",
       "      <td>34.0</td>\n",
       "      <td>135643.0</td>\n",
       "    </tr>\n",
       "    <tr>\n",
       "      <th>4</th>\n",
       "      <td>7721.0</td>\n",
       "      <td>180724.0</td>\n",
       "      <td>59.0</td>\n",
       "      <td>4.0</td>\n",
       "      <td>26.0</td>\n",
       "      <td>0.0</td>\n",
       "      <td>0.0</td>\n",
       "      <td>11.0</td>\n",
       "      <td>100762.0</td>\n",
       "    </tr>\n",
       "    <tr>\n",
       "      <th>5</th>\n",
       "      <td>2417.0</td>\n",
       "      <td>180702.0</td>\n",
       "      <td>51.0</td>\n",
       "      <td>9.0</td>\n",
       "      <td>5.0</td>\n",
       "      <td>0.0</td>\n",
       "      <td>0.0</td>\n",
       "      <td>61.0</td>\n",
       "      <td>220521.0</td>\n",
       "    </tr>\n",
       "    <tr>\n",
       "      <th>6</th>\n",
       "      <td>879.0</td>\n",
       "      <td>180720.0</td>\n",
       "      <td>12.0</td>\n",
       "      <td>16.0</td>\n",
       "      <td>9.0</td>\n",
       "      <td>1.0</td>\n",
       "      <td>0.0</td>\n",
       "      <td>90.0</td>\n",
       "      <td>209757.0</td>\n",
       "    </tr>\n",
       "    <tr>\n",
       "      <th>7</th>\n",
       "      <td>7825.0</td>\n",
       "      <td>180711.0</td>\n",
       "      <td>47.0</td>\n",
       "      <td>18.0</td>\n",
       "      <td>7.0</td>\n",
       "      <td>0.0</td>\n",
       "      <td>3.0</td>\n",
       "      <td>13.0</td>\n",
       "      <td>17521.0</td>\n",
       "    </tr>\n",
       "    <tr>\n",
       "      <th>8</th>\n",
       "      <td>9489.0</td>\n",
       "      <td>180703.0</td>\n",
       "      <td>91.0</td>\n",
       "      <td>11.0</td>\n",
       "      <td>4.0</td>\n",
       "      <td>0.0</td>\n",
       "      <td>5.0</td>\n",
       "      <td>61.0</td>\n",
       "      <td>185114.0</td>\n",
       "    </tr>\n",
       "    <tr>\n",
       "      <th>9</th>\n",
       "      <td>16035.0</td>\n",
       "      <td>180718.0</td>\n",
       "      <td>69.0</td>\n",
       "      <td>22.0</td>\n",
       "      <td>14.0</td>\n",
       "      <td>0.0</td>\n",
       "      <td>5.0</td>\n",
       "      <td>66.0</td>\n",
       "      <td>148281.0</td>\n",
       "    </tr>\n",
       "  </tbody>\n",
       "</table>\n",
       "</div>"
      ],
      "text/plain": [
       "      CLNN      TS_D  FINAL_CD   SAA  MCT_ADM_GDS_APB_CD  DOF_TF  DAW_CCD  \\\n",
       "0   4290.0  180711.0      60.0  26.0                55.0     0.0      1.0   \n",
       "1   4520.0  180729.0      40.0   4.0                25.0     1.0      4.0   \n",
       "2   4359.0  180705.0       5.0  32.0                19.0     0.0      4.0   \n",
       "3   3051.0  180717.0      24.0   7.0                20.0     0.0      1.0   \n",
       "4   7721.0  180724.0      59.0   4.0                26.0     0.0      0.0   \n",
       "5   2417.0  180702.0      51.0   9.0                 5.0     0.0      0.0   \n",
       "6    879.0  180720.0      12.0  16.0                 9.0     1.0      0.0   \n",
       "7   7825.0  180711.0      47.0  18.0                 7.0     0.0      3.0   \n",
       "8   9489.0  180703.0      91.0  11.0                 4.0     0.0      5.0   \n",
       "9  16035.0  180718.0      69.0  22.0                14.0     0.0      5.0   \n",
       "\n",
       "   MCT_N      TIME  \n",
       "0   84.0  123361.0  \n",
       "1   55.0   95893.0  \n",
       "2   39.0  138349.0  \n",
       "3   34.0  135643.0  \n",
       "4   11.0  100762.0  \n",
       "5   61.0  220521.0  \n",
       "6   90.0  209757.0  \n",
       "7   13.0   17521.0  \n",
       "8   61.0  185114.0  \n",
       "9   66.0  148281.0  "
      ]
     },
     "execution_count": 21,
     "metadata": {},
     "output_type": "execute_result"
    }
   ],
   "source": [
    "df = pd.DataFrame( np.column_stack([array01, array02, array03, array04, array05, array06, array07, array08, array09])\n",
    "                  , columns = ['CLNN', 'TS_D', 'FINAL_CD', 'SAA', 'MCT_ADM_GDS_APB_CD', 'DOF_TF', 'DAW_CCD', 'MCT_N', 'TIME'])\n",
    "\n",
    "df.head(10)"
   ]
  },
  {
   "cell_type": "markdown",
   "metadata": {},
   "source": [
    "### Data Merge "
   ]
  },
  {
   "cell_type": "code",
   "execution_count": 18,
   "metadata": {},
   "outputs": [],
   "source": [
    "df3 = df.append(df2, ignore_index=True) # sort 옵션?"
   ]
  },
  {
   "cell_type": "code",
   "execution_count": null,
   "metadata": {},
   "outputs": [],
   "source": []
  },
  {
   "cell_type": "code",
   "execution_count": 20,
   "metadata": {},
   "outputs": [
    {
     "data": {
      "text/html": [
       "<div>\n",
       "<style scoped>\n",
       "    .dataframe tbody tr th:only-of-type {\n",
       "        vertical-align: middle;\n",
       "    }\n",
       "\n",
       "    .dataframe tbody tr th {\n",
       "        vertical-align: top;\n",
       "    }\n",
       "\n",
       "    .dataframe thead th {\n",
       "        text-align: right;\n",
       "    }\n",
       "</style>\n",
       "<table border=\"1\" class=\"dataframe\">\n",
       "  <thead>\n",
       "    <tr style=\"text-align: right;\">\n",
       "      <th></th>\n",
       "      <th>CLNN</th>\n",
       "      <th>TS_D</th>\n",
       "      <th>FINAL_CD</th>\n",
       "      <th>SAA</th>\n",
       "      <th>MCT_ADM_GDS_APB_CD</th>\n",
       "      <th>DOF_TF</th>\n",
       "      <th>DAW_CCD</th>\n",
       "      <th>MCT_N</th>\n",
       "      <th>TIME</th>\n",
       "    </tr>\n",
       "  </thead>\n",
       "  <tbody>\n",
       "    <tr>\n",
       "      <th>1999995</th>\n",
       "      <td>14648.0</td>\n",
       "      <td>180711.0</td>\n",
       "      <td>98.0</td>\n",
       "      <td>33.0</td>\n",
       "      <td>4.0</td>\n",
       "      <td>0.0</td>\n",
       "      <td>2.0</td>\n",
       "      <td>21.0</td>\n",
       "      <td>134269.0</td>\n",
       "    </tr>\n",
       "    <tr>\n",
       "      <th>1999996</th>\n",
       "      <td>21067.0</td>\n",
       "      <td>180718.0</td>\n",
       "      <td>75.0</td>\n",
       "      <td>29.0</td>\n",
       "      <td>86.0</td>\n",
       "      <td>1.0</td>\n",
       "      <td>0.0</td>\n",
       "      <td>66.0</td>\n",
       "      <td>16672.0</td>\n",
       "    </tr>\n",
       "    <tr>\n",
       "      <th>1999997</th>\n",
       "      <td>2834.0</td>\n",
       "      <td>180706.0</td>\n",
       "      <td>82.0</td>\n",
       "      <td>13.0</td>\n",
       "      <td>6.0</td>\n",
       "      <td>0.0</td>\n",
       "      <td>1.0</td>\n",
       "      <td>33.0</td>\n",
       "      <td>215536.0</td>\n",
       "    </tr>\n",
       "    <tr>\n",
       "      <th>1999998</th>\n",
       "      <td>6079.0</td>\n",
       "      <td>180701.0</td>\n",
       "      <td>61.0</td>\n",
       "      <td>4.0</td>\n",
       "      <td>1.0</td>\n",
       "      <td>1.0</td>\n",
       "      <td>2.0</td>\n",
       "      <td>99.0</td>\n",
       "      <td>46073.0</td>\n",
       "    </tr>\n",
       "    <tr>\n",
       "      <th>1999999</th>\n",
       "      <td>7628.0</td>\n",
       "      <td>180714.0</td>\n",
       "      <td>67.0</td>\n",
       "      <td>26.0</td>\n",
       "      <td>13.0</td>\n",
       "      <td>0.0</td>\n",
       "      <td>4.0</td>\n",
       "      <td>56.0</td>\n",
       "      <td>222749.0</td>\n",
       "    </tr>\n",
       "  </tbody>\n",
       "</table>\n",
       "</div>"
      ],
      "text/plain": [
       "            CLNN      TS_D  FINAL_CD   SAA  MCT_ADM_GDS_APB_CD  DOF_TF  \\\n",
       "1999995  14648.0  180711.0      98.0  33.0                 4.0     0.0   \n",
       "1999996  21067.0  180718.0      75.0  29.0                86.0     1.0   \n",
       "1999997   2834.0  180706.0      82.0  13.0                 6.0     0.0   \n",
       "1999998   6079.0  180701.0      61.0   4.0                 1.0     1.0   \n",
       "1999999   7628.0  180714.0      67.0  26.0                13.0     0.0   \n",
       "\n",
       "         DAW_CCD  MCT_N      TIME  \n",
       "1999995      2.0   21.0  134269.0  \n",
       "1999996      0.0   66.0   16672.0  \n",
       "1999997      1.0   33.0  215536.0  \n",
       "1999998      2.0   99.0   46073.0  \n",
       "1999999      4.0   56.0  222749.0  "
      ]
     },
     "execution_count": 20,
     "metadata": {},
     "output_type": "execute_result"
    }
   ],
   "source": [
    "df3.tail()"
   ]
  },
  {
   "cell_type": "code",
   "execution_count": 14,
   "metadata": {},
   "outputs": [
    {
     "ename": "NameError",
     "evalue": "name 'trx07_df' is not defined",
     "output_type": "error",
     "traceback": [
      "\u001b[1;31m---------------------------------------------------------------------------\u001b[0m",
      "\u001b[1;31mNameError\u001b[0m                                 Traceback (most recent call last)",
      "\u001b[1;32m<ipython-input-14-551af713ece8>\u001b[0m in \u001b[0;36m<module>\u001b[1;34m()\u001b[0m\n\u001b[1;32m----> 1\u001b[1;33m \u001b[0mtrx07_08_df\u001b[0m \u001b[1;33m=\u001b[0m \u001b[0mtrx07_df\u001b[0m\u001b[1;33m.\u001b[0m\u001b[0mappend\u001b[0m\u001b[1;33m(\u001b[0m\u001b[0mtrx08_df\u001b[0m\u001b[1;33m,\u001b[0m \u001b[0mignore_index\u001b[0m\u001b[1;33m=\u001b[0m\u001b[1;32mTrue\u001b[0m\u001b[1;33m,\u001b[0m                            \u001b[0msort\u001b[0m\u001b[1;33m=\u001b[0m\u001b[1;32mTrue\u001b[0m\u001b[1;33m)\u001b[0m \u001b[1;31m#sort=sort 옵션\u001b[0m\u001b[1;33m\u001b[0m\u001b[0m\n\u001b[0m",
      "\u001b[1;31mNameError\u001b[0m: name 'trx07_df' is not defined"
     ]
    }
   ],
   "source": [
    "trx07_08_df = trx07_df.append(trx08_df, ignore_index=True, \\\n",
    "                           sort=True) #sort=sort 옵션"
   ]
  },
  {
   "cell_type": "code",
   "execution_count": null,
   "metadata": {},
   "outputs": [],
   "source": [
    "trx07_08_09_df = trx07_08_df.append(trx09_df, ignore_index=True, \\\n",
    "                           sort=True) #sort=sort 옵션"
   ]
  },
  {
   "cell_type": "markdown",
   "metadata": {},
   "source": [
    "### GroupBy 객체 만들기"
   ]
  },
  {
   "cell_type": "code",
   "execution_count": 22,
   "metadata": {},
   "outputs": [],
   "source": [
    "groupedByCLNN = df.groupby('CLNN')"
   ]
  },
  {
   "cell_type": "code",
   "execution_count": 23,
   "metadata": {},
   "outputs": [
    {
     "data": {
      "text/html": [
       "<div>\n",
       "<style scoped>\n",
       "    .dataframe tbody tr th:only-of-type {\n",
       "        vertical-align: middle;\n",
       "    }\n",
       "\n",
       "    .dataframe tbody tr th {\n",
       "        vertical-align: top;\n",
       "    }\n",
       "\n",
       "    .dataframe thead th {\n",
       "        text-align: right;\n",
       "    }\n",
       "</style>\n",
       "<table border=\"1\" class=\"dataframe\">\n",
       "  <thead>\n",
       "    <tr style=\"text-align: right;\">\n",
       "      <th></th>\n",
       "      <th>count</th>\n",
       "      <th>mean</th>\n",
       "      <th>std</th>\n",
       "      <th>min</th>\n",
       "      <th>25%</th>\n",
       "      <th>50%</th>\n",
       "      <th>75%</th>\n",
       "      <th>max</th>\n",
       "    </tr>\n",
       "    <tr>\n",
       "      <th>CLNN</th>\n",
       "      <th></th>\n",
       "      <th></th>\n",
       "      <th></th>\n",
       "      <th></th>\n",
       "      <th></th>\n",
       "      <th></th>\n",
       "      <th></th>\n",
       "      <th></th>\n",
       "    </tr>\n",
       "  </thead>\n",
       "  <tbody>\n",
       "    <tr>\n",
       "      <th>0.0</th>\n",
       "      <td>38.0</td>\n",
       "      <td>19.605263</td>\n",
       "      <td>12.264075</td>\n",
       "      <td>3.0</td>\n",
       "      <td>8.75</td>\n",
       "      <td>17.5</td>\n",
       "      <td>29.50</td>\n",
       "      <td>44.0</td>\n",
       "    </tr>\n",
       "    <tr>\n",
       "      <th>1.0</th>\n",
       "      <td>84.0</td>\n",
       "      <td>19.047619</td>\n",
       "      <td>10.529253</td>\n",
       "      <td>3.0</td>\n",
       "      <td>10.00</td>\n",
       "      <td>17.0</td>\n",
       "      <td>26.25</td>\n",
       "      <td>47.0</td>\n",
       "    </tr>\n",
       "    <tr>\n",
       "      <th>2.0</th>\n",
       "      <td>93.0</td>\n",
       "      <td>18.000000</td>\n",
       "      <td>12.003623</td>\n",
       "      <td>3.0</td>\n",
       "      <td>8.00</td>\n",
       "      <td>15.0</td>\n",
       "      <td>25.00</td>\n",
       "      <td>51.0</td>\n",
       "    </tr>\n",
       "    <tr>\n",
       "      <th>3.0</th>\n",
       "      <td>80.0</td>\n",
       "      <td>20.412500</td>\n",
       "      <td>13.758030</td>\n",
       "      <td>3.0</td>\n",
       "      <td>9.00</td>\n",
       "      <td>19.0</td>\n",
       "      <td>28.00</td>\n",
       "      <td>63.0</td>\n",
       "    </tr>\n",
       "    <tr>\n",
       "      <th>4.0</th>\n",
       "      <td>70.0</td>\n",
       "      <td>20.057143</td>\n",
       "      <td>13.842683</td>\n",
       "      <td>3.0</td>\n",
       "      <td>9.00</td>\n",
       "      <td>15.5</td>\n",
       "      <td>26.75</td>\n",
       "      <td>58.0</td>\n",
       "    </tr>\n",
       "  </tbody>\n",
       "</table>\n",
       "</div>"
      ],
      "text/plain": [
       "      count       mean        std  min    25%   50%    75%   max\n",
       "CLNN                                                            \n",
       "0.0    38.0  19.605263  12.264075  3.0   8.75  17.5  29.50  44.0\n",
       "1.0    84.0  19.047619  10.529253  3.0  10.00  17.0  26.25  47.0\n",
       "2.0    93.0  18.000000  12.003623  3.0   8.00  15.0  25.00  51.0\n",
       "3.0    80.0  20.412500  13.758030  3.0   9.00  19.0  28.00  63.0\n",
       "4.0    70.0  20.057143  13.842683  3.0   9.00  15.5  26.75  58.0"
      ]
     },
     "execution_count": 23,
     "metadata": {},
     "output_type": "execute_result"
    }
   ],
   "source": [
    "groupedByCLNN.describe()['SAA'].head() # 계산시 오래걸림"
   ]
  },
  {
   "cell_type": "code",
   "execution_count": 174,
   "metadata": {
    "scrolled": true
   },
   "outputs": [
    {
     "data": {
      "text/plain": [
       "CLNN\n",
       "0.0    46\n",
       "1.0    80\n",
       "2.0    81\n",
       "3.0    82\n",
       "4.0    85\n",
       "Name: SAA, dtype: int64"
      ]
     },
     "execution_count": 174,
     "metadata": {},
     "output_type": "execute_result"
    }
   ],
   "source": [
    "groupedByCLNN.count()['SAA'].head()"
   ]
  },
  {
   "cell_type": "code",
   "execution_count": 175,
   "metadata": {},
   "outputs": [
    {
     "data": {
      "text/plain": [
       "CLNN\n",
       "0.0     954.0\n",
       "1.0    1417.0\n",
       "2.0    1458.0\n",
       "3.0    1453.0\n",
       "4.0    1598.0\n",
       "Name: SAA, dtype: float64"
      ]
     },
     "execution_count": 175,
     "metadata": {},
     "output_type": "execute_result"
    }
   ],
   "source": [
    "groupedByCLNN.sum()['SAA'].head()"
   ]
  },
  {
   "cell_type": "code",
   "execution_count": 176,
   "metadata": {},
   "outputs": [
    {
     "data": {
      "text/plain": [
       "CLNN\n",
       "0.0    20.739130\n",
       "1.0    17.712500\n",
       "2.0    18.000000\n",
       "3.0    17.719512\n",
       "4.0    18.800000\n",
       "Name: SAA, dtype: float64"
      ]
     },
     "execution_count": 176,
     "metadata": {},
     "output_type": "execute_result"
    }
   ],
   "source": [
    "groupedByCLNN.mean()['SAA'].head()"
   ]
  },
  {
   "cell_type": "code",
   "execution_count": 177,
   "metadata": {},
   "outputs": [
    {
     "data": {
      "text/plain": [
       "CLNN     MCT_ADM_GDS_APB_CD\n",
       "0.0      6.0                   11.0\n",
       "         16.0                   6.0\n",
       "         17.0                  28.0\n",
       "         18.0                  49.0\n",
       "         21.0                  33.0\n",
       "         22.0                  12.0\n",
       "         23.0                  40.0\n",
       "         24.0                  31.0\n",
       "         25.0                  39.0\n",
       "         27.0                  77.0\n",
       "         28.0                  22.0\n",
       "         29.0                  79.0\n",
       "         31.0                  68.0\n",
       "         32.0                  14.0\n",
       "         33.0                  55.0\n",
       "         34.0                   6.0\n",
       "         41.0                  60.0\n",
       "         42.0                  34.0\n",
       "         43.0                  11.0\n",
       "         45.0                  11.0\n",
       "         46.0                  22.0\n",
       "         47.0                  30.0\n",
       "         49.0                   4.0\n",
       "         53.0                  36.0\n",
       "         60.0                  25.0\n",
       "         65.0                  15.0\n",
       "         72.0                  18.0\n",
       "         74.0                  18.0\n",
       "         75.0                  30.0\n",
       "         79.0                  14.0\n",
       "                               ... \n",
       "42108.0  27.0                  31.0\n",
       "42143.0  146.0                 15.0\n",
       "42217.0  78.0                  11.0\n",
       "42234.0  94.0                  24.0\n",
       "42365.0  157.0                  9.0\n",
       "42436.0  39.0                  57.0\n",
       "42556.0  35.0                  30.0\n",
       "42569.0  57.0                  14.0\n",
       "42752.0  98.0                   6.0\n",
       "42886.0  21.0                  10.0\n",
       "42984.0  4.0                   36.0\n",
       "43004.0  15.0                   4.0\n",
       "43124.0  63.0                   8.0\n",
       "43470.0  32.0                   4.0\n",
       "43550.0  49.0                  34.0\n",
       "43565.0  62.0                   6.0\n",
       "43806.0  59.0                  29.0\n",
       "44074.0  75.0                   3.0\n",
       "44780.0  2.0                   18.0\n",
       "44905.0  21.0                   8.0\n",
       "45358.0  18.0                  25.0\n",
       "45463.0  88.0                  13.0\n",
       "45515.0  79.0                  12.0\n",
       "45568.0  57.0                  31.0\n",
       "45592.0  78.0                  22.0\n",
       "45794.0  44.0                  25.0\n",
       "45898.0  89.0                   7.0\n",
       "46264.0  45.0                   8.0\n",
       "46286.0  51.0                   8.0\n",
       "47669.0  58.0                   9.0\n",
       "Name: SAA, Length: 812504, dtype: float64"
      ]
     },
     "execution_count": 177,
     "metadata": {},
     "output_type": "execute_result"
    }
   ],
   "source": [
    "# 2개 기준으로 Group By 하기\n",
    "gb = df.groupby(['CLNN', 'MCT_ADM_GDS_APB_CD']) # 고객별 & 행정동별\n",
    "gb2 = gb.sum()['SAA'] # 금액 합\n",
    "gb2"
   ]
  },
  {
   "cell_type": "code",
   "execution_count": 178,
   "metadata": {},
   "outputs": [
    {
     "data": {
      "text/plain": [
       "CLNN     MCT_ADM_GDS_APB_CD\n",
       "0.0      6.0                   11.0\n",
       "         16.0                   6.0\n",
       "         17.0                  28.0\n",
       "         18.0                  49.0\n",
       "         21.0                  33.0\n",
       "         22.0                  12.0\n",
       "         23.0                  40.0\n",
       "         24.0                  31.0\n",
       "         25.0                  39.0\n",
       "         27.0                  77.0\n",
       "         28.0                  22.0\n",
       "         29.0                  79.0\n",
       "         31.0                  68.0\n",
       "         32.0                  14.0\n",
       "         33.0                  55.0\n",
       "         34.0                   6.0\n",
       "         41.0                  60.0\n",
       "         42.0                  34.0\n",
       "         43.0                  11.0\n",
       "         45.0                  11.0\n",
       "         46.0                  22.0\n",
       "         47.0                  30.0\n",
       "         49.0                   4.0\n",
       "         53.0                  36.0\n",
       "         60.0                  25.0\n",
       "         65.0                  15.0\n",
       "         72.0                  18.0\n",
       "         74.0                  18.0\n",
       "         75.0                  30.0\n",
       "         79.0                  14.0\n",
       "                               ... \n",
       "42108.0  27.0                  31.0\n",
       "42143.0  146.0                 15.0\n",
       "42217.0  78.0                  11.0\n",
       "42234.0  94.0                  24.0\n",
       "42365.0  157.0                  9.0\n",
       "42436.0  39.0                  57.0\n",
       "42556.0  35.0                  30.0\n",
       "42569.0  57.0                  14.0\n",
       "42752.0  98.0                   6.0\n",
       "42886.0  21.0                  10.0\n",
       "42984.0  4.0                   36.0\n",
       "43004.0  15.0                   4.0\n",
       "43124.0  63.0                   8.0\n",
       "43470.0  32.0                   4.0\n",
       "43550.0  49.0                  34.0\n",
       "43565.0  62.0                   6.0\n",
       "43806.0  59.0                  29.0\n",
       "44074.0  75.0                   3.0\n",
       "44780.0  2.0                   18.0\n",
       "44905.0  21.0                   8.0\n",
       "45358.0  18.0                  25.0\n",
       "45463.0  88.0                  13.0\n",
       "45515.0  79.0                  12.0\n",
       "45568.0  57.0                  31.0\n",
       "45592.0  78.0                  22.0\n",
       "45794.0  44.0                  25.0\n",
       "45898.0  89.0                   7.0\n",
       "46264.0  45.0                   8.0\n",
       "46286.0  51.0                   8.0\n",
       "47669.0  58.0                   9.0\n",
       "Name: SAA, Length: 812504, dtype: float64"
      ]
     },
     "execution_count": 178,
     "metadata": {},
     "output_type": "execute_result"
    }
   ],
   "source": [
    "# 2개 기준으로 Group By 하기\n",
    "gb3 = df.groupby(['CLNN', 'MCT_ADM_GDS_APB_CD']).sum()['SAA'] # 고객별 & 행정동별 합 chaining\n",
    "gb3"
   ]
  },
  {
   "cell_type": "code",
   "execution_count": 182,
   "metadata": {},
   "outputs": [
    {
     "data": {
      "text/html": [
       "<div>\n",
       "<style scoped>\n",
       "    .dataframe tbody tr th:only-of-type {\n",
       "        vertical-align: middle;\n",
       "    }\n",
       "\n",
       "    .dataframe tbody tr th {\n",
       "        vertical-align: top;\n",
       "    }\n",
       "\n",
       "    .dataframe thead th {\n",
       "        text-align: right;\n",
       "    }\n",
       "</style>\n",
       "<table border=\"1\" class=\"dataframe\">\n",
       "  <thead>\n",
       "    <tr style=\"text-align: right;\">\n",
       "      <th></th>\n",
       "      <th>CLNN</th>\n",
       "      <th>TS_D</th>\n",
       "      <th>FINAL_CD</th>\n",
       "      <th>SAA</th>\n",
       "      <th>MCT_ADM_GDS_APB_CD</th>\n",
       "      <th>DOF_TF</th>\n",
       "      <th>DAW_CCD</th>\n",
       "      <th>MCT_N</th>\n",
       "      <th>TIME</th>\n",
       "    </tr>\n",
       "  </thead>\n",
       "  <tbody>\n",
       "    <tr>\n",
       "      <th>643724</th>\n",
       "      <td>16993.0</td>\n",
       "      <td>180726.0</td>\n",
       "      <td>41.0</td>\n",
       "      <td>27.0</td>\n",
       "      <td>355.0</td>\n",
       "      <td>0.0</td>\n",
       "      <td>0.0</td>\n",
       "      <td>97.0</td>\n",
       "      <td>135335.0</td>\n",
       "    </tr>\n",
       "    <tr>\n",
       "      <th>245942</th>\n",
       "      <td>1185.0</td>\n",
       "      <td>180730.0</td>\n",
       "      <td>96.0</td>\n",
       "      <td>26.0</td>\n",
       "      <td>354.0</td>\n",
       "      <td>1.0</td>\n",
       "      <td>1.0</td>\n",
       "      <td>85.0</td>\n",
       "      <td>132441.0</td>\n",
       "    </tr>\n",
       "    <tr>\n",
       "      <th>208852</th>\n",
       "      <td>4725.0</td>\n",
       "      <td>180715.0</td>\n",
       "      <td>84.0</td>\n",
       "      <td>28.0</td>\n",
       "      <td>345.0</td>\n",
       "      <td>0.0</td>\n",
       "      <td>1.0</td>\n",
       "      <td>66.0</td>\n",
       "      <td>5820.0</td>\n",
       "    </tr>\n",
       "    <tr>\n",
       "      <th>717839</th>\n",
       "      <td>7155.0</td>\n",
       "      <td>180702.0</td>\n",
       "      <td>64.0</td>\n",
       "      <td>12.0</td>\n",
       "      <td>345.0</td>\n",
       "      <td>1.0</td>\n",
       "      <td>5.0</td>\n",
       "      <td>15.0</td>\n",
       "      <td>189679.0</td>\n",
       "    </tr>\n",
       "    <tr>\n",
       "      <th>349446</th>\n",
       "      <td>16661.0</td>\n",
       "      <td>180727.0</td>\n",
       "      <td>58.0</td>\n",
       "      <td>6.0</td>\n",
       "      <td>334.0</td>\n",
       "      <td>0.0</td>\n",
       "      <td>2.0</td>\n",
       "      <td>21.0</td>\n",
       "      <td>208891.0</td>\n",
       "    </tr>\n",
       "    <tr>\n",
       "      <th>709605</th>\n",
       "      <td>2307.0</td>\n",
       "      <td>180702.0</td>\n",
       "      <td>61.0</td>\n",
       "      <td>35.0</td>\n",
       "      <td>330.0</td>\n",
       "      <td>0.0</td>\n",
       "      <td>2.0</td>\n",
       "      <td>26.0</td>\n",
       "      <td>67692.0</td>\n",
       "    </tr>\n",
       "    <tr>\n",
       "      <th>544604</th>\n",
       "      <td>15646.0</td>\n",
       "      <td>180725.0</td>\n",
       "      <td>79.0</td>\n",
       "      <td>5.0</td>\n",
       "      <td>316.0</td>\n",
       "      <td>0.0</td>\n",
       "      <td>3.0</td>\n",
       "      <td>44.0</td>\n",
       "      <td>104994.0</td>\n",
       "    </tr>\n",
       "    <tr>\n",
       "      <th>393677</th>\n",
       "      <td>7695.0</td>\n",
       "      <td>180708.0</td>\n",
       "      <td>3.0</td>\n",
       "      <td>14.0</td>\n",
       "      <td>313.0</td>\n",
       "      <td>0.0</td>\n",
       "      <td>4.0</td>\n",
       "      <td>10.0</td>\n",
       "      <td>27388.0</td>\n",
       "    </tr>\n",
       "    <tr>\n",
       "      <th>401154</th>\n",
       "      <td>12838.0</td>\n",
       "      <td>180703.0</td>\n",
       "      <td>55.0</td>\n",
       "      <td>18.0</td>\n",
       "      <td>310.0</td>\n",
       "      <td>0.0</td>\n",
       "      <td>3.0</td>\n",
       "      <td>44.0</td>\n",
       "      <td>111285.0</td>\n",
       "    </tr>\n",
       "    <tr>\n",
       "      <th>601656</th>\n",
       "      <td>10519.0</td>\n",
       "      <td>180708.0</td>\n",
       "      <td>58.0</td>\n",
       "      <td>21.0</td>\n",
       "      <td>307.0</td>\n",
       "      <td>0.0</td>\n",
       "      <td>4.0</td>\n",
       "      <td>42.0</td>\n",
       "      <td>228212.0</td>\n",
       "    </tr>\n",
       "    <tr>\n",
       "      <th>125077</th>\n",
       "      <td>9638.0</td>\n",
       "      <td>180703.0</td>\n",
       "      <td>47.0</td>\n",
       "      <td>7.0</td>\n",
       "      <td>307.0</td>\n",
       "      <td>0.0</td>\n",
       "      <td>4.0</td>\n",
       "      <td>1.0</td>\n",
       "      <td>87233.0</td>\n",
       "    </tr>\n",
       "    <tr>\n",
       "      <th>459714</th>\n",
       "      <td>3278.0</td>\n",
       "      <td>180722.0</td>\n",
       "      <td>28.0</td>\n",
       "      <td>30.0</td>\n",
       "      <td>304.0</td>\n",
       "      <td>0.0</td>\n",
       "      <td>2.0</td>\n",
       "      <td>78.0</td>\n",
       "      <td>193090.0</td>\n",
       "    </tr>\n",
       "    <tr>\n",
       "      <th>851894</th>\n",
       "      <td>1921.0</td>\n",
       "      <td>180721.0</td>\n",
       "      <td>50.0</td>\n",
       "      <td>5.0</td>\n",
       "      <td>304.0</td>\n",
       "      <td>0.0</td>\n",
       "      <td>0.0</td>\n",
       "      <td>65.0</td>\n",
       "      <td>118130.0</td>\n",
       "    </tr>\n",
       "    <tr>\n",
       "      <th>414290</th>\n",
       "      <td>2256.0</td>\n",
       "      <td>180717.0</td>\n",
       "      <td>67.0</td>\n",
       "      <td>15.0</td>\n",
       "      <td>301.0</td>\n",
       "      <td>0.0</td>\n",
       "      <td>4.0</td>\n",
       "      <td>54.0</td>\n",
       "      <td>57041.0</td>\n",
       "    </tr>\n",
       "    <tr>\n",
       "      <th>573289</th>\n",
       "      <td>673.0</td>\n",
       "      <td>180729.0</td>\n",
       "      <td>87.0</td>\n",
       "      <td>15.0</td>\n",
       "      <td>301.0</td>\n",
       "      <td>0.0</td>\n",
       "      <td>2.0</td>\n",
       "      <td>4.0</td>\n",
       "      <td>132170.0</td>\n",
       "    </tr>\n",
       "    <tr>\n",
       "      <th>347607</th>\n",
       "      <td>5270.0</td>\n",
       "      <td>180715.0</td>\n",
       "      <td>51.0</td>\n",
       "      <td>8.0</td>\n",
       "      <td>301.0</td>\n",
       "      <td>1.0</td>\n",
       "      <td>1.0</td>\n",
       "      <td>70.0</td>\n",
       "      <td>2020.0</td>\n",
       "    </tr>\n",
       "    <tr>\n",
       "      <th>813548</th>\n",
       "      <td>5460.0</td>\n",
       "      <td>180706.0</td>\n",
       "      <td>85.0</td>\n",
       "      <td>8.0</td>\n",
       "      <td>301.0</td>\n",
       "      <td>0.0</td>\n",
       "      <td>4.0</td>\n",
       "      <td>18.0</td>\n",
       "      <td>211602.0</td>\n",
       "    </tr>\n",
       "    <tr>\n",
       "      <th>144715</th>\n",
       "      <td>3.0</td>\n",
       "      <td>180714.0</td>\n",
       "      <td>30.0</td>\n",
       "      <td>4.0</td>\n",
       "      <td>300.0</td>\n",
       "      <td>0.0</td>\n",
       "      <td>0.0</td>\n",
       "      <td>48.0</td>\n",
       "      <td>168762.0</td>\n",
       "    </tr>\n",
       "    <tr>\n",
       "      <th>945541</th>\n",
       "      <td>20796.0</td>\n",
       "      <td>180710.0</td>\n",
       "      <td>36.0</td>\n",
       "      <td>3.0</td>\n",
       "      <td>300.0</td>\n",
       "      <td>0.0</td>\n",
       "      <td>5.0</td>\n",
       "      <td>51.0</td>\n",
       "      <td>59383.0</td>\n",
       "    </tr>\n",
       "    <tr>\n",
       "      <th>847361</th>\n",
       "      <td>7383.0</td>\n",
       "      <td>180723.0</td>\n",
       "      <td>31.0</td>\n",
       "      <td>13.0</td>\n",
       "      <td>299.0</td>\n",
       "      <td>0.0</td>\n",
       "      <td>2.0</td>\n",
       "      <td>98.0</td>\n",
       "      <td>139717.0</td>\n",
       "    </tr>\n",
       "    <tr>\n",
       "      <th>906147</th>\n",
       "      <td>11632.0</td>\n",
       "      <td>180706.0</td>\n",
       "      <td>18.0</td>\n",
       "      <td>4.0</td>\n",
       "      <td>299.0</td>\n",
       "      <td>1.0</td>\n",
       "      <td>2.0</td>\n",
       "      <td>96.0</td>\n",
       "      <td>1659.0</td>\n",
       "    </tr>\n",
       "    <tr>\n",
       "      <th>799420</th>\n",
       "      <td>15525.0</td>\n",
       "      <td>180722.0</td>\n",
       "      <td>39.0</td>\n",
       "      <td>36.0</td>\n",
       "      <td>298.0</td>\n",
       "      <td>1.0</td>\n",
       "      <td>0.0</td>\n",
       "      <td>71.0</td>\n",
       "      <td>36694.0</td>\n",
       "    </tr>\n",
       "    <tr>\n",
       "      <th>760538</th>\n",
       "      <td>1876.0</td>\n",
       "      <td>180707.0</td>\n",
       "      <td>29.0</td>\n",
       "      <td>7.0</td>\n",
       "      <td>297.0</td>\n",
       "      <td>0.0</td>\n",
       "      <td>1.0</td>\n",
       "      <td>44.0</td>\n",
       "      <td>34501.0</td>\n",
       "    </tr>\n",
       "    <tr>\n",
       "      <th>573189</th>\n",
       "      <td>6299.0</td>\n",
       "      <td>180703.0</td>\n",
       "      <td>34.0</td>\n",
       "      <td>31.0</td>\n",
       "      <td>296.0</td>\n",
       "      <td>1.0</td>\n",
       "      <td>5.0</td>\n",
       "      <td>69.0</td>\n",
       "      <td>6743.0</td>\n",
       "    </tr>\n",
       "    <tr>\n",
       "      <th>405079</th>\n",
       "      <td>455.0</td>\n",
       "      <td>180721.0</td>\n",
       "      <td>54.0</td>\n",
       "      <td>27.0</td>\n",
       "      <td>296.0</td>\n",
       "      <td>0.0</td>\n",
       "      <td>4.0</td>\n",
       "      <td>23.0</td>\n",
       "      <td>141866.0</td>\n",
       "    </tr>\n",
       "    <tr>\n",
       "      <th>333841</th>\n",
       "      <td>13307.0</td>\n",
       "      <td>180714.0</td>\n",
       "      <td>15.0</td>\n",
       "      <td>19.0</td>\n",
       "      <td>295.0</td>\n",
       "      <td>0.0</td>\n",
       "      <td>4.0</td>\n",
       "      <td>43.0</td>\n",
       "      <td>72948.0</td>\n",
       "    </tr>\n",
       "    <tr>\n",
       "      <th>261838</th>\n",
       "      <td>13859.0</td>\n",
       "      <td>180712.0</td>\n",
       "      <td>39.0</td>\n",
       "      <td>4.0</td>\n",
       "      <td>295.0</td>\n",
       "      <td>1.0</td>\n",
       "      <td>3.0</td>\n",
       "      <td>9.0</td>\n",
       "      <td>62764.0</td>\n",
       "    </tr>\n",
       "    <tr>\n",
       "      <th>922715</th>\n",
       "      <td>15941.0</td>\n",
       "      <td>180729.0</td>\n",
       "      <td>68.0</td>\n",
       "      <td>16.0</td>\n",
       "      <td>294.0</td>\n",
       "      <td>1.0</td>\n",
       "      <td>2.0</td>\n",
       "      <td>88.0</td>\n",
       "      <td>6586.0</td>\n",
       "    </tr>\n",
       "    <tr>\n",
       "      <th>109039</th>\n",
       "      <td>2773.0</td>\n",
       "      <td>180716.0</td>\n",
       "      <td>68.0</td>\n",
       "      <td>11.0</td>\n",
       "      <td>294.0</td>\n",
       "      <td>0.0</td>\n",
       "      <td>3.0</td>\n",
       "      <td>7.0</td>\n",
       "      <td>172159.0</td>\n",
       "    </tr>\n",
       "    <tr>\n",
       "      <th>355631</th>\n",
       "      <td>7031.0</td>\n",
       "      <td>180707.0</td>\n",
       "      <td>10.0</td>\n",
       "      <td>26.0</td>\n",
       "      <td>293.0</td>\n",
       "      <td>1.0</td>\n",
       "      <td>2.0</td>\n",
       "      <td>35.0</td>\n",
       "      <td>40467.0</td>\n",
       "    </tr>\n",
       "    <tr>\n",
       "      <th>...</th>\n",
       "      <td>...</td>\n",
       "      <td>...</td>\n",
       "      <td>...</td>\n",
       "      <td>...</td>\n",
       "      <td>...</td>\n",
       "      <td>...</td>\n",
       "      <td>...</td>\n",
       "      <td>...</td>\n",
       "      <td>...</td>\n",
       "    </tr>\n",
       "    <tr>\n",
       "      <th>247345</th>\n",
       "      <td>25633.0</td>\n",
       "      <td>180712.0</td>\n",
       "      <td>57.0</td>\n",
       "      <td>8.0</td>\n",
       "      <td>0.0</td>\n",
       "      <td>0.0</td>\n",
       "      <td>5.0</td>\n",
       "      <td>93.0</td>\n",
       "      <td>53243.0</td>\n",
       "    </tr>\n",
       "    <tr>\n",
       "      <th>346058</th>\n",
       "      <td>24551.0</td>\n",
       "      <td>180726.0</td>\n",
       "      <td>6.0</td>\n",
       "      <td>8.0</td>\n",
       "      <td>0.0</td>\n",
       "      <td>0.0</td>\n",
       "      <td>4.0</td>\n",
       "      <td>79.0</td>\n",
       "      <td>22801.0</td>\n",
       "    </tr>\n",
       "    <tr>\n",
       "      <th>376600</th>\n",
       "      <td>26512.0</td>\n",
       "      <td>180727.0</td>\n",
       "      <td>27.0</td>\n",
       "      <td>8.0</td>\n",
       "      <td>0.0</td>\n",
       "      <td>0.0</td>\n",
       "      <td>2.0</td>\n",
       "      <td>59.0</td>\n",
       "      <td>82826.0</td>\n",
       "    </tr>\n",
       "    <tr>\n",
       "      <th>541947</th>\n",
       "      <td>20565.0</td>\n",
       "      <td>180704.0</td>\n",
       "      <td>38.0</td>\n",
       "      <td>8.0</td>\n",
       "      <td>0.0</td>\n",
       "      <td>1.0</td>\n",
       "      <td>3.0</td>\n",
       "      <td>29.0</td>\n",
       "      <td>163156.0</td>\n",
       "    </tr>\n",
       "    <tr>\n",
       "      <th>622653</th>\n",
       "      <td>29107.0</td>\n",
       "      <td>180712.0</td>\n",
       "      <td>17.0</td>\n",
       "      <td>8.0</td>\n",
       "      <td>0.0</td>\n",
       "      <td>1.0</td>\n",
       "      <td>3.0</td>\n",
       "      <td>52.0</td>\n",
       "      <td>142113.0</td>\n",
       "    </tr>\n",
       "    <tr>\n",
       "      <th>710697</th>\n",
       "      <td>26051.0</td>\n",
       "      <td>180704.0</td>\n",
       "      <td>87.0</td>\n",
       "      <td>8.0</td>\n",
       "      <td>0.0</td>\n",
       "      <td>0.0</td>\n",
       "      <td>3.0</td>\n",
       "      <td>7.0</td>\n",
       "      <td>190981.0</td>\n",
       "    </tr>\n",
       "    <tr>\n",
       "      <th>809387</th>\n",
       "      <td>23472.0</td>\n",
       "      <td>180711.0</td>\n",
       "      <td>47.0</td>\n",
       "      <td>8.0</td>\n",
       "      <td>0.0</td>\n",
       "      <td>1.0</td>\n",
       "      <td>4.0</td>\n",
       "      <td>65.0</td>\n",
       "      <td>112325.0</td>\n",
       "    </tr>\n",
       "    <tr>\n",
       "      <th>986635</th>\n",
       "      <td>23547.0</td>\n",
       "      <td>180703.0</td>\n",
       "      <td>79.0</td>\n",
       "      <td>8.0</td>\n",
       "      <td>0.0</td>\n",
       "      <td>0.0</td>\n",
       "      <td>4.0</td>\n",
       "      <td>30.0</td>\n",
       "      <td>208052.0</td>\n",
       "    </tr>\n",
       "    <tr>\n",
       "      <th>59560</th>\n",
       "      <td>28015.0</td>\n",
       "      <td>180722.0</td>\n",
       "      <td>97.0</td>\n",
       "      <td>7.0</td>\n",
       "      <td>0.0</td>\n",
       "      <td>0.0</td>\n",
       "      <td>5.0</td>\n",
       "      <td>89.0</td>\n",
       "      <td>187077.0</td>\n",
       "    </tr>\n",
       "    <tr>\n",
       "      <th>261952</th>\n",
       "      <td>22402.0</td>\n",
       "      <td>180714.0</td>\n",
       "      <td>26.0</td>\n",
       "      <td>7.0</td>\n",
       "      <td>0.0</td>\n",
       "      <td>0.0</td>\n",
       "      <td>2.0</td>\n",
       "      <td>40.0</td>\n",
       "      <td>154365.0</td>\n",
       "    </tr>\n",
       "    <tr>\n",
       "      <th>472003</th>\n",
       "      <td>25034.0</td>\n",
       "      <td>180707.0</td>\n",
       "      <td>92.0</td>\n",
       "      <td>7.0</td>\n",
       "      <td>0.0</td>\n",
       "      <td>1.0</td>\n",
       "      <td>5.0</td>\n",
       "      <td>7.0</td>\n",
       "      <td>161914.0</td>\n",
       "    </tr>\n",
       "    <tr>\n",
       "      <th>897193</th>\n",
       "      <td>21869.0</td>\n",
       "      <td>180726.0</td>\n",
       "      <td>66.0</td>\n",
       "      <td>7.0</td>\n",
       "      <td>0.0</td>\n",
       "      <td>0.0</td>\n",
       "      <td>1.0</td>\n",
       "      <td>68.0</td>\n",
       "      <td>61104.0</td>\n",
       "    </tr>\n",
       "    <tr>\n",
       "      <th>222537</th>\n",
       "      <td>32004.0</td>\n",
       "      <td>180719.0</td>\n",
       "      <td>65.0</td>\n",
       "      <td>6.0</td>\n",
       "      <td>0.0</td>\n",
       "      <td>0.0</td>\n",
       "      <td>2.0</td>\n",
       "      <td>44.0</td>\n",
       "      <td>51666.0</td>\n",
       "    </tr>\n",
       "    <tr>\n",
       "      <th>514463</th>\n",
       "      <td>26575.0</td>\n",
       "      <td>180720.0</td>\n",
       "      <td>40.0</td>\n",
       "      <td>6.0</td>\n",
       "      <td>0.0</td>\n",
       "      <td>1.0</td>\n",
       "      <td>2.0</td>\n",
       "      <td>76.0</td>\n",
       "      <td>216540.0</td>\n",
       "    </tr>\n",
       "    <tr>\n",
       "      <th>697518</th>\n",
       "      <td>29335.0</td>\n",
       "      <td>180728.0</td>\n",
       "      <td>12.0</td>\n",
       "      <td>6.0</td>\n",
       "      <td>0.0</td>\n",
       "      <td>0.0</td>\n",
       "      <td>3.0</td>\n",
       "      <td>73.0</td>\n",
       "      <td>162653.0</td>\n",
       "    </tr>\n",
       "    <tr>\n",
       "      <th>751579</th>\n",
       "      <td>26543.0</td>\n",
       "      <td>180706.0</td>\n",
       "      <td>93.0</td>\n",
       "      <td>6.0</td>\n",
       "      <td>0.0</td>\n",
       "      <td>1.0</td>\n",
       "      <td>2.0</td>\n",
       "      <td>14.0</td>\n",
       "      <td>58721.0</td>\n",
       "    </tr>\n",
       "    <tr>\n",
       "      <th>961509</th>\n",
       "      <td>25457.0</td>\n",
       "      <td>180724.0</td>\n",
       "      <td>78.0</td>\n",
       "      <td>6.0</td>\n",
       "      <td>0.0</td>\n",
       "      <td>0.0</td>\n",
       "      <td>0.0</td>\n",
       "      <td>87.0</td>\n",
       "      <td>233354.0</td>\n",
       "    </tr>\n",
       "    <tr>\n",
       "      <th>971049</th>\n",
       "      <td>27857.0</td>\n",
       "      <td>180724.0</td>\n",
       "      <td>88.0</td>\n",
       "      <td>6.0</td>\n",
       "      <td>0.0</td>\n",
       "      <td>0.0</td>\n",
       "      <td>5.0</td>\n",
       "      <td>79.0</td>\n",
       "      <td>104759.0</td>\n",
       "    </tr>\n",
       "    <tr>\n",
       "      <th>980139</th>\n",
       "      <td>22914.0</td>\n",
       "      <td>180725.0</td>\n",
       "      <td>9.0</td>\n",
       "      <td>6.0</td>\n",
       "      <td>0.0</td>\n",
       "      <td>0.0</td>\n",
       "      <td>2.0</td>\n",
       "      <td>97.0</td>\n",
       "      <td>145040.0</td>\n",
       "    </tr>\n",
       "    <tr>\n",
       "      <th>336781</th>\n",
       "      <td>30000.0</td>\n",
       "      <td>180703.0</td>\n",
       "      <td>14.0</td>\n",
       "      <td>5.0</td>\n",
       "      <td>0.0</td>\n",
       "      <td>1.0</td>\n",
       "      <td>3.0</td>\n",
       "      <td>19.0</td>\n",
       "      <td>37602.0</td>\n",
       "    </tr>\n",
       "    <tr>\n",
       "      <th>385554</th>\n",
       "      <td>23695.0</td>\n",
       "      <td>180727.0</td>\n",
       "      <td>21.0</td>\n",
       "      <td>5.0</td>\n",
       "      <td>0.0</td>\n",
       "      <td>1.0</td>\n",
       "      <td>2.0</td>\n",
       "      <td>86.0</td>\n",
       "      <td>179732.0</td>\n",
       "    </tr>\n",
       "    <tr>\n",
       "      <th>163007</th>\n",
       "      <td>23529.0</td>\n",
       "      <td>180719.0</td>\n",
       "      <td>64.0</td>\n",
       "      <td>4.0</td>\n",
       "      <td>0.0</td>\n",
       "      <td>0.0</td>\n",
       "      <td>5.0</td>\n",
       "      <td>44.0</td>\n",
       "      <td>38869.0</td>\n",
       "    </tr>\n",
       "    <tr>\n",
       "      <th>410627</th>\n",
       "      <td>20205.0</td>\n",
       "      <td>180712.0</td>\n",
       "      <td>40.0</td>\n",
       "      <td>4.0</td>\n",
       "      <td>0.0</td>\n",
       "      <td>1.0</td>\n",
       "      <td>0.0</td>\n",
       "      <td>85.0</td>\n",
       "      <td>217585.0</td>\n",
       "    </tr>\n",
       "    <tr>\n",
       "      <th>444584</th>\n",
       "      <td>36402.0</td>\n",
       "      <td>180707.0</td>\n",
       "      <td>5.0</td>\n",
       "      <td>4.0</td>\n",
       "      <td>0.0</td>\n",
       "      <td>0.0</td>\n",
       "      <td>0.0</td>\n",
       "      <td>54.0</td>\n",
       "      <td>222968.0</td>\n",
       "    </tr>\n",
       "    <tr>\n",
       "      <th>561763</th>\n",
       "      <td>27938.0</td>\n",
       "      <td>180705.0</td>\n",
       "      <td>24.0</td>\n",
       "      <td>4.0</td>\n",
       "      <td>0.0</td>\n",
       "      <td>0.0</td>\n",
       "      <td>1.0</td>\n",
       "      <td>7.0</td>\n",
       "      <td>12347.0</td>\n",
       "    </tr>\n",
       "    <tr>\n",
       "      <th>870741</th>\n",
       "      <td>25637.0</td>\n",
       "      <td>180710.0</td>\n",
       "      <td>48.0</td>\n",
       "      <td>4.0</td>\n",
       "      <td>0.0</td>\n",
       "      <td>0.0</td>\n",
       "      <td>4.0</td>\n",
       "      <td>66.0</td>\n",
       "      <td>79452.0</td>\n",
       "    </tr>\n",
       "    <tr>\n",
       "      <th>265147</th>\n",
       "      <td>24533.0</td>\n",
       "      <td>180727.0</td>\n",
       "      <td>66.0</td>\n",
       "      <td>3.0</td>\n",
       "      <td>0.0</td>\n",
       "      <td>0.0</td>\n",
       "      <td>4.0</td>\n",
       "      <td>16.0</td>\n",
       "      <td>181435.0</td>\n",
       "    </tr>\n",
       "    <tr>\n",
       "      <th>490379</th>\n",
       "      <td>24959.0</td>\n",
       "      <td>180716.0</td>\n",
       "      <td>51.0</td>\n",
       "      <td>3.0</td>\n",
       "      <td>0.0</td>\n",
       "      <td>0.0</td>\n",
       "      <td>5.0</td>\n",
       "      <td>29.0</td>\n",
       "      <td>57941.0</td>\n",
       "    </tr>\n",
       "    <tr>\n",
       "      <th>524813</th>\n",
       "      <td>27838.0</td>\n",
       "      <td>180706.0</td>\n",
       "      <td>9.0</td>\n",
       "      <td>3.0</td>\n",
       "      <td>0.0</td>\n",
       "      <td>1.0</td>\n",
       "      <td>1.0</td>\n",
       "      <td>42.0</td>\n",
       "      <td>206651.0</td>\n",
       "    </tr>\n",
       "    <tr>\n",
       "      <th>717195</th>\n",
       "      <td>27625.0</td>\n",
       "      <td>180729.0</td>\n",
       "      <td>75.0</td>\n",
       "      <td>3.0</td>\n",
       "      <td>0.0</td>\n",
       "      <td>0.0</td>\n",
       "      <td>3.0</td>\n",
       "      <td>52.0</td>\n",
       "      <td>140864.0</td>\n",
       "    </tr>\n",
       "  </tbody>\n",
       "</table>\n",
       "<p>134256 rows × 9 columns</p>\n",
       "</div>"
      ],
      "text/plain": [
       "           CLNN      TS_D  FINAL_CD   SAA  MCT_ADM_GDS_APB_CD  DOF_TF  \\\n",
       "643724  16993.0  180726.0      41.0  27.0               355.0     0.0   \n",
       "245942   1185.0  180730.0      96.0  26.0               354.0     1.0   \n",
       "208852   4725.0  180715.0      84.0  28.0               345.0     0.0   \n",
       "717839   7155.0  180702.0      64.0  12.0               345.0     1.0   \n",
       "349446  16661.0  180727.0      58.0   6.0               334.0     0.0   \n",
       "709605   2307.0  180702.0      61.0  35.0               330.0     0.0   \n",
       "544604  15646.0  180725.0      79.0   5.0               316.0     0.0   \n",
       "393677   7695.0  180708.0       3.0  14.0               313.0     0.0   \n",
       "401154  12838.0  180703.0      55.0  18.0               310.0     0.0   \n",
       "601656  10519.0  180708.0      58.0  21.0               307.0     0.0   \n",
       "125077   9638.0  180703.0      47.0   7.0               307.0     0.0   \n",
       "459714   3278.0  180722.0      28.0  30.0               304.0     0.0   \n",
       "851894   1921.0  180721.0      50.0   5.0               304.0     0.0   \n",
       "414290   2256.0  180717.0      67.0  15.0               301.0     0.0   \n",
       "573289    673.0  180729.0      87.0  15.0               301.0     0.0   \n",
       "347607   5270.0  180715.0      51.0   8.0               301.0     1.0   \n",
       "813548   5460.0  180706.0      85.0   8.0               301.0     0.0   \n",
       "144715      3.0  180714.0      30.0   4.0               300.0     0.0   \n",
       "945541  20796.0  180710.0      36.0   3.0               300.0     0.0   \n",
       "847361   7383.0  180723.0      31.0  13.0               299.0     0.0   \n",
       "906147  11632.0  180706.0      18.0   4.0               299.0     1.0   \n",
       "799420  15525.0  180722.0      39.0  36.0               298.0     1.0   \n",
       "760538   1876.0  180707.0      29.0   7.0               297.0     0.0   \n",
       "573189   6299.0  180703.0      34.0  31.0               296.0     1.0   \n",
       "405079    455.0  180721.0      54.0  27.0               296.0     0.0   \n",
       "333841  13307.0  180714.0      15.0  19.0               295.0     0.0   \n",
       "261838  13859.0  180712.0      39.0   4.0               295.0     1.0   \n",
       "922715  15941.0  180729.0      68.0  16.0               294.0     1.0   \n",
       "109039   2773.0  180716.0      68.0  11.0               294.0     0.0   \n",
       "355631   7031.0  180707.0      10.0  26.0               293.0     1.0   \n",
       "...         ...       ...       ...   ...                 ...     ...   \n",
       "247345  25633.0  180712.0      57.0   8.0                 0.0     0.0   \n",
       "346058  24551.0  180726.0       6.0   8.0                 0.0     0.0   \n",
       "376600  26512.0  180727.0      27.0   8.0                 0.0     0.0   \n",
       "541947  20565.0  180704.0      38.0   8.0                 0.0     1.0   \n",
       "622653  29107.0  180712.0      17.0   8.0                 0.0     1.0   \n",
       "710697  26051.0  180704.0      87.0   8.0                 0.0     0.0   \n",
       "809387  23472.0  180711.0      47.0   8.0                 0.0     1.0   \n",
       "986635  23547.0  180703.0      79.0   8.0                 0.0     0.0   \n",
       "59560   28015.0  180722.0      97.0   7.0                 0.0     0.0   \n",
       "261952  22402.0  180714.0      26.0   7.0                 0.0     0.0   \n",
       "472003  25034.0  180707.0      92.0   7.0                 0.0     1.0   \n",
       "897193  21869.0  180726.0      66.0   7.0                 0.0     0.0   \n",
       "222537  32004.0  180719.0      65.0   6.0                 0.0     0.0   \n",
       "514463  26575.0  180720.0      40.0   6.0                 0.0     1.0   \n",
       "697518  29335.0  180728.0      12.0   6.0                 0.0     0.0   \n",
       "751579  26543.0  180706.0      93.0   6.0                 0.0     1.0   \n",
       "961509  25457.0  180724.0      78.0   6.0                 0.0     0.0   \n",
       "971049  27857.0  180724.0      88.0   6.0                 0.0     0.0   \n",
       "980139  22914.0  180725.0       9.0   6.0                 0.0     0.0   \n",
       "336781  30000.0  180703.0      14.0   5.0                 0.0     1.0   \n",
       "385554  23695.0  180727.0      21.0   5.0                 0.0     1.0   \n",
       "163007  23529.0  180719.0      64.0   4.0                 0.0     0.0   \n",
       "410627  20205.0  180712.0      40.0   4.0                 0.0     1.0   \n",
       "444584  36402.0  180707.0       5.0   4.0                 0.0     0.0   \n",
       "561763  27938.0  180705.0      24.0   4.0                 0.0     0.0   \n",
       "870741  25637.0  180710.0      48.0   4.0                 0.0     0.0   \n",
       "265147  24533.0  180727.0      66.0   3.0                 0.0     0.0   \n",
       "490379  24959.0  180716.0      51.0   3.0                 0.0     0.0   \n",
       "524813  27838.0  180706.0       9.0   3.0                 0.0     1.0   \n",
       "717195  27625.0  180729.0      75.0   3.0                 0.0     0.0   \n",
       "\n",
       "        DAW_CCD  MCT_N      TIME  \n",
       "643724      0.0   97.0  135335.0  \n",
       "245942      1.0   85.0  132441.0  \n",
       "208852      1.0   66.0    5820.0  \n",
       "717839      5.0   15.0  189679.0  \n",
       "349446      2.0   21.0  208891.0  \n",
       "709605      2.0   26.0   67692.0  \n",
       "544604      3.0   44.0  104994.0  \n",
       "393677      4.0   10.0   27388.0  \n",
       "401154      3.0   44.0  111285.0  \n",
       "601656      4.0   42.0  228212.0  \n",
       "125077      4.0    1.0   87233.0  \n",
       "459714      2.0   78.0  193090.0  \n",
       "851894      0.0   65.0  118130.0  \n",
       "414290      4.0   54.0   57041.0  \n",
       "573289      2.0    4.0  132170.0  \n",
       "347607      1.0   70.0    2020.0  \n",
       "813548      4.0   18.0  211602.0  \n",
       "144715      0.0   48.0  168762.0  \n",
       "945541      5.0   51.0   59383.0  \n",
       "847361      2.0   98.0  139717.0  \n",
       "906147      2.0   96.0    1659.0  \n",
       "799420      0.0   71.0   36694.0  \n",
       "760538      1.0   44.0   34501.0  \n",
       "573189      5.0   69.0    6743.0  \n",
       "405079      4.0   23.0  141866.0  \n",
       "333841      4.0   43.0   72948.0  \n",
       "261838      3.0    9.0   62764.0  \n",
       "922715      2.0   88.0    6586.0  \n",
       "109039      3.0    7.0  172159.0  \n",
       "355631      2.0   35.0   40467.0  \n",
       "...         ...    ...       ...  \n",
       "247345      5.0   93.0   53243.0  \n",
       "346058      4.0   79.0   22801.0  \n",
       "376600      2.0   59.0   82826.0  \n",
       "541947      3.0   29.0  163156.0  \n",
       "622653      3.0   52.0  142113.0  \n",
       "710697      3.0    7.0  190981.0  \n",
       "809387      4.0   65.0  112325.0  \n",
       "986635      4.0   30.0  208052.0  \n",
       "59560       5.0   89.0  187077.0  \n",
       "261952      2.0   40.0  154365.0  \n",
       "472003      5.0    7.0  161914.0  \n",
       "897193      1.0   68.0   61104.0  \n",
       "222537      2.0   44.0   51666.0  \n",
       "514463      2.0   76.0  216540.0  \n",
       "697518      3.0   73.0  162653.0  \n",
       "751579      2.0   14.0   58721.0  \n",
       "961509      0.0   87.0  233354.0  \n",
       "971049      5.0   79.0  104759.0  \n",
       "980139      2.0   97.0  145040.0  \n",
       "336781      3.0   19.0   37602.0  \n",
       "385554      2.0   86.0  179732.0  \n",
       "163007      5.0   44.0   38869.0  \n",
       "410627      0.0   85.0  217585.0  \n",
       "444584      0.0   54.0  222968.0  \n",
       "561763      1.0    7.0   12347.0  \n",
       "870741      4.0   66.0   79452.0  \n",
       "265147      4.0   16.0  181435.0  \n",
       "490379      5.0   29.0   57941.0  \n",
       "524813      1.0   42.0  206651.0  \n",
       "717195      3.0   52.0  140864.0  \n",
       "\n",
       "[134256 rows x 9 columns]"
      ]
     },
     "execution_count": 182,
     "metadata": {},
     "output_type": "execute_result"
    }
   ],
   "source": [
    "df.sort_values(['MCT_ADM_GDS_APB_CD', 'SAA'], ascending=False).groupby(['CLNN']).head() ## 예시 ## TS_D와 FINAL_CD는 aggregate 되지 않았음 "
   ]
  },
  {
   "cell_type": "code",
   "execution_count": 185,
   "metadata": {
    "scrolled": true
   },
   "outputs": [
    {
     "name": "stdout",
     "output_type": "stream",
     "text": [
      "CLNN\n",
      "9837.0     52\n",
      "8631.0     45\n",
      "2531.0     86\n",
      "5663.0     71\n",
      "7783.0     66\n",
      "191.0      74\n",
      "821.0      71\n",
      "8145.0     59\n",
      "3278.0     68\n",
      "14187.0    26\n",
      "3707.0     74\n",
      "4650.0     91\n",
      "9585.0     61\n",
      "8571.0     57\n",
      "9170.0     60\n",
      "Name: MCT_ADM_GDS_APB_CD, dtype: int64\n",
      "54.19524804751953\n"
     ]
    }
   ],
   "source": [
    "# 고객당 평균 몇 개의 동에서 거래가 이루어졌는가?\n",
    "grouped = df.groupby(['CLNN'], sort=False).count()['MCT_ADM_GDS_APB_CD']\n",
    "print(grouped.head(15))\n",
    "print(np.mean(grouped[:2]) )"
   ]
  },
  {
   "cell_type": "markdown",
   "metadata": {},
   "source": [
    "### df를 sort하기"
   ]
  },
  {
   "cell_type": "code",
   "execution_count": 186,
   "metadata": {},
   "outputs": [
    {
     "data": {
      "text/html": [
       "<div>\n",
       "<style scoped>\n",
       "    .dataframe tbody tr th:only-of-type {\n",
       "        vertical-align: middle;\n",
       "    }\n",
       "\n",
       "    .dataframe tbody tr th {\n",
       "        vertical-align: top;\n",
       "    }\n",
       "\n",
       "    .dataframe thead th {\n",
       "        text-align: right;\n",
       "    }\n",
       "</style>\n",
       "<table border=\"1\" class=\"dataframe\">\n",
       "  <thead>\n",
       "    <tr style=\"text-align: right;\">\n",
       "      <th></th>\n",
       "      <th>CLNN</th>\n",
       "      <th>TS_D</th>\n",
       "      <th>FINAL_CD</th>\n",
       "      <th>SAA</th>\n",
       "      <th>MCT_ADM_GDS_APB_CD</th>\n",
       "      <th>DOF_TF</th>\n",
       "      <th>DAW_CCD</th>\n",
       "      <th>MCT_N</th>\n",
       "      <th>TIME</th>\n",
       "    </tr>\n",
       "  </thead>\n",
       "  <tbody>\n",
       "    <tr>\n",
       "      <th>602092</th>\n",
       "      <td>19985.0</td>\n",
       "      <td>180712.0</td>\n",
       "      <td>88.0</td>\n",
       "      <td>22.0</td>\n",
       "      <td>0.0</td>\n",
       "      <td>0.0</td>\n",
       "      <td>5.0</td>\n",
       "      <td>91.0</td>\n",
       "      <td>18.0</td>\n",
       "    </tr>\n",
       "    <tr>\n",
       "      <th>649470</th>\n",
       "      <td>8914.0</td>\n",
       "      <td>180723.0</td>\n",
       "      <td>38.0</td>\n",
       "      <td>16.0</td>\n",
       "      <td>0.0</td>\n",
       "      <td>0.0</td>\n",
       "      <td>1.0</td>\n",
       "      <td>9.0</td>\n",
       "      <td>47.0</td>\n",
       "    </tr>\n",
       "    <tr>\n",
       "      <th>911259</th>\n",
       "      <td>2511.0</td>\n",
       "      <td>180707.0</td>\n",
       "      <td>53.0</td>\n",
       "      <td>44.0</td>\n",
       "      <td>0.0</td>\n",
       "      <td>0.0</td>\n",
       "      <td>4.0</td>\n",
       "      <td>3.0</td>\n",
       "      <td>80.0</td>\n",
       "    </tr>\n",
       "    <tr>\n",
       "      <th>380544</th>\n",
       "      <td>288.0</td>\n",
       "      <td>180713.0</td>\n",
       "      <td>96.0</td>\n",
       "      <td>38.0</td>\n",
       "      <td>0.0</td>\n",
       "      <td>0.0</td>\n",
       "      <td>0.0</td>\n",
       "      <td>27.0</td>\n",
       "      <td>85.0</td>\n",
       "    </tr>\n",
       "    <tr>\n",
       "      <th>438088</th>\n",
       "      <td>1593.0</td>\n",
       "      <td>180729.0</td>\n",
       "      <td>93.0</td>\n",
       "      <td>47.0</td>\n",
       "      <td>0.0</td>\n",
       "      <td>1.0</td>\n",
       "      <td>5.0</td>\n",
       "      <td>54.0</td>\n",
       "      <td>140.0</td>\n",
       "    </tr>\n",
       "  </tbody>\n",
       "</table>\n",
       "</div>"
      ],
      "text/plain": [
       "           CLNN      TS_D  FINAL_CD   SAA  MCT_ADM_GDS_APB_CD  DOF_TF  \\\n",
       "602092  19985.0  180712.0      88.0  22.0                 0.0     0.0   \n",
       "649470   8914.0  180723.0      38.0  16.0                 0.0     0.0   \n",
       "911259   2511.0  180707.0      53.0  44.0                 0.0     0.0   \n",
       "380544    288.0  180713.0      96.0  38.0                 0.0     0.0   \n",
       "438088   1593.0  180729.0      93.0  47.0                 0.0     1.0   \n",
       "\n",
       "        DAW_CCD  MCT_N   TIME  \n",
       "602092      5.0   91.0   18.0  \n",
       "649470      1.0    9.0   47.0  \n",
       "911259      4.0    3.0   80.0  \n",
       "380544      0.0   27.0   85.0  \n",
       "438088      5.0   54.0  140.0  "
      ]
     },
     "execution_count": 186,
     "metadata": {},
     "output_type": "execute_result"
    }
   ],
   "source": [
    "df.sort_values(by=['MCT_ADM_GDS_APB_CD', 'TIME'], ascending=True).head()"
   ]
  },
  {
   "cell_type": "markdown",
   "metadata": {},
   "source": [
    "### GroupBy 객체를 sorting 하기"
   ]
  },
  {
   "cell_type": "code",
   "execution_count": 188,
   "metadata": {},
   "outputs": [
    {
     "data": {
      "text/plain": [
       "CLNN\n",
       "1429.0     2395.0\n",
       "1310.0     2265.0\n",
       "2288.0     2224.0\n",
       "1181.0     2215.0\n",
       "61.0       2199.0\n",
       "633.0      2197.0\n",
       "499.0      2178.0\n",
       "3008.0     2157.0\n",
       "2191.0     2124.0\n",
       "517.0      2110.0\n",
       "1875.0     2108.0\n",
       "629.0      2093.0\n",
       "4892.0     2085.0\n",
       "2089.0     2084.0\n",
       "1496.0     2078.0\n",
       "2147.0     2076.0\n",
       "1486.0     2071.0\n",
       "892.0      2065.0\n",
       "582.0      2058.0\n",
       "765.0      2053.0\n",
       "3992.0     2053.0\n",
       "740.0      2047.0\n",
       "809.0      2046.0\n",
       "288.0      2037.0\n",
       "1013.0     2037.0\n",
       "497.0      2006.0\n",
       "2109.0     2005.0\n",
       "15.0       2002.0\n",
       "1077.0     1996.0\n",
       "1373.0     1994.0\n",
       "            ...  \n",
       "27803.0       3.0\n",
       "25893.0       3.0\n",
       "33069.0       3.0\n",
       "26775.0       3.0\n",
       "28345.0       3.0\n",
       "25193.0       3.0\n",
       "27212.0       3.0\n",
       "38607.0       3.0\n",
       "29240.0       3.0\n",
       "31011.0       3.0\n",
       "24959.0       3.0\n",
       "27235.0       3.0\n",
       "31458.0       3.0\n",
       "40288.0       3.0\n",
       "44074.0       3.0\n",
       "33343.0       3.0\n",
       "26854.0       3.0\n",
       "25104.0       3.0\n",
       "23492.0       3.0\n",
       "25860.0       3.0\n",
       "34295.0       3.0\n",
       "34917.0       3.0\n",
       "31731.0       3.0\n",
       "33882.0       3.0\n",
       "29269.0       3.0\n",
       "29574.0       3.0\n",
       "40060.0       3.0\n",
       "33828.0       3.0\n",
       "24179.0       3.0\n",
       "24227.0       3.0\n",
       "Name: SAA, Length: 31226, dtype: float64"
      ]
     },
     "execution_count": 188,
     "metadata": {},
     "output_type": "execute_result"
    }
   ],
   "source": [
    "grouped = df.groupby(['CLNN'], sort=False).sum() # 여기에서 sort=False 가 중요한 것 같음\n",
    "grouped.sort_values('SAA', ascending=False)['SAA']  "
   ]
  },
  {
   "cell_type": "code",
   "execution_count": 190,
   "metadata": {},
   "outputs": [
    {
     "data": {
      "text/plain": [
       "MCT_ADM_GDS_APB_CD\n",
       "4.0      217492.0\n",
       "6.0      215742.0\n",
       "8.0      214608.0\n",
       "13.0     214252.0\n",
       "3.0      214054.0\n",
       "5.0      213921.0\n",
       "11.0     213622.0\n",
       "7.0      213365.0\n",
       "9.0      213289.0\n",
       "15.0     212370.0\n",
       "2.0      212266.0\n",
       "1.0      212210.0\n",
       "12.0     212147.0\n",
       "18.0     211983.0\n",
       "17.0     211868.0\n",
       "16.0     211253.0\n",
       "10.0     210984.0\n",
       "14.0     209861.0\n",
       "19.0     208064.0\n",
       "22.0     207602.0\n",
       "20.0     207414.0\n",
       "21.0     205396.0\n",
       "25.0     204098.0\n",
       "24.0     204054.0\n",
       "23.0     202750.0\n",
       "28.0     200711.0\n",
       "27.0     199492.0\n",
       "32.0     198925.0\n",
       "26.0     197211.0\n",
       "29.0     196708.0\n",
       "           ...   \n",
       "296.0        58.0\n",
       "287.0        54.0\n",
       "291.0        51.0\n",
       "292.0        51.0\n",
       "301.0        46.0\n",
       "345.0        40.0\n",
       "290.0        38.0\n",
       "288.0        38.0\n",
       "298.0        36.0\n",
       "304.0        35.0\n",
       "330.0        35.0\n",
       "289.0        32.0\n",
       "283.0        32.0\n",
       "271.0        31.0\n",
       "286.0        29.0\n",
       "307.0        28.0\n",
       "355.0        27.0\n",
       "294.0        27.0\n",
       "293.0        26.0\n",
       "354.0        26.0\n",
       "295.0        23.0\n",
       "310.0        18.0\n",
       "299.0        17.0\n",
       "313.0        14.0\n",
       "300.0         7.0\n",
       "282.0         7.0\n",
       "297.0         7.0\n",
       "334.0         6.0\n",
       "316.0         5.0\n",
       "276.0         4.0\n",
       "Name: SAA, Length: 312, dtype: float64"
      ]
     },
     "execution_count": 190,
     "metadata": {},
     "output_type": "execute_result"
    }
   ],
   "source": [
    "grouped = df.groupby(['MCT_ADM_GDS_APB_CD'], sort=False).sum()  \n",
    "grouped.sort_values('SAA', ascending=False)['SAA']  "
   ]
  },
  {
   "cell_type": "code",
   "execution_count": 187,
   "metadata": {},
   "outputs": [
    {
     "data": {
      "text/plain": [
       "CLNN     MCT_ADM_GDS_APB_CD\n",
       "1748.0   24.0                  192.0\n",
       "4808.0   32.0                  189.0\n",
       "1370.0   54.0                  182.0\n",
       "12837.0  70.0                  179.0\n",
       "2375.0   44.0                  179.0\n",
       "3081.0   20.0                  173.0\n",
       "787.0    2.0                   173.0\n",
       "4714.0   39.0                  172.0\n",
       "5238.0   27.0                  171.0\n",
       "4390.0   18.0                  171.0\n",
       "2466.0   54.0                  169.0\n",
       "9033.0   15.0                  168.0\n",
       "2037.0   62.0                  167.0\n",
       "753.0    15.0                  165.0\n",
       "4706.0   19.0                  164.0\n",
       "474.0    64.0                  164.0\n",
       "1392.0   45.0                  164.0\n",
       "3932.0   3.0                   164.0\n",
       "4965.0   32.0                  163.0\n",
       "3894.0   15.0                  163.0\n",
       "49.0     52.0                  163.0\n",
       "9494.0   6.0                   163.0\n",
       "2527.0   23.0                  162.0\n",
       "5147.0   33.0                  161.0\n",
       "6531.0   16.0                  160.0\n",
       "3011.0   6.0                   160.0\n",
       "1385.0   44.0                  159.0\n",
       "2051.0   15.0                  158.0\n",
       "1999.0   10.0                  158.0\n",
       "143.0    1.0                   158.0\n",
       "                               ...  \n",
       "2385.0   188.0                   3.0\n",
       "8116.0   102.0                   3.0\n",
       "2873.0   138.0                   3.0\n",
       "2530.0   20.0                    3.0\n",
       "3931.0   66.0                    3.0\n",
       "18997.0  118.0                   3.0\n",
       "3475.0   109.0                   3.0\n",
       "15600.0  191.0                   3.0\n",
       "14025.0  45.0                    3.0\n",
       "10916.0  69.0                    3.0\n",
       "12633.0  82.0                    3.0\n",
       "13293.0  66.0                    3.0\n",
       "11449.0  76.0                    3.0\n",
       "13258.0  23.0                    3.0\n",
       "6158.0   87.0                    3.0\n",
       "11535.0  58.0                    3.0\n",
       "13454.0  63.0                    3.0\n",
       "2919.0   87.0                    3.0\n",
       "25635.0  37.0                    3.0\n",
       "7104.0   123.0                   3.0\n",
       "4409.0   56.0                    3.0\n",
       "11189.0  25.0                    3.0\n",
       "7700.0   5.0                     3.0\n",
       "1899.0   25.0                    3.0\n",
       "7360.0   73.0                    3.0\n",
       "7288.0   22.0                    3.0\n",
       "13352.0  60.0                    3.0\n",
       "4140.0   88.0                    3.0\n",
       "10757.0  93.0                    3.0\n",
       "6582.0   48.0                    3.0\n",
       "Name: SAA, Length: 812504, dtype: float64"
      ]
     },
     "execution_count": 187,
     "metadata": {},
     "output_type": "execute_result"
    }
   ],
   "source": [
    "grouped = df.groupby(['CLNN', 'MCT_ADM_GDS_APB_CD'], sort=False).sum() # 여기에서 sort=False 가 중요한 것 같음\n",
    "grouped.sort_values('SAA', ascending=False)['SAA'] # multiple 기준으로 sorting은 안되는듯 "
   ]
  },
  {
   "cell_type": "code",
   "execution_count": null,
   "metadata": {},
   "outputs": [],
   "source": []
  },
  {
   "cell_type": "code",
   "execution_count": null,
   "metadata": {},
   "outputs": [],
   "source": []
  },
  {
   "cell_type": "code",
   "execution_count": null,
   "metadata": {},
   "outputs": [],
   "source": [
    "grouped.sort_values('CLNN', ascending=True) # NOT WORKING !! 처음 group by 한 원래 기준으로 sorting도 안되는듯"
   ]
  },
  {
   "cell_type": "code",
   "execution_count": null,
   "metadata": {},
   "outputs": [],
   "source": [
    "gb2.apply(lambda _df: _df.sort_values(by=['SAA']))"
   ]
  },
  {
   "cell_type": "code",
   "execution_count": null,
   "metadata": {},
   "outputs": [],
   "source": [
    "df.pivot('MCT_ADM_GDS_APB_CD', 'FINAL_CD', 'CLNN')"
   ]
  },
  {
   "cell_type": "markdown",
   "metadata": {},
   "source": [
    "### 조건에 맞는 일부 원소만 추출하기"
   ]
  },
  {
   "cell_type": "code",
   "execution_count": null,
   "metadata": {},
   "outputs": [],
   "source": [
    "df = df[df.Volume !=0]"
   ]
  },
  {
   "cell_type": "code",
   "execution_count": null,
   "metadata": {},
   "outputs": [],
   "source": []
  },
  {
   "cell_type": "markdown",
   "metadata": {},
   "source": [
    "### Cross-sectional / Aggregate 분석"
   ]
  },
  {
   "cell_type": "markdown",
   "metadata": {},
   "source": [
    "#### 히스토그램 "
   ]
  },
  {
   "cell_type": "code",
   "execution_count": null,
   "metadata": {},
   "outputs": [],
   "source": [
    "df['SAA'].hist(bins=70)"
   ]
  },
  {
   "cell_type": "code",
   "execution_count": null,
   "metadata": {},
   "outputs": [],
   "source": [
    "df['person'].value_counts() "
   ]
  },
  {
   "cell_type": "markdown",
   "metadata": {},
   "source": [
    "value_counts 함수를 이용해 자동으로 그루핑되어 sum up된 결과물을 볼 수 있다."
   ]
  },
  {
   "cell_type": "code",
   "execution_count": null,
   "metadata": {},
   "outputs": [],
   "source": [
    "분포"
   ]
  },
  {
   "cell_type": "markdown",
   "metadata": {},
   "source": [
    "### 시계열 분석 "
   ]
  },
  {
   "cell_type": "markdown",
   "metadata": {},
   "source": [
    "1. 7월 1일부터 9월 30일까지의 총 매출 건수 추이 -- 원래 YoY, MoM 들어가야 하지만...\n",
    "2. 7월 1일부터 9월 30일까지의 총 매출 금액 추이\n",
    "3. 7월 1일부터 9월 30일까지의 매출 건수/인 추이\n",
    "4. 7월 1일부터 9월 30일까지의 매출 금액/인 추이\n",
    "5. 7월 1일부터 9월 30일까지의 행정동 개수/인 추이 -- mobility 의 지표, 향후 거리 개념이 도입되면 평균 이동거리를 알 수 있음 \n",
    "6. ...."
   ]
  },
  {
   "cell_type": "markdown",
   "metadata": {},
   "source": [
    "### 공간 시계열 분석"
   ]
  },
  {
   "cell_type": "markdown",
   "metadata": {},
   "source": [
    " (매출 상위 100개 행정동)"
   ]
  },
  {
   "cell_type": "markdown",
   "metadata": {},
   "source": [
    "log('SAA')\n",
    "\n",
    "20-\n",
    "15-\n",
    "10-\n",
    "05-\n",
    "00- ----------------------------\n",
    "    z0 z1 z3 z4 ....................\n",
    "    \n",
    "zone 별 매출 share가 이미 다르다 --> 상권의 비동질성\n",
    "집중도.......\n",
    "주식시장, 자산시장, "
   ]
  },
  {
   "cell_type": "markdown",
   "metadata": {},
   "source": [
    "시간대별 매출 분포 -- 이건 지역별로 너무 다를 듯\n",
    "\n",
    "log('SAA')\n",
    "\n",
    "20-\n",
    "15-\n",
    "10-\n",
    "05-\n",
    "00- ---------------------\n",
    "    00 04 08 12 16 20 24 "
   ]
  },
  {
   "cell_type": "code",
   "execution_count": null,
   "metadata": {},
   "outputs": [],
   "source": [
    "인별 점찍기...."
   ]
  },
  {
   "cell_type": "markdown",
   "metadata": {},
   "source": [
    "시간\n",
    "24-\n",
    "20-\n",
    "16-\n",
    "12-\n",
    "08-\n",
    "04-\n",
    "00- ----------------------------\n",
    "    z0 z1 z3 z4 ...................."
   ]
  },
  {
   "cell_type": "code",
   "execution_count": null,
   "metadata": {},
   "outputs": [],
   "source": [
    "인별 feature -- 거래건의 최신성이나 금액에 있어 가중치는 0\n",
    "\n",
    "시간: round('TIME'/240000) -- 아침러 vs 저녁러 -- 소비시간 score ..... 0시는 삭제하거나 하루의 시작을 +6 으로 하거나\n",
    "요일: \n",
    "장소: 평균 19개 --> len(['FINAL_CD'])/19 \n",
    "업종\n",
    "\n",
    "시간 집중도\n",
    "장소 집중도\n",
    "업종 집중도"
   ]
  },
  {
   "cell_type": "code",
   "execution_count": null,
   "metadata": {},
   "outputs": [],
   "source": []
  },
  {
   "cell_type": "markdown",
   "metadata": {},
   "source": [
    "### 문자열을 숫자로 type 바꾸기"
   ]
  },
  {
   "cell_type": "code",
   "execution_count": null,
   "metadata": {},
   "outputs": [],
   "source": []
  },
  {
   "cell_type": "markdown",
   "metadata": {},
   "source": [
    "http://m.dbguide.net/about.db?cmd=view&boardConfigUid=19&boardUid=188976"
   ]
  },
  {
   "cell_type": "code",
   "execution_count": null,
   "metadata": {},
   "outputs": [],
   "source": [
    "levels = []\n",
    "for level in deck:\n",
    "    levels.append(level[0])"
   ]
  },
  {
   "cell_type": "markdown",
   "metadata": {},
   "source": [
    "첫 번째 글자만 가져와서 새로운 객체에 담아보자. \n",
    "새로운 리스트 객체 levels에 앞 글자 하나만 가져와서 담은 후에 이를 아래와 같이 DataFrame으로 만들어보자."
   ]
  },
  {
   "cell_type": "code",
   "execution_count": null,
   "metadata": {},
   "outputs": [],
   "source": [
    "cabin_df = DataFrame(levels)\n",
    "cabin_df.columns = ['Cabin']\n",
    "cabin_df.head()"
   ]
  },
  {
   "cell_type": "markdown",
   "metadata": {},
   "source": [
    "T라는 Deck는 없는데 그래프에는 T라는 데이터가 있다는 것이다. T라는 Deck만 빼고 다시 가져와야 한다."
   ]
  },
  {
   "cell_type": "code",
   "execution_count": null,
   "metadata": {},
   "outputs": [],
   "source": []
  },
  {
   "cell_type": "code",
   "execution_count": null,
   "metadata": {},
   "outputs": [],
   "source": [
    "cabin_df = cabin_df[cabin_df.Cabin != 'T']\n",
    "sns.factorplot('Cabin', kind='count', data=cabin_df, palette='summer')"
   ]
  },
  {
   "cell_type": "markdown",
   "metadata": {},
   "source": [
    "DataFrame인 titanic_df의 각 컬럼에 접근하는 것의 기준은 점(.)이다. \n",
    "Survived 컬럼에서 map이라는 함수를 이용해 특정 정보일 경우, 특정 값으로 매핑을 해준 것이다. "
   ]
  },
  {
   "cell_type": "code",
   "execution_count": null,
   "metadata": {},
   "outputs": [],
   "source": [
    "titanic_df[\"Survivor\"] = titanic_df.Survived.map({0: \"no\", 1: \"yes\"})"
   ]
  },
  {
   "cell_type": "markdown",
   "metadata": {},
   "source": [
    "DataFrame인 titanic_df의 각 컬럼에 접근하는 것의 기준은 점(.)이다. \n",
    "xSurvived 컬럼에서 map이라는 함수를 이용해 특정 정보일 경우, 특정 값으로 매핑을 해준 것이다. "
   ]
  },
  {
   "cell_type": "markdown",
   "metadata": {},
   "source": [
    "DataFrame인 titanic_df의 각 컬럼에 접근하는 것의 기준은 점(.)이다. \n",
    "Survived 컬럼에서 map이라는 함수를 이용해 특정 정보일 경우, 특정 값으로 매핑을 해준 것이다. "
   ]
  },
  {
   "cell_type": "markdown",
   "metadata": {},
   "source": [
    "### 시간정보를 파싱하기"
   ]
  },
  {
   "cell_type": "markdown",
   "metadata": {},
   "source": [
    "문자열로부터 날짜와 시간 정보를 읽어서 datetime.datetime 클래스 객체를 만들 수도 있다. 이 때는 datetime.datetime.strptime() 클래스 메서드를 사용한다. 첫 번째 인수로는 날짜와 시간 정보를 가진 문자열을, 두번째 인수로는 그 문자열을 해독할 수 있는 형식 문자열을 넣는다."
   ]
  },
  {
   "cell_type": "code",
   "execution_count": 164,
   "metadata": {},
   "outputs": [
    {
     "data": {
      "text/plain": [
       "datetime.datetime(2017, 1, 2, 14, 44)"
      ]
     },
     "execution_count": 164,
     "metadata": {},
     "output_type": "execute_result"
    }
   ],
   "source": [
    "datetime.datetime.strptime(\"2017-01-02 14:44\", \"%Y-%m-%d %H:%M\")"
   ]
  },
  {
   "cell_type": "code",
   "execution_count": 166,
   "metadata": {},
   "outputs": [
    {
     "data": {
      "text/plain": [
       "datetime.datetime(1900, 1, 1, 14, 44, 1)"
      ]
     },
     "execution_count": 166,
     "metadata": {},
     "output_type": "execute_result"
    }
   ],
   "source": [
    "datetime.datetime.strptime(\"144401\", \"%H%M%S\")"
   ]
  },
  {
   "cell_type": "markdown",
   "metadata": {},
   "source": [
    "*이슈사항 1: Resolve type problem*"
   ]
  },
  {
   "cell_type": "code",
   "execution_count": 3,
   "metadata": {},
   "outputs": [
    {
     "ename": "NameError",
     "evalue": "name 'datetime' is not defined",
     "output_type": "error",
     "traceback": [
      "\u001b[1;31m---------------------------------------------------------------------------\u001b[0m",
      "\u001b[1;31mNameError\u001b[0m                                 Traceback (most recent call last)",
      "\u001b[1;32m<ipython-input-3-652d6592f3fb>\u001b[0m in \u001b[0;36m<module>\u001b[1;34m\u001b[0m\n\u001b[1;32m----> 1\u001b[1;33m \u001b[0mdatetime\u001b[0m\u001b[1;33m.\u001b[0m\u001b[0mdatetime\u001b[0m\u001b[1;33m.\u001b[0m\u001b[0mstrptime\u001b[0m\u001b[1;33m(\u001b[0m\u001b[0mtrx_df\u001b[0m\u001b[1;33m[\u001b[0m\u001b[1;34m'TIME'\u001b[0m\u001b[1;33m]\u001b[0m\u001b[1;33m,\u001b[0m \u001b[1;34m\"%H%M%S\"\u001b[0m\u001b[1;33m)\u001b[0m\u001b[1;33m\u001b[0m\u001b[0m\n\u001b[0m\u001b[0;32m      2\u001b[0m \u001b[1;31m# gets Warning Message: triptime() arguement 1 must be str, not Series*\u001b[0m\u001b[1;33m\u001b[0m\u001b[1;33m\u001b[0m\u001b[0m\n",
      "\u001b[1;31mNameError\u001b[0m: name 'datetime' is not defined"
     ]
    }
   ],
   "source": [
    "datetime.datetime.strptime(trx_df['TIME'], \"%H%M%S\")\n",
    "# gets Warning Message: triptime() arguement 1 must be str, not Series*."
   ]
  },
  {
   "cell_type": "markdown",
   "metadata": {},
   "source": [
    "*이슈사항 2: Is this working? More efficient way?*"
   ]
  },
  {
   "cell_type": "code",
   "execution_count": 1,
   "metadata": {},
   "outputs": [
    {
     "ename": "NameError",
     "evalue": "name 'time' is not defined",
     "output_type": "error",
     "traceback": [
      "\u001b[1;31m---------------------------------------------------------------------------\u001b[0m",
      "\u001b[1;31mNameError\u001b[0m                                 Traceback (most recent call last)",
      "\u001b[1;32m<ipython-input-1-0e6d869783b6>\u001b[0m in \u001b[0;36m<module>\u001b[1;34m\u001b[0m\n\u001b[1;32m----> 1\u001b[1;33m \u001b[0mstart_time\u001b[0m\u001b[1;33m=\u001b[0m \u001b[0mtime\u001b[0m\u001b[1;33m.\u001b[0m\u001b[0mtime\u001b[0m\u001b[1;33m(\u001b[0m\u001b[1;33m)\u001b[0m\u001b[1;33m\u001b[0m\u001b[0m\n\u001b[0m\u001b[0;32m      2\u001b[0m print( \" %d computed rows --- %.2f seconds ---\"%\\\n\u001b[0;32m      3\u001b[0m       (len(pd.DataFrame(groupByCLNN)), time.time()-start_time))\n",
      "\u001b[1;31mNameError\u001b[0m: name 'time' is not defined"
     ]
    }
   ],
   "source": [
    "start_time= time.time()\n",
    "print( \" %d computed rows --- %.2f seconds ---\"%\\\n",
    "      (len(pd.DataFrame(groupByCLNN)), time.time()-start_time))"
   ]
  },
  {
   "cell_type": "markdown",
   "metadata": {},
   "source": [
    "*이슈사항 3: is null을 물었을 때 True의 개수 확인*"
   ]
  },
  {
   "cell_type": "code",
   "execution_count": 6,
   "metadata": {},
   "outputs": [],
   "source": [
    "# 숫자로 바꿀 수 없는 문자열이 있는지 확인 => resolved"
   ]
  },
  {
   "cell_type": "markdown",
   "metadata": {},
   "source": [
    "*이슈사항4: df를 합칠 때 컬럼이 다른 경우*"
   ]
  },
  {
   "cell_type": "code",
   "execution_count": null,
   "metadata": {},
   "outputs": [],
   "source": [
    "df.info()\n",
    "df.index"
   ]
  },
  {
   "cell_type": "markdown",
   "metadata": {},
   "source": [
    "*이슈사항5: 시간을 불러와서 시간별로 합치거나, 시간의 계산을 하려고 한다*"
   ]
  },
  {
   "cell_type": "markdown",
   "metadata": {},
   "source": [
    "http://enjoyiot.tistory.com/category/Python/04_Pandas%EB%A5%BC%20%ED%86%B5%ED%95%9C%20%EC%8B%9C%EA%B3%84%EC%97%B4%20%EB%8D%B0%EC%9D%B4%ED%84%B0%20%28Time%20Series%29%20%EC%B2%98%EB%A6%AC"
   ]
  },
  {
   "cell_type": "code",
   "execution_count": null,
   "metadata": {},
   "outputs": [],
   "source": [
    "df = pd.read_csv('file.csv', index_col='Date', parse_dates=True)"
   ]
  },
  {
   "cell_type": "code",
   "execution_count": null,
   "metadata": {},
   "outputs": [],
   "source": [
    "# 그 전에 인덱스를 날짜로 바꾸어 주어야 함\n",
    "df.set_index('Date', inplace=False)\n",
    "\n",
    "df.resample(rule='A') # rule='A'는 1년에 한번, Q는 분기.. 매뉴얼을 보자\n",
    "df.resample(rule='A').mean() # 1년동안의 평균 값을 제공\n",
    "df.resample(rule='A').max() # 1년동안의 평균 값을 제공\n"
   ]
  },
  {
   "cell_type": "code",
   "execution_count": null,
   "metadata": {},
   "outputs": [],
   "source": [
    "# customized function\n",
    "\n",
    "def first_day(entry):\n",
    "    return entry[0]\n",
    "\n",
    "df.resample('A').apply(first_day)"
   ]
  },
  {
   "cell_type": "code",
   "execution_count": null,
   "metadata": {},
   "outputs": [],
   "source": [
    "# 각 close에 대해 매년 평균 구하고 bar 차트를 그려라\n",
    "df['Close'].resample('A').mean().plot(kind='bar') \n",
    "df['Close'].resample('M').mean().plot(kind='bar', figsize=(16, 6))"
   ]
  },
  {
   "cell_type": "markdown",
   "metadata": {},
   "source": [
    "DateTime Index\n",
    "Time Resampling\n",
    "Time Shifts\n",
    "Rolling and Expanding"
   ]
  },
  {
   "cell_type": "markdown",
   "metadata": {},
   "source": [
    "dataframe의 행 또는 열 삭제하기"
   ]
  },
  {
   "cell_type": "code",
   "execution_count": null,
   "metadata": {},
   "outputs": [],
   "source": [
    "# 열 삭제\n",
    "df = df.drop('col_name', 1) # 여기서 1은 축 번호, 행은 0, 열은 1\n",
    "\n",
    "# 혹은 df를 재할당하지 않고 열 삭제\n",
    "df.drop('col_name', axis=1, inplace=True)\n",
    "\n",
    "# 열 레이블 대신 열 번호를 사용하여 삭제\n",
    "df.drop(df.columns[[0, 1, 3]], axis=1)"
   ]
  },
  {
   "cell_type": "code",
   "execution_count": null,
   "metadata": {},
   "outputs": [],
   "source": []
  },
  {
   "cell_type": "code",
   "execution_count": null,
   "metadata": {},
   "outputs": [],
   "source": []
  },
  {
   "cell_type": "markdown",
   "metadata": {},
   "source": [
    "### 다른 df로부터 정보 추출하여 매칭하기"
   ]
  },
  {
   "cell_type": "code",
   "execution_count": null,
   "metadata": {},
   "outputs": [],
   "source": [
    "# upjong\n",
    "\n",
    "num_upjong = 2786049\n",
    "upjong = pd.DataFrame(np.random.randint(0, 100, size=(num_upjong, 3)))\n",
    "upjong.columns = ['MCT_N', 'FINAL_CD', 'FINAL_CD_NM']\n",
    "upjong.head()"
   ]
  },
  {
   "cell_type": "code",
   "execution_count": null,
   "metadata": {},
   "outputs": [],
   "source": [
    "grouped = upjong.groupby('MCT_N')"
   ]
  },
  {
   "cell_type": "code",
   "execution_count": null,
   "metadata": {},
   "outputs": [],
   "source": [
    "grouped.head()"
   ]
  },
  {
   "cell_type": "code",
   "execution_count": null,
   "metadata": {},
   "outputs": [],
   "source": [
    "grouped.count().head()"
   ]
  },
  {
   "cell_type": "code",
   "execution_count": 9,
   "metadata": {},
   "outputs": [
    {
     "ename": "NameError",
     "evalue": "name 'grouped' is not defined",
     "output_type": "error",
     "traceback": [
      "\u001b[1;31m---------------------------------------------------------------------------\u001b[0m",
      "\u001b[1;31mNameError\u001b[0m                                 Traceback (most recent call last)",
      "\u001b[1;32m<ipython-input-9-3b16e4730f2a>\u001b[0m in \u001b[0;36m<module>\u001b[1;34m\u001b[0m\n\u001b[1;32m----> 1\u001b[1;33m \u001b[0mgrouped\u001b[0m\u001b[1;33m.\u001b[0m\u001b[0mdescribe\u001b[0m\u001b[1;33m(\u001b[0m\u001b[1;33m)\u001b[0m\u001b[1;33m[\u001b[0m\u001b[1;34m'SAA'\u001b[0m\u001b[1;33m]\u001b[0m\u001b[1;33m.\u001b[0m\u001b[0mhead\u001b[0m\u001b[1;33m(\u001b[0m\u001b[1;33m)\u001b[0m\u001b[1;33m\u001b[0m\u001b[0m\n\u001b[0m",
      "\u001b[1;31mNameError\u001b[0m: name 'grouped' is not defined"
     ]
    }
   ],
   "source": [
    "grouped.describe()['SAA'].head()"
   ]
  },
  {
   "cell_type": "code",
   "execution_count": null,
   "metadata": {},
   "outputs": [],
   "source": [
    "# file read in memory \n",
    "# takes a long time so beware session failure\n",
    "trx07 = pd.read_csv('') "
   ]
  },
  {
   "cell_type": "code",
   "execution_count": null,
   "metadata": {},
   "outputs": [],
   "source": [
    "# file read in memory \n",
    "# takes a long time so beware session failure\n",
    "trx08 = pd.read_csv('')"
   ]
  },
  {
   "cell_type": "code",
   "execution_count": null,
   "metadata": {},
   "outputs": [],
   "source": [
    "# file read in memory \n",
    "# takes a long time so beware session failure\n",
    "trx09 = pd.read_csv('') "
   ]
  },
  {
   "cell_type": "code",
   "execution_count": null,
   "metadata": {},
   "outputs": [],
   "source": [
    "# check if data is succesfully loaded in memory\n",
    "# count rows\n"
   ]
  },
  {
   "cell_type": "code",
   "execution_count": null,
   "metadata": {},
   "outputs": [],
   "source": [
    "# check data\n"
   ]
  },
  {
   "cell_type": "markdown",
   "metadata": {},
   "source": [
    "Step 2. Data Wrangling"
   ]
  },
  {
   "cell_type": "code",
   "execution_count": null,
   "metadata": {},
   "outputs": [],
   "source": [
    "# count trx, group by dong\n",
    "\n",
    "# Make GroupBy object\n",
    "groupByDong = trx07.groupby('dong')"
   ]
  },
  {
   "cell_type": "code",
   "execution_count": null,
   "metadata": {},
   "outputs": [],
   "source": [
    "groupedByDong.count()\n",
    "groupedByDong.sum()"
   ]
  },
  {
   "cell_type": "markdown",
   "metadata": {},
   "source": [
    "만약 특정 변수에 대해서만 그룹별 요약/집계를 하고 싶다면 해당 변수를 indexing해주면 되며, 한개 변수에 대해서만 GroupBy 집계를 하면 반환되는 결과는 Series가 됩니다. 한개 변수에 대해 GroupBy 집계해서 나온 Series를 DataFrame으로 만들고 싶으면 pd.DataFrame() 를 사용해서 집계 결과를 DataFrame으로 변환해주면 됩니다. "
   ]
  },
  {
   "cell_type": "code",
   "execution_count": null,
   "metadata": {},
   "outputs": [],
   "source": [
    "groupedByDong.sum()['amount'] # Series\n",
    "\n",
    "pd.DataFrame(groupedByDong.sum()['amount']) # DataFrame "
   ]
  },
  {
   "cell_type": "code",
   "execution_count": null,
   "metadata": {},
   "outputs": [],
   "source": [
    "groupedByDong.describe()['amount']"
   ]
  },
  {
   "cell_type": "markdown",
   "metadata": {},
   "source": [
    "필요로 하는 집계함수가 pandas GroupBy methods에 없는 경우 사용자 정의 함수를 정의해서 집계에 사용할 수 있습니다. IQR(Inter-Quartile Range, Q3 - Q1) 를 사용자 정의 함수로 정의하고, 이를 grouped.aggregate() 혹은 grouped.agg() 의 괄호 안에 넣어서 그룹 별로 IQR를 계산해보겠습니다. "
   ]
  },
  {
   "cell_type": "code",
   "execution_count": null,
   "metadata": {},
   "outputs": [],
   "source": [
    "def iqr_func(x):\n",
    "\n",
    "    q3, q1 = np.percentile(x, [75, 25])\n",
    "\n",
    "    iqr = q3 - q1\n",
    "\n",
    "    return iqr"
   ]
  },
  {
   "cell_type": "code",
   "execution_count": null,
   "metadata": {},
   "outputs": [],
   "source": [
    "groupedByDong.agg(iqr_func) # groupedByDong.aggregate(iqr_func) 도 같은 결과"
   ]
  },
  {
   "cell_type": "code",
   "execution_count": null,
   "metadata": {},
   "outputs": [],
   "source": []
  },
  {
   "cell_type": "markdown",
   "metadata": {},
   "source": [
    "#### 기 과제"
   ]
  },
  {
   "cell_type": "code",
   "execution_count": 24,
   "metadata": {},
   "outputs": [
    {
     "ename": "SyntaxError",
     "evalue": "invalid syntax (<ipython-input-24-3e289dcf200f>, line 2)",
     "output_type": "error",
     "traceback": [
      "\u001b[1;36m  File \u001b[1;32m\"<ipython-input-24-3e289dcf200f>\"\u001b[1;36m, line \u001b[1;32m2\u001b[0m\n\u001b[1;33m    CLNN--WEEk OF DAY--SEX_CCD--AGE_GB--POISITION--FINAL_CD_NM--PSN_CL_HGA--PSN_DAY_COUNT--RTO_CL_COUNT--RNK_POSITION--RANK_UPJONG\u001b[0m\n\u001b[1;37m                ^\u001b[0m\n\u001b[1;31mSyntaxError\u001b[0m\u001b[1;31m:\u001b[0m invalid syntax\n"
     ]
    }
   ],
   "source": [
    "아웃풋이미지\n",
    "(1) 위치\n",
    "CLNN--WEEk OF DAY--SEX_CCD--AGE_GB--POISITION--FINAL_CD_NM--PSN_CL_HGA--PSN_DAY_COUNT--RTO_CL_COUNT--RNK_POSITION--RANK_UPJONG\n",
    "코드--주중평일 혹은 토요일 등--F--61세이상--강남역--요식--57000--2--2--50--50--1--1\n",
    "\n",
    "(2) 시간\n",
    "CLNN--DAYS--TIMES--SEX_CCD--AGE_GB--POISITION--FINAL_CD_NM--PSN_CL_HGA--PSN_DAY_COUNT--RTO_CL_COUNT--RNK_POSITION--RANK_UPJONG\n",
    "코드--주중평일--토요일--F--61세이상--강남역--요식--57000--2--2--50--50--1--1\n",
    "\n"
   ]
  },
  {
   "cell_type": "code",
   "execution_count": null,
   "metadata": {},
   "outputs": [],
   "source": [
    "MCT_ADM_GDS_APB_CD(행정동) 와 TIME(시간) 을 뽑아서, tuple 의 list 로 만드는 방법\n"
   ]
  }
 ],
 "metadata": {
  "kernelspec": {
   "display_name": "Python 3",
   "language": "python",
   "name": "python3"
  },
  "language_info": {
   "codemirror_mode": {
    "name": "ipython",
    "version": 3
   },
   "file_extension": ".py",
   "mimetype": "text/x-python",
   "name": "python",
   "nbconvert_exporter": "python",
   "pygments_lexer": "ipython3",
   "version": "3.6.6"
  }
 },
 "nbformat": 4,
 "nbformat_minor": 2
}
