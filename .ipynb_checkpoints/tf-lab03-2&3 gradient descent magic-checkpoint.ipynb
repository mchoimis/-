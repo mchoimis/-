{
 "cells": [
  {
   "cell_type": "code",
   "execution_count": 1,
   "metadata": {},
   "outputs": [
    {
     "name": "stderr",
     "output_type": "stream",
     "text": [
      "C:\\Users\\sds\\Anaconda3\\lib\\site-packages\\h5py\\__init__.py:36: FutureWarning: Conversion of the second argument of issubdtype from `float` to `np.floating` is deprecated. In future, it will be treated as `np.float64 == np.dtype(float).type`.\n",
      "  from ._conv import register_converters as _register_converters\n"
     ]
    },
    {
     "name": "stdout",
     "output_type": "stream",
     "text": [
      "0 6.8174477 [1.6446238]\n",
      "1 1.9391857 [1.3437994]\n",
      "2 0.5515905 [1.1833596]\n",
      "3 0.15689684 [1.0977918]\n",
      "4 0.044628453 [1.0521556]\n",
      "5 0.012694317 [1.0278163]\n",
      "6 0.003610816 [1.0148354]\n",
      "7 0.0010270766 [1.0079122]\n",
      "8 0.00029214387 [1.0042198]\n",
      "9 8.309683e-05 [1.0022506]\n",
      "10 2.363606e-05 [1.0012003]\n",
      "11 6.723852e-06 [1.0006402]\n",
      "12 1.912386e-06 [1.0003414]\n",
      "13 5.439676e-07 [1.000182]\n",
      "14 1.5459062e-07 [1.000097]\n",
      "15 4.3941593e-08 [1.0000517]\n",
      "16 1.2491266e-08 [1.0000275]\n",
      "17 3.5321979e-09 [1.0000147]\n",
      "18 9.998237e-10 [1.0000079]\n",
      "19 2.8887825e-10 [1.0000042]\n",
      "20 8.02487e-11 [1.0000023]\n"
     ]
    },
    {
     "data": {
      "text/plain": [
       "'\\n0 1.93919 [ 1.64462376]\\n1 0.551591 [ 1.34379935]\\n2 0.156897 [ 1.18335962]\\n3 0.0446285 [ 1.09779179]\\n4 0.0126943 [ 1.05215561]\\n5 0.00361082 [ 1.0278163]\\n6 0.00102708 [ 1.01483536]\\n7 0.000292144 [ 1.00791216]\\n8 8.30968e-05 [ 1.00421977]\\n9 2.36361e-05 [ 1.00225055]\\n10 6.72385e-06 [ 1.00120032]\\n11 1.91239e-06 [ 1.00064015]\\n12 5.43968e-07 [ 1.00034142]\\n13 1.54591e-07 [ 1.00018203]\\n14 4.39416e-08 [ 1.00009704]\\n15 1.24913e-08 [ 1.00005174]\\n16 3.5322e-09 [ 1.00002754]\\n17 9.99824e-10 [ 1.00001466]\\n18 2.88878e-10 [ 1.00000787]\\n19 8.02487e-11 [ 1.00000417]\\n20 2.34053e-11 [ 1.00000226]\\n'"
      ]
     },
     "execution_count": 1,
     "metadata": {},
     "output_type": "execute_result"
    }
   ],
   "source": [
    "# Lab 3 Minimizing Cost\n",
    "import tensorflow as tf\n",
    "\n",
    "tf.set_random_seed(777)  # for reproducibility\n",
    "\n",
    "x_data = [1, 2, 3]\n",
    "y_data = [1, 2, 3]\n",
    "\n",
    "# Try to find values for W and b to compute y_data = W * x_data\n",
    "# We know that W should be 1\n",
    "# But let's use TensorFlow to figure it out\n",
    "W = tf.Variable(tf.random_normal([1]), name=\"weight\")\n",
    "\n",
    "X = tf.placeholder(tf.float32)\n",
    "Y = tf.placeholder(tf.float32)\n",
    "\n",
    "# Our hypothesis for linear model X * W\n",
    "hypothesis = X * W\n",
    "\n",
    "# cost/loss function\n",
    "cost = tf.reduce_mean(tf.square(hypothesis - Y))\n",
    "\n",
    "# Minimize: Gradient Descent using derivative: W -= learning_rate * derivative\n",
    "learning_rate = 0.1\n",
    "gradient = tf.reduce_mean((W * X - Y) * X)\n",
    "descent = W - learning_rate * gradient\n",
    "update = W.assign(descent) # 값을 집어넣을 때 이 operation만 작동하면 된다\n",
    "\n",
    "# Launch the graph in a session.\n",
    "with tf.Session() as sess:\n",
    "    # Initializes global variables in the graph.\n",
    "    sess.run(tf.global_variables_initializer())\n",
    "\n",
    "    for step in range(21):\n",
    "        _, cost_val, W_val = sess.run(\n",
    "            [update, cost, W], feed_dict={X: x_data, Y: y_data}\n",
    "        )\n",
    "        print(step, cost_val, W_val)\n",
    "\n",
    "\"\"\"\n",
    "0 1.93919 [ 1.64462376]\n",
    "1 0.551591 [ 1.34379935]\n",
    "2 0.156897 [ 1.18335962]\n",
    "3 0.0446285 [ 1.09779179]\n",
    "4 0.0126943 [ 1.05215561]\n",
    "5 0.00361082 [ 1.0278163]\n",
    "6 0.00102708 [ 1.01483536]\n",
    "7 0.000292144 [ 1.00791216]\n",
    "8 8.30968e-05 [ 1.00421977]\n",
    "9 2.36361e-05 [ 1.00225055]\n",
    "10 6.72385e-06 [ 1.00120032]\n",
    "11 1.91239e-06 [ 1.00064015]\n",
    "12 5.43968e-07 [ 1.00034142]\n",
    "13 1.54591e-07 [ 1.00018203]\n",
    "14 4.39416e-08 [ 1.00009704]\n",
    "15 1.24913e-08 [ 1.00005174]\n",
    "16 3.5322e-09 [ 1.00002754]\n",
    "17 9.99824e-10 [ 1.00001466]\n",
    "18 2.88878e-10 [ 1.00000787]\n",
    "19 8.02487e-11 [ 1.00000417]\n",
    "20 2.34053e-11 [ 1.00000226]\n",
    "\"\"\""
   ]
  },
  {
   "cell_type": "code",
   "execution_count": null,
   "metadata": {},
   "outputs": [],
   "source": []
  }
 ],
 "metadata": {
  "kernelspec": {
   "display_name": "Python 3",
   "language": "python",
   "name": "python3"
  },
  "language_info": {
   "codemirror_mode": {
    "name": "ipython",
    "version": 3
   },
   "file_extension": ".py",
   "mimetype": "text/x-python",
   "name": "python",
   "nbconvert_exporter": "python",
   "pygments_lexer": "ipython3",
   "version": "3.6.4"
  },
  "toc": {
   "base_numbering": 1,
   "nav_menu": {},
   "number_sections": true,
   "sideBar": true,
   "skip_h1_title": false,
   "title_cell": "Table of Contents",
   "title_sidebar": "Contents",
   "toc_cell": false,
   "toc_position": {},
   "toc_section_display": true,
   "toc_window_display": false
  }
 },
 "nbformat": 4,
 "nbformat_minor": 2
}
