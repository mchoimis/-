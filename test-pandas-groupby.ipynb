{
 "cells": [
  {
   "cell_type": "code",
   "execution_count": 3,
   "metadata": {},
   "outputs": [],
   "source": [
    "import numpy as np\n",
    "import random\n",
    "import pandas as pd\n",
    "from pandas import DataFrame, Series\n",
    "import datetime\n",
    "import time\n",
    "import matplotlib.pyplot as plt\n",
    "%matplotlib inline"
   ]
  },
  {
   "cell_type": "code",
   "execution_count": 4,
   "metadata": {},
   "outputs": [
    {
     "name": "stdout",
     "output_type": "stream",
     "text": [
      "<class 'pandas.core.frame.DataFrame'>\n",
      "RangeIndex: 1000000 entries, 0 to 999999\n",
      "Data columns (total 10 columns):\n",
      "Unnamed: 0            1000000 non-null int64\n",
      "CLNN                  1000000 non-null int64\n",
      "TS_D                  1000000 non-null object\n",
      "FINAL_CD              1000000 non-null int64\n",
      "SAA                   1000000 non-null int64\n",
      "MCT_ADM_GDS_APB_CD    1000000 non-null int64\n",
      "DOF_TF                1000000 non-null int64\n",
      "DAW_CCD               1000000 non-null int64\n",
      "MCT_N                 1000000 non-null int64\n",
      "TIME                  1000000 non-null int64\n",
      "dtypes: int64(9), object(1)\n",
      "memory usage: 76.3+ MB\n"
     ]
    }
   ],
   "source": [
    "#-*- coding: utf-8 -*-\n",
    "df = pd.read_csv('df.csv')\n",
    "df.info()"
   ]
  },
  {
   "cell_type": "code",
   "execution_count": 5,
   "metadata": {},
   "outputs": [],
   "source": [
    "df['HOUR'] = df['TIME']/10000\n",
    "df['HOUR'] = df.HOUR.astype(int)"
   ]
  },
  {
   "cell_type": "code",
   "execution_count": 10,
   "metadata": {},
   "outputs": [
    {
     "data": {
      "text/html": [
       "<div>\n",
       "<style scoped>\n",
       "    .dataframe tbody tr th:only-of-type {\n",
       "        vertical-align: middle;\n",
       "    }\n",
       "\n",
       "    .dataframe tbody tr th {\n",
       "        vertical-align: top;\n",
       "    }\n",
       "\n",
       "    .dataframe thead th {\n",
       "        text-align: right;\n",
       "    }\n",
       "</style>\n",
       "<table border=\"1\" class=\"dataframe\">\n",
       "  <thead>\n",
       "    <tr style=\"text-align: right;\">\n",
       "      <th></th>\n",
       "      <th></th>\n",
       "      <th></th>\n",
       "      <th>Unnamed: 0</th>\n",
       "      <th>TS_D</th>\n",
       "      <th>FINAL_CD</th>\n",
       "      <th>SAA</th>\n",
       "      <th>DOF_TF</th>\n",
       "      <th>DAW_CCD</th>\n",
       "      <th>MCT_N</th>\n",
       "      <th>TIME</th>\n",
       "    </tr>\n",
       "    <tr>\n",
       "      <th>CLNN</th>\n",
       "      <th>MCT_ADM_GDS_APB_CD</th>\n",
       "      <th>HOUR</th>\n",
       "      <th></th>\n",
       "      <th></th>\n",
       "      <th></th>\n",
       "      <th></th>\n",
       "      <th></th>\n",
       "      <th></th>\n",
       "      <th></th>\n",
       "      <th></th>\n",
       "    </tr>\n",
       "  </thead>\n",
       "  <tbody>\n",
       "    <tr>\n",
       "      <th rowspan=\"5\" valign=\"top\">0</th>\n",
       "      <th>2</th>\n",
       "      <th>21</th>\n",
       "      <td>1</td>\n",
       "      <td>1</td>\n",
       "      <td>1</td>\n",
       "      <td>1</td>\n",
       "      <td>1</td>\n",
       "      <td>1</td>\n",
       "      <td>1</td>\n",
       "      <td>1</td>\n",
       "    </tr>\n",
       "    <tr>\n",
       "      <th>3</th>\n",
       "      <th>14</th>\n",
       "      <td>1</td>\n",
       "      <td>1</td>\n",
       "      <td>1</td>\n",
       "      <td>1</td>\n",
       "      <td>1</td>\n",
       "      <td>1</td>\n",
       "      <td>1</td>\n",
       "      <td>1</td>\n",
       "    </tr>\n",
       "    <tr>\n",
       "      <th rowspan=\"3\" valign=\"top\">4</th>\n",
       "      <th>1</th>\n",
       "      <td>1</td>\n",
       "      <td>1</td>\n",
       "      <td>1</td>\n",
       "      <td>1</td>\n",
       "      <td>1</td>\n",
       "      <td>1</td>\n",
       "      <td>1</td>\n",
       "      <td>1</td>\n",
       "    </tr>\n",
       "    <tr>\n",
       "      <th>5</th>\n",
       "      <td>1</td>\n",
       "      <td>1</td>\n",
       "      <td>1</td>\n",
       "      <td>1</td>\n",
       "      <td>1</td>\n",
       "      <td>1</td>\n",
       "      <td>1</td>\n",
       "      <td>1</td>\n",
       "    </tr>\n",
       "    <tr>\n",
       "      <th>19</th>\n",
       "      <td>1</td>\n",
       "      <td>1</td>\n",
       "      <td>1</td>\n",
       "      <td>1</td>\n",
       "      <td>1</td>\n",
       "      <td>1</td>\n",
       "      <td>1</td>\n",
       "      <td>1</td>\n",
       "    </tr>\n",
       "  </tbody>\n",
       "</table>\n",
       "</div>"
      ],
      "text/plain": [
       "                              Unnamed: 0  TS_D  FINAL_CD  SAA  DOF_TF  \\\n",
       "CLNN MCT_ADM_GDS_APB_CD HOUR                                            \n",
       "0    2                  21             1     1         1    1       1   \n",
       "     3                  14             1     1         1    1       1   \n",
       "     4                  1              1     1         1    1       1   \n",
       "                        5              1     1         1    1       1   \n",
       "                        19             1     1         1    1       1   \n",
       "\n",
       "                              DAW_CCD  MCT_N  TIME  \n",
       "CLNN MCT_ADM_GDS_APB_CD HOUR                        \n",
       "0    2                  21          1      1     1  \n",
       "     3                  14          1      1     1  \n",
       "     4                  1           1      1     1  \n",
       "                        5           1      1     1  \n",
       "                        19          1      1     1  "
      ]
     },
     "execution_count": 10,
     "metadata": {},
     "output_type": "execute_result"
    }
   ],
   "source": [
    "gb02 = df.groupby(['CLNN', 'MCT_ADM_GDS_APB_CD', 'HOUR'])\n",
    "gb02.count().head()"
   ]
  },
  {
   "cell_type": "code",
   "execution_count": 17,
   "metadata": {},
   "outputs": [
    {
     "data": {
      "text/html": [
       "<div>\n",
       "<style scoped>\n",
       "    .dataframe tbody tr th:only-of-type {\n",
       "        vertical-align: middle;\n",
       "    }\n",
       "\n",
       "    .dataframe tbody tr th {\n",
       "        vertical-align: top;\n",
       "    }\n",
       "\n",
       "    .dataframe thead th {\n",
       "        text-align: right;\n",
       "    }\n",
       "</style>\n",
       "<table border=\"1\" class=\"dataframe\">\n",
       "  <thead>\n",
       "    <tr style=\"text-align: right;\">\n",
       "      <th></th>\n",
       "      <th></th>\n",
       "      <th></th>\n",
       "      <th>Unnamed: 0</th>\n",
       "      <th>FINAL_CD</th>\n",
       "      <th>SAA</th>\n",
       "      <th>DOF_TF</th>\n",
       "      <th>DAW_CCD</th>\n",
       "      <th>MCT_N</th>\n",
       "      <th>TIME</th>\n",
       "    </tr>\n",
       "    <tr>\n",
       "      <th>CLNN</th>\n",
       "      <th>MCT_ADM_GDS_APB_CD</th>\n",
       "      <th>HOUR</th>\n",
       "      <th></th>\n",
       "      <th></th>\n",
       "      <th></th>\n",
       "      <th></th>\n",
       "      <th></th>\n",
       "      <th></th>\n",
       "      <th></th>\n",
       "    </tr>\n",
       "  </thead>\n",
       "  <tbody>\n",
       "    <tr>\n",
       "      <th rowspan=\"5\" valign=\"top\">0</th>\n",
       "      <th>2</th>\n",
       "      <th>21</th>\n",
       "      <td>196591</td>\n",
       "      <td>43</td>\n",
       "      <td>5</td>\n",
       "      <td>1</td>\n",
       "      <td>1</td>\n",
       "      <td>11</td>\n",
       "      <td>219788</td>\n",
       "    </tr>\n",
       "    <tr>\n",
       "      <th>3</th>\n",
       "      <th>14</th>\n",
       "      <td>341648</td>\n",
       "      <td>34</td>\n",
       "      <td>42</td>\n",
       "      <td>0</td>\n",
       "      <td>1</td>\n",
       "      <td>96</td>\n",
       "      <td>141713</td>\n",
       "    </tr>\n",
       "    <tr>\n",
       "      <th rowspan=\"3\" valign=\"top\">4</th>\n",
       "      <th>1</th>\n",
       "      <td>963763</td>\n",
       "      <td>47</td>\n",
       "      <td>7</td>\n",
       "      <td>0</td>\n",
       "      <td>1</td>\n",
       "      <td>66</td>\n",
       "      <td>11551</td>\n",
       "    </tr>\n",
       "    <tr>\n",
       "      <th>5</th>\n",
       "      <td>621887</td>\n",
       "      <td>73</td>\n",
       "      <td>12</td>\n",
       "      <td>0</td>\n",
       "      <td>5</td>\n",
       "      <td>19</td>\n",
       "      <td>58536</td>\n",
       "    </tr>\n",
       "    <tr>\n",
       "      <th>19</th>\n",
       "      <td>386666</td>\n",
       "      <td>34</td>\n",
       "      <td>6</td>\n",
       "      <td>0</td>\n",
       "      <td>4</td>\n",
       "      <td>94</td>\n",
       "      <td>190433</td>\n",
       "    </tr>\n",
       "  </tbody>\n",
       "</table>\n",
       "</div>"
      ],
      "text/plain": [
       "                              Unnamed: 0  FINAL_CD  SAA  DOF_TF  DAW_CCD  \\\n",
       "CLNN MCT_ADM_GDS_APB_CD HOUR                                               \n",
       "0    2                  21        196591        43    5       1        1   \n",
       "     3                  14        341648        34   42       0        1   \n",
       "     4                  1         963763        47    7       0        1   \n",
       "                        5         621887        73   12       0        5   \n",
       "                        19        386666        34    6       0        4   \n",
       "\n",
       "                              MCT_N    TIME  \n",
       "CLNN MCT_ADM_GDS_APB_CD HOUR                 \n",
       "0    2                  21       11  219788  \n",
       "     3                  14       96  141713  \n",
       "     4                  1        66   11551  \n",
       "                        5        19   58536  \n",
       "                        19       94  190433  "
      ]
     },
     "execution_count": 17,
     "metadata": {},
     "output_type": "execute_result"
    }
   ],
   "source": [
    "gb02.sum().head()"
   ]
  },
  {
   "cell_type": "code",
   "execution_count": 42,
   "metadata": {},
   "outputs": [
    {
     "data": {
      "text/html": [
       "<div>\n",
       "<style scoped>\n",
       "    .dataframe tbody tr th:only-of-type {\n",
       "        vertical-align: middle;\n",
       "    }\n",
       "\n",
       "    .dataframe tbody tr th {\n",
       "        vertical-align: top;\n",
       "    }\n",
       "\n",
       "    .dataframe thead th {\n",
       "        text-align: right;\n",
       "    }\n",
       "</style>\n",
       "<table border=\"1\" class=\"dataframe\">\n",
       "  <thead>\n",
       "    <tr style=\"text-align: right;\">\n",
       "      <th></th>\n",
       "      <th></th>\n",
       "      <th></th>\n",
       "      <th>Unnamed: 0</th>\n",
       "      <th>FINAL_CD</th>\n",
       "      <th>SAA</th>\n",
       "      <th>DOF_TF</th>\n",
       "      <th>DAW_CCD</th>\n",
       "      <th>MCT_N</th>\n",
       "      <th>TIME</th>\n",
       "    </tr>\n",
       "    <tr>\n",
       "      <th>CLNN</th>\n",
       "      <th>MCT_ADM_GDS_APB_CD</th>\n",
       "      <th>HOUR</th>\n",
       "      <th></th>\n",
       "      <th></th>\n",
       "      <th></th>\n",
       "      <th></th>\n",
       "      <th></th>\n",
       "      <th></th>\n",
       "      <th></th>\n",
       "    </tr>\n",
       "  </thead>\n",
       "  <tbody>\n",
       "    <tr>\n",
       "      <th>47645</th>\n",
       "      <th>7</th>\n",
       "      <th>12</th>\n",
       "      <td>604422</td>\n",
       "      <td>49</td>\n",
       "      <td>13</td>\n",
       "      <td>0</td>\n",
       "      <td>0</td>\n",
       "      <td>57</td>\n",
       "      <td>123713</td>\n",
       "    </tr>\n",
       "    <tr>\n",
       "      <th>47954</th>\n",
       "      <th>16</th>\n",
       "      <th>1</th>\n",
       "      <td>713447</td>\n",
       "      <td>30</td>\n",
       "      <td>14</td>\n",
       "      <td>1</td>\n",
       "      <td>4</td>\n",
       "      <td>23</td>\n",
       "      <td>10613</td>\n",
       "    </tr>\n",
       "    <tr>\n",
       "      <th>48262</th>\n",
       "      <th>36</th>\n",
       "      <th>23</th>\n",
       "      <td>57629</td>\n",
       "      <td>77</td>\n",
       "      <td>16</td>\n",
       "      <td>0</td>\n",
       "      <td>1</td>\n",
       "      <td>80</td>\n",
       "      <td>238625</td>\n",
       "    </tr>\n",
       "    <tr>\n",
       "      <th>48506</th>\n",
       "      <th>18</th>\n",
       "      <th>9</th>\n",
       "      <td>974143</td>\n",
       "      <td>90</td>\n",
       "      <td>6</td>\n",
       "      <td>0</td>\n",
       "      <td>1</td>\n",
       "      <td>83</td>\n",
       "      <td>93301</td>\n",
       "    </tr>\n",
       "    <tr>\n",
       "      <th>52504</th>\n",
       "      <th>1</th>\n",
       "      <th>11</th>\n",
       "      <td>630615</td>\n",
       "      <td>22</td>\n",
       "      <td>9</td>\n",
       "      <td>1</td>\n",
       "      <td>3</td>\n",
       "      <td>41</td>\n",
       "      <td>115435</td>\n",
       "    </tr>\n",
       "  </tbody>\n",
       "</table>\n",
       "</div>"
      ],
      "text/plain": [
       "                               Unnamed: 0  FINAL_CD  SAA  DOF_TF  DAW_CCD  \\\n",
       "CLNN  MCT_ADM_GDS_APB_CD HOUR                                               \n",
       "47645 7                  12        604422        49   13       0        0   \n",
       "47954 16                 1         713447        30   14       1        4   \n",
       "48262 36                 23         57629        77   16       0        1   \n",
       "48506 18                 9         974143        90    6       0        1   \n",
       "52504 1                  11        630615        22    9       1        3   \n",
       "\n",
       "                               MCT_N    TIME  \n",
       "CLNN  MCT_ADM_GDS_APB_CD HOUR                 \n",
       "47645 7                  12       57  123713  \n",
       "47954 16                 1        23   10613  \n",
       "48262 36                 23       80  238625  \n",
       "48506 18                 9        83   93301  \n",
       "52504 1                  11       41  115435  "
      ]
     },
     "execution_count": 42,
     "metadata": {},
     "output_type": "execute_result"
    }
   ],
   "source": [
    "gb02.sum().tail()"
   ]
  },
  {
   "cell_type": "code",
   "execution_count": null,
   "metadata": {},
   "outputs": [],
   "source": [
    "df.groupby(['CLNN', 'MCT_ADM_GDS_APB_CD', 'HOUR'], \\\n",
    "           as_index=False).nth(1).sort_values(['SAA'], ascending=False)\n",
    "# \n",
    "# ['CLNN', 'MCT_ADM_GDS_APB_CD', 'HOUR', 'SAA']"
   ]
  },
  {
   "cell_type": "code",
   "execution_count": null,
   "metadata": {},
   "outputs": [],
   "source": []
  },
  {
   "cell_type": "code",
   "execution_count": null,
   "metadata": {},
   "outputs": [],
   "source": []
  },
  {
   "cell_type": "code",
   "execution_count": null,
   "metadata": {},
   "outputs": [],
   "source": [
    "# Data Match"
   ]
  },
  {
   "cell_type": "code",
   "execution_count": 33,
   "metadata": {
    "scrolled": true
   },
   "outputs": [
    {
     "data": {
      "text/plain": [
       "139"
      ]
     },
     "execution_count": 33,
     "metadata": {},
     "output_type": "execute_result"
    }
   ],
   "source": [
    "col01a = np.random.randn(len(np.unique(df.MCT_ADM_GDS_APB_CD)), 1) # MCT_ADM_GDS_APB_CD # 서울 행정동 코드 # HJ_CD\n",
    "col01 = np.round(np.sqrt(np.square(col01a)) * 30)"
   ]
  },
  {
   "cell_type": "code",
   "execution_count": 41,
   "metadata": {},
   "outputs": [],
   "source": [
    "col02 = [random.choice(['명동', '쌍문동', '상암동', '구로동', '여의동', \\\n",
    "                        '강일동', '역삼동', '잠실1동', '목동', '이태원동', \\\n",
    "                        '한남동', '행당동', '자양1동', '상계1동', '웅암동', \\\n",
    "                        '신림동', '사당동', '서초동', '방배동', '잠실2동', \\\n",
    "                        '반포동', '신길1동', '상도동', '시흥동', '화곡1동', \\\n",
    "                        '신정동', '신월동', '북가좌동', '상계2동', '정릉동',\\\n",
    "                        '면목1동', '성수동', '중곡동', '자양2동', '면목2동',\\\n",
    "                        '면목3동', '창동', '상계3동', '연희동', '대치동',\\\n",
    "                        '개포동', '성내동', '창신동', '중계동', '합정동', \\\n",
    "                        '연남동', '방화동', '신길2동', '대림동', '낙성대동',\\\n",
    "                        '신사동', '삼성동', '문정동', '암사동', '삼청동', \\\n",
    "                        '부암동', '회현동', '소공동', '황학동', '후암동', \\\n",
    "                        '화곡2동', '화곡3동', '영등포동', '을지로동', '신당동'\n",
    "                       ]) for _ in range(139)] # HJ_CD_NM"
   ]
  },
  {
   "cell_type": "code",
   "execution_count": 43,
   "metadata": {},
   "outputs": [],
   "source": [
    "place = pd.DataFrame( np.column_stack([col01, col02])\n",
    "                  , columns = ['HJ_CD', 'HJ_CD_NM'])"
   ]
  },
  {
   "cell_type": "code",
   "execution_count": 48,
   "metadata": {},
   "outputs": [],
   "source": [
    "place.to_csv('place.csv')"
   ]
  },
  {
   "cell_type": "code",
   "execution_count": 46,
   "metadata": {},
   "outputs": [],
   "source": [
    "col03 = range(0, 100) # FINAL_CD \n",
    "col04 = [random.choice(['여행', '의료', '생활편의', '문화', '카페/베이커리', '주유']) for _ in range(100)] # FINAL_CD_NM"
   ]
  },
  {
   "cell_type": "code",
   "execution_count": 47,
   "metadata": {},
   "outputs": [],
   "source": [
    "mct = pd.DataFrame( np.column_stack([col03, col04]), columns = ['FINAL_CD', 'FINAL_CD_NM'])"
   ]
  },
  {
   "cell_type": "code",
   "execution_count": 49,
   "metadata": {},
   "outputs": [],
   "source": [
    "mct.to_csv('mct.csv')"
   ]
  },
  {
   "cell_type": "code",
   "execution_count": 50,
   "metadata": {},
   "outputs": [],
   "source": [
    "# Matching"
   ]
  },
  {
   "cell_type": "code",
   "execution_count": 52,
   "metadata": {},
   "outputs": [
    {
     "name": "stdout",
     "output_type": "stream",
     "text": [
      "<class 'pandas.core.frame.DataFrame'>\n",
      "MultiIndex: 978665 entries, (0, 2, 21) to (52504, 1, 11)\n",
      "Data columns (total 8 columns):\n",
      "Unnamed: 0    978665 non-null int64\n",
      "TS_D          978665 non-null int64\n",
      "FINAL_CD      978665 non-null int64\n",
      "SAA           978665 non-null int64\n",
      "DOF_TF        978665 non-null int64\n",
      "DAW_CCD       978665 non-null int64\n",
      "MCT_N         978665 non-null int64\n",
      "TIME          978665 non-null int64\n",
      "dtypes: int64(8)\n",
      "memory usage: 64.6 MB\n"
     ]
    }
   ],
   "source": [
    "# First, remove first two rows from gb02\n",
    "gb02_df = pd.DataFrame(gb02)\n",
    "gb02_df.info()"
   ]
  },
  {
   "cell_type": "code",
   "execution_count": 65,
   "metadata": {},
   "outputs": [],
   "source": [
    "gb02_df = gb02_df.drop(columns='Unnamed: 0', axis=1)"
   ]
  },
  {
   "cell_type": "code",
   "execution_count": null,
   "metadata": {},
   "outputs": [],
   "source": [
    "gb02_df.index()"
   ]
  }
 ],
 "metadata": {
  "kernelspec": {
   "display_name": "Python 3",
   "language": "python",
   "name": "python3"
  },
  "language_info": {
   "codemirror_mode": {
    "name": "ipython",
    "version": 3
   },
   "file_extension": ".py",
   "mimetype": "text/x-python",
   "name": "python",
   "nbconvert_exporter": "python",
   "pygments_lexer": "ipython3",
   "version": "3.6.5"
  }
 },
 "nbformat": 4,
 "nbformat_minor": 2
}
