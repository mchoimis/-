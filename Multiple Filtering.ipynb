{
 "cells": [
  {
   "cell_type": "code",
   "execution_count": 1,
   "metadata": {},
   "outputs": [],
   "source": [
    "import numpy as np\n",
    "import pandas as pd\n",
    "from pandas import DataFrame, Series\n",
    "import datetime\n",
    "import time\n",
    "import matplotlib.pyplot as plt\n",
    "%matplotlib inline"
   ]
  },
  {
   "cell_type": "code",
   "execution_count": 6,
   "metadata": {},
   "outputs": [],
   "source": [
    "usecols = ['CLNN', 'TS_D', 'FINAL_CD', 'SAA', 'MCT_ADM_GDS_APB_CD', 'DOF_TF', 'DAW_CCD', 'MCT_N', 'TIME']\n",
    "df = pd.read_csv('df.csv', usecols=usecols)"
   ]
  },
  {
   "cell_type": "code",
   "execution_count": 7,
   "metadata": {},
   "outputs": [
    {
     "name": "stdout",
     "output_type": "stream",
     "text": [
      "<class 'pandas.core.frame.DataFrame'>\n",
      "RangeIndex: 1000000 entries, 0 to 999999\n",
      "Data columns (total 9 columns):\n",
      "CLNN                  1000000 non-null int64\n",
      "TS_D                  1000000 non-null object\n",
      "FINAL_CD              1000000 non-null int64\n",
      "SAA                   1000000 non-null int64\n",
      "MCT_ADM_GDS_APB_CD    1000000 non-null int64\n",
      "DOF_TF                1000000 non-null int64\n",
      "DAW_CCD               1000000 non-null int64\n",
      "MCT_N                 1000000 non-null int64\n",
      "TIME                  1000000 non-null int64\n",
      "dtypes: int64(8), object(1)\n",
      "memory usage: 68.7+ MB\n"
     ]
    }
   ],
   "source": [
    "df.info()"
   ]
  },
  {
   "cell_type": "code",
   "execution_count": 8,
   "metadata": {},
   "outputs": [
    {
     "data": {
      "text/html": [
       "<div>\n",
       "<style scoped>\n",
       "    .dataframe tbody tr th:only-of-type {\n",
       "        vertical-align: middle;\n",
       "    }\n",
       "\n",
       "    .dataframe tbody tr th {\n",
       "        vertical-align: top;\n",
       "    }\n",
       "\n",
       "    .dataframe thead th {\n",
       "        text-align: right;\n",
       "    }\n",
       "</style>\n",
       "<table border=\"1\" class=\"dataframe\">\n",
       "  <thead>\n",
       "    <tr style=\"text-align: right;\">\n",
       "      <th></th>\n",
       "      <th>CLNN</th>\n",
       "      <th>TS_D</th>\n",
       "      <th>FINAL_CD</th>\n",
       "      <th>SAA</th>\n",
       "      <th>MCT_ADM_GDS_APB_CD</th>\n",
       "      <th>DOF_TF</th>\n",
       "      <th>DAW_CCD</th>\n",
       "      <th>MCT_N</th>\n",
       "      <th>TIME</th>\n",
       "    </tr>\n",
       "  </thead>\n",
       "  <tbody>\n",
       "    <tr>\n",
       "      <th>0</th>\n",
       "      <td>14437</td>\n",
       "      <td>2018-07-19</td>\n",
       "      <td>25</td>\n",
       "      <td>11</td>\n",
       "      <td>26</td>\n",
       "      <td>0</td>\n",
       "      <td>5</td>\n",
       "      <td>36</td>\n",
       "      <td>199982</td>\n",
       "    </tr>\n",
       "    <tr>\n",
       "      <th>1</th>\n",
       "      <td>2414</td>\n",
       "      <td>2018-07-09</td>\n",
       "      <td>10</td>\n",
       "      <td>7</td>\n",
       "      <td>35</td>\n",
       "      <td>0</td>\n",
       "      <td>0</td>\n",
       "      <td>88</td>\n",
       "      <td>57272</td>\n",
       "    </tr>\n",
       "    <tr>\n",
       "      <th>2</th>\n",
       "      <td>2136</td>\n",
       "      <td>2018-07-28</td>\n",
       "      <td>82</td>\n",
       "      <td>9</td>\n",
       "      <td>2</td>\n",
       "      <td>0</td>\n",
       "      <td>2</td>\n",
       "      <td>83</td>\n",
       "      <td>135636</td>\n",
       "    </tr>\n",
       "    <tr>\n",
       "      <th>3</th>\n",
       "      <td>15588</td>\n",
       "      <td>2018-07-13</td>\n",
       "      <td>72</td>\n",
       "      <td>16</td>\n",
       "      <td>21</td>\n",
       "      <td>1</td>\n",
       "      <td>1</td>\n",
       "      <td>60</td>\n",
       "      <td>156460</td>\n",
       "    </tr>\n",
       "    <tr>\n",
       "      <th>4</th>\n",
       "      <td>6377</td>\n",
       "      <td>2018-07-28</td>\n",
       "      <td>37</td>\n",
       "      <td>14</td>\n",
       "      <td>31</td>\n",
       "      <td>0</td>\n",
       "      <td>2</td>\n",
       "      <td>58</td>\n",
       "      <td>2430</td>\n",
       "    </tr>\n",
       "    <tr>\n",
       "      <th>5</th>\n",
       "      <td>1974</td>\n",
       "      <td>2018-07-05</td>\n",
       "      <td>89</td>\n",
       "      <td>20</td>\n",
       "      <td>58</td>\n",
       "      <td>0</td>\n",
       "      <td>5</td>\n",
       "      <td>78</td>\n",
       "      <td>28881</td>\n",
       "    </tr>\n",
       "  </tbody>\n",
       "</table>\n",
       "</div>"
      ],
      "text/plain": [
       "    CLNN        TS_D  FINAL_CD  SAA  MCT_ADM_GDS_APB_CD  DOF_TF  DAW_CCD  \\\n",
       "0  14437  2018-07-19        25   11                  26       0        5   \n",
       "1   2414  2018-07-09        10    7                  35       0        0   \n",
       "2   2136  2018-07-28        82    9                   2       0        2   \n",
       "3  15588  2018-07-13        72   16                  21       1        1   \n",
       "4   6377  2018-07-28        37   14                  31       0        2   \n",
       "5   1974  2018-07-05        89   20                  58       0        5   \n",
       "\n",
       "   MCT_N    TIME  \n",
       "0     36  199982  \n",
       "1     88   57272  \n",
       "2     83  135636  \n",
       "3     60  156460  \n",
       "4     58    2430  \n",
       "5     78   28881  "
      ]
     },
     "execution_count": 8,
     "metadata": {},
     "output_type": "execute_result"
    }
   ],
   "source": [
    "df.head(6)"
   ]
  },
  {
   "cell_type": "code",
   "execution_count": 10,
   "metadata": {},
   "outputs": [
    {
     "data": {
      "text/plain": [
       "2    9\n",
       "Name: SAA, dtype: int64"
      ]
     },
     "execution_count": 10,
     "metadata": {},
     "output_type": "execute_result"
    }
   ],
   "source": [
    "df['SAA'][2:3]"
   ]
  },
  {
   "cell_type": "code",
   "execution_count": 12,
   "metadata": {
    "scrolled": true
   },
   "outputs": [
    {
     "data": {
      "text/plain": [
       "2    True\n",
       "Name: SAA, dtype: bool"
      ]
     },
     "execution_count": 12,
     "metadata": {},
     "output_type": "execute_result"
    }
   ],
   "source": [
    "df['SAA'][2:3] == 9"
   ]
  },
  {
   "cell_type": "code",
   "execution_count": 15,
   "metadata": {
    "scrolled": false
   },
   "outputs": [
    {
     "data": {
      "text/plain": [
       "9"
      ]
     },
     "execution_count": 15,
     "metadata": {},
     "output_type": "execute_result"
    }
   ],
   "source": [
    "min(df['SAA'][2:3].values)"
   ]
  },
  {
   "cell_type": "code",
   "execution_count": null,
   "metadata": {},
   "outputs": [],
   "source": []
  },
  {
   "cell_type": "code",
   "execution_count": 33,
   "metadata": {},
   "outputs": [
    {
     "data": {
      "text/plain": [
       "0          True\n",
       "1         False\n",
       "2         False\n",
       "3         False\n",
       "4         False\n",
       "5          True\n",
       "6          True\n",
       "7          True\n",
       "8         False\n",
       "9          True\n",
       "10        False\n",
       "11         True\n",
       "12        False\n",
       "13        False\n",
       "14        False\n",
       "15        False\n",
       "16        False\n",
       "17        False\n",
       "18         True\n",
       "19        False\n",
       "20        False\n",
       "21        False\n",
       "22         True\n",
       "23         True\n",
       "24        False\n",
       "25        False\n",
       "26         True\n",
       "27         True\n",
       "28         True\n",
       "29        False\n",
       "          ...  \n",
       "999970    False\n",
       "999971    False\n",
       "999972    False\n",
       "999973    False\n",
       "999974    False\n",
       "999975     True\n",
       "999976     True\n",
       "999977     True\n",
       "999978    False\n",
       "999979     True\n",
       "999980    False\n",
       "999981     True\n",
       "999982    False\n",
       "999983     True\n",
       "999984     True\n",
       "999985    False\n",
       "999986    False\n",
       "999987    False\n",
       "999988    False\n",
       "999989     True\n",
       "999990     True\n",
       "999991     True\n",
       "999992     True\n",
       "999993     True\n",
       "999994    False\n",
       "999995    False\n",
       "999996    False\n",
       "999997    False\n",
       "999998    False\n",
       "999999    False\n",
       "Name: DAW_CCD, Length: 1000000, dtype: bool"
      ]
     },
     "execution_count": 33,
     "metadata": {},
     "output_type": "execute_result"
    }
   ],
   "source": [
    "# To select rows whose column value is in list\n",
    "\n",
    "DAW_CCD_list = [3, 5]\n",
    "df.DAW_CCD.isin(DAW_CCD_list)"
   ]
  },
  {
   "cell_type": "code",
   "execution_count": 34,
   "metadata": {},
   "outputs": [
    {
     "data": {
      "text/plain": [
       "(333766, 9)"
      ]
     },
     "execution_count": 34,
     "metadata": {},
     "output_type": "execute_result"
    }
   ],
   "source": [
    "df_DAW_CCD = df[df.DAW_CCD.isin(DAW_CCD_list)]\n",
    "df_DAW_CCD.shape"
   ]
  },
  {
   "cell_type": "code",
   "execution_count": 36,
   "metadata": {},
   "outputs": [
    {
     "data": {
      "text/plain": [
       "array([5, 3], dtype=int64)"
      ]
     },
     "execution_count": 36,
     "metadata": {},
     "output_type": "execute_result"
    }
   ],
   "source": [
    "df_DAW_CCD.DAW_CCD.unique()"
   ]
  },
  {
   "cell_type": "code",
   "execution_count": 37,
   "metadata": {},
   "outputs": [
    {
     "data": {
      "text/html": [
       "<div>\n",
       "<style scoped>\n",
       "    .dataframe tbody tr th:only-of-type {\n",
       "        vertical-align: middle;\n",
       "    }\n",
       "\n",
       "    .dataframe tbody tr th {\n",
       "        vertical-align: top;\n",
       "    }\n",
       "\n",
       "    .dataframe thead th {\n",
       "        text-align: right;\n",
       "    }\n",
       "</style>\n",
       "<table border=\"1\" class=\"dataframe\">\n",
       "  <thead>\n",
       "    <tr style=\"text-align: right;\">\n",
       "      <th></th>\n",
       "      <th>CLNN</th>\n",
       "      <th>TS_D</th>\n",
       "      <th>FINAL_CD</th>\n",
       "      <th>SAA</th>\n",
       "      <th>MCT_ADM_GDS_APB_CD</th>\n",
       "      <th>DOF_TF</th>\n",
       "      <th>DAW_CCD</th>\n",
       "      <th>MCT_N</th>\n",
       "      <th>TIME</th>\n",
       "    </tr>\n",
       "  </thead>\n",
       "  <tbody>\n",
       "    <tr>\n",
       "      <th>0</th>\n",
       "      <td>14437</td>\n",
       "      <td>2018-07-19</td>\n",
       "      <td>25</td>\n",
       "      <td>11</td>\n",
       "      <td>26</td>\n",
       "      <td>0</td>\n",
       "      <td>5</td>\n",
       "      <td>36</td>\n",
       "      <td>199982</td>\n",
       "    </tr>\n",
       "    <tr>\n",
       "      <th>5</th>\n",
       "      <td>1974</td>\n",
       "      <td>2018-07-05</td>\n",
       "      <td>89</td>\n",
       "      <td>20</td>\n",
       "      <td>58</td>\n",
       "      <td>0</td>\n",
       "      <td>5</td>\n",
       "      <td>78</td>\n",
       "      <td>28881</td>\n",
       "    </tr>\n",
       "    <tr>\n",
       "      <th>6</th>\n",
       "      <td>3939</td>\n",
       "      <td>2018-07-14</td>\n",
       "      <td>97</td>\n",
       "      <td>11</td>\n",
       "      <td>23</td>\n",
       "      <td>1</td>\n",
       "      <td>5</td>\n",
       "      <td>97</td>\n",
       "      <td>199889</td>\n",
       "    </tr>\n",
       "  </tbody>\n",
       "</table>\n",
       "</div>"
      ],
      "text/plain": [
       "    CLNN        TS_D  FINAL_CD  SAA  MCT_ADM_GDS_APB_CD  DOF_TF  DAW_CCD  \\\n",
       "0  14437  2018-07-19        25   11                  26       0        5   \n",
       "5   1974  2018-07-05        89   20                  58       0        5   \n",
       "6   3939  2018-07-14        97   11                  23       1        5   \n",
       "\n",
       "   MCT_N    TIME  \n",
       "0     36  199982  \n",
       "5     78   28881  \n",
       "6     97  199889  "
      ]
     },
     "execution_count": 37,
     "metadata": {},
     "output_type": "execute_result"
    }
   ],
   "source": [
    "df_DAW_CCD.head(3)"
   ]
  },
  {
   "cell_type": "code",
   "execution_count": null,
   "metadata": {},
   "outputs": [],
   "source": []
  },
  {
   "cell_type": "code",
   "execution_count": null,
   "metadata": {},
   "outputs": [],
   "source": [
    "# Multiple Conditions"
   ]
  },
  {
   "cell_type": "code",
   "execution_count": 39,
   "metadata": {},
   "outputs": [],
   "source": [
    "FINAL_CD_list = [25, 89, 97]"
   ]
  },
  {
   "cell_type": "code",
   "execution_count": 44,
   "metadata": {},
   "outputs": [
    {
     "data": {
      "text/html": [
       "<div>\n",
       "<style scoped>\n",
       "    .dataframe tbody tr th:only-of-type {\n",
       "        vertical-align: middle;\n",
       "    }\n",
       "\n",
       "    .dataframe tbody tr th {\n",
       "        vertical-align: top;\n",
       "    }\n",
       "\n",
       "    .dataframe thead th {\n",
       "        text-align: right;\n",
       "    }\n",
       "</style>\n",
       "<table border=\"1\" class=\"dataframe\">\n",
       "  <thead>\n",
       "    <tr style=\"text-align: right;\">\n",
       "      <th></th>\n",
       "      <th>CLNN</th>\n",
       "      <th>TS_D</th>\n",
       "      <th>FINAL_CD</th>\n",
       "      <th>SAA</th>\n",
       "      <th>MCT_ADM_GDS_APB_CD</th>\n",
       "      <th>DOF_TF</th>\n",
       "      <th>DAW_CCD</th>\n",
       "      <th>MCT_N</th>\n",
       "      <th>TIME</th>\n",
       "    </tr>\n",
       "  </thead>\n",
       "  <tbody>\n",
       "    <tr>\n",
       "      <th>7</th>\n",
       "      <td>6130</td>\n",
       "      <td>2018-07-18</td>\n",
       "      <td>28</td>\n",
       "      <td>10</td>\n",
       "      <td>12</td>\n",
       "      <td>0</td>\n",
       "      <td>3</td>\n",
       "      <td>66</td>\n",
       "      <td>61197</td>\n",
       "    </tr>\n",
       "    <tr>\n",
       "      <th>9</th>\n",
       "      <td>1072</td>\n",
       "      <td>2018-07-11</td>\n",
       "      <td>33</td>\n",
       "      <td>11</td>\n",
       "      <td>8</td>\n",
       "      <td>1</td>\n",
       "      <td>5</td>\n",
       "      <td>7</td>\n",
       "      <td>52381</td>\n",
       "    </tr>\n",
       "    <tr>\n",
       "      <th>11</th>\n",
       "      <td>9374</td>\n",
       "      <td>2018-07-24</td>\n",
       "      <td>30</td>\n",
       "      <td>21</td>\n",
       "      <td>55</td>\n",
       "      <td>0</td>\n",
       "      <td>5</td>\n",
       "      <td>89</td>\n",
       "      <td>194015</td>\n",
       "    </tr>\n",
       "    <tr>\n",
       "      <th>18</th>\n",
       "      <td>10060</td>\n",
       "      <td>2018-07-20</td>\n",
       "      <td>14</td>\n",
       "      <td>3</td>\n",
       "      <td>57</td>\n",
       "      <td>0</td>\n",
       "      <td>5</td>\n",
       "      <td>14</td>\n",
       "      <td>154157</td>\n",
       "    </tr>\n",
       "    <tr>\n",
       "      <th>23</th>\n",
       "      <td>12476</td>\n",
       "      <td>2018-07-04</td>\n",
       "      <td>8</td>\n",
       "      <td>13</td>\n",
       "      <td>35</td>\n",
       "      <td>0</td>\n",
       "      <td>5</td>\n",
       "      <td>63</td>\n",
       "      <td>18577</td>\n",
       "    </tr>\n",
       "  </tbody>\n",
       "</table>\n",
       "</div>"
      ],
      "text/plain": [
       "     CLNN        TS_D  FINAL_CD  SAA  MCT_ADM_GDS_APB_CD  DOF_TF  DAW_CCD  \\\n",
       "7    6130  2018-07-18        28   10                  12       0        3   \n",
       "9    1072  2018-07-11        33   11                   8       1        5   \n",
       "11   9374  2018-07-24        30   21                  55       0        5   \n",
       "18  10060  2018-07-20        14    3                  57       0        5   \n",
       "23  12476  2018-07-04         8   13                  35       0        5   \n",
       "\n",
       "    MCT_N    TIME  \n",
       "7      66   61197  \n",
       "9       7   52381  \n",
       "11     89  194015  \n",
       "18     14  154157  \n",
       "23     63   18577  "
      ]
     },
     "execution_count": 44,
     "metadata": {},
     "output_type": "execute_result"
    }
   ],
   "source": [
    "df[~df.FINAL_CD.isin(FINAL_CD_list) & \n",
    "   df.DAW_CCD.isin(DAW_CCD_list)] \\\n",
    "[:5]"
   ]
  },
  {
   "cell_type": "code",
   "execution_count": null,
   "metadata": {},
   "outputs": [],
   "source": []
  },
  {
   "cell_type": "code",
   "execution_count": 30,
   "metadata": {},
   "outputs": [
    {
     "name": "stdout",
     "output_type": "stream",
     "text": [
      "0     True\n",
      "1    False\n",
      "2    False\n",
      "3    False\n",
      "4    False\n",
      "Name: DAW_CCD, dtype: bool\n"
     ]
    }
   ],
   "source": [
    "# 1. Create Boolean variable\n",
    "\n",
    "is_day_5 = df['DAW_CCD'] > 3\n",
    "print(is_2002.head())"
   ]
  },
  {
   "cell_type": "code",
   "execution_count": 31,
   "metadata": {},
   "outputs": [
    {
     "name": "stdout",
     "output_type": "stream",
     "text": [
      "(333603, 9)\n"
     ]
    }
   ],
   "source": [
    "# 2. Filter rows for DAW_CCD > 3 using the boolean variable\n",
    "day_5 = df[is_day_5] \n",
    "print(day_5.shape)"
   ]
  },
  {
   "cell_type": "code",
   "execution_count": 32,
   "metadata": {},
   "outputs": [
    {
     "data": {
      "text/html": [
       "<div>\n",
       "<style scoped>\n",
       "    .dataframe tbody tr th:only-of-type {\n",
       "        vertical-align: middle;\n",
       "    }\n",
       "\n",
       "    .dataframe tbody tr th {\n",
       "        vertical-align: top;\n",
       "    }\n",
       "\n",
       "    .dataframe thead th {\n",
       "        text-align: right;\n",
       "    }\n",
       "</style>\n",
       "<table border=\"1\" class=\"dataframe\">\n",
       "  <thead>\n",
       "    <tr style=\"text-align: right;\">\n",
       "      <th></th>\n",
       "      <th>CLNN</th>\n",
       "      <th>TS_D</th>\n",
       "      <th>FINAL_CD</th>\n",
       "      <th>SAA</th>\n",
       "      <th>MCT_ADM_GDS_APB_CD</th>\n",
       "      <th>DOF_TF</th>\n",
       "      <th>DAW_CCD</th>\n",
       "      <th>MCT_N</th>\n",
       "      <th>TIME</th>\n",
       "    </tr>\n",
       "  </thead>\n",
       "  <tbody>\n",
       "    <tr>\n",
       "      <th>0</th>\n",
       "      <td>14437</td>\n",
       "      <td>2018-07-19</td>\n",
       "      <td>25</td>\n",
       "      <td>11</td>\n",
       "      <td>26</td>\n",
       "      <td>0</td>\n",
       "      <td>5</td>\n",
       "      <td>36</td>\n",
       "      <td>199982</td>\n",
       "    </tr>\n",
       "    <tr>\n",
       "      <th>5</th>\n",
       "      <td>1974</td>\n",
       "      <td>2018-07-05</td>\n",
       "      <td>89</td>\n",
       "      <td>20</td>\n",
       "      <td>58</td>\n",
       "      <td>0</td>\n",
       "      <td>5</td>\n",
       "      <td>78</td>\n",
       "      <td>28881</td>\n",
       "    </tr>\n",
       "    <tr>\n",
       "      <th>6</th>\n",
       "      <td>3939</td>\n",
       "      <td>2018-07-14</td>\n",
       "      <td>97</td>\n",
       "      <td>11</td>\n",
       "      <td>23</td>\n",
       "      <td>1</td>\n",
       "      <td>5</td>\n",
       "      <td>97</td>\n",
       "      <td>199889</td>\n",
       "    </tr>\n",
       "    <tr>\n",
       "      <th>9</th>\n",
       "      <td>1072</td>\n",
       "      <td>2018-07-11</td>\n",
       "      <td>33</td>\n",
       "      <td>11</td>\n",
       "      <td>8</td>\n",
       "      <td>1</td>\n",
       "      <td>5</td>\n",
       "      <td>7</td>\n",
       "      <td>52381</td>\n",
       "    </tr>\n",
       "    <tr>\n",
       "      <th>10</th>\n",
       "      <td>918</td>\n",
       "      <td>2018-07-22</td>\n",
       "      <td>23</td>\n",
       "      <td>28</td>\n",
       "      <td>12</td>\n",
       "      <td>0</td>\n",
       "      <td>4</td>\n",
       "      <td>12</td>\n",
       "      <td>123726</td>\n",
       "    </tr>\n",
       "  </tbody>\n",
       "</table>\n",
       "</div>"
      ],
      "text/plain": [
       "     CLNN        TS_D  FINAL_CD  SAA  MCT_ADM_GDS_APB_CD  DOF_TF  DAW_CCD  \\\n",
       "0   14437  2018-07-19        25   11                  26       0        5   \n",
       "5    1974  2018-07-05        89   20                  58       0        5   \n",
       "6    3939  2018-07-14        97   11                  23       1        5   \n",
       "9    1072  2018-07-11        33   11                   8       1        5   \n",
       "10    918  2018-07-22        23   28                  12       0        4   \n",
       "\n",
       "    MCT_N    TIME  \n",
       "0      36  199982  \n",
       "5      78   28881  \n",
       "6      97  199889  \n",
       "9       7   52381  \n",
       "10     12  123726  "
      ]
     },
     "execution_count": 32,
     "metadata": {},
     "output_type": "execute_result"
    }
   ],
   "source": [
    "# showing only DAW_CCD > 3\n",
    "day_5.head() "
   ]
  },
  {
   "cell_type": "code",
   "execution_count": null,
   "metadata": {},
   "outputs": [],
   "source": [
    "# DAYS TIMES SEX_CCD AGE_GB MIN\n",
    "# 2 02 M 01_25 9.68"
   ]
  },
  {
   "cell_type": "code",
   "execution_count": null,
   "metadata": {},
   "outputs": [],
   "source": []
  }
 ],
 "metadata": {
  "kernelspec": {
   "display_name": "Python 3",
   "language": "python",
   "name": "python3"
  },
  "language_info": {
   "codemirror_mode": {
    "name": "ipython",
    "version": 3
   },
   "file_extension": ".py",
   "mimetype": "text/x-python",
   "name": "python",
   "nbconvert_exporter": "python",
   "pygments_lexer": "ipython3",
   "version": "3.6.6"
  },
  "toc": {
   "base_numbering": 1,
   "nav_menu": {},
   "number_sections": true,
   "sideBar": true,
   "skip_h1_title": false,
   "title_cell": "Table of Contents",
   "title_sidebar": "Contents",
   "toc_cell": false,
   "toc_position": {},
   "toc_section_display": true,
   "toc_window_display": false
  }
 },
 "nbformat": 4,
 "nbformat_minor": 2
}
